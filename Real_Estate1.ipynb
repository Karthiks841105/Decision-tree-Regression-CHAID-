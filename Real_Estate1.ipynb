{
  "cells": [
    {
      "cell_type": "markdown",
      "metadata": {
        "id": "oRHaf02Crk6H"
      },
      "source": [
        "# 1. Business Problem\n",
        "## 1.1 Problem Context\n",
        "\n",
        "Our client is a large Real Estate Investment Trust (REIT).\n",
        "* They invest in houses, apartments, and condos(complex of buildings) within a small county in New York state.\n",
        "* As part of their business, they try to predict the fair transaction price of a property before it's sold.\n",
        "* They do so to calibrate their internal pricing models and keep a pulse on the market.\n",
        "\n",
        "## 1.2 Problem Statement\n",
        "The REIT has hired us to find a data-driven approach to valuing properties.\n",
        "* They currently have an untapped dataset of transaction prices for previous properties on the market.\n",
        "* The data was collected in 2016.\n",
        "* Our task is to build a real-estate pricing model using that dataset.\n",
        "* If we can build a model to predict transaction prices with an average error of under US Dollars 70,000, then our client will be very satisfied with the our resultant model.\n",
        "\n",
        "## 1.3 Business Objectives and Constraints\n",
        "* Deliverable: Trained model file\n",
        "* Win condition: Avg. prediction error < \\$70,000\n",
        "* Model Interpretability will be useful\n",
        "* No latency requirement"
      ]
    },
    {
      "cell_type": "markdown",
      "metadata": {
        "id": "ajSC8uQVrk6T"
      },
      "source": [
        "# 2. Machine Learning Problem\n",
        "## 2.1 Data Overview\n",
        "\n",
        "For this project:\n",
        "1. The dataset has 1883 observations in the county where the REIT operates.\n",
        "2. Each observation is for the transaction of one property only.\n",
        "3. Each transaction was between \\$200,000 and \\$800,000.\n",
        "\n",
        "#### Target Variable\n",
        "* 'tx_price' - Transaction price in USD\n",
        "\n",
        "#### Features of the data:\n",
        "\n",
        "Public records:\n",
        "* 'tx_year' - Year the transaction took place\n",
        "* 'property_tax' - Monthly property tax\n",
        "* 'insurance' - Cost of monthly homeowner's insurance\n",
        "\n",
        "Property characteristics:\n",
        "* 'beds' - Number of bedrooms\n",
        "* 'baths' - Number of bathrooms\n",
        "* 'sqft' - Total floor area in squared feet\n",
        "* 'lot_size' - Total outside area in squared feet\n",
        "* 'year_built' - Year property was built\n",
        "* 'active_life' - Number of gyms, yoga studios, and sports venues within 1 mile\n",
        "* 'basement' - Does the property have a basement?\n",
        "* 'exterior_walls' - The material used for constructing walls of the house\n",
        "* 'roof' - The material used for constructing the roof\n",
        "\n",
        "Location convenience scores:\n",
        "* 'restaurants' - Number of restaurants within 1 mile\n",
        "* 'groceries' - Number of grocery stores within 1 mile\n",
        "* 'nightlife' - Number of nightlife venues within 1 mile\n",
        "* 'cafes' - Number of cafes within 1 mile\n",
        "* 'shopping' - Number of stores within 1 mile\n",
        "* 'arts_entertainment' - Number of arts and entertainment venues within 1 mile\n",
        "* 'beauty_spas' - Number of beauty and spa locations within 1 mile\n",
        "* 'active_life' - Number of gyms, yoga studios, and sports venues within 1 mile\n",
        "\n",
        "Neighborhood demographics:\n",
        "* 'median_age' - Median age of the neighborhood\n",
        "* 'married' - Percent of neighborhood who are married\n",
        "* 'college_grad' - Percent of neighborhood who graduated college\n",
        "\n",
        "Schools:\n",
        "* 'num_schools' - Number of public schools within district\n",
        "* 'median_school' - Median score of the public schools within district, on the range 1 - 10\n",
        "\n"
      ]
    },
    {
      "cell_type": "markdown",
      "metadata": {
        "id": "ewhkvysDrk6b"
      },
      "source": [
        "# Exploratory data analysis"
      ]
    },
    {
      "cell_type": "markdown",
      "metadata": {
        "id": "8uE-lKenrk6d"
      },
      "source": [
        "#### Import the libraries"
      ]
    },
    {
      "cell_type": "code",
      "execution_count": null,
      "metadata": {
        "id": "zGVvMcWyrk6e"
      },
      "outputs": [],
      "source": [
        "# for numerical computing\n",
        "import numpy as np\n",
        "\n",
        "# for dataframes\n",
        "import pandas as pd\n",
        "\n",
        "# for easier visualization\n",
        "import seaborn as sns\n",
        "\n",
        "# for visualization and to display plots\n",
        "from matplotlib import pyplot as plt\n",
        "%matplotlib inline\n",
        "\n",
        "# import color maps\n",
        "from matplotlib.colors import ListedColormap\n",
        "\n",
        "# Ignore Warnings\n",
        "import warnings\n",
        "warnings.filterwarnings(\"ignore\")\n",
        "\n"
      ]
    },
    {
      "cell_type": "markdown",
      "metadata": {
        "id": "iiXygUntrk6k"
      },
      "source": [
        "Load real estate data from CSV"
      ]
    },
    {
      "cell_type": "code",
      "execution_count": null,
      "metadata": {
        "collapsed": true,
        "id": "NlNgK0eDrk6l"
      },
      "outputs": [],
      "source": [
        "df = pd.read_csv('real_estate_data.csv')"
      ]
    },
    {
      "cell_type": "markdown",
      "metadata": {
        "id": "ODGevidWrk6m"
      },
      "source": [
        "Display the dimensions of the dataset."
      ]
    },
    {
      "cell_type": "code",
      "execution_count": null,
      "metadata": {
        "colab": {
          "base_uri": "https://localhost:8080/"
        },
        "id": "Mfb4Y878rk6n",
        "outputId": "fb35aa25-a212-4453-f33d-4a5b91eb4e44"
      },
      "outputs": [
        {
          "output_type": "execute_result",
          "data": {
            "text/plain": [
              "(1883, 26)"
            ]
          },
          "metadata": {},
          "execution_count": 5
        }
      ],
      "source": [
        "df.shape"
      ]
    },
    {
      "cell_type": "markdown",
      "metadata": {
        "id": "_V0Q5lAXrk6p"
      },
      "source": [
        "Columns of the dataset"
      ]
    },
    {
      "cell_type": "code",
      "execution_count": null,
      "metadata": {
        "colab": {
          "base_uri": "https://localhost:8080/"
        },
        "id": "vzju-f4wrk6r",
        "outputId": "2327d2a9-d012-4c9d-b5ff-30eb8f80e64d"
      },
      "outputs": [
        {
          "output_type": "execute_result",
          "data": {
            "text/plain": [
              "Index(['tx_price', 'beds', 'baths', 'sqft', 'year_built', 'lot_size',\n",
              "       'property_type', 'exterior_walls', 'roof', 'basement', 'restaurants',\n",
              "       'groceries', 'nightlife', 'cafes', 'shopping', 'arts_entertainment',\n",
              "       'beauty_spas', 'active_life', 'median_age', 'married', 'college_grad',\n",
              "       'property_tax', 'insurance', 'median_school', 'num_schools', 'tx_year'],\n",
              "      dtype='object')"
            ]
          },
          "metadata": {},
          "execution_count": 6
        }
      ],
      "source": [
        "df.columns"
      ]
    },
    {
      "cell_type": "markdown",
      "metadata": {
        "id": "U9OZlc8yrk6s"
      },
      "source": [
        "Display the first 5 rows to see example observations."
      ]
    },
    {
      "cell_type": "code",
      "execution_count": null,
      "metadata": {
        "colab": {
          "base_uri": "https://localhost:8080/",
          "height": 473
        },
        "id": "GovWZnO8rk6t",
        "outputId": "73448d80-fa1b-437e-93cf-a26b43af5831"
      },
      "outputs": [
        {
          "output_type": "execute_result",
          "data": {
            "text/plain": [
              "   tx_price  beds  baths  sqft  year_built  lot_size  \\\n",
              "0    295850     1      1   584        2013         0   \n",
              "1    216500     1      1   612        1965         0   \n",
              "2    279900     1      1   615        1963         0   \n",
              "3    379900     1      1   618        2000     33541   \n",
              "4    340000     1      1   634        1992         0   \n",
              "\n",
              "                   property_type exterior_walls                 roof  \\\n",
              "0  Apartment / Condo / Townhouse    Wood Siding                  NaN   \n",
              "1  Apartment / Condo / Townhouse          Brick  Composition Shingle   \n",
              "2  Apartment / Condo / Townhouse    Wood Siding                  NaN   \n",
              "3  Apartment / Condo / Townhouse    Wood Siding                  NaN   \n",
              "4  Apartment / Condo / Townhouse          Brick                  NaN   \n",
              "\n",
              "   basement  ...  beauty_spas  active_life  median_age  married  college_grad  \\\n",
              "0       NaN  ...           47           58        33.0     65.0          84.0   \n",
              "1       1.0  ...           26           14        39.0     73.0          69.0   \n",
              "2       NaN  ...           74           62        28.0     15.0          86.0   \n",
              "3       NaN  ...           72           83        36.0     25.0          91.0   \n",
              "4       NaN  ...           50           73        37.0     20.0          75.0   \n",
              "\n",
              "   property_tax  insurance  median_school  num_schools  tx_year  \n",
              "0         234.0       81.0            9.0          3.0     2013  \n",
              "1         169.0       51.0            3.0          3.0     2006  \n",
              "2         216.0       74.0            8.0          3.0     2012  \n",
              "3         265.0       92.0            9.0          3.0     2005  \n",
              "4          88.0       30.0            9.0          3.0     2002  \n",
              "\n",
              "[5 rows x 26 columns]"
            ],
            "text/html": [
              "\n",
              "  <div id=\"df-e19f6541-037d-45e0-ac35-5b237fd81793\">\n",
              "    <div class=\"colab-df-container\">\n",
              "      <div>\n",
              "<style scoped>\n",
              "    .dataframe tbody tr th:only-of-type {\n",
              "        vertical-align: middle;\n",
              "    }\n",
              "\n",
              "    .dataframe tbody tr th {\n",
              "        vertical-align: top;\n",
              "    }\n",
              "\n",
              "    .dataframe thead th {\n",
              "        text-align: right;\n",
              "    }\n",
              "</style>\n",
              "<table border=\"1\" class=\"dataframe\">\n",
              "  <thead>\n",
              "    <tr style=\"text-align: right;\">\n",
              "      <th></th>\n",
              "      <th>tx_price</th>\n",
              "      <th>beds</th>\n",
              "      <th>baths</th>\n",
              "      <th>sqft</th>\n",
              "      <th>year_built</th>\n",
              "      <th>lot_size</th>\n",
              "      <th>property_type</th>\n",
              "      <th>exterior_walls</th>\n",
              "      <th>roof</th>\n",
              "      <th>basement</th>\n",
              "      <th>...</th>\n",
              "      <th>beauty_spas</th>\n",
              "      <th>active_life</th>\n",
              "      <th>median_age</th>\n",
              "      <th>married</th>\n",
              "      <th>college_grad</th>\n",
              "      <th>property_tax</th>\n",
              "      <th>insurance</th>\n",
              "      <th>median_school</th>\n",
              "      <th>num_schools</th>\n",
              "      <th>tx_year</th>\n",
              "    </tr>\n",
              "  </thead>\n",
              "  <tbody>\n",
              "    <tr>\n",
              "      <th>0</th>\n",
              "      <td>295850</td>\n",
              "      <td>1</td>\n",
              "      <td>1</td>\n",
              "      <td>584</td>\n",
              "      <td>2013</td>\n",
              "      <td>0</td>\n",
              "      <td>Apartment / Condo / Townhouse</td>\n",
              "      <td>Wood Siding</td>\n",
              "      <td>NaN</td>\n",
              "      <td>NaN</td>\n",
              "      <td>...</td>\n",
              "      <td>47</td>\n",
              "      <td>58</td>\n",
              "      <td>33.0</td>\n",
              "      <td>65.0</td>\n",
              "      <td>84.0</td>\n",
              "      <td>234.0</td>\n",
              "      <td>81.0</td>\n",
              "      <td>9.0</td>\n",
              "      <td>3.0</td>\n",
              "      <td>2013</td>\n",
              "    </tr>\n",
              "    <tr>\n",
              "      <th>1</th>\n",
              "      <td>216500</td>\n",
              "      <td>1</td>\n",
              "      <td>1</td>\n",
              "      <td>612</td>\n",
              "      <td>1965</td>\n",
              "      <td>0</td>\n",
              "      <td>Apartment / Condo / Townhouse</td>\n",
              "      <td>Brick</td>\n",
              "      <td>Composition Shingle</td>\n",
              "      <td>1.0</td>\n",
              "      <td>...</td>\n",
              "      <td>26</td>\n",
              "      <td>14</td>\n",
              "      <td>39.0</td>\n",
              "      <td>73.0</td>\n",
              "      <td>69.0</td>\n",
              "      <td>169.0</td>\n",
              "      <td>51.0</td>\n",
              "      <td>3.0</td>\n",
              "      <td>3.0</td>\n",
              "      <td>2006</td>\n",
              "    </tr>\n",
              "    <tr>\n",
              "      <th>2</th>\n",
              "      <td>279900</td>\n",
              "      <td>1</td>\n",
              "      <td>1</td>\n",
              "      <td>615</td>\n",
              "      <td>1963</td>\n",
              "      <td>0</td>\n",
              "      <td>Apartment / Condo / Townhouse</td>\n",
              "      <td>Wood Siding</td>\n",
              "      <td>NaN</td>\n",
              "      <td>NaN</td>\n",
              "      <td>...</td>\n",
              "      <td>74</td>\n",
              "      <td>62</td>\n",
              "      <td>28.0</td>\n",
              "      <td>15.0</td>\n",
              "      <td>86.0</td>\n",
              "      <td>216.0</td>\n",
              "      <td>74.0</td>\n",
              "      <td>8.0</td>\n",
              "      <td>3.0</td>\n",
              "      <td>2012</td>\n",
              "    </tr>\n",
              "    <tr>\n",
              "      <th>3</th>\n",
              "      <td>379900</td>\n",
              "      <td>1</td>\n",
              "      <td>1</td>\n",
              "      <td>618</td>\n",
              "      <td>2000</td>\n",
              "      <td>33541</td>\n",
              "      <td>Apartment / Condo / Townhouse</td>\n",
              "      <td>Wood Siding</td>\n",
              "      <td>NaN</td>\n",
              "      <td>NaN</td>\n",
              "      <td>...</td>\n",
              "      <td>72</td>\n",
              "      <td>83</td>\n",
              "      <td>36.0</td>\n",
              "      <td>25.0</td>\n",
              "      <td>91.0</td>\n",
              "      <td>265.0</td>\n",
              "      <td>92.0</td>\n",
              "      <td>9.0</td>\n",
              "      <td>3.0</td>\n",
              "      <td>2005</td>\n",
              "    </tr>\n",
              "    <tr>\n",
              "      <th>4</th>\n",
              "      <td>340000</td>\n",
              "      <td>1</td>\n",
              "      <td>1</td>\n",
              "      <td>634</td>\n",
              "      <td>1992</td>\n",
              "      <td>0</td>\n",
              "      <td>Apartment / Condo / Townhouse</td>\n",
              "      <td>Brick</td>\n",
              "      <td>NaN</td>\n",
              "      <td>NaN</td>\n",
              "      <td>...</td>\n",
              "      <td>50</td>\n",
              "      <td>73</td>\n",
              "      <td>37.0</td>\n",
              "      <td>20.0</td>\n",
              "      <td>75.0</td>\n",
              "      <td>88.0</td>\n",
              "      <td>30.0</td>\n",
              "      <td>9.0</td>\n",
              "      <td>3.0</td>\n",
              "      <td>2002</td>\n",
              "    </tr>\n",
              "  </tbody>\n",
              "</table>\n",
              "<p>5 rows × 26 columns</p>\n",
              "</div>\n",
              "      <button class=\"colab-df-convert\" onclick=\"convertToInteractive('df-e19f6541-037d-45e0-ac35-5b237fd81793')\"\n",
              "              title=\"Convert this dataframe to an interactive table.\"\n",
              "              style=\"display:none;\">\n",
              "        \n",
              "  <svg xmlns=\"http://www.w3.org/2000/svg\" height=\"24px\"viewBox=\"0 0 24 24\"\n",
              "       width=\"24px\">\n",
              "    <path d=\"M0 0h24v24H0V0z\" fill=\"none\"/>\n",
              "    <path d=\"M18.56 5.44l.94 2.06.94-2.06 2.06-.94-2.06-.94-.94-2.06-.94 2.06-2.06.94zm-11 1L8.5 8.5l.94-2.06 2.06-.94-2.06-.94L8.5 2.5l-.94 2.06-2.06.94zm10 10l.94 2.06.94-2.06 2.06-.94-2.06-.94-.94-2.06-.94 2.06-2.06.94z\"/><path d=\"M17.41 7.96l-1.37-1.37c-.4-.4-.92-.59-1.43-.59-.52 0-1.04.2-1.43.59L10.3 9.45l-7.72 7.72c-.78.78-.78 2.05 0 2.83L4 21.41c.39.39.9.59 1.41.59.51 0 1.02-.2 1.41-.59l7.78-7.78 2.81-2.81c.8-.78.8-2.07 0-2.86zM5.41 20L4 18.59l7.72-7.72 1.47 1.35L5.41 20z\"/>\n",
              "  </svg>\n",
              "      </button>\n",
              "      \n",
              "  <style>\n",
              "    .colab-df-container {\n",
              "      display:flex;\n",
              "      flex-wrap:wrap;\n",
              "      gap: 12px;\n",
              "    }\n",
              "\n",
              "    .colab-df-convert {\n",
              "      background-color: #E8F0FE;\n",
              "      border: none;\n",
              "      border-radius: 50%;\n",
              "      cursor: pointer;\n",
              "      display: none;\n",
              "      fill: #1967D2;\n",
              "      height: 32px;\n",
              "      padding: 0 0 0 0;\n",
              "      width: 32px;\n",
              "    }\n",
              "\n",
              "    .colab-df-convert:hover {\n",
              "      background-color: #E2EBFA;\n",
              "      box-shadow: 0px 1px 2px rgba(60, 64, 67, 0.3), 0px 1px 3px 1px rgba(60, 64, 67, 0.15);\n",
              "      fill: #174EA6;\n",
              "    }\n",
              "\n",
              "    [theme=dark] .colab-df-convert {\n",
              "      background-color: #3B4455;\n",
              "      fill: #D2E3FC;\n",
              "    }\n",
              "\n",
              "    [theme=dark] .colab-df-convert:hover {\n",
              "      background-color: #434B5C;\n",
              "      box-shadow: 0px 1px 3px 1px rgba(0, 0, 0, 0.15);\n",
              "      filter: drop-shadow(0px 1px 2px rgba(0, 0, 0, 0.3));\n",
              "      fill: #FFFFFF;\n",
              "    }\n",
              "  </style>\n",
              "\n",
              "      <script>\n",
              "        const buttonEl =\n",
              "          document.querySelector('#df-e19f6541-037d-45e0-ac35-5b237fd81793 button.colab-df-convert');\n",
              "        buttonEl.style.display =\n",
              "          google.colab.kernel.accessAllowed ? 'block' : 'none';\n",
              "\n",
              "        async function convertToInteractive(key) {\n",
              "          const element = document.querySelector('#df-e19f6541-037d-45e0-ac35-5b237fd81793');\n",
              "          const dataTable =\n",
              "            await google.colab.kernel.invokeFunction('convertToInteractive',\n",
              "                                                     [key], {});\n",
              "          if (!dataTable) return;\n",
              "\n",
              "          const docLinkHtml = 'Like what you see? Visit the ' +\n",
              "            '<a target=\"_blank\" href=https://colab.research.google.com/notebooks/data_table.ipynb>data table notebook</a>'\n",
              "            + ' to learn more about interactive tables.';\n",
              "          element.innerHTML = '';\n",
              "          dataTable['output_type'] = 'display_data';\n",
              "          await google.colab.output.renderOutput(dataTable, element);\n",
              "          const docLink = document.createElement('div');\n",
              "          docLink.innerHTML = docLinkHtml;\n",
              "          element.appendChild(docLink);\n",
              "        }\n",
              "      </script>\n",
              "    </div>\n",
              "  </div>\n",
              "  "
            ]
          },
          "metadata": {},
          "execution_count": 7
        }
      ],
      "source": [
        "pd.set_option('display.max_columns', 20) ## display max 20 columns\n",
        "df.head()"
      ]
    },
    {
      "cell_type": "markdown",
      "metadata": {
        "id": "snazO28Erk6u"
      },
      "source": [
        "Some feaures are numeric and some are categorical<br>\n",
        "Filtering the categorical features:"
      ]
    },
    {
      "cell_type": "code",
      "execution_count": null,
      "metadata": {
        "colab": {
          "base_uri": "https://localhost:8080/"
        },
        "id": "Ktfb3HTKrk6v",
        "outputId": "632f8bca-5cbc-4869-c6c7-5d391069c380"
      },
      "outputs": [
        {
          "output_type": "execute_result",
          "data": {
            "text/plain": [
              "property_type     object\n",
              "exterior_walls    object\n",
              "roof              object\n",
              "dtype: object"
            ]
          },
          "metadata": {},
          "execution_count": 8
        }
      ],
      "source": [
        "df.dtypes[df.dtypes=='object']"
      ]
    },
    {
      "cell_type": "markdown",
      "metadata": {
        "id": "rOydr0YPrk6w"
      },
      "source": [
        "## Distributions of numeric features\n",
        "One of the most enlightening data exploration tasks is plotting the distributions of your features."
      ]
    },
    {
      "cell_type": "code",
      "execution_count": null,
      "metadata": {
        "scrolled": true,
        "colab": {
          "base_uri": "https://localhost:8080/",
          "height": 949
        },
        "id": "u0Oj_sHLrk6x",
        "outputId": "3c3c2195-2aa2-4596-c04f-553b19c06bb3"
      },
      "outputs": [
        {
          "output_type": "display_data",
          "data": {
            "text/plain": [
              "<Figure size 1152x1152 with 25 Axes>"
            ],
            "image/png": "[encoded data removed]"
          },
          "metadata": {
            "needs_background": "light"
          }
        }
      ],
      "source": [
        "# Plot histogram grid\n",
        "df.hist(figsize=(16,16), xrot=-45) ## Display the labels rotated by 45 degress\n",
        "\n",
        "# Clear the text \"residue\"\n",
        "plt.show()"
      ]
    },
    {
      "cell_type": "markdown",
      "metadata": {
        "id": "SgPl4plUrk6y"
      },
      "source": [
        "**Observations:**\n",
        "We can make out quite a few observations:\n",
        "\n",
        "For example, consider the histogram for num_schools:\n",
        "* More than 1500 houses have 3 schools with a mile\n",
        "\n",
        "Consider the histogram for sqft:\n",
        "* More than 400 houses have area within 2000 sqft\n",
        "* Very few houses have area more than 5000 sqft\n",
        "\n",
        "Consider the histogram for beds:\n",
        "* Over 600 houses have 4 bedrooms, and similar number of houses have 3 bedrooms.\n",
        "* Less than 100 houses have one bedroom and so on.\n",
        "\n",
        "Also, look at the plot for the 'year_built' feature:\n",
        "* The last bin in the histogram represents the range 2010-2020.\n",
        "* Since this dataset was pulled in 2016, we should not have properties built in 2019.\n",
        "* A property built after 2016 would be a measurement error.\n",
        "* However, because of the 10-year bins, it's hard to tell if there's a measurement error just from the plot above."
      ]
    },
    {
      "cell_type": "markdown",
      "metadata": {
        "id": "r0rH16uyrk6z"
      },
      "source": [
        "Display summary statistics for the numerical features."
      ]
    },
    {
      "cell_type": "code",
      "execution_count": null,
      "metadata": {
        "colab": {
          "base_uri": "https://localhost:8080/",
          "height": 393
        },
        "id": "KhJbRkGprk60",
        "outputId": "34f47649-6609-4412-d287-96992c059033"
      },
      "outputs": [
        {
          "output_type": "execute_result",
          "data": {
            "text/plain": [
              "            tx_price         beds        baths         sqft   year_built  \\\n",
              "count    1883.000000  1883.000000  1883.000000  1883.000000  1883.000000   \n",
              "mean   422839.807754     3.420605     2.579926  2329.398832  1982.963887   \n",
              "std    151462.593276     1.068554     0.945576  1336.991858    20.295945   \n",
              "min    200000.000000     1.000000     1.000000   500.000000  1880.000000   \n",
              "25%    300000.000000     3.000000     2.000000  1345.000000  1970.000000   \n",
              "50%    392000.000000     3.000000     3.000000  1907.000000  1986.000000   \n",
              "75%    525000.000000     4.000000     3.000000  3005.000000  2000.000000   \n",
              "max    800000.000000     5.000000     6.000000  8450.000000  2015.000000   \n",
              "\n",
              "           lot_size  basement  restaurants    groceries    nightlife  ...  \\\n",
              "count  1.883000e+03    1657.0  1883.000000  1883.000000  1883.000000  ...   \n",
              "mean   1.339262e+04       1.0    40.210303     4.505045     5.074881  ...   \n",
              "std    4.494930e+04       0.0    46.867012     4.491029     8.464668  ...   \n",
              "min    0.000000e+00       1.0     0.000000     0.000000     0.000000  ...   \n",
              "25%    1.542000e+03       1.0     7.000000     1.000000     0.000000  ...   \n",
              "50%    6.098000e+03       1.0    23.000000     3.000000     2.000000  ...   \n",
              "75%    1.176100e+04       1.0    58.000000     7.000000     6.000000  ...   \n",
              "max    1.220551e+06       1.0   266.000000    24.000000    54.000000  ...   \n",
              "\n",
              "       beauty_spas  active_life   median_age      married  college_grad  \\\n",
              "count  1883.000000  1883.000000  1883.000000  1883.000000   1883.000000   \n",
              "mean     23.416888    15.835369    38.601168    69.091875     65.085502   \n",
              "std      25.776916    17.667717     6.634110    19.659767     16.953165   \n",
              "min       0.000000     0.000000    22.000000    11.000000      5.000000   \n",
              "25%       4.000000     4.000000    33.000000    58.000000     54.000000   \n",
              "50%      15.000000    10.000000    38.000000    73.000000     66.000000   \n",
              "75%      35.000000    21.000000    43.000000    84.000000     78.000000   \n",
              "max     177.000000    94.000000    69.000000   100.000000    100.000000   \n",
              "\n",
              "       property_tax    insurance  median_school  num_schools      tx_year  \n",
              "count   1883.000000  1883.000000    1883.000000  1883.000000  1883.000000  \n",
              "mean     466.777483   140.454063       6.502921     2.793415  2007.111524  \n",
              "std      231.656645    72.929765       1.996109     0.505358     5.196898  \n",
              "min       88.000000    30.000000       1.000000     1.000000  1993.000000  \n",
              "25%      320.000000    94.000000       5.000000     3.000000  2004.000000  \n",
              "50%      426.000000   125.000000       7.000000     3.000000  2007.000000  \n",
              "75%      569.000000   169.000000       8.000000     3.000000  2011.000000  \n",
              "max     4508.000000  1374.000000      10.000000     4.000000  2016.000000  \n",
              "\n",
              "[8 rows x 23 columns]"
            ],
            "text/html": [
              "\n",
              "  <div id=\"df-eb4f0d75-9508-41dc-8e78-7fd96375f32e\">\n",
              "    <div class=\"colab-df-container\">\n",
              "      <div>\n",
              "<style scoped>\n",
              "    .dataframe tbody tr th:only-of-type {\n",
              "        vertical-align: middle;\n",
              "    }\n",
              "\n",
              "    .dataframe tbody tr th {\n",
              "        vertical-align: top;\n",
              "    }\n",
              "\n",
              "    .dataframe thead th {\n",
              "        text-align: right;\n",
              "    }\n",
              "</style>\n",
              "<table border=\"1\" class=\"dataframe\">\n",
              "  <thead>\n",
              "    <tr style=\"text-align: right;\">\n",
              "      <th></th>\n",
              "      <th>tx_price</th>\n",
              "      <th>beds</th>\n",
              "      <th>baths</th>\n",
              "      <th>sqft</th>\n",
              "      <th>year_built</th>\n",
              "      <th>lot_size</th>\n",
              "      <th>basement</th>\n",
              "      <th>restaurants</th>\n",
              "      <th>groceries</th>\n",
              "      <th>nightlife</th>\n",
              "      <th>...</th>\n",
              "      <th>beauty_spas</th>\n",
              "      <th>active_life</th>\n",
              "      <th>median_age</th>\n",
              "      <th>married</th>\n",
              "      <th>college_grad</th>\n",
              "      <th>property_tax</th>\n",
              "      <th>insurance</th>\n",
              "      <th>median_school</th>\n",
              "      <th>num_schools</th>\n",
              "      <th>tx_year</th>\n",
              "    </tr>\n",
              "  </thead>\n",
              "  <tbody>\n",
              "    <tr>\n",
              "      <th>count</th>\n",
              "      <td>1883.000000</td>\n",
              "      <td>1883.000000</td>\n",
              "      <td>1883.000000</td>\n",
              "      <td>1883.000000</td>\n",
              "      <td>1883.000000</td>\n",
              "      <td>1.883000e+03</td>\n",
              "      <td>1657.0</td>\n",
              "      <td>1883.000000</td>\n",
              "      <td>1883.000000</td>\n",
              "      <td>1883.000000</td>\n",
              "      <td>...</td>\n",
              "      <td>1883.000000</td>\n",
              "      <td>1883.000000</td>\n",
              "      <td>1883.000000</td>\n",
              "      <td>1883.000000</td>\n",
              "      <td>1883.000000</td>\n",
              "      <td>1883.000000</td>\n",
              "      <td>1883.000000</td>\n",
              "      <td>1883.000000</td>\n",
              "      <td>1883.000000</td>\n",
              "      <td>1883.000000</td>\n",
              "    </tr>\n",
              "    <tr>\n",
              "      <th>mean</th>\n",
              "      <td>422839.807754</td>\n",
              "      <td>3.420605</td>\n",
              "      <td>2.579926</td>\n",
              "      <td>2329.398832</td>\n",
              "      <td>1982.963887</td>\n",
              "      <td>1.339262e+04</td>\n",
              "      <td>1.0</td>\n",
              "      <td>40.210303</td>\n",
              "      <td>4.505045</td>\n",
              "      <td>5.074881</td>\n",
              "      <td>...</td>\n",
              "      <td>23.416888</td>\n",
              "      <td>15.835369</td>\n",
              "      <td>38.601168</td>\n",
              "      <td>69.091875</td>\n",
              "      <td>65.085502</td>\n",
              "      <td>466.777483</td>\n",
              "      <td>140.454063</td>\n",
              "      <td>6.502921</td>\n",
              "      <td>2.793415</td>\n",
              "      <td>2007.111524</td>\n",
              "    </tr>\n",
              "    <tr>\n",
              "      <th>std</th>\n",
              "      <td>151462.593276</td>\n",
              "      <td>1.068554</td>\n",
              "      <td>0.945576</td>\n",
              "      <td>1336.991858</td>\n",
              "      <td>20.295945</td>\n",
              "      <td>4.494930e+04</td>\n",
              "      <td>0.0</td>\n",
              "      <td>46.867012</td>\n",
              "      <td>4.491029</td>\n",
              "      <td>8.464668</td>\n",
              "      <td>...</td>\n",
              "      <td>25.776916</td>\n",
              "      <td>17.667717</td>\n",
              "      <td>6.634110</td>\n",
              "      <td>19.659767</td>\n",
              "      <td>16.953165</td>\n",
              "      <td>231.656645</td>\n",
              "      <td>72.929765</td>\n",
              "      <td>1.996109</td>\n",
              "      <td>0.505358</td>\n",
              "      <td>5.196898</td>\n",
              "    </tr>\n",
              "    <tr>\n",
              "      <th>min</th>\n",
              "      <td>200000.000000</td>\n",
              "      <td>1.000000</td>\n",
              "      <td>1.000000</td>\n",
              "      <td>500.000000</td>\n",
              "      <td>1880.000000</td>\n",
              "      <td>0.000000e+00</td>\n",
              "      <td>1.0</td>\n",
              "      <td>0.000000</td>\n",
              "      <td>0.000000</td>\n",
              "      <td>0.000000</td>\n",
              "      <td>...</td>\n",
              "      <td>0.000000</td>\n",
              "      <td>0.000000</td>\n",
              "      <td>22.000000</td>\n",
              "      <td>11.000000</td>\n",
              "      <td>5.000000</td>\n",
              "      <td>88.000000</td>\n",
              "      <td>30.000000</td>\n",
              "      <td>1.000000</td>\n",
              "      <td>1.000000</td>\n",
              "      <td>1993.000000</td>\n",
              "    </tr>\n",
              "    <tr>\n",
              "      <th>25%</th>\n",
              "      <td>300000.000000</td>\n",
              "      <td>3.000000</td>\n",
              "      <td>2.000000</td>\n",
              "      <td>1345.000000</td>\n",
              "      <td>1970.000000</td>\n",
              "      <td>1.542000e+03</td>\n",
              "      <td>1.0</td>\n",
              "      <td>7.000000</td>\n",
              "      <td>1.000000</td>\n",
              "      <td>0.000000</td>\n",
              "      <td>...</td>\n",
              "      <td>4.000000</td>\n",
              "      <td>4.000000</td>\n",
              "      <td>33.000000</td>\n",
              "      <td>58.000000</td>\n",
              "      <td>54.000000</td>\n",
              "      <td>320.000000</td>\n",
              "      <td>94.000000</td>\n",
              "      <td>5.000000</td>\n",
              "      <td>3.000000</td>\n",
              "      <td>2004.000000</td>\n",
              "    </tr>\n",
              "    <tr>\n",
              "      <th>50%</th>\n",
              "      <td>392000.000000</td>\n",
              "      <td>3.000000</td>\n",
              "      <td>3.000000</td>\n",
              "      <td>1907.000000</td>\n",
              "      <td>1986.000000</td>\n",
              "      <td>6.098000e+03</td>\n",
              "      <td>1.0</td>\n",
              "      <td>23.000000</td>\n",
              "      <td>3.000000</td>\n",
              "      <td>2.000000</td>\n",
              "      <td>...</td>\n",
              "      <td>15.000000</td>\n",
              "      <td>10.000000</td>\n",
              "      <td>38.000000</td>\n",
              "      <td>73.000000</td>\n",
              "      <td>66.000000</td>\n",
              "      <td>426.000000</td>\n",
              "      <td>125.000000</td>\n",
              "      <td>7.000000</td>\n",
              "      <td>3.000000</td>\n",
              "      <td>2007.000000</td>\n",
              "    </tr>\n",
              "    <tr>\n",
              "      <th>75%</th>\n",
              "      <td>525000.000000</td>\n",
              "      <td>4.000000</td>\n",
              "      <td>3.000000</td>\n",
              "      <td>3005.000000</td>\n",
              "      <td>2000.000000</td>\n",
              "      <td>1.176100e+04</td>\n",
              "      <td>1.0</td>\n",
              "      <td>58.000000</td>\n",
              "      <td>7.000000</td>\n",
              "      <td>6.000000</td>\n",
              "      <td>...</td>\n",
              "      <td>35.000000</td>\n",
              "      <td>21.000000</td>\n",
              "      <td>43.000000</td>\n",
              "      <td>84.000000</td>\n",
              "      <td>78.000000</td>\n",
              "      <td>569.000000</td>\n",
              "      <td>169.000000</td>\n",
              "      <td>8.000000</td>\n",
              "      <td>3.000000</td>\n",
              "      <td>2011.000000</td>\n",
              "    </tr>\n",
              "    <tr>\n",
              "      <th>max</th>\n",
              "      <td>800000.000000</td>\n",
              "      <td>5.000000</td>\n",
              "      <td>6.000000</td>\n",
              "      <td>8450.000000</td>\n",
              "      <td>2015.000000</td>\n",
              "      <td>1.220551e+06</td>\n",
              "      <td>1.0</td>\n",
              "      <td>266.000000</td>\n",
              "      <td>24.000000</td>\n",
              "      <td>54.000000</td>\n",
              "      <td>...</td>\n",
              "      <td>177.000000</td>\n",
              "      <td>94.000000</td>\n",
              "      <td>69.000000</td>\n",
              "      <td>100.000000</td>\n",
              "      <td>100.000000</td>\n",
              "      <td>4508.000000</td>\n",
              "      <td>1374.000000</td>\n",
              "      <td>10.000000</td>\n",
              "      <td>4.000000</td>\n",
              "      <td>2016.000000</td>\n",
              "    </tr>\n",
              "  </tbody>\n",
              "</table>\n",
              "<p>8 rows × 23 columns</p>\n",
              "</div>\n",
              "      <button class=\"colab-df-convert\" onclick=\"convertToInteractive('df-eb4f0d75-9508-41dc-8e78-7fd96375f32e')\"\n",
              "              title=\"Convert this dataframe to an interactive table.\"\n",
              "              style=\"display:none;\">\n",
              "        \n",
              "  <svg xmlns=\"http://www.w3.org/2000/svg\" height=\"24px\"viewBox=\"0 0 24 24\"\n",
              "       width=\"24px\">\n",
              "    <path d=\"M0 0h24v24H0V0z\" fill=\"none\"/>\n",
              "    <path d=\"M18.56 5.44l.94 2.06.94-2.06 2.06-.94-2.06-.94-.94-2.06-.94 2.06-2.06.94zm-11 1L8.5 8.5l.94-2.06 2.06-.94-2.06-.94L8.5 2.5l-.94 2.06-2.06.94zm10 10l.94 2.06.94-2.06 2.06-.94-2.06-.94-.94-2.06-.94 2.06-2.06.94z\"/><path d=\"M17.41 7.96l-1.37-1.37c-.4-.4-.92-.59-1.43-.59-.52 0-1.04.2-1.43.59L10.3 9.45l-7.72 7.72c-.78.78-.78 2.05 0 2.83L4 21.41c.39.39.9.59 1.41.59.51 0 1.02-.2 1.41-.59l7.78-7.78 2.81-2.81c.8-.78.8-2.07 0-2.86zM5.41 20L4 18.59l7.72-7.72 1.47 1.35L5.41 20z\"/>\n",
              "  </svg>\n",
              "      </button>\n",
              "      \n",
              "  <style>\n",
              "    .colab-df-container {\n",
              "      display:flex;\n",
              "      flex-wrap:wrap;\n",
              "      gap: 12px;\n",
              "    }\n",
              "\n",
              "    .colab-df-convert {\n",
              "      background-color: #E8F0FE;\n",
              "      border: none;\n",
              "      border-radius: 50%;\n",
              "      cursor: pointer;\n",
              "      display: none;\n",
              "      fill: #1967D2;\n",
              "      height: 32px;\n",
              "      padding: 0 0 0 0;\n",
              "      width: 32px;\n",
              "    }\n",
              "\n",
              "    .colab-df-convert:hover {\n",
              "      background-color: #E2EBFA;\n",
              "      box-shadow: 0px 1px 2px rgba(60, 64, 67, 0.3), 0px 1px 3px 1px rgba(60, 64, 67, 0.15);\n",
              "      fill: #174EA6;\n",
              "    }\n",
              "\n",
              "    [theme=dark] .colab-df-convert {\n",
              "      background-color: #3B4455;\n",
              "      fill: #D2E3FC;\n",
              "    }\n",
              "\n",
              "    [theme=dark] .colab-df-convert:hover {\n",
              "      background-color: #434B5C;\n",
              "      box-shadow: 0px 1px 3px 1px rgba(0, 0, 0, 0.15);\n",
              "      filter: drop-shadow(0px 1px 2px rgba(0, 0, 0, 0.3));\n",
              "      fill: #FFFFFF;\n",
              "    }\n",
              "  </style>\n",
              "\n",
              "      <script>\n",
              "        const buttonEl =\n",
              "          document.querySelector('#df-eb4f0d75-9508-41dc-8e78-7fd96375f32e button.colab-df-convert');\n",
              "        buttonEl.style.display =\n",
              "          google.colab.kernel.accessAllowed ? 'block' : 'none';\n",
              "\n",
              "        async function convertToInteractive(key) {\n",
              "          const element = document.querySelector('#df-eb4f0d75-9508-41dc-8e78-7fd96375f32e');\n",
              "          const dataTable =\n",
              "            await google.colab.kernel.invokeFunction('convertToInteractive',\n",
              "                                                     [key], {});\n",
              "          if (!dataTable) return;\n",
              "\n",
              "          const docLinkHtml = 'Like what you see? Visit the ' +\n",
              "            '<a target=\"_blank\" href=https://colab.research.google.com/notebooks/data_table.ipynb>data table notebook</a>'\n",
              "            + ' to learn more about interactive tables.';\n",
              "          element.innerHTML = '';\n",
              "          dataTable['output_type'] = 'display_data';\n",
              "          await google.colab.output.renderOutput(dataTable, element);\n",
              "          const docLink = document.createElement('div');\n",
              "          docLink.innerHTML = docLinkHtml;\n",
              "          element.appendChild(docLink);\n",
              "        }\n",
              "      </script>\n",
              "    </div>\n",
              "  </div>\n",
              "  "
            ]
          },
          "metadata": {},
          "execution_count": 10
        }
      ],
      "source": [
        "df.describe()"
      ]
    },
    {
      "cell_type": "markdown",
      "metadata": {
        "id": "Fmyp9LT3rk61"
      },
      "source": [
        "**Obeservation:**\n",
        "* Look at the 'year_built' column, we can see that its max value is 2015.\n",
        "* The 'basement' feature has some missing values, also its standard deviation is 0.0, while its min and max are both 1.0. Maybe this is a feature that should be binary consisting values 0 and 1."
      ]
    },
    {
      "cell_type": "markdown",
      "metadata": {
        "id": "8idSrVkvrk61"
      },
      "source": [
        "## Distributions of categorical features\n",
        "Display summary statistics for categorical features."
      ]
    },
    {
      "cell_type": "code",
      "execution_count": null,
      "metadata": {
        "colab": {
          "base_uri": "https://localhost:8080/",
          "height": 175
        },
        "id": "MhLrF-Tcrk62",
        "outputId": "07e939b0-77db-433e-906d-e3940979939d"
      },
      "outputs": [
        {
          "output_type": "execute_result",
          "data": {
            "text/plain": [
              "        property_type exterior_walls                 roof\n",
              "count            1883           1660                 1529\n",
              "unique              2             16                   16\n",
              "top     Single-Family          Brick  Composition Shingle\n",
              "freq             1080            687                 1179"
            ],
            "text/html": [
              "\n",
              "  <div id=\"df-333e3b5d-d701-40f9-ac5c-313aca85cc9a\">\n",
              "    <div class=\"colab-df-container\">\n",
              "      <div>\n",
              "<style scoped>\n",
              "    .dataframe tbody tr th:only-of-type {\n",
              "        vertical-align: middle;\n",
              "    }\n",
              "\n",
              "    .dataframe tbody tr th {\n",
              "        vertical-align: top;\n",
              "    }\n",
              "\n",
              "    .dataframe thead th {\n",
              "        text-align: right;\n",
              "    }\n",
              "</style>\n",
              "<table border=\"1\" class=\"dataframe\">\n",
              "  <thead>\n",
              "    <tr style=\"text-align: right;\">\n",
              "      <th></th>\n",
              "      <th>property_type</th>\n",
              "      <th>exterior_walls</th>\n",
              "      <th>roof</th>\n",
              "    </tr>\n",
              "  </thead>\n",
              "  <tbody>\n",
              "    <tr>\n",
              "      <th>count</th>\n",
              "      <td>1883</td>\n",
              "      <td>1660</td>\n",
              "      <td>1529</td>\n",
              "    </tr>\n",
              "    <tr>\n",
              "      <th>unique</th>\n",
              "      <td>2</td>\n",
              "      <td>16</td>\n",
              "      <td>16</td>\n",
              "    </tr>\n",
              "    <tr>\n",
              "      <th>top</th>\n",
              "      <td>Single-Family</td>\n",
              "      <td>Brick</td>\n",
              "      <td>Composition Shingle</td>\n",
              "    </tr>\n",
              "    <tr>\n",
              "      <th>freq</th>\n",
              "      <td>1080</td>\n",
              "      <td>687</td>\n",
              "      <td>1179</td>\n",
              "    </tr>\n",
              "  </tbody>\n",
              "</table>\n",
              "</div>\n",
              "      <button class=\"colab-df-convert\" onclick=\"convertToInteractive('df-333e3b5d-d701-40f9-ac5c-313aca85cc9a')\"\n",
              "              title=\"Convert this dataframe to an interactive table.\"\n",
              "              style=\"display:none;\">\n",
              "        \n",
              "  <svg xmlns=\"http://www.w3.org/2000/svg\" height=\"24px\"viewBox=\"0 0 24 24\"\n",
              "       width=\"24px\">\n",
              "    <path d=\"M0 0h24v24H0V0z\" fill=\"none\"/>\n",
              "    <path d=\"M18.56 5.44l.94 2.06.94-2.06 2.06-.94-2.06-.94-.94-2.06-.94 2.06-2.06.94zm-11 1L8.5 8.5l.94-2.06 2.06-.94-2.06-.94L8.5 2.5l-.94 2.06-2.06.94zm10 10l.94 2.06.94-2.06 2.06-.94-2.06-.94-.94-2.06-.94 2.06-2.06.94z\"/><path d=\"M17.41 7.96l-1.37-1.37c-.4-.4-.92-.59-1.43-.59-.52 0-1.04.2-1.43.59L10.3 9.45l-7.72 7.72c-.78.78-.78 2.05 0 2.83L4 21.41c.39.39.9.59 1.41.59.51 0 1.02-.2 1.41-.59l7.78-7.78 2.81-2.81c.8-.78.8-2.07 0-2.86zM5.41 20L4 18.59l7.72-7.72 1.47 1.35L5.41 20z\"/>\n",
              "  </svg>\n",
              "      </button>\n",
              "      \n",
              "  <style>\n",
              "    .colab-df-container {\n",
              "      display:flex;\n",
              "      flex-wrap:wrap;\n",
              "      gap: 12px;\n",
              "    }\n",
              "\n",
              "    .colab-df-convert {\n",
              "      background-color: #E8F0FE;\n",
              "      border: none;\n",
              "      border-radius: 50%;\n",
              "      cursor: pointer;\n",
              "      display: none;\n",
              "      fill: #1967D2;\n",
              "      height: 32px;\n",
              "      padding: 0 0 0 0;\n",
              "      width: 32px;\n",
              "    }\n",
              "\n",
              "    .colab-df-convert:hover {\n",
              "      background-color: #E2EBFA;\n",
              "      box-shadow: 0px 1px 2px rgba(60, 64, 67, 0.3), 0px 1px 3px 1px rgba(60, 64, 67, 0.15);\n",
              "      fill: #174EA6;\n",
              "    }\n",
              "\n",
              "    [theme=dark] .colab-df-convert {\n",
              "      background-color: #3B4455;\n",
              "      fill: #D2E3FC;\n",
              "    }\n",
              "\n",
              "    [theme=dark] .colab-df-convert:hover {\n",
              "      background-color: #434B5C;\n",
              "      box-shadow: 0px 1px 3px 1px rgba(0, 0, 0, 0.15);\n",
              "      filter: drop-shadow(0px 1px 2px rgba(0, 0, 0, 0.3));\n",
              "      fill: #FFFFFF;\n",
              "    }\n",
              "  </style>\n",
              "\n",
              "      <script>\n",
              "        const buttonEl =\n",
              "          document.querySelector('#df-333e3b5d-d701-40f9-ac5c-313aca85cc9a button.colab-df-convert');\n",
              "        buttonEl.style.display =\n",
              "          google.colab.kernel.accessAllowed ? 'block' : 'none';\n",
              "\n",
              "        async function convertToInteractive(key) {\n",
              "          const element = document.querySelector('#df-333e3b5d-d701-40f9-ac5c-313aca85cc9a');\n",
              "          const dataTable =\n",
              "            await google.colab.kernel.invokeFunction('convertToInteractive',\n",
              "                                                     [key], {});\n",
              "          if (!dataTable) return;\n",
              "\n",
              "          const docLinkHtml = 'Like what you see? Visit the ' +\n",
              "            '<a target=\"_blank\" href=https://colab.research.google.com/notebooks/data_table.ipynb>data table notebook</a>'\n",
              "            + ' to learn more about interactive tables.';\n",
              "          element.innerHTML = '';\n",
              "          dataTable['output_type'] = 'display_data';\n",
              "          await google.colab.output.renderOutput(dataTable, element);\n",
              "          const docLink = document.createElement('div');\n",
              "          docLink.innerHTML = docLinkHtml;\n",
              "          element.appendChild(docLink);\n",
              "        }\n",
              "      </script>\n",
              "    </div>\n",
              "  </div>\n",
              "  "
            ]
          },
          "metadata": {},
          "execution_count": 11
        }
      ],
      "source": [
        "df.describe(include=['object'])"
      ]
    },
    {
      "cell_type": "markdown",
      "metadata": {
        "id": "x0tTRE0Vrk62"
      },
      "source": [
        "**Observation:**\n",
        "* 'exterior_walls' and 'roof' have missing values\n",
        "* There are 16 unique classes for 'exterior_walls' and 'roof'\n",
        "* The most frequent element for exterior_walls is 'Brick'and it has come 687 times."
      ]
    },
    {
      "cell_type": "markdown",
      "metadata": {
        "id": "T9AEs1rfrk63"
      },
      "source": [
        "### Bar plots for categorical Features"
      ]
    },
    {
      "cell_type": "markdown",
      "metadata": {
        "id": "lXKvVYOcrk63"
      },
      "source": [
        "Plot bar plot for the 'exterior_walls' feature."
      ]
    },
    {
      "cell_type": "code",
      "execution_count": null,
      "metadata": {
        "colab": {
          "base_uri": "https://localhost:8080/",
          "height": 515
        },
        "id": "e62uwwodrk64",
        "outputId": "1f6a4f4d-bc06-46d5-b323-a3aec0596d03"
      },
      "outputs": [
        {
          "output_type": "execute_result",
          "data": {
            "text/plain": [
              "<AxesSubplot:xlabel='count', ylabel='exterior_walls'>"
            ]
          },
          "metadata": {},
          "execution_count": 12
        },
        {
          "output_type": "display_data",
          "data": {
            "text/plain": [
              "<Figure size 576x576 with 1 Axes>"
            ],
            "image/png": "[encoded data removed]"
          },
          "metadata": {
            "needs_background": "light"
          }
        }
      ],
      "source": [
        "plt.figure(figsize=(8,8))\n",
        "sns.countplot(y='exterior_walls', data=df)"
      ]
    },
    {
      "cell_type": "markdown",
      "metadata": {
        "id": "octaJCd6rk64"
      },
      "source": [
        "**Observations:**\n",
        "Take a look at the frequencies of the classes.\n",
        "\n",
        "Several classes are quite prevalent in the dataset. They have long bars. Those include:\n",
        "* 'Brick' shows count of 687 as we get in features and is most frequent\n",
        "* 'Siding (Alum/Vinyl)'\n",
        "* 'Metal'\n",
        "* 'Combination'\n",
        "\n",
        "Some classes have really short bars. For example:\n",
        "* 'Concrete Block'\n",
        "* 'Concrete'\n",
        "* 'Block'\n",
        "* 'Wood Shingle'\n",
        "* others\n",
        "* These don't have many observations, and they are called sparse classes."
      ]
    },
    {
      "cell_type": "markdown",
      "metadata": {
        "id": "a_UZ7Ro_rk65"
      },
      "source": [
        "Similarly Plot bar plot for the 'roof' feature."
      ]
    },
    {
      "cell_type": "code",
      "execution_count": null,
      "metadata": {
        "colab": {
          "base_uri": "https://localhost:8080/",
          "height": 515
        },
        "id": "yDZmgDuirk65",
        "outputId": "c14716d5-f6b7-4900-9f94-f196580bedfe"
      },
      "outputs": [
        {
          "output_type": "execute_result",
          "data": {
            "text/plain": [
              "<AxesSubplot:xlabel='count', ylabel='roof'>"
            ]
          },
          "metadata": {},
          "execution_count": 13
        },
        {
          "output_type": "display_data",
          "data": {
            "text/plain": [
              "<Figure size 576x576 with 1 Axes>"
            ],
            "image/png": "[encoded data removed]"
          },
          "metadata": {
            "needs_background": "light"
          }
        }
      ],
      "source": [
        "plt.figure(figsize=(8,8))\n",
        "sns.countplot(y='roof', data=df)"
      ]
    },
    {
      "cell_type": "markdown",
      "metadata": {
        "id": "STWJdNlwrk66"
      },
      "source": [
        "**Observations:**\n",
        "\n",
        "* The class which has a lasrgest count is Composition Shingle\n",
        "\n",
        "Following are the sparse classes having very small bars/observations:\n",
        "* 'Metal'\n",
        "* 'shake-shingle'\n",
        "* 'composition'"
      ]
    },
    {
      "cell_type": "code",
      "execution_count": null,
      "metadata": {
        "colab": {
          "base_uri": "https://localhost:8080/",
          "height": 189
        },
        "id": "TmIPf9phrk67",
        "outputId": "63b56ed2-d550-4d84-cafa-8844267c98f1"
      },
      "outputs": [
        {
          "output_type": "execute_result",
          "data": {
            "text/plain": [
              "<AxesSubplot:xlabel='count', ylabel='property_type'>"
            ]
          },
          "metadata": {},
          "execution_count": 14
        },
        {
          "output_type": "display_data",
          "data": {
            "text/plain": [
              "<Figure size 360x144 with 1 Axes>"
            ],
            "image/png": "[encoded data removed]"
          },
          "metadata": {
            "needs_background": "light"
          }
        }
      ],
      "source": [
        "plt.figure(figsize=(5,2))\n",
        "sns.countplot(y='property_type', data=df)"
      ]
    },
    {
      "cell_type": "markdown",
      "metadata": {
        "id": "QMAuMrc1rk68"
      },
      "source": [
        "** Observation **:\n",
        "* Property_type having single family has maximum count greater than 1000\n",
        "* There is no sparse class in property_type"
      ]
    },
    {
      "cell_type": "markdown",
      "metadata": {
        "id": "_vKNl_4Wrk69"
      },
      "source": [
        "From the above bar plots:\n",
        "\n",
        "**Observations:** In both 'exterior_walls' and 'roof' as well we have many sparse classes"
      ]
    },
    {
      "cell_type": "markdown",
      "metadata": {
        "id": "ETLMJc88rk69"
      },
      "source": [
        "##  Segmentations\n",
        "Segmentations are powerful ways to cut the data to observe the relationship between categorical features and numeric features."
      ]
    },
    {
      "cell_type": "markdown",
      "metadata": {
        "id": "wRkLbNp0rk6_"
      },
      "source": [
        "Segmenting the target variable by key categorical features."
      ]
    },
    {
      "cell_type": "code",
      "execution_count": null,
      "metadata": {
        "colab": {
          "base_uri": "https://localhost:8080/",
          "height": 298
        },
        "id": "Iihxdm3Ork6_",
        "outputId": "f29c645e-a9b3-4ceb-db8c-436290803b15"
      },
      "outputs": [
        {
          "output_type": "execute_result",
          "data": {
            "text/plain": [
              "<AxesSubplot:xlabel='tx_price', ylabel='property_type'>"
            ]
          },
          "metadata": {},
          "execution_count": 15
        },
        {
          "output_type": "display_data",
          "data": {
            "text/plain": [
              "<Figure size 432x288 with 1 Axes>"
            ],
            "image/png": "[encoded data removed]"
          },
          "metadata": {
            "needs_background": "light"
          }
        }
      ],
      "source": [
        "sns.boxplot(y='property_type', x='tx_price', data=df)"
      ]
    },
    {
      "cell_type": "markdown",
      "metadata": {
        "id": "MKndl4eyrk7B"
      },
      "source": [
        "**Observation:** In general, it looks like single family homes are more expensive."
      ]
    },
    {
      "cell_type": "markdown",
      "metadata": {
        "id": "H96OguB4rk7B"
      },
      "source": [
        "Let's compare the two property types across other features as well"
      ]
    },
    {
      "cell_type": "code",
      "execution_count": null,
      "metadata": {
        "colab": {
          "base_uri": "https://localhost:8080/",
          "height": 271
        },
        "id": "Id1gK4byrk7C",
        "outputId": "711d513a-4038-43c6-e5ee-4e66c5c813e6"
      },
      "outputs": [
        {
          "output_type": "execute_result",
          "data": {
            "text/plain": [
              "                                    tx_price      beds     baths         sqft  \\\n",
              "property_type                                                                   \n",
              "Apartment / Condo / Townhouse  366614.034869  2.601494  2.200498  1513.727273   \n",
              "Single-Family                  464644.711111  4.029630  2.862037  2935.865741   \n",
              "\n",
              "                                year_built      lot_size  basement  \\\n",
              "property_type                                                        \n",
              "Apartment / Condo / Townhouse  1988.936488   3944.239103       1.0   \n",
              "Single-Family                  1978.523148  20417.666667       1.0   \n",
              "\n",
              "                               restaurants  groceries  nightlife  ...  \\\n",
              "property_type                                                     ...   \n",
              "Apartment / Condo / Townhouse    58.418431   5.919054   7.855542  ...   \n",
              "Single-Family                    26.672222   3.453704   3.007407  ...   \n",
              "\n",
              "                               beauty_spas  active_life  median_age  \\\n",
              "property_type                                                         \n",
              "Apartment / Condo / Townhouse    32.087173    22.410959   37.199253   \n",
              "Single-Family                    16.970370    10.946296   39.643519   \n",
              "\n",
              "                                 married  college_grad  property_tax  \\\n",
              "property_type                                                          \n",
              "Apartment / Condo / Townhouse  57.534247     66.372354    346.261519   \n",
              "Single-Family                  77.685185     64.128704    556.383333   \n",
              "\n",
              "                                insurance  median_school  num_schools  \\\n",
              "property_type                                                           \n",
              "Apartment / Condo / Townhouse  105.652553       6.382316     2.831880   \n",
              "Single-Family                  166.329630       6.592593     2.764815   \n",
              "\n",
              "                                   tx_year  \n",
              "property_type                               \n",
              "Apartment / Condo / Townhouse  2007.941469  \n",
              "Single-Family                  2006.494444  \n",
              "\n",
              "[2 rows x 23 columns]"
            ],
            "text/html": [
              "\n",
              "  <div id=\"df-28ea0b81-cce6-4280-8ba6-8a833c462dbe\">\n",
              "    <div class=\"colab-df-container\">\n",
              "      <div>\n",
              "<style scoped>\n",
              "    .dataframe tbody tr th:only-of-type {\n",
              "        vertical-align: middle;\n",
              "    }\n",
              "\n",
              "    .dataframe tbody tr th {\n",
              "        vertical-align: top;\n",
              "    }\n",
              "\n",
              "    .dataframe thead th {\n",
              "        text-align: right;\n",
              "    }\n",
              "</style>\n",
              "<table border=\"1\" class=\"dataframe\">\n",
              "  <thead>\n",
              "    <tr style=\"text-align: right;\">\n",
              "      <th></th>\n",
              "      <th>tx_price</th>\n",
              "      <th>beds</th>\n",
              "      <th>baths</th>\n",
              "      <th>sqft</th>\n",
              "      <th>year_built</th>\n",
              "      <th>lot_size</th>\n",
              "      <th>basement</th>\n",
              "      <th>restaurants</th>\n",
              "      <th>groceries</th>\n",
              "      <th>nightlife</th>\n",
              "      <th>...</th>\n",
              "      <th>beauty_spas</th>\n",
              "      <th>active_life</th>\n",
              "      <th>median_age</th>\n",
              "      <th>married</th>\n",
              "      <th>college_grad</th>\n",
              "      <th>property_tax</th>\n",
              "      <th>insurance</th>\n",
              "      <th>median_school</th>\n",
              "      <th>num_schools</th>\n",
              "      <th>tx_year</th>\n",
              "    </tr>\n",
              "    <tr>\n",
              "      <th>property_type</th>\n",
              "      <th></th>\n",
              "      <th></th>\n",
              "      <th></th>\n",
              "      <th></th>\n",
              "      <th></th>\n",
              "      <th></th>\n",
              "      <th></th>\n",
              "      <th></th>\n",
              "      <th></th>\n",
              "      <th></th>\n",
              "      <th></th>\n",
              "      <th></th>\n",
              "      <th></th>\n",
              "      <th></th>\n",
              "      <th></th>\n",
              "      <th></th>\n",
              "      <th></th>\n",
              "      <th></th>\n",
              "      <th></th>\n",
              "      <th></th>\n",
              "      <th></th>\n",
              "    </tr>\n",
              "  </thead>\n",
              "  <tbody>\n",
              "    <tr>\n",
              "      <th>Apartment / Condo / Townhouse</th>\n",
              "      <td>366614.034869</td>\n",
              "      <td>2.601494</td>\n",
              "      <td>2.200498</td>\n",
              "      <td>1513.727273</td>\n",
              "      <td>1988.936488</td>\n",
              "      <td>3944.239103</td>\n",
              "      <td>1.0</td>\n",
              "      <td>58.418431</td>\n",
              "      <td>5.919054</td>\n",
              "      <td>7.855542</td>\n",
              "      <td>...</td>\n",
              "      <td>32.087173</td>\n",
              "      <td>22.410959</td>\n",
              "      <td>37.199253</td>\n",
              "      <td>57.534247</td>\n",
              "      <td>66.372354</td>\n",
              "      <td>346.261519</td>\n",
              "      <td>105.652553</td>\n",
              "      <td>6.382316</td>\n",
              "      <td>2.831880</td>\n",
              "      <td>2007.941469</td>\n",
              "    </tr>\n",
              "    <tr>\n",
              "      <th>Single-Family</th>\n",
              "      <td>464644.711111</td>\n",
              "      <td>4.029630</td>\n",
              "      <td>2.862037</td>\n",
              "      <td>2935.865741</td>\n",
              "      <td>1978.523148</td>\n",
              "      <td>20417.666667</td>\n",
              "      <td>1.0</td>\n",
              "      <td>26.672222</td>\n",
              "      <td>3.453704</td>\n",
              "      <td>3.007407</td>\n",
              "      <td>...</td>\n",
              "      <td>16.970370</td>\n",
              "      <td>10.946296</td>\n",
              "      <td>39.643519</td>\n",
              "      <td>77.685185</td>\n",
              "      <td>64.128704</td>\n",
              "      <td>556.383333</td>\n",
              "      <td>166.329630</td>\n",
              "      <td>6.592593</td>\n",
              "      <td>2.764815</td>\n",
              "      <td>2006.494444</td>\n",
              "    </tr>\n",
              "  </tbody>\n",
              "</table>\n",
              "<p>2 rows × 23 columns</p>\n",
              "</div>\n",
              "      <button class=\"colab-df-convert\" onclick=\"convertToInteractive('df-28ea0b81-cce6-4280-8ba6-8a833c462dbe')\"\n",
              "              title=\"Convert this dataframe to an interactive table.\"\n",
              "              style=\"display:none;\">\n",
              "        \n",
              "  <svg xmlns=\"http://www.w3.org/2000/svg\" height=\"24px\"viewBox=\"0 0 24 24\"\n",
              "       width=\"24px\">\n",
              "    <path d=\"M0 0h24v24H0V0z\" fill=\"none\"/>\n",
              "    <path d=\"M18.56 5.44l.94 2.06.94-2.06 2.06-.94-2.06-.94-.94-2.06-.94 2.06-2.06.94zm-11 1L8.5 8.5l.94-2.06 2.06-.94-2.06-.94L8.5 2.5l-.94 2.06-2.06.94zm10 10l.94 2.06.94-2.06 2.06-.94-2.06-.94-.94-2.06-.94 2.06-2.06.94z\"/><path d=\"M17.41 7.96l-1.37-1.37c-.4-.4-.92-.59-1.43-.59-.52 0-1.04.2-1.43.59L10.3 9.45l-7.72 7.72c-.78.78-.78 2.05 0 2.83L4 21.41c.39.39.9.59 1.41.59.51 0 1.02-.2 1.41-.59l7.78-7.78 2.81-2.81c.8-.78.8-2.07 0-2.86zM5.41 20L4 18.59l7.72-7.72 1.47 1.35L5.41 20z\"/>\n",
              "  </svg>\n",
              "      </button>\n",
              "      \n",
              "  <style>\n",
              "    .colab-df-container {\n",
              "      display:flex;\n",
              "      flex-wrap:wrap;\n",
              "      gap: 12px;\n",
              "    }\n",
              "\n",
              "    .colab-df-convert {\n",
              "      background-color: #E8F0FE;\n",
              "      border: none;\n",
              "      border-radius: 50%;\n",
              "      cursor: pointer;\n",
              "      display: none;\n",
              "      fill: #1967D2;\n",
              "      height: 32px;\n",
              "      padding: 0 0 0 0;\n",
              "      width: 32px;\n",
              "    }\n",
              "\n",
              "    .colab-df-convert:hover {\n",
              "      background-color: #E2EBFA;\n",
              "      box-shadow: 0px 1px 2px rgba(60, 64, 67, 0.3), 0px 1px 3px 1px rgba(60, 64, 67, 0.15);\n",
              "      fill: #174EA6;\n",
              "    }\n",
              "\n",
              "    [theme=dark] .colab-df-convert {\n",
              "      background-color: #3B4455;\n",
              "      fill: #D2E3FC;\n",
              "    }\n",
              "\n",
              "    [theme=dark] .colab-df-convert:hover {\n",
              "      background-color: #434B5C;\n",
              "      box-shadow: 0px 1px 3px 1px rgba(0, 0, 0, 0.15);\n",
              "      filter: drop-shadow(0px 1px 2px rgba(0, 0, 0, 0.3));\n",
              "      fill: #FFFFFF;\n",
              "    }\n",
              "  </style>\n",
              "\n",
              "      <script>\n",
              "        const buttonEl =\n",
              "          document.querySelector('#df-28ea0b81-cce6-4280-8ba6-8a833c462dbe button.colab-df-convert');\n",
              "        buttonEl.style.display =\n",
              "          google.colab.kernel.accessAllowed ? 'block' : 'none';\n",
              "\n",
              "        async function convertToInteractive(key) {\n",
              "          const element = document.querySelector('#df-28ea0b81-cce6-4280-8ba6-8a833c462dbe');\n",
              "          const dataTable =\n",
              "            await google.colab.kernel.invokeFunction('convertToInteractive',\n",
              "                                                     [key], {});\n",
              "          if (!dataTable) return;\n",
              "\n",
              "          const docLinkHtml = 'Like what you see? Visit the ' +\n",
              "            '<a target=\"_blank\" href=https://colab.research.google.com/notebooks/data_table.ipynb>data table notebook</a>'\n",
              "            + ' to learn more about interactive tables.';\n",
              "          element.innerHTML = '';\n",
              "          dataTable['output_type'] = 'display_data';\n",
              "          await google.colab.output.renderOutput(dataTable, element);\n",
              "          const docLink = document.createElement('div');\n",
              "          docLink.innerHTML = docLinkHtml;\n",
              "          element.appendChild(docLink);\n",
              "        }\n",
              "      </script>\n",
              "    </div>\n",
              "  </div>\n",
              "  "
            ]
          },
          "metadata": {},
          "execution_count": 16
        }
      ],
      "source": [
        "df.groupby('property_type').mean()"
      ]
    },
    {
      "cell_type": "markdown",
      "metadata": {
        "id": "PAtfNuDUrk7C"
      },
      "source": [
        "** Observations **:\n",
        "* Property having single-family is larger in sqft area.It also has more bedrooms than other property-type.\n",
        "* Apartment/townhouse has larger lots than the property having single-family.\n",
        "* Apartmenr/condo/Townhouse type of property is in areas with more restaurants,nightlife options,more grocery stores,shopping stores,active_life(gym,sports,yoga studios)\n",
        "* Property_type such as apartments,Condo,Townhouse is more crowded and so have more fascilities but smaller in sqft area so have lesser price whereas property-type having single-family are generally large in size and has lesser fascilities as less crowded. "
      ]
    },
    {
      "cell_type": "markdown",
      "metadata": {
        "id": "5C2xk70hrk7D"
      },
      "source": [
        "Segment 'sqft' by 'property_type' and plot the boxplots."
      ]
    },
    {
      "cell_type": "code",
      "execution_count": null,
      "metadata": {
        "colab": {
          "base_uri": "https://localhost:8080/",
          "height": 297
        },
        "id": "gxROpgo_rk7D",
        "outputId": "40034af6-7ba2-48a7-bcc4-0b08b1397833"
      },
      "outputs": [
        {
          "output_type": "execute_result",
          "data": {
            "text/plain": [
              "<AxesSubplot:xlabel='sqft', ylabel='property_type'>"
            ]
          },
          "metadata": {},
          "execution_count": 17
        },
        {
          "output_type": "display_data",
          "data": {
            "text/plain": [
              "<Figure size 432x288 with 1 Axes>"
            ],
            "image/png": "[encoded data removed]"
          },
          "metadata": {
            "needs_background": "light"
          }
        }
      ],
      "source": [
        "sns.boxplot(y='property_type', x='sqft', data=df)"
      ]
    },
    {
      "cell_type": "markdown",
      "metadata": {
        "id": "Uu8yVyrKrk7E"
      },
      "source": [
        "After producing the plot, consider these questions:\n",
        "* property-type single family is larger, on average.\n",
        "* Property-type single family has greater variance in sizes.\n",
        "* Sqft area of Apartment type property lies between 1000 to 2000 and have no much variation.It always has area lesser than single-family houses"
      ]
    },
    {
      "cell_type": "markdown",
      "metadata": {
        "id": "qi8QKVa9rk7E"
      },
      "source": [
        "Segment by property_type and display the means and standard deviations within each class"
      ]
    },
    {
      "cell_type": "markdown",
      "metadata": {
        "id": "QDWc2HhMrk7F"
      },
      "source": [
        "## Correlations\n",
        "* Finally, let's take a look at the relationships between numeric features and other numeric features.\n",
        "* ***Correlation*** is a value between -1 and 1 that represents how closely values for two separate features move in unison.\n",
        "* Positive correlation means that as one feature increases, the other increases; eg. a child's age and her height.\n",
        "* Negative correlation means that as one feature increases, the other decreases; eg. hours spent studying and number of parties attended.\n",
        "* Correlations near -1 or 1 indicate a strong relationship.\n",
        "* Those closer to 0 indicate a weak relationship.\n",
        "* 0 indicates no relationship."
      ]
    },
    {
      "cell_type": "code",
      "execution_count": null,
      "metadata": {
        "colab": {
          "base_uri": "https://localhost:8080/",
          "height": 864
        },
        "id": "daJXRTddrk7G",
        "outputId": "b73c4745-675b-4c49-a3f1-21c8c82e7fed"
      },
      "outputs": [
        {
          "output_type": "execute_result",
          "data": {
            "text/plain": [
              "                    tx_price      beds     baths      sqft  year_built  \\\n",
              "tx_price            1.000000  0.384046  0.389375  0.469573    0.033138   \n",
              "beds                0.384046  1.000000  0.644572  0.691039   -0.011844   \n",
              "baths               0.389375  0.644572  1.000000  0.682060    0.206141   \n",
              "sqft                0.469573  0.691039  0.682060  1.000000    0.254589   \n",
              "year_built          0.033138 -0.011844  0.206141  0.254589    1.000000   \n",
              "lot_size            0.130558  0.164399  0.132976  0.246016    0.000068   \n",
              "basement                 NaN       NaN       NaN       NaN         NaN   \n",
              "restaurants        -0.038027 -0.495834 -0.350210 -0.353759   -0.106948   \n",
              "groceries          -0.094314 -0.421412 -0.340024 -0.371167   -0.222443   \n",
              "nightlife           0.009361 -0.440844 -0.306686 -0.281540   -0.080006   \n",
              "cafes              -0.001398 -0.464289 -0.316836 -0.300969   -0.102209   \n",
              "shopping           -0.038246 -0.388670 -0.259603 -0.275586   -0.121684   \n",
              "arts_entertainment -0.021076 -0.442168 -0.305885 -0.293402   -0.195141   \n",
              "beauty_spas        -0.054349 -0.419832 -0.282008 -0.310465   -0.163670   \n",
              "active_life        -0.001165 -0.486957 -0.329736 -0.332663   -0.134919   \n",
              "median_age          0.126335  0.133711  0.095844  0.109811   -0.237152   \n",
              "married             0.200494  0.643240  0.442225  0.480167    0.038208   \n",
              "college_grad        0.268577 -0.082354  0.016097  0.065343   -0.014204   \n",
              "property_tax        0.535148  0.547643  0.525776  0.660264   -0.046504   \n",
              "insurance           0.532947  0.485776  0.475430  0.594049   -0.109521   \n",
              "median_school       0.175762  0.137309  0.163365  0.220669    0.155835   \n",
              "num_schools        -0.014380 -0.124359 -0.088299 -0.102032   -0.188106   \n",
              "tx_year             0.108782 -0.174081 -0.132110 -0.236190   -0.043301   \n",
              "\n",
              "                    lot_size  basement  restaurants  groceries  nightlife  \\\n",
              "tx_price            0.130558       NaN    -0.038027  -0.094314   0.009361   \n",
              "beds                0.164399       NaN    -0.495834  -0.421412  -0.440844   \n",
              "baths               0.132976       NaN    -0.350210  -0.340024  -0.306686   \n",
              "sqft                0.246016       NaN    -0.353759  -0.371167  -0.281540   \n",
              "year_built          0.000068       NaN    -0.106948  -0.222443  -0.080006   \n",
              "lot_size            1.000000       NaN    -0.113887  -0.118574  -0.072224   \n",
              "basement                 NaN       NaN          NaN        NaN        NaN   \n",
              "restaurants        -0.113887       NaN     1.000000   0.701462   0.926675   \n",
              "groceries          -0.118574       NaN     0.701462   1.000000   0.565003   \n",
              "nightlife          -0.072224       NaN     0.926675   0.565003   1.000000   \n",
              "cafes              -0.098182       NaN     0.937616   0.602857   0.923901   \n",
              "shopping           -0.116560       NaN     0.818815   0.526356   0.743321   \n",
              "arts_entertainment -0.067189       NaN     0.726907   0.502837   0.703038   \n",
              "beauty_spas        -0.121075       NaN     0.867829   0.626850   0.777461   \n",
              "active_life        -0.092668       NaN     0.881799   0.574532   0.858836   \n",
              "median_age          0.099140       NaN    -0.063816  -0.022377  -0.028611   \n",
              "married             0.122028       NaN    -0.615584  -0.508793  -0.568811   \n",
              "college_grad       -0.030725       NaN     0.214260  -0.006025   0.253717   \n",
              "property_tax        0.165800       NaN    -0.100821  -0.159506  -0.054386   \n",
              "insurance           0.146579       NaN    -0.019925  -0.093974   0.024551   \n",
              "median_school       0.096551       NaN    -0.068425  -0.354553  -0.036948   \n",
              "num_schools        -0.031535       NaN     0.251171   0.272856   0.196399   \n",
              "tx_year            -0.048207       NaN     0.044739   0.115674   0.027495   \n",
              "\n",
              "                    ...  beauty_spas  active_life  median_age   married  \\\n",
              "tx_price            ...    -0.054349    -0.001165    0.126335  0.200494   \n",
              "beds                ...    -0.419832    -0.486957    0.133711  0.643240   \n",
              "baths               ...    -0.282008    -0.329736    0.095844  0.442225   \n",
              "sqft                ...    -0.310465    -0.332663    0.109811  0.480167   \n",
              "year_built          ...    -0.163670    -0.134919   -0.237152  0.038208   \n",
              "lot_size            ...    -0.121075    -0.092668    0.099140  0.122028   \n",
              "basement            ...          NaN          NaN         NaN       NaN   \n",
              "restaurants         ...     0.867829     0.881799   -0.063816 -0.615584   \n",
              "groceries           ...     0.626850     0.574532   -0.022377 -0.508793   \n",
              "nightlife           ...     0.777461     0.858836   -0.028611 -0.568811   \n",
              "cafes               ...     0.822541     0.826648    0.026400 -0.581850   \n",
              "shopping            ...     0.860987     0.678515    0.032339 -0.454072   \n",
              "arts_entertainment  ...     0.757860     0.800994   -0.014640 -0.554533   \n",
              "beauty_spas         ...     1.000000     0.785920   -0.002961 -0.510331   \n",
              "active_life         ...     0.785920     1.000000   -0.081159 -0.632052   \n",
              "median_age          ...    -0.002961    -0.081159    1.000000  0.045555   \n",
              "married             ...    -0.510331    -0.632052    0.045555  1.000000   \n",
              "college_grad        ...     0.177066     0.323985    0.169749 -0.143461   \n",
              "property_tax        ...    -0.057293    -0.057646    0.215435  0.305330   \n",
              "insurance           ...     0.010980     0.030911    0.232503  0.233701   \n",
              "median_school       ...    -0.098727     0.007675   -0.002861  0.169439   \n",
              "num_schools         ...     0.262651     0.235246    0.071455 -0.212870   \n",
              "tx_year             ...     0.008066     0.028759   -0.118490 -0.134787   \n",
              "\n",
              "                    college_grad  property_tax  insurance  median_school  \\\n",
              "tx_price                0.268577      0.535148   0.532947       0.175762   \n",
              "beds                   -0.082354      0.547643   0.485776       0.137309   \n",
              "baths                   0.016097      0.525776   0.475430       0.163365   \n",
              "sqft                    0.065343      0.660264   0.594049       0.220669   \n",
              "year_built             -0.014204     -0.046504  -0.109521       0.155835   \n",
              "lot_size               -0.030725      0.165800   0.146579       0.096551   \n",
              "basement                     NaN           NaN        NaN            NaN   \n",
              "restaurants             0.214260     -0.100821  -0.019925      -0.068425   \n",
              "groceries              -0.006025     -0.159506  -0.093974      -0.354553   \n",
              "nightlife               0.253717     -0.054386   0.024551      -0.036948   \n",
              "cafes                   0.266652     -0.044410   0.036502      -0.027868   \n",
              "shopping                0.177383     -0.040556   0.018846      -0.048058   \n",
              "arts_entertainment      0.239129     -0.066346   0.015380      -0.138266   \n",
              "beauty_spas             0.177066     -0.057293   0.010980      -0.098727   \n",
              "active_life             0.323985     -0.057646   0.030911       0.007675   \n",
              "median_age              0.169749      0.215435   0.232503      -0.002861   \n",
              "married                -0.143461      0.305330   0.233701       0.169439   \n",
              "college_grad            1.000000      0.287933   0.326057       0.400306   \n",
              "property_tax            0.287933      1.000000   0.984724       0.237455   \n",
              "insurance               0.326057      0.984724   1.000000       0.234889   \n",
              "median_school           0.400306      0.237455   0.234889       1.000000   \n",
              "num_schools             0.049756      0.037342   0.056985      -0.145572   \n",
              "tx_year                -0.189932     -0.257703  -0.254706      -0.167141   \n",
              "\n",
              "                    num_schools   tx_year  \n",
              "tx_price              -0.014380  0.108782  \n",
              "beds                  -0.124359 -0.174081  \n",
              "baths                 -0.088299 -0.132110  \n",
              "sqft                  -0.102032 -0.236190  \n",
              "year_built            -0.188106 -0.043301  \n",
              "lot_size              -0.031535 -0.048207  \n",
              "basement                    NaN       NaN  \n",
              "restaurants            0.251171  0.044739  \n",
              "groceries              0.272856  0.115674  \n",
              "nightlife              0.196399  0.027495  \n",
              "cafes                  0.224312  0.013558  \n",
              "shopping               0.228988 -0.000324  \n",
              "arts_entertainment     0.214163  0.034356  \n",
              "beauty_spas            0.262651  0.008066  \n",
              "active_life            0.235246  0.028759  \n",
              "median_age             0.071455 -0.118490  \n",
              "married               -0.212870 -0.134787  \n",
              "college_grad           0.049756 -0.189932  \n",
              "property_tax           0.037342 -0.257703  \n",
              "insurance              0.056985 -0.254706  \n",
              "median_school         -0.145572 -0.167141  \n",
              "num_schools            1.000000  0.007361  \n",
              "tx_year                0.007361  1.000000  \n",
              "\n",
              "[23 rows x 23 columns]"
            ],
            "text/html": [
              "\n",
              "  <div id=\"df-677b6a49-b223-4d8a-bf97-d58cd88ea330\">\n",
              "    <div class=\"colab-df-container\">\n",
              "      <div>\n",
              "<style scoped>\n",
              "    .dataframe tbody tr th:only-of-type {\n",
              "        vertical-align: middle;\n",
              "    }\n",
              "\n",
              "    .dataframe tbody tr th {\n",
              "        vertical-align: top;\n",
              "    }\n",
              "\n",
              "    .dataframe thead th {\n",
              "        text-align: right;\n",
              "    }\n",
              "</style>\n",
              "<table border=\"1\" class=\"dataframe\">\n",
              "  <thead>\n",
              "    <tr style=\"text-align: right;\">\n",
              "      <th></th>\n",
              "      <th>tx_price</th>\n",
              "      <th>beds</th>\n",
              "      <th>baths</th>\n",
              "      <th>sqft</th>\n",
              "      <th>year_built</th>\n",
              "      <th>lot_size</th>\n",
              "      <th>basement</th>\n",
              "      <th>restaurants</th>\n",
              "      <th>groceries</th>\n",
              "      <th>nightlife</th>\n",
              "      <th>...</th>\n",
              "      <th>beauty_spas</th>\n",
              "      <th>active_life</th>\n",
              "      <th>median_age</th>\n",
              "      <th>married</th>\n",
              "      <th>college_grad</th>\n",
              "      <th>property_tax</th>\n",
              "      <th>insurance</th>\n",
              "      <th>median_school</th>\n",
              "      <th>num_schools</th>\n",
              "      <th>tx_year</th>\n",
              "    </tr>\n",
              "  </thead>\n",
              "  <tbody>\n",
              "    <tr>\n",
              "      <th>tx_price</th>\n",
              "      <td>1.000000</td>\n",
              "      <td>0.384046</td>\n",
              "      <td>0.389375</td>\n",
              "      <td>0.469573</td>\n",
              "      <td>0.033138</td>\n",
              "      <td>0.130558</td>\n",
              "      <td>NaN</td>\n",
              "      <td>-0.038027</td>\n",
              "      <td>-0.094314</td>\n",
              "      <td>0.009361</td>\n",
              "      <td>...</td>\n",
              "      <td>-0.054349</td>\n",
              "      <td>-0.001165</td>\n",
              "      <td>0.126335</td>\n",
              "      <td>0.200494</td>\n",
              "      <td>0.268577</td>\n",
              "      <td>0.535148</td>\n",
              "      <td>0.532947</td>\n",
              "      <td>0.175762</td>\n",
              "      <td>-0.014380</td>\n",
              "      <td>0.108782</td>\n",
              "    </tr>\n",
              "    <tr>\n",
              "      <th>beds</th>\n",
              "      <td>0.384046</td>\n",
              "      <td>1.000000</td>\n",
              "      <td>0.644572</td>\n",
              "      <td>0.691039</td>\n",
              "      <td>-0.011844</td>\n",
              "      <td>0.164399</td>\n",
              "      <td>NaN</td>\n",
              "      <td>-0.495834</td>\n",
              "      <td>-0.421412</td>\n",
              "      <td>-0.440844</td>\n",
              "      <td>...</td>\n",
              "      <td>-0.419832</td>\n",
              "      <td>-0.486957</td>\n",
              "      <td>0.133711</td>\n",
              "      <td>0.643240</td>\n",
              "      <td>-0.082354</td>\n",
              "      <td>0.547643</td>\n",
              "      <td>0.485776</td>\n",
              "      <td>0.137309</td>\n",
              "      <td>-0.124359</td>\n",
              "      <td>-0.174081</td>\n",
              "    </tr>\n",
              "    <tr>\n",
              "      <th>baths</th>\n",
              "      <td>0.389375</td>\n",
              "      <td>0.644572</td>\n",
              "      <td>1.000000</td>\n",
              "      <td>0.682060</td>\n",
              "      <td>0.206141</td>\n",
              "      <td>0.132976</td>\n",
              "      <td>NaN</td>\n",
              "      <td>-0.350210</td>\n",
              "      <td>-0.340024</td>\n",
              "      <td>-0.306686</td>\n",
              "      <td>...</td>\n",
              "      <td>-0.282008</td>\n",
              "      <td>-0.329736</td>\n",
              "      <td>0.095844</td>\n",
              "      <td>0.442225</td>\n",
              "      <td>0.016097</td>\n",
              "      <td>0.525776</td>\n",
              "      <td>0.475430</td>\n",
              "      <td>0.163365</td>\n",
              "      <td>-0.088299</td>\n",
              "      <td>-0.132110</td>\n",
              "    </tr>\n",
              "    <tr>\n",
              "      <th>sqft</th>\n",
              "      <td>0.469573</td>\n",
              "      <td>0.691039</td>\n",
              "      <td>0.682060</td>\n",
              "      <td>1.000000</td>\n",
              "      <td>0.254589</td>\n",
              "      <td>0.246016</td>\n",
              "      <td>NaN</td>\n",
              "      <td>-0.353759</td>\n",
              "      <td>-0.371167</td>\n",
              "      <td>-0.281540</td>\n",
              "      <td>...</td>\n",
              "      <td>-0.310465</td>\n",
              "      <td>-0.332663</td>\n",
              "      <td>0.109811</td>\n",
              "      <td>0.480167</td>\n",
              "      <td>0.065343</td>\n",
              "      <td>0.660264</td>\n",
              "      <td>0.594049</td>\n",
              "      <td>0.220669</td>\n",
              "      <td>-0.102032</td>\n",
              "      <td>-0.236190</td>\n",
              "    </tr>\n",
              "    <tr>\n",
              "      <th>year_built</th>\n",
              "      <td>0.033138</td>\n",
              "      <td>-0.011844</td>\n",
              "      <td>0.206141</td>\n",
              "      <td>0.254589</td>\n",
              "      <td>1.000000</td>\n",
              "      <td>0.000068</td>\n",
              "      <td>NaN</td>\n",
              "      <td>-0.106948</td>\n",
              "      <td>-0.222443</td>\n",
              "      <td>-0.080006</td>\n",
              "      <td>...</td>\n",
              "      <td>-0.163670</td>\n",
              "      <td>-0.134919</td>\n",
              "      <td>-0.237152</td>\n",
              "      <td>0.038208</td>\n",
              "      <td>-0.014204</td>\n",
              "      <td>-0.046504</td>\n",
              "      <td>-0.109521</td>\n",
              "      <td>0.155835</td>\n",
              "      <td>-0.188106</td>\n",
              "      <td>-0.043301</td>\n",
              "    </tr>\n",
              "    <tr>\n",
              "      <th>lot_size</th>\n",
              "      <td>0.130558</td>\n",
              "      <td>0.164399</td>\n",
              "      <td>0.132976</td>\n",
              "      <td>0.246016</td>\n",
              "      <td>0.000068</td>\n",
              "      <td>1.000000</td>\n",
              "      <td>NaN</td>\n",
              "      <td>-0.113887</td>\n",
              "      <td>-0.118574</td>\n",
              "      <td>-0.072224</td>\n",
              "      <td>...</td>\n",
              "      <td>-0.121075</td>\n",
              "      <td>-0.092668</td>\n",
              "      <td>0.099140</td>\n",
              "      <td>0.122028</td>\n",
              "      <td>-0.030725</td>\n",
              "      <td>0.165800</td>\n",
              "      <td>0.146579</td>\n",
              "      <td>0.096551</td>\n",
              "      <td>-0.031535</td>\n",
              "      <td>-0.048207</td>\n",
              "    </tr>\n",
              "    <tr>\n",
              "      <th>basement</th>\n",
              "      <td>NaN</td>\n",
              "      <td>NaN</td>\n",
              "      <td>NaN</td>\n",
              "      <td>NaN</td>\n",
              "      <td>NaN</td>\n",
              "      <td>NaN</td>\n",
              "      <td>NaN</td>\n",
              "      <td>NaN</td>\n",
              "      <td>NaN</td>\n",
              "      <td>NaN</td>\n",
              "      <td>...</td>\n",
              "      <td>NaN</td>\n",
              "      <td>NaN</td>\n",
              "      <td>NaN</td>\n",
              "      <td>NaN</td>\n",
              "      <td>NaN</td>\n",
              "      <td>NaN</td>\n",
              "      <td>NaN</td>\n",
              "      <td>NaN</td>\n",
              "      <td>NaN</td>\n",
              "      <td>NaN</td>\n",
              "    </tr>\n",
              "    <tr>\n",
              "      <th>restaurants</th>\n",
              "      <td>-0.038027</td>\n",
              "      <td>-0.495834</td>\n",
              "      <td>-0.350210</td>\n",
              "      <td>-0.353759</td>\n",
              "      <td>-0.106948</td>\n",
              "      <td>-0.113887</td>\n",
              "      <td>NaN</td>\n",
              "      <td>1.000000</td>\n",
              "      <td>0.701462</td>\n",
              "      <td>0.926675</td>\n",
              "      <td>...</td>\n",
              "      <td>0.867829</td>\n",
              "      <td>0.881799</td>\n",
              "      <td>-0.063816</td>\n",
              "      <td>-0.615584</td>\n",
              "      <td>0.214260</td>\n",
              "      <td>-0.100821</td>\n",
              "      <td>-0.019925</td>\n",
              "      <td>-0.068425</td>\n",
              "      <td>0.251171</td>\n",
              "      <td>0.044739</td>\n",
              "    </tr>\n",
              "    <tr>\n",
              "      <th>groceries</th>\n",
              "      <td>-0.094314</td>\n",
              "      <td>-0.421412</td>\n",
              "      <td>-0.340024</td>\n",
              "      <td>-0.371167</td>\n",
              "      <td>-0.222443</td>\n",
              "      <td>-0.118574</td>\n",
              "      <td>NaN</td>\n",
              "      <td>0.701462</td>\n",
              "      <td>1.000000</td>\n",
              "      <td>0.565003</td>\n",
              "      <td>...</td>\n",
              "      <td>0.626850</td>\n",
              "      <td>0.574532</td>\n",
              "      <td>-0.022377</td>\n",
              "      <td>-0.508793</td>\n",
              "      <td>-0.006025</td>\n",
              "      <td>-0.159506</td>\n",
              "      <td>-0.093974</td>\n",
              "      <td>-0.354553</td>\n",
              "      <td>0.272856</td>\n",
              "      <td>0.115674</td>\n",
              "    </tr>\n",
              "    <tr>\n",
              "      <th>nightlife</th>\n",
              "      <td>0.009361</td>\n",
              "      <td>-0.440844</td>\n",
              "      <td>-0.306686</td>\n",
              "      <td>-0.281540</td>\n",
              "      <td>-0.080006</td>\n",
              "      <td>-0.072224</td>\n",
              "      <td>NaN</td>\n",
              "      <td>0.926675</td>\n",
              "      <td>0.565003</td>\n",
              "      <td>1.000000</td>\n",
              "      <td>...</td>\n",
              "      <td>0.777461</td>\n",
              "      <td>0.858836</td>\n",
              "      <td>-0.028611</td>\n",
              "      <td>-0.568811</td>\n",
              "      <td>0.253717</td>\n",
              "      <td>-0.054386</td>\n",
              "      <td>0.024551</td>\n",
              "      <td>-0.036948</td>\n",
              "      <td>0.196399</td>\n",
              "      <td>0.027495</td>\n",
              "    </tr>\n",
              "    <tr>\n",
              "      <th>cafes</th>\n",
              "      <td>-0.001398</td>\n",
              "      <td>-0.464289</td>\n",
              "      <td>-0.316836</td>\n",
              "      <td>-0.300969</td>\n",
              "      <td>-0.102209</td>\n",
              "      <td>-0.098182</td>\n",
              "      <td>NaN</td>\n",
              "      <td>0.937616</td>\n",
              "      <td>0.602857</td>\n",
              "      <td>0.923901</td>\n",
              "      <td>...</td>\n",
              "      <td>0.822541</td>\n",
              "      <td>0.826648</td>\n",
              "      <td>0.026400</td>\n",
              "      <td>-0.581850</td>\n",
              "      <td>0.266652</td>\n",
              "      <td>-0.044410</td>\n",
              "      <td>0.036502</td>\n",
              "      <td>-0.027868</td>\n",
              "      <td>0.224312</td>\n",
              "      <td>0.013558</td>\n",
              "    </tr>\n",
              "    <tr>\n",
              "      <th>shopping</th>\n",
              "      <td>-0.038246</td>\n",
              "      <td>-0.388670</td>\n",
              "      <td>-0.259603</td>\n",
              "      <td>-0.275586</td>\n",
              "      <td>-0.121684</td>\n",
              "      <td>-0.116560</td>\n",
              "      <td>NaN</td>\n",
              "      <td>0.818815</td>\n",
              "      <td>0.526356</td>\n",
              "      <td>0.743321</td>\n",
              "      <td>...</td>\n",
              "      <td>0.860987</td>\n",
              "      <td>0.678515</td>\n",
              "      <td>0.032339</td>\n",
              "      <td>-0.454072</td>\n",
              "      <td>0.177383</td>\n",
              "      <td>-0.040556</td>\n",
              "      <td>0.018846</td>\n",
              "      <td>-0.048058</td>\n",
              "      <td>0.228988</td>\n",
              "      <td>-0.000324</td>\n",
              "    </tr>\n",
              "    <tr>\n",
              "      <th>arts_entertainment</th>\n",
              "      <td>-0.021076</td>\n",
              "      <td>-0.442168</td>\n",
              "      <td>-0.305885</td>\n",
              "      <td>-0.293402</td>\n",
              "      <td>-0.195141</td>\n",
              "      <td>-0.067189</td>\n",
              "      <td>NaN</td>\n",
              "      <td>0.726907</td>\n",
              "      <td>0.502837</td>\n",
              "      <td>0.703038</td>\n",
              "      <td>...</td>\n",
              "      <td>0.757860</td>\n",
              "      <td>0.800994</td>\n",
              "      <td>-0.014640</td>\n",
              "      <td>-0.554533</td>\n",
              "      <td>0.239129</td>\n",
              "      <td>-0.066346</td>\n",
              "      <td>0.015380</td>\n",
              "      <td>-0.138266</td>\n",
              "      <td>0.214163</td>\n",
              "      <td>0.034356</td>\n",
              "    </tr>\n",
              "    <tr>\n",
              "      <th>beauty_spas</th>\n",
              "      <td>-0.054349</td>\n",
              "      <td>-0.419832</td>\n",
              "      <td>-0.282008</td>\n",
              "      <td>-0.310465</td>\n",
              "      <td>-0.163670</td>\n",
              "      <td>-0.121075</td>\n",
              "      <td>NaN</td>\n",
              "      <td>0.867829</td>\n",
              "      <td>0.626850</td>\n",
              "      <td>0.777461</td>\n",
              "      <td>...</td>\n",
              "      <td>1.000000</td>\n",
              "      <td>0.785920</td>\n",
              "      <td>-0.002961</td>\n",
              "      <td>-0.510331</td>\n",
              "      <td>0.177066</td>\n",
              "      <td>-0.057293</td>\n",
              "      <td>0.010980</td>\n",
              "      <td>-0.098727</td>\n",
              "      <td>0.262651</td>\n",
              "      <td>0.008066</td>\n",
              "    </tr>\n",
              "    <tr>\n",
              "      <th>active_life</th>\n",
              "      <td>-0.001165</td>\n",
              "      <td>-0.486957</td>\n",
              "      <td>-0.329736</td>\n",
              "      <td>-0.332663</td>\n",
              "      <td>-0.134919</td>\n",
              "      <td>-0.092668</td>\n",
              "      <td>NaN</td>\n",
              "      <td>0.881799</td>\n",
              "      <td>0.574532</td>\n",
              "      <td>0.858836</td>\n",
              "      <td>...</td>\n",
              "      <td>0.785920</td>\n",
              "      <td>1.000000</td>\n",
              "      <td>-0.081159</td>\n",
              "      <td>-0.632052</td>\n",
              "      <td>0.323985</td>\n",
              "      <td>-0.057646</td>\n",
              "      <td>0.030911</td>\n",
              "      <td>0.007675</td>\n",
              "      <td>0.235246</td>\n",
              "      <td>0.028759</td>\n",
              "    </tr>\n",
              "    <tr>\n",
              "      <th>median_age</th>\n",
              "      <td>0.126335</td>\n",
              "      <td>0.133711</td>\n",
              "      <td>0.095844</td>\n",
              "      <td>0.109811</td>\n",
              "      <td>-0.237152</td>\n",
              "      <td>0.099140</td>\n",
              "      <td>NaN</td>\n",
              "      <td>-0.063816</td>\n",
              "      <td>-0.022377</td>\n",
              "      <td>-0.028611</td>\n",
              "      <td>...</td>\n",
              "      <td>-0.002961</td>\n",
              "      <td>-0.081159</td>\n",
              "      <td>1.000000</td>\n",
              "      <td>0.045555</td>\n",
              "      <td>0.169749</td>\n",
              "      <td>0.215435</td>\n",
              "      <td>0.232503</td>\n",
              "      <td>-0.002861</td>\n",
              "      <td>0.071455</td>\n",
              "      <td>-0.118490</td>\n",
              "    </tr>\n",
              "    <tr>\n",
              "      <th>married</th>\n",
              "      <td>0.200494</td>\n",
              "      <td>0.643240</td>\n",
              "      <td>0.442225</td>\n",
              "      <td>0.480167</td>\n",
              "      <td>0.038208</td>\n",
              "      <td>0.122028</td>\n",
              "      <td>NaN</td>\n",
              "      <td>-0.615584</td>\n",
              "      <td>-0.508793</td>\n",
              "      <td>-0.568811</td>\n",
              "      <td>...</td>\n",
              "      <td>-0.510331</td>\n",
              "      <td>-0.632052</td>\n",
              "      <td>0.045555</td>\n",
              "      <td>1.000000</td>\n",
              "      <td>-0.143461</td>\n",
              "      <td>0.305330</td>\n",
              "      <td>0.233701</td>\n",
              "      <td>0.169439</td>\n",
              "      <td>-0.212870</td>\n",
              "      <td>-0.134787</td>\n",
              "    </tr>\n",
              "    <tr>\n",
              "      <th>college_grad</th>\n",
              "      <td>0.268577</td>\n",
              "      <td>-0.082354</td>\n",
              "      <td>0.016097</td>\n",
              "      <td>0.065343</td>\n",
              "      <td>-0.014204</td>\n",
              "      <td>-0.030725</td>\n",
              "      <td>NaN</td>\n",
              "      <td>0.214260</td>\n",
              "      <td>-0.006025</td>\n",
              "      <td>0.253717</td>\n",
              "      <td>...</td>\n",
              "      <td>0.177066</td>\n",
              "      <td>0.323985</td>\n",
              "      <td>0.169749</td>\n",
              "      <td>-0.143461</td>\n",
              "      <td>1.000000</td>\n",
              "      <td>0.287933</td>\n",
              "      <td>0.326057</td>\n",
              "      <td>0.400306</td>\n",
              "      <td>0.049756</td>\n",
              "      <td>-0.189932</td>\n",
              "    </tr>\n",
              "    <tr>\n",
              "      <th>property_tax</th>\n",
              "      <td>0.535148</td>\n",
              "      <td>0.547643</td>\n",
              "      <td>0.525776</td>\n",
              "      <td>0.660264</td>\n",
              "      <td>-0.046504</td>\n",
              "      <td>0.165800</td>\n",
              "      <td>NaN</td>\n",
              "      <td>-0.100821</td>\n",
              "      <td>-0.159506</td>\n",
              "      <td>-0.054386</td>\n",
              "      <td>...</td>\n",
              "      <td>-0.057293</td>\n",
              "      <td>-0.057646</td>\n",
              "      <td>0.215435</td>\n",
              "      <td>0.305330</td>\n",
              "      <td>0.287933</td>\n",
              "      <td>1.000000</td>\n",
              "      <td>0.984724</td>\n",
              "      <td>0.237455</td>\n",
              "      <td>0.037342</td>\n",
              "      <td>-0.257703</td>\n",
              "    </tr>\n",
              "    <tr>\n",
              "      <th>insurance</th>\n",
              "      <td>0.532947</td>\n",
              "      <td>0.485776</td>\n",
              "      <td>0.475430</td>\n",
              "      <td>0.594049</td>\n",
              "      <td>-0.109521</td>\n",
              "      <td>0.146579</td>\n",
              "      <td>NaN</td>\n",
              "      <td>-0.019925</td>\n",
              "      <td>-0.093974</td>\n",
              "      <td>0.024551</td>\n",
              "      <td>...</td>\n",
              "      <td>0.010980</td>\n",
              "      <td>0.030911</td>\n",
              "      <td>0.232503</td>\n",
              "      <td>0.233701</td>\n",
              "      <td>0.326057</td>\n",
              "      <td>0.984724</td>\n",
              "      <td>1.000000</td>\n",
              "      <td>0.234889</td>\n",
              "      <td>0.056985</td>\n",
              "      <td>-0.254706</td>\n",
              "    </tr>\n",
              "    <tr>\n",
              "      <th>median_school</th>\n",
              "      <td>0.175762</td>\n",
              "      <td>0.137309</td>\n",
              "      <td>0.163365</td>\n",
              "      <td>0.220669</td>\n",
              "      <td>0.155835</td>\n",
              "      <td>0.096551</td>\n",
              "      <td>NaN</td>\n",
              "      <td>-0.068425</td>\n",
              "      <td>-0.354553</td>\n",
              "      <td>-0.036948</td>\n",
              "      <td>...</td>\n",
              "      <td>-0.098727</td>\n",
              "      <td>0.007675</td>\n",
              "      <td>-0.002861</td>\n",
              "      <td>0.169439</td>\n",
              "      <td>0.400306</td>\n",
              "      <td>0.237455</td>\n",
              "      <td>0.234889</td>\n",
              "      <td>1.000000</td>\n",
              "      <td>-0.145572</td>\n",
              "      <td>-0.167141</td>\n",
              "    </tr>\n",
              "    <tr>\n",
              "      <th>num_schools</th>\n",
              "      <td>-0.014380</td>\n",
              "      <td>-0.124359</td>\n",
              "      <td>-0.088299</td>\n",
              "      <td>-0.102032</td>\n",
              "      <td>-0.188106</td>\n",
              "      <td>-0.031535</td>\n",
              "      <td>NaN</td>\n",
              "      <td>0.251171</td>\n",
              "      <td>0.272856</td>\n",
              "      <td>0.196399</td>\n",
              "      <td>...</td>\n",
              "      <td>0.262651</td>\n",
              "      <td>0.235246</td>\n",
              "      <td>0.071455</td>\n",
              "      <td>-0.212870</td>\n",
              "      <td>0.049756</td>\n",
              "      <td>0.037342</td>\n",
              "      <td>0.056985</td>\n",
              "      <td>-0.145572</td>\n",
              "      <td>1.000000</td>\n",
              "      <td>0.007361</td>\n",
              "    </tr>\n",
              "    <tr>\n",
              "      <th>tx_year</th>\n",
              "      <td>0.108782</td>\n",
              "      <td>-0.174081</td>\n",
              "      <td>-0.132110</td>\n",
              "      <td>-0.236190</td>\n",
              "      <td>-0.043301</td>\n",
              "      <td>-0.048207</td>\n",
              "      <td>NaN</td>\n",
              "      <td>0.044739</td>\n",
              "      <td>0.115674</td>\n",
              "      <td>0.027495</td>\n",
              "      <td>...</td>\n",
              "      <td>0.008066</td>\n",
              "      <td>0.028759</td>\n",
              "      <td>-0.118490</td>\n",
              "      <td>-0.134787</td>\n",
              "      <td>-0.189932</td>\n",
              "      <td>-0.257703</td>\n",
              "      <td>-0.254706</td>\n",
              "      <td>-0.167141</td>\n",
              "      <td>0.007361</td>\n",
              "      <td>1.000000</td>\n",
              "    </tr>\n",
              "  </tbody>\n",
              "</table>\n",
              "<p>23 rows × 23 columns</p>\n",
              "</div>\n",
              "      <button class=\"colab-df-convert\" onclick=\"convertToInteractive('df-677b6a49-b223-4d8a-bf97-d58cd88ea330')\"\n",
              "              title=\"Convert this dataframe to an interactive table.\"\n",
              "              style=\"display:none;\">\n",
              "        \n",
              "  <svg xmlns=\"http://www.w3.org/2000/svg\" height=\"24px\"viewBox=\"0 0 24 24\"\n",
              "       width=\"24px\">\n",
              "    <path d=\"M0 0h24v24H0V0z\" fill=\"none\"/>\n",
              "    <path d=\"M18.56 5.44l.94 2.06.94-2.06 2.06-.94-2.06-.94-.94-2.06-.94 2.06-2.06.94zm-11 1L8.5 8.5l.94-2.06 2.06-.94-2.06-.94L8.5 2.5l-.94 2.06-2.06.94zm10 10l.94 2.06.94-2.06 2.06-.94-2.06-.94-.94-2.06-.94 2.06-2.06.94z\"/><path d=\"M17.41 7.96l-1.37-1.37c-.4-.4-.92-.59-1.43-.59-.52 0-1.04.2-1.43.59L10.3 9.45l-7.72 7.72c-.78.78-.78 2.05 0 2.83L4 21.41c.39.39.9.59 1.41.59.51 0 1.02-.2 1.41-.59l7.78-7.78 2.81-2.81c.8-.78.8-2.07 0-2.86zM5.41 20L4 18.59l7.72-7.72 1.47 1.35L5.41 20z\"/>\n",
              "  </svg>\n",
              "      </button>\n",
              "      \n",
              "  <style>\n",
              "    .colab-df-container {\n",
              "      display:flex;\n",
              "      flex-wrap:wrap;\n",
              "      gap: 12px;\n",
              "    }\n",
              "\n",
              "    .colab-df-convert {\n",
              "      background-color: #E8F0FE;\n",
              "      border: none;\n",
              "      border-radius: 50%;\n",
              "      cursor: pointer;\n",
              "      display: none;\n",
              "      fill: #1967D2;\n",
              "      height: 32px;\n",
              "      padding: 0 0 0 0;\n",
              "      width: 32px;\n",
              "    }\n",
              "\n",
              "    .colab-df-convert:hover {\n",
              "      background-color: #E2EBFA;\n",
              "      box-shadow: 0px 1px 2px rgba(60, 64, 67, 0.3), 0px 1px 3px 1px rgba(60, 64, 67, 0.15);\n",
              "      fill: #174EA6;\n",
              "    }\n",
              "\n",
              "    [theme=dark] .colab-df-convert {\n",
              "      background-color: #3B4455;\n",
              "      fill: #D2E3FC;\n",
              "    }\n",
              "\n",
              "    [theme=dark] .colab-df-convert:hover {\n",
              "      background-color: #434B5C;\n",
              "      box-shadow: 0px 1px 3px 1px rgba(0, 0, 0, 0.15);\n",
              "      filter: drop-shadow(0px 1px 2px rgba(0, 0, 0, 0.3));\n",
              "      fill: #FFFFFF;\n",
              "    }\n",
              "  </style>\n",
              "\n",
              "      <script>\n",
              "        const buttonEl =\n",
              "          document.querySelector('#df-677b6a49-b223-4d8a-bf97-d58cd88ea330 button.colab-df-convert');\n",
              "        buttonEl.style.display =\n",
              "          google.colab.kernel.accessAllowed ? 'block' : 'none';\n",
              "\n",
              "        async function convertToInteractive(key) {\n",
              "          const element = document.querySelector('#df-677b6a49-b223-4d8a-bf97-d58cd88ea330');\n",
              "          const dataTable =\n",
              "            await google.colab.kernel.invokeFunction('convertToInteractive',\n",
              "                                                     [key], {});\n",
              "          if (!dataTable) return;\n",
              "\n",
              "          const docLinkHtml = 'Like what you see? Visit the ' +\n",
              "            '<a target=\"_blank\" href=https://colab.research.google.com/notebooks/data_table.ipynb>data table notebook</a>'\n",
              "            + ' to learn more about interactive tables.';\n",
              "          element.innerHTML = '';\n",
              "          dataTable['output_type'] = 'display_data';\n",
              "          await google.colab.output.renderOutput(dataTable, element);\n",
              "          const docLink = document.createElement('div');\n",
              "          docLink.innerHTML = docLinkHtml;\n",
              "          element.appendChild(docLink);\n",
              "        }\n",
              "      </script>\n",
              "    </div>\n",
              "  </div>\n",
              "  "
            ]
          },
          "metadata": {},
          "execution_count": 18
        }
      ],
      "source": [
        "df.corr()"
      ]
    },
    {
      "cell_type": "markdown",
      "metadata": {
        "id": "D1tbmpxMrk7M"
      },
      "source": [
        "#### A lot of numbers make things difficult to read. So let's visualize this.\n",
        "But first, it's important to notice that the correlations for 'basement' all show as NaN. This is expected because right now that feature doesn't vary at all (its standard deviation is 0), as we saw all the way back in step 2. We'll fix this later."
      ]
    },
    {
      "cell_type": "code",
      "execution_count": null,
      "metadata": {
        "colab": {
          "base_uri": "https://localhost:8080/",
          "height": 1000
        },
        "id": "g7drc6-Vrk7N",
        "outputId": "ae21d9a3-d15b-424c-d45b-65c7c3f5a19b"
      },
      "outputs": [
        {
          "output_type": "execute_result",
          "data": {
            "text/plain": [
              "<AxesSubplot:>"
            ]
          },
          "metadata": {},
          "execution_count": 19
        },
        {
          "output_type": "display_data",
          "data": {
            "text/plain": [
              "<Figure size 1440x1440 with 2 Axes>"
            ],
            "image/png": "[encoded data removed]"
          },
          "metadata": {
            "needs_background": "light"
          }
        }
      ],
      "source": [
        "plt.figure(figsize=(20,20))\n",
        "sns.heatmap(df.corr(),annot=True,cmap='coolwarm')"
      ]
    },
    {
      "cell_type": "markdown",
      "metadata": {
        "id": "zOWKu4jzrk7N"
      },
      "source": [
        "**What to look for?**\n",
        "* The colorbar on the right explains the meaning of the heatmap - Dark colors indicate **strong negative correlations** and light colors indicate **strong positive correlations**.\n",
        "* Perhaps the most helpful way to interpret this correlation heatmap is to first find features that are correlated with our target variable by scanning the first column.\n",
        "* In this case, it doesn't look like many features are strongly correlated with the target variable.\n",
        "\n",
        "* Example: there is a strong negative correlation between beds and restaurants, or gloceries and median_schools.\n",
        "* There is a weak positive correlation between 'tx_price' and 'property_tax'."
      ]
    },
    {
      "cell_type": "markdown",
      "metadata": {
        "id": "Tb0mdHkZrk7P"
      },
      "source": [
        "# Data Cleaning"
      ]
    },
    {
      "cell_type": "markdown",
      "metadata": {
        "id": "JvUUfbx_rk7P"
      },
      "source": [
        "##  Dropping the duplicates (De-duplication)\n"
      ]
    },
    {
      "cell_type": "code",
      "execution_count": null,
      "metadata": {
        "colab": {
          "base_uri": "https://localhost:8080/"
        },
        "id": "BVSx5alhrk7Q",
        "outputId": "c3252afc-446a-4d94-ae53-6ff844193f83"
      },
      "outputs": [
        {
          "output_type": "stream",
          "name": "stdout",
          "text": [
            "(1883, 26)\n"
          ]
        }
      ],
      "source": [
        "df = df.drop_duplicates()\n",
        "print( df.shape )"
      ]
    },
    {
      "cell_type": "markdown",
      "metadata": {
        "id": "sv0uTHAgrk7Q"
      },
      "source": [
        "It looks like we didn't have any duplicates in our original dataset. Even so, it's a good idea to check this as an easy first step for cleaning your dataset."
      ]
    },
    {
      "cell_type": "code",
      "execution_count": null,
      "metadata": {
        "colab": {
          "base_uri": "https://localhost:8080/"
        },
        "id": "7-8q8tcHrk7V",
        "outputId": "74c01e7a-3c88-4e3d-ce16-dba7f7d77f57"
      },
      "outputs": [
        {
          "output_type": "execute_result",
          "data": {
            "text/plain": [
              "tx_price                0\n",
              "beds                    0\n",
              "baths                   0\n",
              "sqft                    0\n",
              "year_built              0\n",
              "lot_size                0\n",
              "property_type           0\n",
              "exterior_walls        223\n",
              "roof                  354\n",
              "basement              226\n",
              "restaurants             0\n",
              "groceries               0\n",
              "nightlife               0\n",
              "cafes                   0\n",
              "shopping                0\n",
              "arts_entertainment      0\n",
              "beauty_spas             0\n",
              "active_life             0\n",
              "median_age              0\n",
              "married                 0\n",
              "college_grad            0\n",
              "property_tax            0\n",
              "insurance               0\n",
              "median_school           0\n",
              "num_schools             0\n",
              "tx_year                 0\n",
              "dtype: int64"
            ]
          },
          "metadata": {},
          "execution_count": 21
        }
      ],
      "source": [
        "df.isna().sum()"
      ]
    },
    {
      "cell_type": "code",
      "execution_count": null,
      "metadata": {
        "colab": {
          "base_uri": "https://localhost:8080/",
          "height": 297
        },
        "id": "Qs_ubaERrk7Z",
        "outputId": "376b0917-1a9e-44d5-cfe1-7d666399c7be"
      },
      "outputs": [
        {
          "output_type": "execute_result",
          "data": {
            "text/plain": [
              "<AxesSubplot:xlabel='count', ylabel='roof'>"
            ]
          },
          "metadata": {},
          "execution_count": 22
        },
        {
          "output_type": "display_data",
          "data": {
            "text/plain": [
              "<Figure size 432x288 with 1 Axes>"
            ],
            "image/png": "[encoded data removed]"
          },
          "metadata": {
            "needs_background": "light"
          }
        }
      ],
      "source": [
        "# Class distributions for 'roof'\n",
        "sns.countplot(y='roof', data=df)"
      ]
    },
    {
      "cell_type": "markdown",
      "metadata": {
        "id": "uA9IuI5Drk7a"
      },
      "source": [
        "Using this plot, we can easily catch typos and inconsistent capitalization. For example:\n",
        "* 'composition' should be 'Composition'\n",
        "* 'asphalt' should be 'Asphalt'\n",
        "* 'shake-shingle' should be 'Shake Shingle'\n",
        "* 'asphalt,shake-shingle' could probably just be 'Shake Shingle'"
      ]
    },
    {
      "cell_type": "code",
      "execution_count": null,
      "metadata": {
        "collapsed": true,
        "id": "h7JDGeO7rk7a"
      },
      "outputs": [],
      "source": [
        "df.roof.replace('composition', 'Composition', inplace=True)\n",
        "df.roof.replace('asphalt', 'Asphalt', inplace=True)\n",
        "df.roof.replace(['shake-shingle', 'asphalt,shake-shingle'], 'Shake Shingle', inplace=True)"
      ]
    },
    {
      "cell_type": "code",
      "execution_count": null,
      "metadata": {
        "colab": {
          "base_uri": "https://localhost:8080/",
          "height": 297
        },
        "id": "frA9UXc5rk7b",
        "outputId": "0dc46893-d72f-4024-9d5b-af513549f447"
      },
      "outputs": [
        {
          "output_type": "execute_result",
          "data": {
            "text/plain": [
              "<AxesSubplot:xlabel='count', ylabel='roof'>"
            ]
          },
          "metadata": {},
          "execution_count": 24
        },
        {
          "output_type": "display_data",
          "data": {
            "text/plain": [
              "<Figure size 432x288 with 1 Axes>"
            ],
            "image/png": "[encoded data removed]"
          },
          "metadata": {
            "needs_background": "light"
          }
        }
      ],
      "source": [
        "# Class distribution for 'roof' after the modifications\n",
        "sns.countplot(y='roof', data=df)"
      ]
    },
    {
      "cell_type": "markdown",
      "metadata": {
        "id": "9vLLE3Ijrk7b"
      },
      "source": [
        "##  Mislabeled classes\n",
        "Finally, we'll check for classes that are labeled as separate classes when they should really be the same.\n",
        "* e.g. If 'N/A' and 'Not Applicable' appear as two separate classes, we should combine them.\n",
        "* let's plot the class distributions for 'exterior_walls':"
      ]
    },
    {
      "cell_type": "code",
      "execution_count": null,
      "metadata": {
        "colab": {
          "base_uri": "https://localhost:8080/",
          "height": 297
        },
        "id": "BIxi2IG5rk7c",
        "outputId": "78ab0c21-9190-49bd-d4bd-95ce9fab3ef9"
      },
      "outputs": [
        {
          "output_type": "execute_result",
          "data": {
            "text/plain": [
              "<AxesSubplot:xlabel='count', ylabel='exterior_walls'>"
            ]
          },
          "metadata": {},
          "execution_count": 25
        },
        {
          "output_type": "display_data",
          "data": {
            "text/plain": [
              "<Figure size 432x288 with 1 Axes>"
            ],
            "image/png": "[encoded data removed]"
          },
          "metadata": {
            "needs_background": "light"
          }
        }
      ],
      "source": [
        "sns.countplot(y='exterior_walls', data=df)"
      ]
    },
    {
      "cell_type": "markdown",
      "metadata": {
        "id": "9g0iY_W-rk7c"
      },
      "source": [
        "Using that chart, we can easily catch mislabeled classes. For example\n",
        "* 'Rock, Stone' should be 'Masonry'\n",
        "* 'Concrete' and 'Block' should both just be 'Concrete Block'"
      ]
    },
    {
      "cell_type": "code",
      "execution_count": null,
      "metadata": {
        "colab": {
          "base_uri": "https://localhost:8080/",
          "height": 297
        },
        "id": "llYxAbYSrk7d",
        "outputId": "490e0caf-170a-4df3-e0c3-116b52ea119c"
      },
      "outputs": [
        {
          "output_type": "execute_result",
          "data": {
            "text/plain": [
              "<AxesSubplot:xlabel='count', ylabel='exterior_walls'>"
            ]
          },
          "metadata": {},
          "execution_count": 26
        },
        {
          "output_type": "display_data",
          "data": {
            "text/plain": [
              "<Figure size 432x288 with 1 Axes>"
            ],
            "image/png": "[encoded data removed]"
          },
          "metadata": {
            "needs_background": "light"
          }
        }
      ],
      "source": [
        "df.exterior_walls.replace(['Rock, Stone'], 'Masonry', inplace=True)\n",
        "df.exterior_walls.replace(['Concrete', 'Block'], 'Concrete Block', inplace=True)\n",
        "sns.countplot(y='exterior_walls', data=df)"
      ]
    },
    {
      "cell_type": "markdown",
      "metadata": {
        "id": "M--neyBZrk7d"
      },
      "source": [
        "## Removing Outliers\n",
        "* Outliers can cause problems with certain types of models.\n",
        "* Boxplots are a nice way to detect outliers\n",
        "* Let's start with a box plot of your target variable, since that's what you're actually trying to predict."
      ]
    },
    {
      "cell_type": "code",
      "execution_count": null,
      "metadata": {
        "colab": {
          "base_uri": "https://localhost:8080/",
          "height": 298
        },
        "id": "Zm1Lkwjnrk7e",
        "outputId": "ff75e53e-d4d8-4bc8-a211-b7eb4dccd2c1"
      },
      "outputs": [
        {
          "output_type": "execute_result",
          "data": {
            "text/plain": [
              "<AxesSubplot:xlabel='tx_price'>"
            ]
          },
          "metadata": {},
          "execution_count": 27
        },
        {
          "output_type": "display_data",
          "data": {
            "text/plain": [
              "<Figure size 432x288 with 1 Axes>"
            ],
            "image/png": "[encoded data removed]"
          },
          "metadata": {
            "needs_background": "light"
          }
        }
      ],
      "source": [
        "sns.boxplot(df.tx_price)"
      ]
    },
    {
      "cell_type": "markdown",
      "metadata": {
        "id": "dyw_VSl2rk7e"
      },
      "source": [
        "**Interpretation**\n",
        "\n",
        "* The two vertical bars on the ends are the min and max values. All properties sold for between \\$200,000 and \\$800,000.\n",
        "* The box in the middle is the interquartile range (25th percentile to 75th percentile).\n",
        "* Half of all observations fall in that box.\n",
        "* Finally, the vertical bar in the middle of the box is the median."
      ]
    },
    {
      "cell_type": "code",
      "execution_count": null,
      "metadata": {
        "colab": {
          "base_uri": "https://localhost:8080/",
          "height": 297
        },
        "id": "7u6YQZKNrk7f",
        "outputId": "6aaa46d4-06ad-41f6-dec6-445b62abf33c"
      },
      "outputs": [
        {
          "output_type": "execute_result",
          "data": {
            "text/plain": [
              "<AxesSubplot:xlabel='beds'>"
            ]
          },
          "metadata": {},
          "execution_count": 28
        },
        {
          "output_type": "display_data",
          "data": {
            "text/plain": [
              "<Figure size 432x288 with 1 Axes>"
            ],
            "image/png": "[encoded data removed]"
          },
          "metadata": {
            "needs_background": "light"
          }
        }
      ],
      "source": [
        "## Checking outliers in number of bedrooms\n",
        "sns.boxplot(df.beds)"
      ]
    },
    {
      "cell_type": "code",
      "execution_count": null,
      "metadata": {
        "colab": {
          "base_uri": "https://localhost:8080/",
          "height": 297
        },
        "id": "m9s53HsErk7f",
        "outputId": "163c83f8-bc08-4595-8a2a-d1abbfcab1f5"
      },
      "outputs": [
        {
          "output_type": "execute_result",
          "data": {
            "text/plain": [
              "<AxesSubplot:xlabel='sqft'>"
            ]
          },
          "metadata": {},
          "execution_count": 29
        },
        {
          "output_type": "display_data",
          "data": {
            "text/plain": [
              "<Figure size 432x288 with 1 Axes>"
            ],
            "image/png": "[encoded data removed]"
          },
          "metadata": {
            "needs_background": "light"
          }
        }
      ],
      "source": [
        "## Checking outliers in size of the house\n",
        "sns.boxplot(df.sqft)"
      ]
    },
    {
      "cell_type": "code",
      "execution_count": null,
      "metadata": {
        "colab": {
          "base_uri": "https://localhost:8080/",
          "height": 298
        },
        "id": "SxHki4VXrk7g",
        "outputId": "540e49a4-5a92-48be-a9ac-10b8bf352089"
      },
      "outputs": [
        {
          "output_type": "execute_result",
          "data": {
            "text/plain": [
              "<AxesSubplot:xlabel='lot_size'>"
            ]
          },
          "metadata": {},
          "execution_count": 30
        },
        {
          "output_type": "display_data",
          "data": {
            "text/plain": [
              "<Figure size 432x288 with 1 Axes>"
            ],
            "image/png": "[encoded data removed]"
          },
          "metadata": {
            "needs_background": "light"
          }
        }
      ],
      "source": [
        "## Checking outliers in lot size\n",
        "sns.boxplot(df.lot_size)"
      ]
    },
    {
      "cell_type": "markdown",
      "metadata": {
        "id": "5Y4wajSdrk7h"
      },
      "source": [
        "Look at the dot on the extreme right. This might indicate some erroneous point.\n",
        "\n",
        "Let's look at the largest 5 lot sizes just to confirm."
      ]
    },
    {
      "cell_type": "code",
      "execution_count": null,
      "metadata": {
        "colab": {
          "base_uri": "https://localhost:8080/"
        },
        "id": "F7rw_lHark7h",
        "outputId": "fa2bf4ae-ac6e-4835-b180-cd44ca4a878a"
      },
      "outputs": [
        {
          "output_type": "execute_result",
          "data": {
            "text/plain": [
              "102     1220551\n",
              "1111     436471\n",
              "1832     436035\n",
              "1876     436035\n",
              "1839     435600\n",
              "Name: lot_size, dtype: int64"
            ]
          },
          "metadata": {},
          "execution_count": 31
        }
      ],
      "source": [
        "df.lot_size.sort_values(ascending=False).head()"
      ]
    },
    {
      "cell_type": "markdown",
      "metadata": {
        "id": "9kNdE1Eprk7i"
      },
      "source": [
        "The largest property has a lot_size of 1,220,551 sqft. The next largest has a lot_size of only 436,471 sqft.\n",
        "\n",
        "Because it's unlikely the REIT will ever invest in properties with lots that large, and because it's the only one in the dataset, let's remove it so it doesn't interfere with our ability to model normal size properties."
      ]
    },
    {
      "cell_type": "code",
      "execution_count": null,
      "metadata": {
        "colab": {
          "base_uri": "https://localhost:8080/"
        },
        "id": "-2qVXF2Vrk7i",
        "outputId": "a18e9b41-3f47-4702-bae2-707e89928d58"
      },
      "outputs": [
        {
          "output_type": "execute_result",
          "data": {
            "text/plain": [
              "(1882, 26)"
            ]
          },
          "metadata": {},
          "execution_count": 32
        }
      ],
      "source": [
        "## Remove observations with lot_size greater than 500,000 sqft.\n",
        "df = df[df.lot_size <= 500000]\n",
        "df.shape"
      ]
    },
    {
      "cell_type": "code",
      "execution_count": null,
      "metadata": {
        "colab": {
          "base_uri": "https://localhost:8080/",
          "height": 298
        },
        "id": "rK-b_pklrk7k",
        "outputId": "00e7c4d4-4d79-46c7-d436-4ceb2220132f"
      },
      "outputs": [
        {
          "output_type": "execute_result",
          "data": {
            "text/plain": [
              "<AxesSubplot:xlabel='lot_size'>"
            ]
          },
          "metadata": {},
          "execution_count": 33
        },
        {
          "output_type": "display_data",
          "data": {
            "text/plain": [
              "<Figure size 432x288 with 1 Axes>"
            ],
            "image/png": "[encoded data removed]"
          },
          "metadata": {
            "needs_background": "light"
          }
        }
      ],
      "source": [
        "## Plotting the boxplot of lot size after the change\n",
        "sns.boxplot(df.lot_size)"
      ]
    },
    {
      "cell_type": "markdown",
      "metadata": {
        "id": "1RiFP4AHrk7l"
      },
      "source": [
        "**Note:** Even though visually the plot looks the same but the x-axis dimensions have changed"
      ]
    },
    {
      "cell_type": "code",
      "source": [
        "df.columns"
      ],
      "metadata": {
        "colab": {
          "base_uri": "https://localhost:8080/"
        },
        "id": "JjH49cRZ34Kc",
        "outputId": "40d18fc0-1132-46d9-b2b9-f0aa69456d94"
      },
      "execution_count": null,
      "outputs": [
        {
          "output_type": "execute_result",
          "data": {
            "text/plain": [
              "Index(['tx_price', 'beds', 'baths', 'sqft', 'year_built', 'lot_size',\n",
              "       'property_type', 'exterior_walls', 'roof', 'basement', 'restaurants',\n",
              "       'groceries', 'nightlife', 'cafes', 'shopping', 'arts_entertainment',\n",
              "       'beauty_spas', 'active_life', 'median_age', 'married', 'college_grad',\n",
              "       'property_tax', 'insurance', 'median_school', 'num_schools', 'tx_year'],\n",
              "      dtype='object')"
            ]
          },
          "metadata": {},
          "execution_count": 34
        }
      ]
    },
    {
      "cell_type": "code",
      "source": [],
      "metadata": {
        "id": "IYsGU7qyAvbL"
      },
      "execution_count": null,
      "outputs": []
    },
    {
      "cell_type": "code",
      "source": [
        "df1=df.drop('property_type',axis=1)\n",
        "df1=df1.drop('roof',axis=1)\n",
        "df1=df1.drop('exterior_walls',axis=1)"
      ],
      "metadata": {
        "id": "2Ron-F7N39A7"
      },
      "execution_count": null,
      "outputs": []
    },
    {
      "cell_type": "code",
      "source": [
        "for k, v in df1.items():\n",
        "        q1 = v.quantile(0.25)\n",
        "        q3 = v.quantile(0.75)\n",
        "        irq = q3 - q1\n",
        "        v_col = v[(v <= q1 - 1.5 * irq) | (v >= q3 + 1.5 * irq)]\n",
        "        perc = np.shape(v_col)[0] * 100.0 / np.shape(df1)[0]\n",
        "        print(\"Column %s outliers = %.2f%%\" % (k, perc))"
      ],
      "metadata": {
        "colab": {
          "base_uri": "https://localhost:8080/"
        },
        "id": "i9SpRcsO2hfe",
        "outputId": "6cdc844c-ccc1-49ef-dd2a-6e045474f8d8"
      },
      "execution_count": null,
      "outputs": [
        {
          "output_type": "stream",
          "name": "stdout",
          "text": [
            "Column tx_price outliers = 0.00%\n",
            "Column beds outliers = 4.78%\n",
            "Column baths outliers = 2.44%\n",
            "Column sqft outliers = 2.98%\n",
            "Column year_built outliers = 0.85%\n",
            "Column lot_size outliers = 7.60%\n",
            "Column basement outliers = 88.04%\n",
            "Column restaurants outliers = 6.16%\n",
            "Column groceries outliers = 2.66%\n",
            "Column nightlife outliers = 9.72%\n",
            "Column cafes outliers = 10.89%\n",
            "Column shopping outliers = 7.01%\n",
            "Column arts_entertainment outliers = 4.52%\n",
            "Column beauty_spas outliers = 3.35%\n",
            "Column active_life outliers = 5.79%\n",
            "Column median_age outliers = 1.12%\n",
            "Column married outliers = 1.59%\n",
            "Column college_grad outliers = 0.27%\n",
            "Column property_tax outliers = 3.56%\n",
            "Column insurance outliers = 4.04%\n",
            "Column median_school outliers = 0.00%\n",
            "Column num_schools outliers = 100.00%\n",
            "Column tx_year outliers = 0.58%\n"
          ]
        }
      ]
    },
    {
      "cell_type": "code",
      "source": [
        "for col in df1.columns:\n",
        "    Q1 = df[col].quantile(0.25)\n",
        "    Q3 = df[col].quantile(0.75)\n",
        "    IQR = Q3 - Q1\n",
        "    lower_bound = Q1 - 1.5*IQR\n",
        "    upper_bound = Q3 + 1.5*IQR\n",
        "    df[col] = df[col].mask(df[col] < lower_bound, df[col].median(), axis=0)\n",
        "    df[col] = df[col].mask(df[col] > upper_bound, df[col].median(), axis=0)"
      ],
      "metadata": {
        "id": "QuJvkdGv9UTM"
      },
      "execution_count": null,
      "outputs": []
    },
    {
      "cell_type": "markdown",
      "metadata": {
        "id": "tyZIvcjlrk7m"
      },
      "source": [
        "#missing *vlaues*"
      ]
    },
    {
      "cell_type": "code",
      "source": [
        "df.isna().sum()"
      ],
      "metadata": {
        "colab": {
          "base_uri": "https://localhost:8080/"
        },
        "id": "h-OxeXeHz_4j",
        "outputId": "de3d0499-ae0d-4c7e-905f-cbcde587b57c"
      },
      "execution_count": null,
      "outputs": [
        {
          "output_type": "execute_result",
          "data": {
            "text/plain": [
              "tx_price                0\n",
              "beds                    0\n",
              "baths                   0\n",
              "sqft                    0\n",
              "year_built              0\n",
              "lot_size                0\n",
              "property_type           0\n",
              "exterior_walls        223\n",
              "roof                  353\n",
              "basement              225\n",
              "restaurants             0\n",
              "groceries               0\n",
              "nightlife               0\n",
              "cafes                   0\n",
              "shopping                0\n",
              "arts_entertainment      0\n",
              "beauty_spas             0\n",
              "active_life             0\n",
              "median_age              0\n",
              "married                 0\n",
              "college_grad            0\n",
              "property_tax            0\n",
              "insurance               0\n",
              "median_school           0\n",
              "num_schools             0\n",
              "tx_year                 0\n",
              "dtype: int64"
            ]
          },
          "metadata": {},
          "execution_count": 38
        }
      ]
    },
    {
      "cell_type": "code",
      "execution_count": null,
      "metadata": {
        "colab": {
          "base_uri": "https://localhost:8080/"
        },
        "id": "IVFESKhnrk7m",
        "outputId": "dcce6724-7df4-4aa0-d313-532ad318cb52"
      },
      "outputs": [
        {
          "output_type": "execute_result",
          "data": {
            "text/plain": [
              "property_type       0\n",
              "exterior_walls    223\n",
              "roof              353\n",
              "dtype: int64"
            ]
          },
          "metadata": {},
          "execution_count": 39
        }
      ],
      "source": [
        "# Display number of missing values by categorical feature\n",
        "df.select_dtypes(include=['object']).isna().sum()"
      ]
    },
    {
      "cell_type": "markdown",
      "metadata": {
        "id": "j2bvjwb6rk7n"
      },
      "source": [
        "#### The best way to handle missing data for categorical features is to simply label them as 'Missing'"
      ]
    },
    {
      "cell_type": "code",
      "execution_count": null,
      "metadata": {
        "id": "iXnKI5C5rk7o"
      },
      "outputs": [],
      "source": [
        "mode1=df['exterior_walls'].mode()[0]\n",
        "df['exterior_walls']=df['exterior_walls'].fillna(mode1)\n",
        "mode2=df['roof'].mode()[0]\n",
        "df['roof']=df['roof'].fillna(mode2)\n"
      ]
    },
    {
      "cell_type": "code",
      "source": [
        "df.select_dtypes(include=['object']).isna().sum()"
      ],
      "metadata": {
        "colab": {
          "base_uri": "https://localhost:8080/"
        },
        "id": "CkIFYiQBwEDR",
        "outputId": "20fc92ca-2614-4477-f068-037abb8f13c3"
      },
      "execution_count": null,
      "outputs": [
        {
          "output_type": "execute_result",
          "data": {
            "text/plain": [
              "property_type     0\n",
              "exterior_walls    0\n",
              "roof              0\n",
              "dtype: int64"
            ]
          },
          "metadata": {},
          "execution_count": 41
        }
      ]
    },
    {
      "cell_type": "markdown",
      "metadata": {
        "id": "_eyMmp-Urk7q"
      },
      "source": [
        "Well, it looks like we don't have any numerical features with missing values in this dataset."
      ]
    },
    {
      "cell_type": "markdown",
      "metadata": {
        "id": "kFWcdR71rk7r"
      },
      "source": [
        "#  Feature Engineering"
      ]
    },
    {
      "cell_type": "markdown",
      "metadata": {
        "id": "bjYu2YpFrk7r"
      },
      "source": [
        "##  Indicator variables"
      ]
    },
    {
      "cell_type": "markdown",
      "metadata": {
        "id": "RhQOtIu7rk7u"
      },
      "source": [
        "People might also not take much interest in old properties.Lets figure it out."
      ]
    },
    {
      "cell_type": "code",
      "execution_count": null,
      "metadata": {
        "collapsed": true,
        "id": "QhwaORZVrk7u"
      },
      "outputs": [],
      "source": [
        "df['old_properties'] = (df.year_built < 1980) .astype(int)"
      ]
    },
    {
      "cell_type": "markdown",
      "metadata": {
        "id": "OBeKJce8rk7w"
      },
      "source": [
        "Create a new feature containing tax and insurance which a propery holder will have to pay monthly"
      ]
    },
    {
      "cell_type": "code",
      "execution_count": null,
      "metadata": {
        "collapsed": true,
        "id": "AKpLrXjcrk7y"
      },
      "outputs": [],
      "source": [
        "df['tax_and_insurance'] = df.property_tax + df.insurance"
      ]
    },
    {
      "cell_type": "markdown",
      "metadata": {
        "id": "FZRwoJPSrk7z"
      },
      "source": [
        "### Example: housing market recession\n",
        "According to data from Zillow, the lowest housing prices were from 2010 to end of 2013 (country-wide).\n"
      ]
    },
    {
      "cell_type": "code",
      "execution_count": null,
      "metadata": {
        "collapsed": true,
        "id": "QJIqjmhjrk70"
      },
      "outputs": [],
      "source": [
        "df['during_recession'] = ((df.tx_year >= 2010) & (df.tx_year <= 2013)).astype(int)"
      ]
    },
    {
      "cell_type": "markdown",
      "metadata": {
        "id": "-U8iL-ZBrk71"
      },
      "source": [
        "## Interaction features\n"
      ]
    },
    {
      "cell_type": "code",
      "execution_count": null,
      "metadata": {
        "collapsed": true,
        "id": "70vEx64irk72"
      },
      "outputs": [],
      "source": [
        "# Create a property age feature\n",
        "df['property_age'] = df.tx_year - df.year_built"
      ]
    },
    {
      "cell_type": "markdown",
      "metadata": {
        "id": "FCbfbG1Vrk72"
      },
      "source": [
        "**Note:** 'property_age' denotes the age of the property when it was sold and not how old it is today, since we want to predict the price at the time when the property is sold.\n",
        "\n",
        "Sanity Check: It's always nice to do a quick sanity check after creating a feature, which could save you headaches down the road. For example, 'property_age' should never be less than 0, right?"
      ]
    },
    {
      "cell_type": "code",
      "execution_count": null,
      "metadata": {
        "colab": {
          "base_uri": "https://localhost:8080/"
        },
        "id": "JMjZjnnqrk72",
        "outputId": "4678d492-6ce9-4561-90b6-bc26381d9e5e"
      },
      "outputs": [
        {
          "output_type": "stream",
          "name": "stdout",
          "text": [
            "-8.0\n"
          ]
        }
      ],
      "source": [
        "print(df.property_age.min())"
      ]
    },
    {
      "cell_type": "markdown",
      "metadata": {
        "id": "c0dGu2tSrk73"
      },
      "source": [
        "Nice find. Something is definitely wrong. Age of property can never be negative."
      ]
    },
    {
      "cell_type": "code",
      "execution_count": null,
      "metadata": {
        "colab": {
          "base_uri": "https://localhost:8080/"
        },
        "id": "b7-k0ucqrk73",
        "outputId": "264e860b-2633-403c-c8cd-d53d7ec47273"
      },
      "outputs": [
        {
          "output_type": "stream",
          "name": "stdout",
          "text": [
            "19\n"
          ]
        }
      ],
      "source": [
        "# Number of observations with 'property_age' < 0\n",
        "print(sum(df.property_age < 0))"
      ]
    },
    {
      "cell_type": "markdown",
      "metadata": {
        "id": "NA3kTC5Ark74"
      },
      "source": [
        "* On second thought, it's possible that some home owners bought houses before the construction company built them.\n",
        "* This is not uncommon, especially with single-family homes.\n",
        "* However, for this problem, **we are only interested in houses that already exist** because the REIT only buys existing ones!"
      ]
    },
    {
      "cell_type": "code",
      "execution_count": null,
      "metadata": {
        "colab": {
          "base_uri": "https://localhost:8080/"
        },
        "id": "Bcq6QZr-rk74",
        "outputId": "a81c5ca8-aa09-4ec7-a913-e6ecaea4e2a2"
      },
      "outputs": [
        {
          "output_type": "execute_result",
          "data": {
            "text/plain": [
              "(1863, 31)"
            ]
          },
          "metadata": {},
          "execution_count": 49
        }
      ],
      "source": [
        "# Remove rows where property_age is less than 0\n",
        "df = df[df.property_age >= 0]\n",
        "df.shape"
      ]
    },
    {
      "cell_type": "markdown",
      "metadata": {
        "id": "ROlyGGoJrk75"
      },
      "source": [
        "Now, let's add another interaction feature. How about the number of quality schools nearby?\n",
        "* We know the number of schools nearby \n",
        "* We also have their median quality score\n",
        "* Let's use this and create a new feature"
      ]
    },
    {
      "cell_type": "code",
      "execution_count": null,
      "metadata": {
        "collapsed": true,
        "id": "taJBiXt8rk77"
      },
      "outputs": [],
      "source": [
        "# Create a school score feature that num_schools * median_school\n",
        "df['school_score'] = df.num_schools * df.median_school"
      ]
    },
    {
      "cell_type": "code",
      "execution_count": null,
      "metadata": {
        "colab": {
          "base_uri": "https://localhost:8080/"
        },
        "id": "S6F-puQRrk79",
        "outputId": "eb721b1b-7c40-4950-d07c-58d65b57a30a"
      },
      "outputs": [
        {
          "output_type": "execute_result",
          "data": {
            "text/plain": [
              "21.0"
            ]
          },
          "metadata": {},
          "execution_count": 51
        }
      ],
      "source": [
        "# Display median school score\n",
        "df.school_score.median()"
      ]
    },
    {
      "cell_type": "markdown",
      "metadata": {
        "id": "rpRjNpqXrk8A"
      },
      "source": [
        "*  As we can see almost all properties have basement, this feature won't affect the price of the property much, so we can remove it "
      ]
    },
    {
      "cell_type": "code",
      "execution_count": null,
      "metadata": {
        "colab": {
          "base_uri": "https://localhost:8080/",
          "height": 297
        },
        "id": "e9hOMsoqrk8A",
        "outputId": "4587053b-723c-4186-9edc-b85668815c02"
      },
      "outputs": [
        {
          "output_type": "execute_result",
          "data": {
            "text/plain": [
              "<AxesSubplot:xlabel='count', ylabel='basement'>"
            ]
          },
          "metadata": {},
          "execution_count": 52
        },
        {
          "output_type": "display_data",
          "data": {
            "text/plain": [
              "<Figure size 432x288 with 1 Axes>"
            ],
            "image/png": "[encoded data removed]"
          },
          "metadata": {
            "needs_background": "light"
          }
        }
      ],
      "source": [
        "sns.countplot(y='basement', data=df)"
      ]
    },
    {
      "cell_type": "code",
      "execution_count": null,
      "metadata": {
        "collapsed": true,
        "id": "a45AEh29rk8B"
      },
      "outputs": [],
      "source": [
        "#dropping the basement column\n",
        "df = df.drop(['basement'], axis=1) "
      ]
    },
    {
      "cell_type": "markdown",
      "metadata": {
        "id": "WeX1TWchrk8B"
      },
      "source": [
        "* We can also delete some features which are less useful\n",
        "* If we looked at the histogram of nightlife, almost all properties have nightlife within a mile also it has a poor relation with price of property(refer correlation part) so this feature might not be much useful do let's drop it."
      ]
    },
    {
      "cell_type": "code",
      "execution_count": null,
      "metadata": {
        "collapsed": true,
        "id": "m5zpDlzUrk8C"
      },
      "outputs": [],
      "source": [
        "df = df.drop(['nightlife'], axis=1) "
      ]
    },
    {
      "cell_type": "code",
      "execution_count": null,
      "metadata": {
        "colab": {
          "base_uri": "https://localhost:8080/",
          "height": 297
        },
        "id": "LH6LHDJErk8D",
        "outputId": "1b9d81ca-5d33-424f-e079-772fa65d8b3a"
      },
      "outputs": [
        {
          "output_type": "execute_result",
          "data": {
            "text/plain": [
              "<AxesSubplot:xlabel='count', ylabel='exterior_walls'>"
            ]
          },
          "metadata": {},
          "execution_count": 55
        },
        {
          "output_type": "display_data",
          "data": {
            "text/plain": [
              "<Figure size 432x288 with 1 Axes>"
            ],
            "image/png": "[encoded data removed]"
          },
          "metadata": {
            "needs_background": "light"
          }
        }
      ],
      "source": [
        "# Bar plot for exterior_walls\n",
        "sns.countplot(y='exterior_walls', data=df)"
      ]
    },
    {
      "cell_type": "markdown",
      "metadata": {
        "id": "6RJuVAmkrk8D"
      },
      "source": [
        "Group 'Wood Siding', 'Wood Shingle', and 'Wood' together. Label all of them as 'Wood'."
      ]
    },
    {
      "cell_type": "code",
      "execution_count": null,
      "metadata": {
        "collapsed": true,
        "id": "-MtJrf-Jrk8E"
      },
      "outputs": [],
      "source": [
        "df.exterior_walls.replace(['Wood Siding', 'Wood Shingle', 'Wood'], 'Wood', inplace=True)"
      ]
    },
    {
      "cell_type": "markdown",
      "metadata": {
        "id": "mAp4CHkJrk8E"
      },
      "source": [
        "Next, we can group the remaining sparse classes into a single 'Other' class, even though there's already an 'Other' class.<br>\n",
        "Let's label 'Stucco', 'Other', 'Asbestos shingle', 'Concrete Block', and 'Masonry' as 'Other':"
      ]
    },
    {
      "cell_type": "code",
      "execution_count": null,
      "metadata": {
        "collapsed": true,
        "id": "jKI9M7xlrk8E"
      },
      "outputs": [],
      "source": [
        "other_exterior_walls = ['Concrete Block', 'Stucco', 'Masonry', 'Other', 'Asbestos shingle']\n",
        "df.exterior_walls.replace(other_exterior_walls, 'Other', inplace=True)"
      ]
    },
    {
      "cell_type": "markdown",
      "metadata": {
        "id": "oLlwhRFhrk8F"
      },
      "source": [
        "Finally, now that we've grouped together sparse classes, let's look at the bar plot for exterior walls again."
      ]
    },
    {
      "cell_type": "code",
      "execution_count": null,
      "metadata": {
        "colab": {
          "base_uri": "https://localhost:8080/",
          "height": 297
        },
        "id": "laeYP5Xerk8F",
        "outputId": "141f742b-f5b9-481e-80fc-210a534e3fde"
      },
      "outputs": [
        {
          "output_type": "execute_result",
          "data": {
            "text/plain": [
              "<AxesSubplot:xlabel='count', ylabel='exterior_walls'>"
            ]
          },
          "metadata": {},
          "execution_count": 58
        },
        {
          "output_type": "display_data",
          "data": {
            "text/plain": [
              "<Figure size 432x288 with 1 Axes>"
            ],
            "image/png": "[encoded data removed]"
          },
          "metadata": {
            "needs_background": "light"
          }
        }
      ],
      "source": [
        "sns.countplot(y='exterior_walls', data=df)"
      ]
    },
    {
      "cell_type": "markdown",
      "metadata": {
        "id": "z2lh38P5rk8X"
      },
      "source": [
        "Similarly we check for 'roof'"
      ]
    },
    {
      "cell_type": "code",
      "execution_count": null,
      "metadata": {
        "colab": {
          "base_uri": "https://localhost:8080/",
          "height": 297
        },
        "id": "Dpog2nG0rk8Y",
        "outputId": "a78b127b-1b5a-4495-8601-70894c6e73d7"
      },
      "outputs": [
        {
          "output_type": "execute_result",
          "data": {
            "text/plain": [
              "<AxesSubplot:xlabel='count', ylabel='roof'>"
            ]
          },
          "metadata": {},
          "execution_count": 59
        },
        {
          "output_type": "display_data",
          "data": {
            "text/plain": [
              "<Figure size 432x288 with 1 Axes>"
            ],
            "image/png": "[encoded data removed]"
          },
          "metadata": {
            "needs_background": "light"
          }
        }
      ],
      "source": [
        "sns.countplot(y='roof', data=df)"
      ]
    },
    {
      "cell_type": "markdown",
      "metadata": {
        "id": "UkEftNuRrk8Y"
      },
      "source": [
        "Group 'Composition' and 'Wood Shake/ Shingles' into the 'Composition Shingle' class."
      ]
    },
    {
      "cell_type": "code",
      "execution_count": null,
      "metadata": {
        "collapsed": true,
        "id": "k8lfhqjyrk8Z"
      },
      "outputs": [],
      "source": [
        "df.roof.replace(['Composition', 'Wood Shake/ Shingles'], 'Composition Shingle', inplace=True)"
      ]
    },
    {
      "cell_type": "markdown",
      "metadata": {
        "id": "pleHJbjOrk8Z"
      },
      "source": [
        "Next, let's group remaining sparse classes into a single 'Other' class.\n",
        "\n",
        "Label 'Other', 'Gravel/Rock', 'Roll Composition', 'Slate', 'Built-up', 'Asbestos', and 'Metal' as 'Other'."
      ]
    },
    {
      "cell_type": "code",
      "execution_count": null,
      "metadata": {
        "collapsed": true,
        "id": "7pdbjTZ6rk8Z"
      },
      "outputs": [],
      "source": [
        "other_roof = ['Other', 'Gravel/Rock', 'Roll Composition', 'Slate', 'Built-up', 'Asbestos', 'Metal']\n",
        "df.roof.replace(other_roof, 'Other', inplace=True)"
      ]
    },
    {
      "cell_type": "markdown",
      "metadata": {
        "id": "oxQlsQlDrk8a"
      },
      "source": [
        "Finally, display bar plot again."
      ]
    },
    {
      "cell_type": "code",
      "execution_count": null,
      "metadata": {
        "colab": {
          "base_uri": "https://localhost:8080/",
          "height": 297
        },
        "id": "TB6zcdGerk8a",
        "outputId": "17e9a986-2589-4de4-c6c5-722241b0f2e1"
      },
      "outputs": [
        {
          "output_type": "execute_result",
          "data": {
            "text/plain": [
              "<AxesSubplot:xlabel='count', ylabel='roof'>"
            ]
          },
          "metadata": {},
          "execution_count": 62
        },
        {
          "output_type": "display_data",
          "data": {
            "text/plain": [
              "<Figure size 432x288 with 1 Axes>"
            ],
            "image/png": "[encoded data removed]"
          },
          "metadata": {
            "needs_background": "light"
          }
        }
      ],
      "source": [
        "sns.countplot(y='roof', data=df)"
      ]
    },
    {
      "cell_type": "markdown",
      "metadata": {
        "id": "O9jXtm9crk8b"
      },
      "source": [
        "**Now these plots look much nicer**"
      ]
    },
    {
      "cell_type": "markdown",
      "metadata": {
        "id": "kfujbtYXrk8b"
      },
      "source": [
        "## Encode dummy variables (One Hot Encoding)\n",
        "* Machine learning algorithms cannot directly handle categorical features. Specifically, they cannot handle text values.\n",
        "* Therefore, we need to create dummy variables for our categorical features.\n",
        "* *Dummy variables* are a set of binary (0 or 1) features that each represent a single class from a categorical feature."
      ]
    },
    {
      "cell_type": "code",
      "execution_count": null,
      "metadata": {
        "collapsed": true,
        "id": "_ZeAnNsark8b"
      },
      "outputs": [],
      "source": [
        "# Create a new dataframe with dummy variables for for our categorical features.\n",
        "df = pd.get_dummies(df, columns=['exterior_walls', 'roof', 'property_type'],drop_first=True)"
      ]
    },
    {
      "cell_type": "markdown",
      "metadata": {
        "id": "XpKYaWhgrk8c"
      },
      "source": [
        "**Note:** There are many ways to perform one-hot encoding, you can also use LabelEncoder and OneHotEncoder classes in SKLEARN or use the above pandas function."
      ]
    },
    {
      "cell_type": "code",
      "source": [
        "df.columns"
      ],
      "metadata": {
        "colab": {
          "base_uri": "https://localhost:8080/"
        },
        "id": "V3hQupPKzCPN",
        "outputId": "9b9bbfba-4528-4cdb-8dc6-22c1c639dfb0"
      },
      "execution_count": null,
      "outputs": [
        {
          "output_type": "execute_result",
          "data": {
            "text/plain": [
              "Index(['tx_price', 'beds', 'baths', 'sqft', 'year_built', 'lot_size',\n",
              "       'restaurants', 'groceries', 'cafes', 'shopping', 'arts_entertainment',\n",
              "       'beauty_spas', 'active_life', 'median_age', 'married', 'college_grad',\n",
              "       'property_tax', 'insurance', 'median_school', 'num_schools', 'tx_year',\n",
              "       'two_and_two', 'old_properties', 'tax_and_insurance',\n",
              "       'during_recession', 'property_age', 'school_score',\n",
              "       'exterior_walls_Brick veneer', 'exterior_walls_Combination',\n",
              "       'exterior_walls_Metal', 'exterior_walls_Other',\n",
              "       'exterior_walls_Siding (Alum/Vinyl)', 'exterior_walls_Wood',\n",
              "       'roof_Composition Shingle', 'roof_Other', 'roof_Shake Shingle',\n",
              "       'property_type_Single-Family'],\n",
              "      dtype='object')"
            ]
          },
          "metadata": {},
          "execution_count": 64
        }
      ]
    },
    {
      "cell_type": "code",
      "execution_count": null,
      "metadata": {
        "colab": {
          "base_uri": "https://localhost:8080/",
          "height": 317
        },
        "id": "aulj9Nz8rk8c",
        "outputId": "a2485899-6e33-4e6b-c43b-98ad235732d1"
      },
      "outputs": [
        {
          "output_type": "execute_result",
          "data": {
            "text/plain": [
              "   tx_price  beds  baths   sqft  year_built  lot_size  restaurants  groceries  \\\n",
              "0    295850   3.0    1.0  584.0      2013.0       0.0        107.0        9.0   \n",
              "1    216500   3.0    1.0  612.0      1965.0       0.0        105.0       15.0   \n",
              "2    279900   3.0    1.0  615.0      1963.0       0.0         23.0       13.0   \n",
              "3    379900   3.0    1.0  618.0      2000.0    6074.0         23.0        9.0   \n",
              "4    340000   3.0    1.0  634.0      1992.0       0.0         23.0        7.0   \n",
              "\n",
              "   cafes  shopping  ...  exterior_walls_Brick veneer  \\\n",
              "0    3.0      89.0  ...                            0   \n",
              "1   13.0      87.0  ...                            0   \n",
              "2    3.0     101.0  ...                            0   \n",
              "3    3.0      22.0  ...                            0   \n",
              "4    3.0      83.0  ...                            0   \n",
              "\n",
              "   exterior_walls_Combination  exterior_walls_Metal  exterior_walls_Other  \\\n",
              "0                           0                     0                     0   \n",
              "1                           0                     0                     0   \n",
              "2                           0                     0                     0   \n",
              "3                           0                     0                     0   \n",
              "4                           0                     0                     0   \n",
              "\n",
              "   exterior_walls_Siding (Alum/Vinyl)  exterior_walls_Wood  \\\n",
              "0                                   0                    1   \n",
              "1                                   0                    0   \n",
              "2                                   0                    1   \n",
              "3                                   0                    1   \n",
              "4                                   0                    0   \n",
              "\n",
              "   roof_Composition Shingle  roof_Other  roof_Shake Shingle  \\\n",
              "0                         1           0                   0   \n",
              "1                         1           0                   0   \n",
              "2                         1           0                   0   \n",
              "3                         1           0                   0   \n",
              "4                         1           0                   0   \n",
              "\n",
              "   property_type_Single-Family  \n",
              "0                            0  \n",
              "1                            0  \n",
              "2                            0  \n",
              "3                            0  \n",
              "4                            0  \n",
              "\n",
              "[5 rows x 37 columns]"
            ],
            "text/html": [
              "\n",
              "  <div id=\"df-4149a385-2ccb-4fe9-9548-aee82de19217\">\n",
              "    <div class=\"colab-df-container\">\n",
              "      <div>\n",
              "<style scoped>\n",
              "    .dataframe tbody tr th:only-of-type {\n",
              "        vertical-align: middle;\n",
              "    }\n",
              "\n",
              "    .dataframe tbody tr th {\n",
              "        vertical-align: top;\n",
              "    }\n",
              "\n",
              "    .dataframe thead th {\n",
              "        text-align: right;\n",
              "    }\n",
              "</style>\n",
              "<table border=\"1\" class=\"dataframe\">\n",
              "  <thead>\n",
              "    <tr style=\"text-align: right;\">\n",
              "      <th></th>\n",
              "      <th>tx_price</th>\n",
              "      <th>beds</th>\n",
              "      <th>baths</th>\n",
              "      <th>sqft</th>\n",
              "      <th>year_built</th>\n",
              "      <th>lot_size</th>\n",
              "      <th>restaurants</th>\n",
              "      <th>groceries</th>\n",
              "      <th>cafes</th>\n",
              "      <th>shopping</th>\n",
              "      <th>...</th>\n",
              "      <th>exterior_walls_Brick veneer</th>\n",
              "      <th>exterior_walls_Combination</th>\n",
              "      <th>exterior_walls_Metal</th>\n",
              "      <th>exterior_walls_Other</th>\n",
              "      <th>exterior_walls_Siding (Alum/Vinyl)</th>\n",
              "      <th>exterior_walls_Wood</th>\n",
              "      <th>roof_Composition Shingle</th>\n",
              "      <th>roof_Other</th>\n",
              "      <th>roof_Shake Shingle</th>\n",
              "      <th>property_type_Single-Family</th>\n",
              "    </tr>\n",
              "  </thead>\n",
              "  <tbody>\n",
              "    <tr>\n",
              "      <th>0</th>\n",
              "      <td>295850</td>\n",
              "      <td>3.0</td>\n",
              "      <td>1.0</td>\n",
              "      <td>584.0</td>\n",
              "      <td>2013.0</td>\n",
              "      <td>0.0</td>\n",
              "      <td>107.0</td>\n",
              "      <td>9.0</td>\n",
              "      <td>3.0</td>\n",
              "      <td>89.0</td>\n",
              "      <td>...</td>\n",
              "      <td>0</td>\n",
              "      <td>0</td>\n",
              "      <td>0</td>\n",
              "      <td>0</td>\n",
              "      <td>0</td>\n",
              "      <td>1</td>\n",
              "      <td>1</td>\n",
              "      <td>0</td>\n",
              "      <td>0</td>\n",
              "      <td>0</td>\n",
              "    </tr>\n",
              "    <tr>\n",
              "      <th>1</th>\n",
              "      <td>216500</td>\n",
              "      <td>3.0</td>\n",
              "      <td>1.0</td>\n",
              "      <td>612.0</td>\n",
              "      <td>1965.0</td>\n",
              "      <td>0.0</td>\n",
              "      <td>105.0</td>\n",
              "      <td>15.0</td>\n",
              "      <td>13.0</td>\n",
              "      <td>87.0</td>\n",
              "      <td>...</td>\n",
              "      <td>0</td>\n",
              "      <td>0</td>\n",
              "      <td>0</td>\n",
              "      <td>0</td>\n",
              "      <td>0</td>\n",
              "      <td>0</td>\n",
              "      <td>1</td>\n",
              "      <td>0</td>\n",
              "      <td>0</td>\n",
              "      <td>0</td>\n",
              "    </tr>\n",
              "    <tr>\n",
              "      <th>2</th>\n",
              "      <td>279900</td>\n",
              "      <td>3.0</td>\n",
              "      <td>1.0</td>\n",
              "      <td>615.0</td>\n",
              "      <td>1963.0</td>\n",
              "      <td>0.0</td>\n",
              "      <td>23.0</td>\n",
              "      <td>13.0</td>\n",
              "      <td>3.0</td>\n",
              "      <td>101.0</td>\n",
              "      <td>...</td>\n",
              "      <td>0</td>\n",
              "      <td>0</td>\n",
              "      <td>0</td>\n",
              "      <td>0</td>\n",
              "      <td>0</td>\n",
              "      <td>1</td>\n",
              "      <td>1</td>\n",
              "      <td>0</td>\n",
              "      <td>0</td>\n",
              "      <td>0</td>\n",
              "    </tr>\n",
              "    <tr>\n",
              "      <th>3</th>\n",
              "      <td>379900</td>\n",
              "      <td>3.0</td>\n",
              "      <td>1.0</td>\n",
              "      <td>618.0</td>\n",
              "      <td>2000.0</td>\n",
              "      <td>6074.0</td>\n",
              "      <td>23.0</td>\n",
              "      <td>9.0</td>\n",
              "      <td>3.0</td>\n",
              "      <td>22.0</td>\n",
              "      <td>...</td>\n",
              "      <td>0</td>\n",
              "      <td>0</td>\n",
              "      <td>0</td>\n",
              "      <td>0</td>\n",
              "      <td>0</td>\n",
              "      <td>1</td>\n",
              "      <td>1</td>\n",
              "      <td>0</td>\n",
              "      <td>0</td>\n",
              "      <td>0</td>\n",
              "    </tr>\n",
              "    <tr>\n",
              "      <th>4</th>\n",
              "      <td>340000</td>\n",
              "      <td>3.0</td>\n",
              "      <td>1.0</td>\n",
              "      <td>634.0</td>\n",
              "      <td>1992.0</td>\n",
              "      <td>0.0</td>\n",
              "      <td>23.0</td>\n",
              "      <td>7.0</td>\n",
              "      <td>3.0</td>\n",
              "      <td>83.0</td>\n",
              "      <td>...</td>\n",
              "      <td>0</td>\n",
              "      <td>0</td>\n",
              "      <td>0</td>\n",
              "      <td>0</td>\n",
              "      <td>0</td>\n",
              "      <td>0</td>\n",
              "      <td>1</td>\n",
              "      <td>0</td>\n",
              "      <td>0</td>\n",
              "      <td>0</td>\n",
              "    </tr>\n",
              "  </tbody>\n",
              "</table>\n",
              "<p>5 rows × 37 columns</p>\n",
              "</div>\n",
              "      <button class=\"colab-df-convert\" onclick=\"convertToInteractive('df-4149a385-2ccb-4fe9-9548-aee82de19217')\"\n",
              "              title=\"Convert this dataframe to an interactive table.\"\n",
              "              style=\"display:none;\">\n",
              "        \n",
              "  <svg xmlns=\"http://www.w3.org/2000/svg\" height=\"24px\"viewBox=\"0 0 24 24\"\n",
              "       width=\"24px\">\n",
              "    <path d=\"M0 0h24v24H0V0z\" fill=\"none\"/>\n",
              "    <path d=\"M18.56 5.44l.94 2.06.94-2.06 2.06-.94-2.06-.94-.94-2.06-.94 2.06-2.06.94zm-11 1L8.5 8.5l.94-2.06 2.06-.94-2.06-.94L8.5 2.5l-.94 2.06-2.06.94zm10 10l.94 2.06.94-2.06 2.06-.94-2.06-.94-.94-2.06-.94 2.06-2.06.94z\"/><path d=\"M17.41 7.96l-1.37-1.37c-.4-.4-.92-.59-1.43-.59-.52 0-1.04.2-1.43.59L10.3 9.45l-7.72 7.72c-.78.78-.78 2.05 0 2.83L4 21.41c.39.39.9.59 1.41.59.51 0 1.02-.2 1.41-.59l7.78-7.78 2.81-2.81c.8-.78.8-2.07 0-2.86zM5.41 20L4 18.59l7.72-7.72 1.47 1.35L5.41 20z\"/>\n",
              "  </svg>\n",
              "      </button>\n",
              "      \n",
              "  <style>\n",
              "    .colab-df-container {\n",
              "      display:flex;\n",
              "      flex-wrap:wrap;\n",
              "      gap: 12px;\n",
              "    }\n",
              "\n",
              "    .colab-df-convert {\n",
              "      background-color: #E8F0FE;\n",
              "      border: none;\n",
              "      border-radius: 50%;\n",
              "      cursor: pointer;\n",
              "      display: none;\n",
              "      fill: #1967D2;\n",
              "      height: 32px;\n",
              "      padding: 0 0 0 0;\n",
              "      width: 32px;\n",
              "    }\n",
              "\n",
              "    .colab-df-convert:hover {\n",
              "      background-color: #E2EBFA;\n",
              "      box-shadow: 0px 1px 2px rgba(60, 64, 67, 0.3), 0px 1px 3px 1px rgba(60, 64, 67, 0.15);\n",
              "      fill: #174EA6;\n",
              "    }\n",
              "\n",
              "    [theme=dark] .colab-df-convert {\n",
              "      background-color: #3B4455;\n",
              "      fill: #D2E3FC;\n",
              "    }\n",
              "\n",
              "    [theme=dark] .colab-df-convert:hover {\n",
              "      background-color: #434B5C;\n",
              "      box-shadow: 0px 1px 3px 1px rgba(0, 0, 0, 0.15);\n",
              "      filter: drop-shadow(0px 1px 2px rgba(0, 0, 0, 0.3));\n",
              "      fill: #FFFFFF;\n",
              "    }\n",
              "  </style>\n",
              "\n",
              "      <script>\n",
              "        const buttonEl =\n",
              "          document.querySelector('#df-4149a385-2ccb-4fe9-9548-aee82de19217 button.colab-df-convert');\n",
              "        buttonEl.style.display =\n",
              "          google.colab.kernel.accessAllowed ? 'block' : 'none';\n",
              "\n",
              "        async function convertToInteractive(key) {\n",
              "          const element = document.querySelector('#df-4149a385-2ccb-4fe9-9548-aee82de19217');\n",
              "          const dataTable =\n",
              "            await google.colab.kernel.invokeFunction('convertToInteractive',\n",
              "                                                     [key], {});\n",
              "          if (!dataTable) return;\n",
              "\n",
              "          const docLinkHtml = 'Like what you see? Visit the ' +\n",
              "            '<a target=\"_blank\" href=https://colab.research.google.com/notebooks/data_table.ipynb>data table notebook</a>'\n",
              "            + ' to learn more about interactive tables.';\n",
              "          element.innerHTML = '';\n",
              "          dataTable['output_type'] = 'display_data';\n",
              "          await google.colab.output.renderOutput(dataTable, element);\n",
              "          const docLink = document.createElement('div');\n",
              "          docLink.innerHTML = docLinkHtml;\n",
              "          element.appendChild(docLink);\n",
              "        }\n",
              "      </script>\n",
              "    </div>\n",
              "  </div>\n",
              "  "
            ]
          },
          "metadata": {},
          "execution_count": 65
        }
      ],
      "source": [
        "df.head()"
      ]
    },
    {
      "cell_type": "markdown",
      "metadata": {
        "id": "_OFvaxolrk8g"
      },
      "source": [
        "##  Remove unused or redundant features\n",
        "* Redundant features would typically be those that have been **replaced by other features** that you've added.\n",
        "* For example, since we used 'tx_year' and 'year_built' to create the 'property_age' feature, we might consider removing them.\n"
      ]
    },
    {
      "cell_type": "code",
      "execution_count": null,
      "metadata": {
        "collapsed": true,
        "id": "S0feDaFork8h"
      },
      "outputs": [],
      "source": [
        "# Drop 'tx_year' and 'year_built' from the dataset\n",
        "df = df.drop(['tx_year', 'year_built'], axis=1)  ## axis=1 because we are dropping columns."
      ]
    },
    {
      "cell_type": "markdown",
      "metadata": {
        "id": "OVTT2Wrqrk8h"
      },
      "source": [
        "* Also remove 'property_tax' and 'insurance' as we have combined them in 'tax_and _insurance'"
      ]
    },
    {
      "cell_type": "code",
      "execution_count": null,
      "metadata": {
        "collapsed": true,
        "id": "jwuA0lQrrk8i"
      },
      "outputs": [],
      "source": [
        "df = df.drop(['property_tax', 'insurance'], axis=1)  ## axis=1 because we are dropping columns."
      ]
    },
    {
      "cell_type": "markdown",
      "metadata": {
        "id": "aM28rwW0rk8i"
      },
      "source": [
        "Finally, before we move on to the next module, let's save our new DataFrame we that augmented through feature engineering. We'll call it the analytical base table because we'll be building our models on it.\n",
        "* Remember to set the argument index=None to save only the data."
      ]
    },
    {
      "cell_type": "code",
      "source": [
        "df.columns"
      ],
      "metadata": {
        "colab": {
          "base_uri": "https://localhost:8080/"
        },
        "id": "Jt5eYi-MBj97",
        "outputId": "84e00d4b-348c-4c16-9279-8d3d650a2a25"
      },
      "execution_count": null,
      "outputs": [
        {
          "output_type": "execute_result",
          "data": {
            "text/plain": [
              "Index(['tx_price', 'beds', 'baths', 'sqft', 'lot_size', 'restaurants',\n",
              "       'groceries', 'cafes', 'shopping', 'arts_entertainment', 'beauty_spas',\n",
              "       'active_life', 'median_age', 'married', 'college_grad', 'median_school',\n",
              "       'num_schools', 'two_and_two', 'old_properties', 'tax_and_insurance',\n",
              "       'during_recession', 'property_age', 'school_score',\n",
              "       'exterior_walls_Brick veneer', 'exterior_walls_Combination',\n",
              "       'exterior_walls_Metal', 'exterior_walls_Other',\n",
              "       'exterior_walls_Siding (Alum/Vinyl)', 'exterior_walls_Wood',\n",
              "       'roof_Composition Shingle', 'roof_Other', 'roof_Shake Shingle',\n",
              "       'property_type_Single-Family'],\n",
              "      dtype='object')"
            ]
          },
          "metadata": {},
          "execution_count": 68
        }
      ]
    },
    {
      "cell_type": "markdown",
      "metadata": {
        "id": "fenE-96Ork8j"
      },
      "source": [
        "# Machine Learning Models\n",
        "## Data Preparation"
      ]
    },
    {
      "cell_type": "markdown",
      "metadata": {
        "id": "tUNLbHqnrk8l"
      },
      "source": [
        "###  Train and Test Splits\n",
        "Separate your dataframe into separate objects for the target variable (y) and the input features (X) and perform the train and test split"
      ]
    },
    {
      "cell_type": "code",
      "source": [
        "#writing  function  CHAIDDecisionTreeRegressor\n",
        "class CHAIDDecisionTreeRegressor:\n",
        "    \n",
        "    def __init__(self, max_depth=5, min_samples_split=2):\n",
        "        self.max_depth = max_depth  #determines the maximum depth of the decision tree that will be constructed\n",
        "        self.min_samples_split = min_samples_split #specifies the minimum number of samples required to split an internal node\n",
        "        self.tree = {}\n",
        "        \n",
        "   \n",
        "    def mse(self, y):\n",
        "        # Calculate mean squared error of targets\n",
        "        return np.mean((y - np.mean(y))**2)\n",
        "    \n",
        "    \n",
        "   \n",
        "    def split_data(self, feature, split, X, y):\n",
        "        left_indices = np.where(X[:, feature] < split) # find the indices of samples where the feature is less than the split value,(np.where)\n",
        "        right_indices = np.where(X[:, feature] >= split) # find the indices of samples where the feature is greater than or equal to the split value\n",
        "        X_left = X[left_indices] #create a new array of input samples for the left node using the left indices\n",
        "        y_left = y[left_indices] #create a new array of labels for the left node using the left indice\n",
        "        X_right = X[right_indices] # create a new array of input samples for the right node using the right indices\n",
        "        y_right = y[right_indices] # create a new array of labels for the right node using the right indices\n",
        "        return X_left, y_left, X_right, y_right # return the new input and label arrays for the left and right nodes\n",
        "   \n",
        "   \n",
        "    def chi_squared_test(self, x, y):\n",
        "        # Perform chi-squared test to determine if a split is significant\n",
        "        n_total = len(y) # calculate the total number of samples\n",
        "        n_left = len(np.where(x < x.mean())[0]) # calculate the number of samples in the left node (where x is less than the mean of x)\n",
        "        n_right = n_total - n_left # calculate the number of samples in the right node\n",
        "        p_left = n_left / n_total # calculate the   samples in the left node\n",
        "        p_right = n_right / n_total # calculate the  samples in the right node\n",
        "        y_left_mean = np.mean(y[x < x.mean()]) # calculate the mean of the labels for the samples in the left node\n",
        "        y_right_mean = np.mean(y[x >= x.mean()])  # calculate the mean of the labels for the samples in the right node\n",
        "        y_total_mean = np.mean(y) # calculate the mean of the labels for all the samples\n",
        "        chi_squared = (n_left * (y_left_mean - y_total_mean)**2 / (p_left * (1 - p_left)) +    # calculate the first part of the chi-squared test statistic\n",
        "                       n_right * (y_right_mean - y_total_mean)**2 / (p_right * (1 - p_right)))  # calculate the second part of the chi-squared test statistic\n",
        "        return chi_squared \n",
        "   \n",
        "    def find_split(self, X, y):\n",
        "        best_feature, best_split, best_chi2 = None, None, 0\n",
        "        n_features = X.shape[1] #This line finds the number of features in the feature matrix X\n",
        "        for feature in range(n_features): #sets up a loop that iterates over each feature in the input feature matrix X\n",
        "            for split in np.unique(X[:, feature]): #sets up a nested loop that iterates over the unique values of the feature \n",
        "                chi2 = self.chi_squared_test(X[:, feature], y) #passing in the values of the feature and target variable for the current split\n",
        "                if chi2 > best_chi2: \n",
        "                    best_feature, best_split, best_chi2 = feature, split, chi2 # chi-squared test statistic are stored in the best_feature, best_split, and best_chi2 variables.\n",
        "        return best_feature, best_split\n",
        "   \n",
        "   \n",
        "    def build_tree(self, X, y, depth):\n",
        "        # Recursively build the decision tree\n",
        "        n_samples, n_features = X.shape\n",
        "        # Check for stopping criteria\n",
        "        if depth == self.max_depth or n_samples < 2*self.min_samples_split:\n",
        "            leaf_value = np.mean(y)\n",
        "            return leaf_value\n",
        "        best_feature, best_split = self.find_split(X, y) #index of the best feature to split on and the best threshold to use for that feature\n",
        "        if best_feature is None:\n",
        "            leaf_value = np.mean(y)\n",
        "            return leaf_value\n",
        "        #The method returns four NumPy arrays: X_left and y_left, which contain the subset of the dataset\n",
        "        # where the feature value is less than or equal to the threshold, and X_right and y_right,\n",
        "        # which contain the subset of the dataset where the feature value is greater than the threshold\n",
        "        X_left, y_left, X_right, y_right = self.split_data(best_feature, best_split, X, y)\n",
        "        #This line is creating a Python dictionary called decision_node that represents a decision node in the decision tree\n",
        "        decision_node = {\"feature\": best_feature, \"split\": best_split, \"left\": None, \"right\": None}\n",
        "        decision_node[\"left\"] = self.build_tree(X_left, y_left, depth+1)# The value is the result of a recursive call to the build_tre\n",
        "        decision_node[\"right\"] = self.build_tree(X_right, y_right, depth+1)\n",
        "        return decision_node\n",
        "    \n",
        "    \n",
        "    def fit(self, X, y):\n",
        "          # Build the decision tree\n",
        "          self.tree = self.build_tree(X, y, depth=0)\n",
        "    \n",
        "    \n",
        "    def predict_single(self, x):\n",
        "        # Traverse the decision tree to make a prediction for a single instance\n",
        "        node = self.tree\n",
        "        while isinstance(node, dict):\n",
        "            if x[node[\"feature\"]] < node[\"split\"]:\n",
        "                node = node[\"left\"]\n",
        "            else:\n",
        "                node = node[\"right\"]\n",
        "        return node\n",
        "    \n",
        "    def predict(self, X):\n",
        "        # Make predictions for multiple instances\n",
        "        return np.array([self.predict_single(x) for x in X])\n",
        "    \n",
        "    # writing  function for r2_score (R2 = 1 - (SSres / SStot)) \n",
        "    def r2(self,y_true, y_pred):\n",
        "      # Calculate the mean of the true values\n",
        "      y_true_mean = sum(y_true) / len(y_true)\n",
        "      \n",
        "      # Calculate the total sum of squares (TSS)\n",
        "      tss = sum((y_true - y_true_mean) ** 2)\n",
        "      \n",
        "      # Calculate the residual sum of squares (RSS)\n",
        "      rss = sum((y_true - y_pred) ** 2)\n",
        "      \n",
        "      # Calculate the R-squared value\n",
        "      r2_score = 1 - (rss / tss)\n",
        "      \n",
        "      return r2_score\n",
        "\n",
        "\n",
        "    # To calaulate the MSE \n",
        "    def score(self,y_true, y_pred):\n",
        "   \n",
        "      # Check if the lengths of both arrays are equal\n",
        "      if len(y_true) != len(y_pred):\n",
        "          raise ValueError(\"Length of y_true and y_pred should be the same.\")\n",
        "      \n",
        "      # Calculate the squared differences between the true and predicted values\n",
        "      squared_differences = [(y_true[i] - y_pred[i])**2 for i in range(len(y_true))]\n",
        "      \n",
        "      # Calculate the mean of the squared differences\n",
        "      mse1 = sum(squared_differences) / len(squared_differences)\n",
        "      \n",
        "      return mse1\n",
        "    \n",
        "    def set_params(self, **kwargs):#**kwargs allows us to pass a variable number of keyword arguments\n",
        "        for key, value in kwargs.items():\n",
        "            setattr(self, key, value)\n",
        "        return self\n",
        "    \n",
        "\n",
        "\n",
        "    "
      ],
      "metadata": {
        "id": "s3D79AbSCIdV"
      },
      "execution_count": null,
      "outputs": []
    },
    {
      "cell_type": "code",
      "source": [
        "def r2(y_true, y_pred):\n",
        "      # Calculate the mean of the true values\n",
        "      y_true_mean = sum(y_true) / len(y_true)\n",
        "      \n",
        "      # Calculate the total sum of squares (TSS)\n",
        "      tss = sum((y_true - y_true_mean) ** 2)\n",
        "      \n",
        "      # Calculate the residual sum of squares (RSS)\n",
        "      rss = sum((y_true - y_pred) ** 2)\n",
        "      \n",
        "      # Calculate the R-squared value\n",
        "      r2_score = 1 - (rss / tss)\n",
        "      \n",
        "      return r2_score"
      ],
      "metadata": {
        "id": "wAsudwijEzhk"
      },
      "execution_count": null,
      "outputs": []
    },
    {
      "cell_type": "code",
      "source": [
        "def mean_squared_error1(y_true, y_pred):\n",
        "   \n",
        "      # Check if the lengths of both arrays are equal\n",
        "      if len(y_true) != len(y_pred):\n",
        "          raise ValueError(\"Length of y_true and y_pred should be the same.\")\n",
        "      \n",
        "      # Calculate the squared differences between the true and predicted values\n",
        "      squared_differences = [(y_true[i] - y_pred[i])**2 for i in range(len(y_true))]\n",
        "      \n",
        "      # Calculate the mean of the squared differences\n",
        "      mse1 = sum(squared_differences) / len(squared_differences)\n",
        "      \n",
        "      return mse1"
      ],
      "metadata": {
        "id": "tv5AagSRCYeU"
      },
      "execution_count": null,
      "outputs": []
    },
    {
      "cell_type": "code",
      "source": [
        "from sklearn.model_selection import train_test_split\n",
        "\n",
        "from sklearn.tree import DecisionTreeRegressor"
      ],
      "metadata": {
        "id": "GXrPQDbvCgkg"
      },
      "execution_count": null,
      "outputs": []
    },
    {
      "cell_type": "code",
      "source": [
        "df.head()"
      ],
      "metadata": {
        "colab": {
          "base_uri": "https://localhost:8080/",
          "height": 317
        },
        "id": "mNYsr9XoKgNx",
        "outputId": "2ae82e47-3add-4908-f546-066040b926f9"
      },
      "execution_count": null,
      "outputs": [
        {
          "output_type": "execute_result",
          "data": {
            "text/plain": [
              "   tx_price  beds  baths   sqft  lot_size  restaurants  groceries  cafes  \\\n",
              "0    295850   3.0    1.0  584.0       0.0        107.0        9.0    3.0   \n",
              "1    216500   3.0    1.0  612.0       0.0        105.0       15.0   13.0   \n",
              "2    279900   3.0    1.0  615.0       0.0         23.0       13.0    3.0   \n",
              "3    379900   3.0    1.0  618.0    6074.0         23.0        9.0    3.0   \n",
              "4    340000   3.0    1.0  634.0       0.0         23.0        7.0    3.0   \n",
              "\n",
              "   shopping  arts_entertainment  ...  exterior_walls_Brick veneer  \\\n",
              "0      89.0                 6.0  ...                            0   \n",
              "1      87.0                 2.0  ...                            0   \n",
              "2     101.0                10.0  ...                            0   \n",
              "3      22.0                11.0  ...                            0   \n",
              "4      83.0                10.0  ...                            0   \n",
              "\n",
              "   exterior_walls_Combination  exterior_walls_Metal  exterior_walls_Other  \\\n",
              "0                           0                     0                     0   \n",
              "1                           0                     0                     0   \n",
              "2                           0                     0                     0   \n",
              "3                           0                     0                     0   \n",
              "4                           0                     0                     0   \n",
              "\n",
              "   exterior_walls_Siding (Alum/Vinyl)  exterior_walls_Wood  \\\n",
              "0                                   0                    1   \n",
              "1                                   0                    0   \n",
              "2                                   0                    1   \n",
              "3                                   0                    1   \n",
              "4                                   0                    0   \n",
              "\n",
              "   roof_Composition Shingle  roof_Other  roof_Shake Shingle  \\\n",
              "0                         1           0                   0   \n",
              "1                         1           0                   0   \n",
              "2                         1           0                   0   \n",
              "3                         1           0                   0   \n",
              "4                         1           0                   0   \n",
              "\n",
              "   property_type_Single-Family  \n",
              "0                            0  \n",
              "1                            0  \n",
              "2                            0  \n",
              "3                            0  \n",
              "4                            0  \n",
              "\n",
              "[5 rows x 33 columns]"
            ],
            "text/html": [
              "\n",
              "  <div id=\"df-711108e4-0fd6-4659-9816-1eca9d5f99ef\">\n",
              "    <div class=\"colab-df-container\">\n",
              "      <div>\n",
              "<style scoped>\n",
              "    .dataframe tbody tr th:only-of-type {\n",
              "        vertical-align: middle;\n",
              "    }\n",
              "\n",
              "    .dataframe tbody tr th {\n",
              "        vertical-align: top;\n",
              "    }\n",
              "\n",
              "    .dataframe thead th {\n",
              "        text-align: right;\n",
              "    }\n",
              "</style>\n",
              "<table border=\"1\" class=\"dataframe\">\n",
              "  <thead>\n",
              "    <tr style=\"text-align: right;\">\n",
              "      <th></th>\n",
              "      <th>tx_price</th>\n",
              "      <th>beds</th>\n",
              "      <th>baths</th>\n",
              "      <th>sqft</th>\n",
              "      <th>lot_size</th>\n",
              "      <th>restaurants</th>\n",
              "      <th>groceries</th>\n",
              "      <th>cafes</th>\n",
              "      <th>shopping</th>\n",
              "      <th>arts_entertainment</th>\n",
              "      <th>...</th>\n",
              "      <th>exterior_walls_Brick veneer</th>\n",
              "      <th>exterior_walls_Combination</th>\n",
              "      <th>exterior_walls_Metal</th>\n",
              "      <th>exterior_walls_Other</th>\n",
              "      <th>exterior_walls_Siding (Alum/Vinyl)</th>\n",
              "      <th>exterior_walls_Wood</th>\n",
              "      <th>roof_Composition Shingle</th>\n",
              "      <th>roof_Other</th>\n",
              "      <th>roof_Shake Shingle</th>\n",
              "      <th>property_type_Single-Family</th>\n",
              "    </tr>\n",
              "  </thead>\n",
              "  <tbody>\n",
              "    <tr>\n",
              "      <th>0</th>\n",
              "      <td>295850</td>\n",
              "      <td>3.0</td>\n",
              "      <td>1.0</td>\n",
              "      <td>584.0</td>\n",
              "      <td>0.0</td>\n",
              "      <td>107.0</td>\n",
              "      <td>9.0</td>\n",
              "      <td>3.0</td>\n",
              "      <td>89.0</td>\n",
              "      <td>6.0</td>\n",
              "      <td>...</td>\n",
              "      <td>0</td>\n",
              "      <td>0</td>\n",
              "      <td>0</td>\n",
              "      <td>0</td>\n",
              "      <td>0</td>\n",
              "      <td>1</td>\n",
              "      <td>1</td>\n",
              "      <td>0</td>\n",
              "      <td>0</td>\n",
              "      <td>0</td>\n",
              "    </tr>\n",
              "    <tr>\n",
              "      <th>1</th>\n",
              "      <td>216500</td>\n",
              "      <td>3.0</td>\n",
              "      <td>1.0</td>\n",
              "      <td>612.0</td>\n",
              "      <td>0.0</td>\n",
              "      <td>105.0</td>\n",
              "      <td>15.0</td>\n",
              "      <td>13.0</td>\n",
              "      <td>87.0</td>\n",
              "      <td>2.0</td>\n",
              "      <td>...</td>\n",
              "      <td>0</td>\n",
              "      <td>0</td>\n",
              "      <td>0</td>\n",
              "      <td>0</td>\n",
              "      <td>0</td>\n",
              "      <td>0</td>\n",
              "      <td>1</td>\n",
              "      <td>0</td>\n",
              "      <td>0</td>\n",
              "      <td>0</td>\n",
              "    </tr>\n",
              "    <tr>\n",
              "      <th>2</th>\n",
              "      <td>279900</td>\n",
              "      <td>3.0</td>\n",
              "      <td>1.0</td>\n",
              "      <td>615.0</td>\n",
              "      <td>0.0</td>\n",
              "      <td>23.0</td>\n",
              "      <td>13.0</td>\n",
              "      <td>3.0</td>\n",
              "      <td>101.0</td>\n",
              "      <td>10.0</td>\n",
              "      <td>...</td>\n",
              "      <td>0</td>\n",
              "      <td>0</td>\n",
              "      <td>0</td>\n",
              "      <td>0</td>\n",
              "      <td>0</td>\n",
              "      <td>1</td>\n",
              "      <td>1</td>\n",
              "      <td>0</td>\n",
              "      <td>0</td>\n",
              "      <td>0</td>\n",
              "    </tr>\n",
              "    <tr>\n",
              "      <th>3</th>\n",
              "      <td>379900</td>\n",
              "      <td>3.0</td>\n",
              "      <td>1.0</td>\n",
              "      <td>618.0</td>\n",
              "      <td>6074.0</td>\n",
              "      <td>23.0</td>\n",
              "      <td>9.0</td>\n",
              "      <td>3.0</td>\n",
              "      <td>22.0</td>\n",
              "      <td>11.0</td>\n",
              "      <td>...</td>\n",
              "      <td>0</td>\n",
              "      <td>0</td>\n",
              "      <td>0</td>\n",
              "      <td>0</td>\n",
              "      <td>0</td>\n",
              "      <td>1</td>\n",
              "      <td>1</td>\n",
              "      <td>0</td>\n",
              "      <td>0</td>\n",
              "      <td>0</td>\n",
              "    </tr>\n",
              "    <tr>\n",
              "      <th>4</th>\n",
              "      <td>340000</td>\n",
              "      <td>3.0</td>\n",
              "      <td>1.0</td>\n",
              "      <td>634.0</td>\n",
              "      <td>0.0</td>\n",
              "      <td>23.0</td>\n",
              "      <td>7.0</td>\n",
              "      <td>3.0</td>\n",
              "      <td>83.0</td>\n",
              "      <td>10.0</td>\n",
              "      <td>...</td>\n",
              "      <td>0</td>\n",
              "      <td>0</td>\n",
              "      <td>0</td>\n",
              "      <td>0</td>\n",
              "      <td>0</td>\n",
              "      <td>0</td>\n",
              "      <td>1</td>\n",
              "      <td>0</td>\n",
              "      <td>0</td>\n",
              "      <td>0</td>\n",
              "    </tr>\n",
              "  </tbody>\n",
              "</table>\n",
              "<p>5 rows × 33 columns</p>\n",
              "</div>\n",
              "      <button class=\"colab-df-convert\" onclick=\"convertToInteractive('df-711108e4-0fd6-4659-9816-1eca9d5f99ef')\"\n",
              "              title=\"Convert this dataframe to an interactive table.\"\n",
              "              style=\"display:none;\">\n",
              "        \n",
              "  <svg xmlns=\"http://www.w3.org/2000/svg\" height=\"24px\"viewBox=\"0 0 24 24\"\n",
              "       width=\"24px\">\n",
              "    <path d=\"M0 0h24v24H0V0z\" fill=\"none\"/>\n",
              "    <path d=\"M18.56 5.44l.94 2.06.94-2.06 2.06-.94-2.06-.94-.94-2.06-.94 2.06-2.06.94zm-11 1L8.5 8.5l.94-2.06 2.06-.94-2.06-.94L8.5 2.5l-.94 2.06-2.06.94zm10 10l.94 2.06.94-2.06 2.06-.94-2.06-.94-.94-2.06-.94 2.06-2.06.94z\"/><path d=\"M17.41 7.96l-1.37-1.37c-.4-.4-.92-.59-1.43-.59-.52 0-1.04.2-1.43.59L10.3 9.45l-7.72 7.72c-.78.78-.78 2.05 0 2.83L4 21.41c.39.39.9.59 1.41.59.51 0 1.02-.2 1.41-.59l7.78-7.78 2.81-2.81c.8-.78.8-2.07 0-2.86zM5.41 20L4 18.59l7.72-7.72 1.47 1.35L5.41 20z\"/>\n",
              "  </svg>\n",
              "      </button>\n",
              "      \n",
              "  <style>\n",
              "    .colab-df-container {\n",
              "      display:flex;\n",
              "      flex-wrap:wrap;\n",
              "      gap: 12px;\n",
              "    }\n",
              "\n",
              "    .colab-df-convert {\n",
              "      background-color: #E8F0FE;\n",
              "      border: none;\n",
              "      border-radius: 50%;\n",
              "      cursor: pointer;\n",
              "      display: none;\n",
              "      fill: #1967D2;\n",
              "      height: 32px;\n",
              "      padding: 0 0 0 0;\n",
              "      width: 32px;\n",
              "    }\n",
              "\n",
              "    .colab-df-convert:hover {\n",
              "      background-color: #E2EBFA;\n",
              "      box-shadow: 0px 1px 2px rgba(60, 64, 67, 0.3), 0px 1px 3px 1px rgba(60, 64, 67, 0.15);\n",
              "      fill: #174EA6;\n",
              "    }\n",
              "\n",
              "    [theme=dark] .colab-df-convert {\n",
              "      background-color: #3B4455;\n",
              "      fill: #D2E3FC;\n",
              "    }\n",
              "\n",
              "    [theme=dark] .colab-df-convert:hover {\n",
              "      background-color: #434B5C;\n",
              "      box-shadow: 0px 1px 3px 1px rgba(0, 0, 0, 0.15);\n",
              "      filter: drop-shadow(0px 1px 2px rgba(0, 0, 0, 0.3));\n",
              "      fill: #FFFFFF;\n",
              "    }\n",
              "  </style>\n",
              "\n",
              "      <script>\n",
              "        const buttonEl =\n",
              "          document.querySelector('#df-711108e4-0fd6-4659-9816-1eca9d5f99ef button.colab-df-convert');\n",
              "        buttonEl.style.display =\n",
              "          google.colab.kernel.accessAllowed ? 'block' : 'none';\n",
              "\n",
              "        async function convertToInteractive(key) {\n",
              "          const element = document.querySelector('#df-711108e4-0fd6-4659-9816-1eca9d5f99ef');\n",
              "          const dataTable =\n",
              "            await google.colab.kernel.invokeFunction('convertToInteractive',\n",
              "                                                     [key], {});\n",
              "          if (!dataTable) return;\n",
              "\n",
              "          const docLinkHtml = 'Like what you see? Visit the ' +\n",
              "            '<a target=\"_blank\" href=https://colab.research.google.com/notebooks/data_table.ipynb>data table notebook</a>'\n",
              "            + ' to learn more about interactive tables.';\n",
              "          element.innerHTML = '';\n",
              "          dataTable['output_type'] = 'display_data';\n",
              "          await google.colab.output.renderOutput(dataTable, element);\n",
              "          const docLink = document.createElement('div');\n",
              "          docLink.innerHTML = docLinkHtml;\n",
              "          element.appendChild(docLink);\n",
              "        }\n",
              "      </script>\n",
              "    </div>\n",
              "  </div>\n",
              "  "
            ]
          },
          "metadata": {},
          "execution_count": 73
        }
      ]
    },
    {
      "cell_type": "code",
      "source": [],
      "metadata": {
        "id": "XTwmlTNrOWAD"
      },
      "execution_count": null,
      "outputs": []
    },
    {
      "cell_type": "code",
      "source": [
        "X=df.drop('tx_price',axis=1)\n",
        "y=df['tx_price']"
      ],
      "metadata": {
        "id": "CDHBVgEvk_Jt"
      },
      "execution_count": null,
      "outputs": []
    },
    {
      "cell_type": "code",
      "execution_count": null,
      "metadata": {
        "collapsed": true,
        "id": "_yd_nUzErk8m"
      },
      "outputs": [],
      "source": [
        "\n",
        "# Split X and y into train and test sets: 80-20\n",
        "xtrain,ytrain,xtest,ytest=train_test_split(X,y,test_size=0.2)"
      ]
    },
    {
      "cell_type": "markdown",
      "metadata": {
        "id": "hPsiTjV1rk8n"
      },
      "source": [
        "Let's confirm we have the right number of observations in each subset."
      ]
    },
    {
      "cell_type": "code",
      "source": [],
      "metadata": {
        "id": "9poQJYELNIWg"
      },
      "execution_count": null,
      "outputs": []
    }
  ],
  "metadata": {
    "kernelspec": {
      "display_name": "Python 3",
      "language": "python",
      "name": "python3"
    },
    "language_info": {
      "codemirror_mode": {
        "name": "ipython",
        "version": 3
      },
      "file_extension": ".py",
      "mimetype": "text/x-python",
      "name": "python",
      "nbconvert_exporter": "python",
      "pygments_lexer": "ipython3",
      "version": "3.6.3"
    },
    "colab": {
      "provenance": []
    }
  },
  "nbformat": 4,
  "nbformat_minor": 0
}