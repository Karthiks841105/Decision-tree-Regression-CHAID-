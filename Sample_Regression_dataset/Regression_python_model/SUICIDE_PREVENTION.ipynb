{
  "nbformat": 4,
  "nbformat_minor": 0,
  "metadata": {
    "colab": {
      "provenance": []
    },
    "kernelspec": {
      "name": "python3",
      "display_name": "Python 3"
    },
    "language_info": {
      "name": "python"
    }
  },
  "cells": [
    {
      "cell_type": "code",
      "execution_count": 1,
      "metadata": {
        "id": "UOj1720KPgkD"
      },
      "outputs": [],
      "source": [
        "# Importing all necessary Libaries\n",
        "\n",
        "import numpy as np # numpy used for mathematical operation on array\n",
        "import pandas as pd  # pandas used for data manipulation on dataframe\n",
        "import seaborn as sns # seaborn used for data visualization\n",
        "import matplotlib.pyplot as plt # matplotlib used for data visualization"
      ]
    },
    {
      "cell_type": "code",
      "source": [
        "df1=pd.read_csv(\"/content/suicide(1).csv\")\n",
        "df1.head()"
      ],
      "metadata": {
        "colab": {
          "base_uri": "https://localhost:8080/",
          "height": 206
        },
        "id": "IsyaSnRfPxP2",
        "outputId": "90c10645-bcf6-49fa-ea2d-c57e2e0b98e2"
      },
      "execution_count": 2,
      "outputs": [
        {
          "output_type": "execute_result",
          "data": {
            "text/plain": [
              "   id country-year  HDI for year  gdp_for_year ($)   gdp_per_capita ($)  \\\n",
              "0   1  Albania1987           NaN      2,156,624,900               796.0   \n",
              "1   2  Albania1987           NaN      2,156,624,900                 NaN   \n",
              "2   3  Albania1987           NaN      2,156,624,900               796.0   \n",
              "3   4  Albania1987           NaN      2,156,624,900               796.0   \n",
              "4   5  Albania1987           NaN      2,156,624,900               796.0   \n",
              "\n",
              "        generation  \n",
              "0     Generation X  \n",
              "1           Silent  \n",
              "2     Generation X  \n",
              "3  G.I. Generation  \n",
              "4          Boomers  "
            ],
            "text/html": [
              "\n",
              "  <div id=\"df-c6d74b50-932b-4f80-8748-a4ebe0b27b35\">\n",
              "    <div class=\"colab-df-container\">\n",
              "      <div>\n",
              "<style scoped>\n",
              "    .dataframe tbody tr th:only-of-type {\n",
              "        vertical-align: middle;\n",
              "    }\n",
              "\n",
              "    .dataframe tbody tr th {\n",
              "        vertical-align: top;\n",
              "    }\n",
              "\n",
              "    .dataframe thead th {\n",
              "        text-align: right;\n",
              "    }\n",
              "</style>\n",
              "<table border=\"1\" class=\"dataframe\">\n",
              "  <thead>\n",
              "    <tr style=\"text-align: right;\">\n",
              "      <th></th>\n",
              "      <th>id</th>\n",
              "      <th>country-year</th>\n",
              "      <th>HDI for year</th>\n",
              "      <th>gdp_for_year ($)</th>\n",
              "      <th>gdp_per_capita ($)</th>\n",
              "      <th>generation</th>\n",
              "    </tr>\n",
              "  </thead>\n",
              "  <tbody>\n",
              "    <tr>\n",
              "      <th>0</th>\n",
              "      <td>1</td>\n",
              "      <td>Albania1987</td>\n",
              "      <td>NaN</td>\n",
              "      <td>2,156,624,900</td>\n",
              "      <td>796.0</td>\n",
              "      <td>Generation X</td>\n",
              "    </tr>\n",
              "    <tr>\n",
              "      <th>1</th>\n",
              "      <td>2</td>\n",
              "      <td>Albania1987</td>\n",
              "      <td>NaN</td>\n",
              "      <td>2,156,624,900</td>\n",
              "      <td>NaN</td>\n",
              "      <td>Silent</td>\n",
              "    </tr>\n",
              "    <tr>\n",
              "      <th>2</th>\n",
              "      <td>3</td>\n",
              "      <td>Albania1987</td>\n",
              "      <td>NaN</td>\n",
              "      <td>2,156,624,900</td>\n",
              "      <td>796.0</td>\n",
              "      <td>Generation X</td>\n",
              "    </tr>\n",
              "    <tr>\n",
              "      <th>3</th>\n",
              "      <td>4</td>\n",
              "      <td>Albania1987</td>\n",
              "      <td>NaN</td>\n",
              "      <td>2,156,624,900</td>\n",
              "      <td>796.0</td>\n",
              "      <td>G.I. Generation</td>\n",
              "    </tr>\n",
              "    <tr>\n",
              "      <th>4</th>\n",
              "      <td>5</td>\n",
              "      <td>Albania1987</td>\n",
              "      <td>NaN</td>\n",
              "      <td>2,156,624,900</td>\n",
              "      <td>796.0</td>\n",
              "      <td>Boomers</td>\n",
              "    </tr>\n",
              "  </tbody>\n",
              "</table>\n",
              "</div>\n",
              "      <button class=\"colab-df-convert\" onclick=\"convertToInteractive('df-c6d74b50-932b-4f80-8748-a4ebe0b27b35')\"\n",
              "              title=\"Convert this dataframe to an interactive table.\"\n",
              "              style=\"display:none;\">\n",
              "        \n",
              "  <svg xmlns=\"http://www.w3.org/2000/svg\" height=\"24px\"viewBox=\"0 0 24 24\"\n",
              "       width=\"24px\">\n",
              "    <path d=\"M0 0h24v24H0V0z\" fill=\"none\"/>\n",
              "    <path d=\"M18.56 5.44l.94 2.06.94-2.06 2.06-.94-2.06-.94-.94-2.06-.94 2.06-2.06.94zm-11 1L8.5 8.5l.94-2.06 2.06-.94-2.06-.94L8.5 2.5l-.94 2.06-2.06.94zm10 10l.94 2.06.94-2.06 2.06-.94-2.06-.94-.94-2.06-.94 2.06-2.06.94z\"/><path d=\"M17.41 7.96l-1.37-1.37c-.4-.4-.92-.59-1.43-.59-.52 0-1.04.2-1.43.59L10.3 9.45l-7.72 7.72c-.78.78-.78 2.05 0 2.83L4 21.41c.39.39.9.59 1.41.59.51 0 1.02-.2 1.41-.59l7.78-7.78 2.81-2.81c.8-.78.8-2.07 0-2.86zM5.41 20L4 18.59l7.72-7.72 1.47 1.35L5.41 20z\"/>\n",
              "  </svg>\n",
              "      </button>\n",
              "      \n",
              "  <style>\n",
              "    .colab-df-container {\n",
              "      display:flex;\n",
              "      flex-wrap:wrap;\n",
              "      gap: 12px;\n",
              "    }\n",
              "\n",
              "    .colab-df-convert {\n",
              "      background-color: #E8F0FE;\n",
              "      border: none;\n",
              "      border-radius: 50%;\n",
              "      cursor: pointer;\n",
              "      display: none;\n",
              "      fill: #1967D2;\n",
              "      height: 32px;\n",
              "      padding: 0 0 0 0;\n",
              "      width: 32px;\n",
              "    }\n",
              "\n",
              "    .colab-df-convert:hover {\n",
              "      background-color: #E2EBFA;\n",
              "      box-shadow: 0px 1px 2px rgba(60, 64, 67, 0.3), 0px 1px 3px 1px rgba(60, 64, 67, 0.15);\n",
              "      fill: #174EA6;\n",
              "    }\n",
              "\n",
              "    [theme=dark] .colab-df-convert {\n",
              "      background-color: #3B4455;\n",
              "      fill: #D2E3FC;\n",
              "    }\n",
              "\n",
              "    [theme=dark] .colab-df-convert:hover {\n",
              "      background-color: #434B5C;\n",
              "      box-shadow: 0px 1px 3px 1px rgba(0, 0, 0, 0.15);\n",
              "      filter: drop-shadow(0px 1px 2px rgba(0, 0, 0, 0.3));\n",
              "      fill: #FFFFFF;\n",
              "    }\n",
              "  </style>\n",
              "\n",
              "      <script>\n",
              "        const buttonEl =\n",
              "          document.querySelector('#df-c6d74b50-932b-4f80-8748-a4ebe0b27b35 button.colab-df-convert');\n",
              "        buttonEl.style.display =\n",
              "          google.colab.kernel.accessAllowed ? 'block' : 'none';\n",
              "\n",
              "        async function convertToInteractive(key) {\n",
              "          const element = document.querySelector('#df-c6d74b50-932b-4f80-8748-a4ebe0b27b35');\n",
              "          const dataTable =\n",
              "            await google.colab.kernel.invokeFunction('convertToInteractive',\n",
              "                                                     [key], {});\n",
              "          if (!dataTable) return;\n",
              "\n",
              "          const docLinkHtml = 'Like what you see? Visit the ' +\n",
              "            '<a target=\"_blank\" href=https://colab.research.google.com/notebooks/data_table.ipynb>data table notebook</a>'\n",
              "            + ' to learn more about interactive tables.';\n",
              "          element.innerHTML = '';\n",
              "          dataTable['output_type'] = 'display_data';\n",
              "          await google.colab.output.renderOutput(dataTable, element);\n",
              "          const docLink = document.createElement('div');\n",
              "          docLink.innerHTML = docLinkHtml;\n",
              "          element.appendChild(docLink);\n",
              "        }\n",
              "      </script>\n",
              "    </div>\n",
              "  </div>\n",
              "  "
            ]
          },
          "metadata": {},
          "execution_count": 2
        }
      ]
    },
    {
      "cell_type": "code",
      "source": [
        "df1.shape"
      ],
      "metadata": {
        "colab": {
          "base_uri": "https://localhost:8080/"
        },
        "id": "yOPK31NkQ9mR",
        "outputId": "1ca3b2fe-e3dc-40d4-9f9a-56fdb8820802"
      },
      "execution_count": 3,
      "outputs": [
        {
          "output_type": "execute_result",
          "data": {
            "text/plain": [
              "(27820, 6)"
            ]
          },
          "metadata": {},
          "execution_count": 3
        }
      ]
    },
    {
      "cell_type": "code",
      "source": [
        "df2=pd.read_csv(\"/content/suicide(2).csv\")\n",
        "df2.head()"
      ],
      "metadata": {
        "colab": {
          "base_uri": "https://localhost:8080/",
          "height": 206
        },
        "id": "RO9gjm1vP2dX",
        "outputId": "852cf3ee-fd7c-461b-b3e0-321ed413b4ff"
      },
      "execution_count": 4,
      "outputs": [
        {
          "output_type": "execute_result",
          "data": {
            "text/plain": [
              "   id  country    year     sex          age  suicides_no population  \\\n",
              "0   1  Albania  1987.0    male          NaN           21   312900.0   \n",
              "1   2  Albania  1987.0    male          NaN           16   308000.0   \n",
              "2   3  Albania     NaN  female  15-24 years           14   289700.0   \n",
              "3   4  Albania  1987.0    male    75+ years            1        NaN   \n",
              "4   5  Albania  1987.0    male  25-34 years            9   274300.0   \n",
              "\n",
              "   suicides/100k pop  \n",
              "0               6.71  \n",
              "1               5.19  \n",
              "2               4.83  \n",
              "3               4.59  \n",
              "4               3.28  "
            ],
            "text/html": [
              "\n",
              "  <div id=\"df-7f4450be-0d22-47da-a8b4-9f053dcd2dd3\">\n",
              "    <div class=\"colab-df-container\">\n",
              "      <div>\n",
              "<style scoped>\n",
              "    .dataframe tbody tr th:only-of-type {\n",
              "        vertical-align: middle;\n",
              "    }\n",
              "\n",
              "    .dataframe tbody tr th {\n",
              "        vertical-align: top;\n",
              "    }\n",
              "\n",
              "    .dataframe thead th {\n",
              "        text-align: right;\n",
              "    }\n",
              "</style>\n",
              "<table border=\"1\" class=\"dataframe\">\n",
              "  <thead>\n",
              "    <tr style=\"text-align: right;\">\n",
              "      <th></th>\n",
              "      <th>id</th>\n",
              "      <th>country</th>\n",
              "      <th>year</th>\n",
              "      <th>sex</th>\n",
              "      <th>age</th>\n",
              "      <th>suicides_no</th>\n",
              "      <th>population</th>\n",
              "      <th>suicides/100k pop</th>\n",
              "    </tr>\n",
              "  </thead>\n",
              "  <tbody>\n",
              "    <tr>\n",
              "      <th>0</th>\n",
              "      <td>1</td>\n",
              "      <td>Albania</td>\n",
              "      <td>1987.0</td>\n",
              "      <td>male</td>\n",
              "      <td>NaN</td>\n",
              "      <td>21</td>\n",
              "      <td>312900.0</td>\n",
              "      <td>6.71</td>\n",
              "    </tr>\n",
              "    <tr>\n",
              "      <th>1</th>\n",
              "      <td>2</td>\n",
              "      <td>Albania</td>\n",
              "      <td>1987.0</td>\n",
              "      <td>male</td>\n",
              "      <td>NaN</td>\n",
              "      <td>16</td>\n",
              "      <td>308000.0</td>\n",
              "      <td>5.19</td>\n",
              "    </tr>\n",
              "    <tr>\n",
              "      <th>2</th>\n",
              "      <td>3</td>\n",
              "      <td>Albania</td>\n",
              "      <td>NaN</td>\n",
              "      <td>female</td>\n",
              "      <td>15-24 years</td>\n",
              "      <td>14</td>\n",
              "      <td>289700.0</td>\n",
              "      <td>4.83</td>\n",
              "    </tr>\n",
              "    <tr>\n",
              "      <th>3</th>\n",
              "      <td>4</td>\n",
              "      <td>Albania</td>\n",
              "      <td>1987.0</td>\n",
              "      <td>male</td>\n",
              "      <td>75+ years</td>\n",
              "      <td>1</td>\n",
              "      <td>NaN</td>\n",
              "      <td>4.59</td>\n",
              "    </tr>\n",
              "    <tr>\n",
              "      <th>4</th>\n",
              "      <td>5</td>\n",
              "      <td>Albania</td>\n",
              "      <td>1987.0</td>\n",
              "      <td>male</td>\n",
              "      <td>25-34 years</td>\n",
              "      <td>9</td>\n",
              "      <td>274300.0</td>\n",
              "      <td>3.28</td>\n",
              "    </tr>\n",
              "  </tbody>\n",
              "</table>\n",
              "</div>\n",
              "      <button class=\"colab-df-convert\" onclick=\"convertToInteractive('df-7f4450be-0d22-47da-a8b4-9f053dcd2dd3')\"\n",
              "              title=\"Convert this dataframe to an interactive table.\"\n",
              "              style=\"display:none;\">\n",
              "        \n",
              "  <svg xmlns=\"http://www.w3.org/2000/svg\" height=\"24px\"viewBox=\"0 0 24 24\"\n",
              "       width=\"24px\">\n",
              "    <path d=\"M0 0h24v24H0V0z\" fill=\"none\"/>\n",
              "    <path d=\"M18.56 5.44l.94 2.06.94-2.06 2.06-.94-2.06-.94-.94-2.06-.94 2.06-2.06.94zm-11 1L8.5 8.5l.94-2.06 2.06-.94-2.06-.94L8.5 2.5l-.94 2.06-2.06.94zm10 10l.94 2.06.94-2.06 2.06-.94-2.06-.94-.94-2.06-.94 2.06-2.06.94z\"/><path d=\"M17.41 7.96l-1.37-1.37c-.4-.4-.92-.59-1.43-.59-.52 0-1.04.2-1.43.59L10.3 9.45l-7.72 7.72c-.78.78-.78 2.05 0 2.83L4 21.41c.39.39.9.59 1.41.59.51 0 1.02-.2 1.41-.59l7.78-7.78 2.81-2.81c.8-.78.8-2.07 0-2.86zM5.41 20L4 18.59l7.72-7.72 1.47 1.35L5.41 20z\"/>\n",
              "  </svg>\n",
              "      </button>\n",
              "      \n",
              "  <style>\n",
              "    .colab-df-container {\n",
              "      display:flex;\n",
              "      flex-wrap:wrap;\n",
              "      gap: 12px;\n",
              "    }\n",
              "\n",
              "    .colab-df-convert {\n",
              "      background-color: #E8F0FE;\n",
              "      border: none;\n",
              "      border-radius: 50%;\n",
              "      cursor: pointer;\n",
              "      display: none;\n",
              "      fill: #1967D2;\n",
              "      height: 32px;\n",
              "      padding: 0 0 0 0;\n",
              "      width: 32px;\n",
              "    }\n",
              "\n",
              "    .colab-df-convert:hover {\n",
              "      background-color: #E2EBFA;\n",
              "      box-shadow: 0px 1px 2px rgba(60, 64, 67, 0.3), 0px 1px 3px 1px rgba(60, 64, 67, 0.15);\n",
              "      fill: #174EA6;\n",
              "    }\n",
              "\n",
              "    [theme=dark] .colab-df-convert {\n",
              "      background-color: #3B4455;\n",
              "      fill: #D2E3FC;\n",
              "    }\n",
              "\n",
              "    [theme=dark] .colab-df-convert:hover {\n",
              "      background-color: #434B5C;\n",
              "      box-shadow: 0px 1px 3px 1px rgba(0, 0, 0, 0.15);\n",
              "      filter: drop-shadow(0px 1px 2px rgba(0, 0, 0, 0.3));\n",
              "      fill: #FFFFFF;\n",
              "    }\n",
              "  </style>\n",
              "\n",
              "      <script>\n",
              "        const buttonEl =\n",
              "          document.querySelector('#df-7f4450be-0d22-47da-a8b4-9f053dcd2dd3 button.colab-df-convert');\n",
              "        buttonEl.style.display =\n",
              "          google.colab.kernel.accessAllowed ? 'block' : 'none';\n",
              "\n",
              "        async function convertToInteractive(key) {\n",
              "          const element = document.querySelector('#df-7f4450be-0d22-47da-a8b4-9f053dcd2dd3');\n",
              "          const dataTable =\n",
              "            await google.colab.kernel.invokeFunction('convertToInteractive',\n",
              "                                                     [key], {});\n",
              "          if (!dataTable) return;\n",
              "\n",
              "          const docLinkHtml = 'Like what you see? Visit the ' +\n",
              "            '<a target=\"_blank\" href=https://colab.research.google.com/notebooks/data_table.ipynb>data table notebook</a>'\n",
              "            + ' to learn more about interactive tables.';\n",
              "          element.innerHTML = '';\n",
              "          dataTable['output_type'] = 'display_data';\n",
              "          await google.colab.output.renderOutput(dataTable, element);\n",
              "          const docLink = document.createElement('div');\n",
              "          docLink.innerHTML = docLinkHtml;\n",
              "          element.appendChild(docLink);\n",
              "        }\n",
              "      </script>\n",
              "    </div>\n",
              "  </div>\n",
              "  "
            ]
          },
          "metadata": {},
          "execution_count": 4
        }
      ]
    },
    {
      "cell_type": "code",
      "source": [
        "df2.shape"
      ],
      "metadata": {
        "colab": {
          "base_uri": "https://localhost:8080/"
        },
        "id": "M1VeqfiLQ0QE",
        "outputId": "f6ced9c3-0be6-421a-92ff-9ebf5c56f506"
      },
      "execution_count": 5,
      "outputs": [
        {
          "output_type": "execute_result",
          "data": {
            "text/plain": [
              "(27820, 8)"
            ]
          },
          "metadata": {},
          "execution_count": 5
        }
      ]
    },
    {
      "cell_type": "code",
      "source": [
        "df = pd.merge(df1, df2, on='id')"
      ],
      "metadata": {
        "id": "PTpaSeOXQNbg"
      },
      "execution_count": 6,
      "outputs": []
    },
    {
      "cell_type": "code",
      "source": [
        "df.shape"
      ],
      "metadata": {
        "colab": {
          "base_uri": "https://localhost:8080/"
        },
        "id": "HwyOnVY7QnON",
        "outputId": "e943fc8b-72c1-4d1b-92bf-d456059033e7"
      },
      "execution_count": 7,
      "outputs": [
        {
          "output_type": "execute_result",
          "data": {
            "text/plain": [
              "(27820, 13)"
            ]
          },
          "metadata": {},
          "execution_count": 7
        }
      ]
    },
    {
      "cell_type": "code",
      "source": [
        "df = df.replace('?', np.nan)"
      ],
      "metadata": {
        "id": "O-ox7PkKQ4fK"
      },
      "execution_count": 8,
      "outputs": []
    },
    {
      "cell_type": "code",
      "source": [
        "# Plot histogram grid\n",
        "df.hist(figsize=(16,16), xrot=-45) ## Display the labels rotated by 45 degress\n",
        "\n",
        "# Clear the text \"residue\"\n",
        "plt.show()"
      ],
      "metadata": {
        "colab": {
          "base_uri": "https://localhost:8080/",
          "height": 953
        },
        "id": "mpA-NXfrRccv",
        "outputId": "e1d597d7-05db-40db-dba0-0a3b44422efd"
      },
      "execution_count": 9,
      "outputs": [
        {
          "output_type": "display_data",
          "data": {
            "text/plain": [
              "<Figure size 1152x1152 with 6 Axes>"
            ],
            "image/png": "[encoded data removed]"
          },
          "metadata": {
            "needs_background": "light"
          }
        }
      ]
    },
    {
      "cell_type": "code",
      "source": [
        "df.nunique()"
      ],
      "metadata": {
        "colab": {
          "base_uri": "https://localhost:8080/"
        },
        "id": "mlmV8IoORgq-",
        "outputId": "bf7db01e-f0f7-4a3d-9fad-08d1dd6b4ece"
      },
      "execution_count": 10,
      "outputs": [
        {
          "output_type": "execute_result",
          "data": {
            "text/plain": [
              "id                    27820\n",
              "country-year           2321\n",
              "HDI for year            305\n",
              " gdp_for_year ($)      2321\n",
              "gdp_per_capita ($)     2233\n",
              "generation                6\n",
              "country                 101\n",
              "year                     32\n",
              "sex                       2\n",
              "age                       6\n",
              "suicides_no            2084\n",
              "population            19769\n",
              "suicides/100k pop      5298\n",
              "dtype: int64"
            ]
          },
          "metadata": {},
          "execution_count": 10
        }
      ]
    },
    {
      "cell_type": "code",
      "source": [
        "df.describe()"
      ],
      "metadata": {
        "colab": {
          "base_uri": "https://localhost:8080/",
          "height": 300
        },
        "id": "skgg_I99SPUr",
        "outputId": "cf272f2c-6abc-476d-d75e-4224ad06f58c"
      },
      "execution_count": 11,
      "outputs": [
        {
          "output_type": "execute_result",
          "data": {
            "text/plain": [
              "                 id  HDI for year  gdp_per_capita ($)          year  \\\n",
              "count  27820.000000   8364.000000        23820.000000  22820.000000   \n",
              "mean   13910.500000      0.776601        16866.340932   2001.248861   \n",
              "std     8031.086581      0.093367        18982.101624      8.480176   \n",
              "min        1.000000      0.483000          251.000000   1985.000000   \n",
              "25%     6955.750000      0.713000         3447.000000   1994.000000   \n",
              "50%    13910.500000      0.779000         9356.000000   2002.000000   \n",
              "75%    20865.250000      0.855000        24796.000000   2008.000000   \n",
              "max    27820.000000      0.944000       126352.000000   2016.000000   \n",
              "\n",
              "        suicides_no  suicides/100k pop  \n",
              "count  27820.000000       27820.000000  \n",
              "mean     242.574407          12.816097  \n",
              "std      902.047917          18.961511  \n",
              "min        0.000000           0.000000  \n",
              "25%        3.000000           0.920000  \n",
              "50%       25.000000           5.990000  \n",
              "75%      131.000000          16.620000  \n",
              "max    22338.000000         224.970000  "
            ],
            "text/html": [
              "\n",
              "  <div id=\"df-9bf2521c-201e-4b2a-83dc-bc8c4fdda43e\">\n",
              "    <div class=\"colab-df-container\">\n",
              "      <div>\n",
              "<style scoped>\n",
              "    .dataframe tbody tr th:only-of-type {\n",
              "        vertical-align: middle;\n",
              "    }\n",
              "\n",
              "    .dataframe tbody tr th {\n",
              "        vertical-align: top;\n",
              "    }\n",
              "\n",
              "    .dataframe thead th {\n",
              "        text-align: right;\n",
              "    }\n",
              "</style>\n",
              "<table border=\"1\" class=\"dataframe\">\n",
              "  <thead>\n",
              "    <tr style=\"text-align: right;\">\n",
              "      <th></th>\n",
              "      <th>id</th>\n",
              "      <th>HDI for year</th>\n",
              "      <th>gdp_per_capita ($)</th>\n",
              "      <th>year</th>\n",
              "      <th>suicides_no</th>\n",
              "      <th>suicides/100k pop</th>\n",
              "    </tr>\n",
              "  </thead>\n",
              "  <tbody>\n",
              "    <tr>\n",
              "      <th>count</th>\n",
              "      <td>27820.000000</td>\n",
              "      <td>8364.000000</td>\n",
              "      <td>23820.000000</td>\n",
              "      <td>22820.000000</td>\n",
              "      <td>27820.000000</td>\n",
              "      <td>27820.000000</td>\n",
              "    </tr>\n",
              "    <tr>\n",
              "      <th>mean</th>\n",
              "      <td>13910.500000</td>\n",
              "      <td>0.776601</td>\n",
              "      <td>16866.340932</td>\n",
              "      <td>2001.248861</td>\n",
              "      <td>242.574407</td>\n",
              "      <td>12.816097</td>\n",
              "    </tr>\n",
              "    <tr>\n",
              "      <th>std</th>\n",
              "      <td>8031.086581</td>\n",
              "      <td>0.093367</td>\n",
              "      <td>18982.101624</td>\n",
              "      <td>8.480176</td>\n",
              "      <td>902.047917</td>\n",
              "      <td>18.961511</td>\n",
              "    </tr>\n",
              "    <tr>\n",
              "      <th>min</th>\n",
              "      <td>1.000000</td>\n",
              "      <td>0.483000</td>\n",
              "      <td>251.000000</td>\n",
              "      <td>1985.000000</td>\n",
              "      <td>0.000000</td>\n",
              "      <td>0.000000</td>\n",
              "    </tr>\n",
              "    <tr>\n",
              "      <th>25%</th>\n",
              "      <td>6955.750000</td>\n",
              "      <td>0.713000</td>\n",
              "      <td>3447.000000</td>\n",
              "      <td>1994.000000</td>\n",
              "      <td>3.000000</td>\n",
              "      <td>0.920000</td>\n",
              "    </tr>\n",
              "    <tr>\n",
              "      <th>50%</th>\n",
              "      <td>13910.500000</td>\n",
              "      <td>0.779000</td>\n",
              "      <td>9356.000000</td>\n",
              "      <td>2002.000000</td>\n",
              "      <td>25.000000</td>\n",
              "      <td>5.990000</td>\n",
              "    </tr>\n",
              "    <tr>\n",
              "      <th>75%</th>\n",
              "      <td>20865.250000</td>\n",
              "      <td>0.855000</td>\n",
              "      <td>24796.000000</td>\n",
              "      <td>2008.000000</td>\n",
              "      <td>131.000000</td>\n",
              "      <td>16.620000</td>\n",
              "    </tr>\n",
              "    <tr>\n",
              "      <th>max</th>\n",
              "      <td>27820.000000</td>\n",
              "      <td>0.944000</td>\n",
              "      <td>126352.000000</td>\n",
              "      <td>2016.000000</td>\n",
              "      <td>22338.000000</td>\n",
              "      <td>224.970000</td>\n",
              "    </tr>\n",
              "  </tbody>\n",
              "</table>\n",
              "</div>\n",
              "      <button class=\"colab-df-convert\" onclick=\"convertToInteractive('df-9bf2521c-201e-4b2a-83dc-bc8c4fdda43e')\"\n",
              "              title=\"Convert this dataframe to an interactive table.\"\n",
              "              style=\"display:none;\">\n",
              "        \n",
              "  <svg xmlns=\"http://www.w3.org/2000/svg\" height=\"24px\"viewBox=\"0 0 24 24\"\n",
              "       width=\"24px\">\n",
              "    <path d=\"M0 0h24v24H0V0z\" fill=\"none\"/>\n",
              "    <path d=\"M18.56 5.44l.94 2.06.94-2.06 2.06-.94-2.06-.94-.94-2.06-.94 2.06-2.06.94zm-11 1L8.5 8.5l.94-2.06 2.06-.94-2.06-.94L8.5 2.5l-.94 2.06-2.06.94zm10 10l.94 2.06.94-2.06 2.06-.94-2.06-.94-.94-2.06-.94 2.06-2.06.94z\"/><path d=\"M17.41 7.96l-1.37-1.37c-.4-.4-.92-.59-1.43-.59-.52 0-1.04.2-1.43.59L10.3 9.45l-7.72 7.72c-.78.78-.78 2.05 0 2.83L4 21.41c.39.39.9.59 1.41.59.51 0 1.02-.2 1.41-.59l7.78-7.78 2.81-2.81c.8-.78.8-2.07 0-2.86zM5.41 20L4 18.59l7.72-7.72 1.47 1.35L5.41 20z\"/>\n",
              "  </svg>\n",
              "      </button>\n",
              "      \n",
              "  <style>\n",
              "    .colab-df-container {\n",
              "      display:flex;\n",
              "      flex-wrap:wrap;\n",
              "      gap: 12px;\n",
              "    }\n",
              "\n",
              "    .colab-df-convert {\n",
              "      background-color: #E8F0FE;\n",
              "      border: none;\n",
              "      border-radius: 50%;\n",
              "      cursor: pointer;\n",
              "      display: none;\n",
              "      fill: #1967D2;\n",
              "      height: 32px;\n",
              "      padding: 0 0 0 0;\n",
              "      width: 32px;\n",
              "    }\n",
              "\n",
              "    .colab-df-convert:hover {\n",
              "      background-color: #E2EBFA;\n",
              "      box-shadow: 0px 1px 2px rgba(60, 64, 67, 0.3), 0px 1px 3px 1px rgba(60, 64, 67, 0.15);\n",
              "      fill: #174EA6;\n",
              "    }\n",
              "\n",
              "    [theme=dark] .colab-df-convert {\n",
              "      background-color: #3B4455;\n",
              "      fill: #D2E3FC;\n",
              "    }\n",
              "\n",
              "    [theme=dark] .colab-df-convert:hover {\n",
              "      background-color: #434B5C;\n",
              "      box-shadow: 0px 1px 3px 1px rgba(0, 0, 0, 0.15);\n",
              "      filter: drop-shadow(0px 1px 2px rgba(0, 0, 0, 0.3));\n",
              "      fill: #FFFFFF;\n",
              "    }\n",
              "  </style>\n",
              "\n",
              "      <script>\n",
              "        const buttonEl =\n",
              "          document.querySelector('#df-9bf2521c-201e-4b2a-83dc-bc8c4fdda43e button.colab-df-convert');\n",
              "        buttonEl.style.display =\n",
              "          google.colab.kernel.accessAllowed ? 'block' : 'none';\n",
              "\n",
              "        async function convertToInteractive(key) {\n",
              "          const element = document.querySelector('#df-9bf2521c-201e-4b2a-83dc-bc8c4fdda43e');\n",
              "          const dataTable =\n",
              "            await google.colab.kernel.invokeFunction('convertToInteractive',\n",
              "                                                     [key], {});\n",
              "          if (!dataTable) return;\n",
              "\n",
              "          const docLinkHtml = 'Like what you see? Visit the ' +\n",
              "            '<a target=\"_blank\" href=https://colab.research.google.com/notebooks/data_table.ipynb>data table notebook</a>'\n",
              "            + ' to learn more about interactive tables.';\n",
              "          element.innerHTML = '';\n",
              "          dataTable['output_type'] = 'display_data';\n",
              "          await google.colab.output.renderOutput(dataTable, element);\n",
              "          const docLink = document.createElement('div');\n",
              "          docLink.innerHTML = docLinkHtml;\n",
              "          element.appendChild(docLink);\n",
              "        }\n",
              "      </script>\n",
              "    </div>\n",
              "  </div>\n",
              "  "
            ]
          },
          "metadata": {},
          "execution_count": 11
        }
      ]
    },
    {
      "cell_type": "code",
      "source": [
        "df.info"
      ],
      "metadata": {
        "colab": {
          "base_uri": "https://localhost:8080/"
        },
        "id": "beW2Wed4SSls",
        "outputId": "208e9cce-a759-49e1-bab9-ac3df434d222"
      },
      "execution_count": 12,
      "outputs": [
        {
          "output_type": "execute_result",
          "data": {
            "text/plain": [
              "<bound method DataFrame.info of           id    country-year  HDI for year  gdp_for_year ($)   \\\n",
              "0          1     Albania1987           NaN      2,156,624,900   \n",
              "1          2     Albania1987           NaN      2,156,624,900   \n",
              "2          3     Albania1987           NaN      2,156,624,900   \n",
              "3          4     Albania1987           NaN      2,156,624,900   \n",
              "4          5     Albania1987           NaN      2,156,624,900   \n",
              "...      ...             ...           ...                ...   \n",
              "27815  27816  Uzbekistan2014         0.675     63,067,077,179   \n",
              "27816  27817  Uzbekistan2014         0.675     63,067,077,179   \n",
              "27817  27818  Uzbekistan2014         0.675     63,067,077,179   \n",
              "27818  27819  Uzbekistan2014         0.675     63,067,077,179   \n",
              "27819  27820  Uzbekistan2014         0.675     63,067,077,179   \n",
              "\n",
              "       gdp_per_capita ($)       generation     country    year     sex  \\\n",
              "0                   796.0     Generation X     Albania  1987.0    male   \n",
              "1                     NaN           Silent     Albania  1987.0    male   \n",
              "2                   796.0     Generation X     Albania     NaN  female   \n",
              "3                   796.0  G.I. Generation     Albania  1987.0    male   \n",
              "4                   796.0          Boomers     Albania  1987.0    male   \n",
              "...                   ...              ...         ...     ...     ...   \n",
              "27815              2309.0     Generation X  Uzbekistan  2014.0  female   \n",
              "27816              2309.0           Silent  Uzbekistan  2014.0  female   \n",
              "27817              2309.0     Generation Z  Uzbekistan  2014.0    male   \n",
              "27818                 NaN     Generation Z  Uzbekistan  2014.0  female   \n",
              "27819                 NaN          Boomers  Uzbekistan  2014.0  female   \n",
              "\n",
              "               age  suicides_no population  suicides/100k pop  \n",
              "0              NaN           21   312900.0               6.71  \n",
              "1              NaN           16   308000.0               5.19  \n",
              "2      15-24 years           14   289700.0               4.83  \n",
              "3        75+ years            1        NaN               4.59  \n",
              "4      25-34 years            9   274300.0               3.28  \n",
              "...            ...          ...        ...                ...  \n",
              "27815  35-54 years          107  3620833.0               2.96  \n",
              "27816          NaN            9   348465.0               2.58  \n",
              "27817   5-14 years           60  2762158.0               2.17  \n",
              "27818          NaN           44        NaN               1.67  \n",
              "27819          NaN           21  1438935.0               1.46  \n",
              "\n",
              "[27820 rows x 13 columns]>"
            ]
          },
          "metadata": {},
          "execution_count": 12
        }
      ]
    },
    {
      "cell_type": "code",
      "source": [
        "df.corr()"
      ],
      "metadata": {
        "colab": {
          "base_uri": "https://localhost:8080/",
          "height": 237
        },
        "id": "gqwb0iCdR7My",
        "outputId": "fe8c0f91-e273-42eb-e58d-04eee8aba6b9"
      },
      "execution_count": 13,
      "outputs": [
        {
          "output_type": "execute_result",
          "data": {
            "text/plain": [
              "                          id  HDI for year  gdp_per_capita ($)      year  \\\n",
              "id                  1.000000      0.003852            0.058186  0.041049   \n",
              "HDI for year        0.003852      1.000000            0.768099  0.367765   \n",
              "gdp_per_capita ($)  0.058186      0.768099            1.000000  0.340190   \n",
              "year                0.041049      0.367765            0.340190  1.000000   \n",
              "suicides_no         0.119583      0.151399            0.062173 -0.002965   \n",
              "suicides/100k pop   0.056052      0.074279            0.003845 -0.036244   \n",
              "\n",
              "                    suicides_no  suicides/100k pop  \n",
              "id                     0.119583           0.056052  \n",
              "HDI for year           0.151399           0.074279  \n",
              "gdp_per_capita ($)     0.062173           0.003845  \n",
              "year                  -0.002965          -0.036244  \n",
              "suicides_no            1.000000           0.306604  \n",
              "suicides/100k pop      0.306604           1.000000  "
            ],
            "text/html": [
              "\n",
              "  <div id=\"df-df6999e5-021b-4786-8b04-4754fcde788a\">\n",
              "    <div class=\"colab-df-container\">\n",
              "      <div>\n",
              "<style scoped>\n",
              "    .dataframe tbody tr th:only-of-type {\n",
              "        vertical-align: middle;\n",
              "    }\n",
              "\n",
              "    .dataframe tbody tr th {\n",
              "        vertical-align: top;\n",
              "    }\n",
              "\n",
              "    .dataframe thead th {\n",
              "        text-align: right;\n",
              "    }\n",
              "</style>\n",
              "<table border=\"1\" class=\"dataframe\">\n",
              "  <thead>\n",
              "    <tr style=\"text-align: right;\">\n",
              "      <th></th>\n",
              "      <th>id</th>\n",
              "      <th>HDI for year</th>\n",
              "      <th>gdp_per_capita ($)</th>\n",
              "      <th>year</th>\n",
              "      <th>suicides_no</th>\n",
              "      <th>suicides/100k pop</th>\n",
              "    </tr>\n",
              "  </thead>\n",
              "  <tbody>\n",
              "    <tr>\n",
              "      <th>id</th>\n",
              "      <td>1.000000</td>\n",
              "      <td>0.003852</td>\n",
              "      <td>0.058186</td>\n",
              "      <td>0.041049</td>\n",
              "      <td>0.119583</td>\n",
              "      <td>0.056052</td>\n",
              "    </tr>\n",
              "    <tr>\n",
              "      <th>HDI for year</th>\n",
              "      <td>0.003852</td>\n",
              "      <td>1.000000</td>\n",
              "      <td>0.768099</td>\n",
              "      <td>0.367765</td>\n",
              "      <td>0.151399</td>\n",
              "      <td>0.074279</td>\n",
              "    </tr>\n",
              "    <tr>\n",
              "      <th>gdp_per_capita ($)</th>\n",
              "      <td>0.058186</td>\n",
              "      <td>0.768099</td>\n",
              "      <td>1.000000</td>\n",
              "      <td>0.340190</td>\n",
              "      <td>0.062173</td>\n",
              "      <td>0.003845</td>\n",
              "    </tr>\n",
              "    <tr>\n",
              "      <th>year</th>\n",
              "      <td>0.041049</td>\n",
              "      <td>0.367765</td>\n",
              "      <td>0.340190</td>\n",
              "      <td>1.000000</td>\n",
              "      <td>-0.002965</td>\n",
              "      <td>-0.036244</td>\n",
              "    </tr>\n",
              "    <tr>\n",
              "      <th>suicides_no</th>\n",
              "      <td>0.119583</td>\n",
              "      <td>0.151399</td>\n",
              "      <td>0.062173</td>\n",
              "      <td>-0.002965</td>\n",
              "      <td>1.000000</td>\n",
              "      <td>0.306604</td>\n",
              "    </tr>\n",
              "    <tr>\n",
              "      <th>suicides/100k pop</th>\n",
              "      <td>0.056052</td>\n",
              "      <td>0.074279</td>\n",
              "      <td>0.003845</td>\n",
              "      <td>-0.036244</td>\n",
              "      <td>0.306604</td>\n",
              "      <td>1.000000</td>\n",
              "    </tr>\n",
              "  </tbody>\n",
              "</table>\n",
              "</div>\n",
              "      <button class=\"colab-df-convert\" onclick=\"convertToInteractive('df-df6999e5-021b-4786-8b04-4754fcde788a')\"\n",
              "              title=\"Convert this dataframe to an interactive table.\"\n",
              "              style=\"display:none;\">\n",
              "        \n",
              "  <svg xmlns=\"http://www.w3.org/2000/svg\" height=\"24px\"viewBox=\"0 0 24 24\"\n",
              "       width=\"24px\">\n",
              "    <path d=\"M0 0h24v24H0V0z\" fill=\"none\"/>\n",
              "    <path d=\"M18.56 5.44l.94 2.06.94-2.06 2.06-.94-2.06-.94-.94-2.06-.94 2.06-2.06.94zm-11 1L8.5 8.5l.94-2.06 2.06-.94-2.06-.94L8.5 2.5l-.94 2.06-2.06.94zm10 10l.94 2.06.94-2.06 2.06-.94-2.06-.94-.94-2.06-.94 2.06-2.06.94z\"/><path d=\"M17.41 7.96l-1.37-1.37c-.4-.4-.92-.59-1.43-.59-.52 0-1.04.2-1.43.59L10.3 9.45l-7.72 7.72c-.78.78-.78 2.05 0 2.83L4 21.41c.39.39.9.59 1.41.59.51 0 1.02-.2 1.41-.59l7.78-7.78 2.81-2.81c.8-.78.8-2.07 0-2.86zM5.41 20L4 18.59l7.72-7.72 1.47 1.35L5.41 20z\"/>\n",
              "  </svg>\n",
              "      </button>\n",
              "      \n",
              "  <style>\n",
              "    .colab-df-container {\n",
              "      display:flex;\n",
              "      flex-wrap:wrap;\n",
              "      gap: 12px;\n",
              "    }\n",
              "\n",
              "    .colab-df-convert {\n",
              "      background-color: #E8F0FE;\n",
              "      border: none;\n",
              "      border-radius: 50%;\n",
              "      cursor: pointer;\n",
              "      display: none;\n",
              "      fill: #1967D2;\n",
              "      height: 32px;\n",
              "      padding: 0 0 0 0;\n",
              "      width: 32px;\n",
              "    }\n",
              "\n",
              "    .colab-df-convert:hover {\n",
              "      background-color: #E2EBFA;\n",
              "      box-shadow: 0px 1px 2px rgba(60, 64, 67, 0.3), 0px 1px 3px 1px rgba(60, 64, 67, 0.15);\n",
              "      fill: #174EA6;\n",
              "    }\n",
              "\n",
              "    [theme=dark] .colab-df-convert {\n",
              "      background-color: #3B4455;\n",
              "      fill: #D2E3FC;\n",
              "    }\n",
              "\n",
              "    [theme=dark] .colab-df-convert:hover {\n",
              "      background-color: #434B5C;\n",
              "      box-shadow: 0px 1px 3px 1px rgba(0, 0, 0, 0.15);\n",
              "      filter: drop-shadow(0px 1px 2px rgba(0, 0, 0, 0.3));\n",
              "      fill: #FFFFFF;\n",
              "    }\n",
              "  </style>\n",
              "\n",
              "      <script>\n",
              "        const buttonEl =\n",
              "          document.querySelector('#df-df6999e5-021b-4786-8b04-4754fcde788a button.colab-df-convert');\n",
              "        buttonEl.style.display =\n",
              "          google.colab.kernel.accessAllowed ? 'block' : 'none';\n",
              "\n",
              "        async function convertToInteractive(key) {\n",
              "          const element = document.querySelector('#df-df6999e5-021b-4786-8b04-4754fcde788a');\n",
              "          const dataTable =\n",
              "            await google.colab.kernel.invokeFunction('convertToInteractive',\n",
              "                                                     [key], {});\n",
              "          if (!dataTable) return;\n",
              "\n",
              "          const docLinkHtml = 'Like what you see? Visit the ' +\n",
              "            '<a target=\"_blank\" href=https://colab.research.google.com/notebooks/data_table.ipynb>data table notebook</a>'\n",
              "            + ' to learn more about interactive tables.';\n",
              "          element.innerHTML = '';\n",
              "          dataTable['output_type'] = 'display_data';\n",
              "          await google.colab.output.renderOutput(dataTable, element);\n",
              "          const docLink = document.createElement('div');\n",
              "          docLink.innerHTML = docLinkHtml;\n",
              "          element.appendChild(docLink);\n",
              "        }\n",
              "      </script>\n",
              "    </div>\n",
              "  </div>\n",
              "  "
            ]
          },
          "metadata": {},
          "execution_count": 13
        }
      ]
    },
    {
      "cell_type": "code",
      "source": [
        "df.dtypes"
      ],
      "metadata": {
        "colab": {
          "base_uri": "https://localhost:8080/"
        },
        "id": "PnJMoVAXSZFX",
        "outputId": "74b8818a-09ff-421c-c780-f65eb834a5f1"
      },
      "execution_count": 14,
      "outputs": [
        {
          "output_type": "execute_result",
          "data": {
            "text/plain": [
              "id                      int64\n",
              "country-year           object\n",
              "HDI for year          float64\n",
              " gdp_for_year ($)      object\n",
              "gdp_per_capita ($)    float64\n",
              "generation             object\n",
              "country                object\n",
              "year                  float64\n",
              "sex                    object\n",
              "age                    object\n",
              "suicides_no             int64\n",
              "population             object\n",
              "suicides/100k pop     float64\n",
              "dtype: object"
            ]
          },
          "metadata": {},
          "execution_count": 14
        }
      ]
    },
    {
      "cell_type": "code",
      "source": [
        "df.nunique()"
      ],
      "metadata": {
        "colab": {
          "base_uri": "https://localhost:8080/"
        },
        "id": "HbmJMTXXSb2V",
        "outputId": "8590e47d-265a-4c18-b4b3-b718420b70da"
      },
      "execution_count": 15,
      "outputs": [
        {
          "output_type": "execute_result",
          "data": {
            "text/plain": [
              "id                    27820\n",
              "country-year           2321\n",
              "HDI for year            305\n",
              " gdp_for_year ($)      2321\n",
              "gdp_per_capita ($)     2233\n",
              "generation                6\n",
              "country                 101\n",
              "year                     32\n",
              "sex                       2\n",
              "age                       6\n",
              "suicides_no            2084\n",
              "population            19769\n",
              "suicides/100k pop      5298\n",
              "dtype: int64"
            ]
          },
          "metadata": {},
          "execution_count": 15
        }
      ]
    },
    {
      "cell_type": "code",
      "source": [
        "plt.figure(figsize=(20,20))\n",
        "sns.heatmap(df.corr(),annot=True,cmap='coolwarm')"
      ],
      "metadata": {
        "colab": {
          "base_uri": "https://localhost:8080/",
          "height": 1000
        },
        "id": "K7Yw-od1TtBO",
        "outputId": "46d6f2a8-1432-439c-ea16-993cf3996a9c"
      },
      "execution_count": 16,
      "outputs": [
        {
          "output_type": "execute_result",
          "data": {
            "text/plain": [
              "<AxesSubplot:>"
            ]
          },
          "metadata": {},
          "execution_count": 16
        },
        {
          "output_type": "display_data",
          "data": {
            "text/plain": [
              "<Figure size 1440x1440 with 2 Axes>"
            ],
            "image/png": "[encoded data removed]"
          },
          "metadata": {
            "needs_background": "light"
          }
        }
      ]
    },
    {
      "cell_type": "code",
      "source": [
        "df.isna().sum()"
      ],
      "metadata": {
        "colab": {
          "base_uri": "https://localhost:8080/"
        },
        "id": "eoIWr2RrTRXQ",
        "outputId": "ecba1e19-ab58-4cf8-ca45-d55be798d948"
      },
      "execution_count": 17,
      "outputs": [
        {
          "output_type": "execute_result",
          "data": {
            "text/plain": [
              "id                        0\n",
              "country-year              0\n",
              "HDI for year          19456\n",
              " gdp_for_year ($)         0\n",
              "gdp_per_capita ($)     4000\n",
              "generation                0\n",
              "country                   0\n",
              "year                   5000\n",
              "sex                       0\n",
              "age                    4000\n",
              "suicides_no               0\n",
              "population             6619\n",
              "suicides/100k pop         0\n",
              "dtype: int64"
            ]
          },
          "metadata": {},
          "execution_count": 17
        }
      ]
    },
    {
      "cell_type": "code",
      "source": [
        "df.dtypes"
      ],
      "metadata": {
        "colab": {
          "base_uri": "https://localhost:8080/"
        },
        "id": "3YctR34lUvoa",
        "outputId": "5e11cce2-9c8f-4026-f3c7-bc6d03dd1244"
      },
      "execution_count": 18,
      "outputs": [
        {
          "output_type": "execute_result",
          "data": {
            "text/plain": [
              "id                      int64\n",
              "country-year           object\n",
              "HDI for year          float64\n",
              " gdp_for_year ($)      object\n",
              "gdp_per_capita ($)    float64\n",
              "generation             object\n",
              "country                object\n",
              "year                  float64\n",
              "sex                    object\n",
              "age                    object\n",
              "suicides_no             int64\n",
              "population             object\n",
              "suicides/100k pop     float64\n",
              "dtype: object"
            ]
          },
          "metadata": {},
          "execution_count": 18
        }
      ]
    },
    {
      "cell_type": "code",
      "source": [
        "df.rename(columns={\"suicides/100k pop\":\"suicides_pop\",\"HDI for year\":\"HDI_for_year\",\n",
        "                  \" gdp_for_year ($) \":\"gdp_for_year\",\" gdp_per_capita ($) \":\"gdp_per_capita\",\n",
        "                    \"gdp_per_capita ($)\":\"gdp_per_capita\"}, inplace=True)"
      ],
      "metadata": {
        "id": "hVRJGUC7Uf2s"
      },
      "execution_count": 19,
      "outputs": []
    },
    {
      "cell_type": "code",
      "source": [
        "a=df['HDI_for_year'].median()\n",
        "df['HDI_for_year'].fillna(a,inplace=True)\n",
        "b=df['gdp_per_capita'].median()\n",
        "df['gdp_per_capita'].fillna(b,inplace=True)"
      ],
      "metadata": {
        "id": "RrEnI4IvT40v"
      },
      "execution_count": 20,
      "outputs": []
    },
    {
      "cell_type": "code",
      "source": [
        "c=df['year'].median()\n",
        "df['year'].fillna(c,inplace=True)"
      ],
      "metadata": {
        "id": "c9Fy26dCUQZO"
      },
      "execution_count": 21,
      "outputs": []
    },
    {
      "cell_type": "code",
      "source": [
        "d=df['population'].mode()[0]\n",
        "df['population'].fillna(d,inplace=True)"
      ],
      "metadata": {
        "id": "EFxeGosbVO3S"
      },
      "execution_count": 22,
      "outputs": []
    },
    {
      "cell_type": "code",
      "source": [
        "e=df['age'].mode()[0]\n",
        "df['age'].fillna(e,inplace=True)"
      ],
      "metadata": {
        "id": "n_bVusVSVZl4"
      },
      "execution_count": 23,
      "outputs": []
    },
    {
      "cell_type": "code",
      "source": [
        "df.isna().sum()\n"
      ],
      "metadata": {
        "colab": {
          "base_uri": "https://localhost:8080/"
        },
        "id": "Chfo9TBaVqBl",
        "outputId": "bb167dda-a32f-4854-b5ac-7c118775f058"
      },
      "execution_count": 24,
      "outputs": [
        {
          "output_type": "execute_result",
          "data": {
            "text/plain": [
              "id                0\n",
              "country-year      0\n",
              "HDI_for_year      0\n",
              "gdp_for_year      0\n",
              "gdp_per_capita    0\n",
              "generation        0\n",
              "country           0\n",
              "year              0\n",
              "sex               0\n",
              "age               0\n",
              "suicides_no       0\n",
              "population        0\n",
              "suicides_pop      0\n",
              "dtype: int64"
            ]
          },
          "metadata": {},
          "execution_count": 24
        }
      ]
    },
    {
      "cell_type": "code",
      "source": [
        "df['country-year'].nunique()"
      ],
      "metadata": {
        "colab": {
          "base_uri": "https://localhost:8080/"
        },
        "id": "Zw4a61OHV09Y",
        "outputId": "236abd08-0416-4f24-f471-a4c4e83351c6"
      },
      "execution_count": 25,
      "outputs": [
        {
          "output_type": "execute_result",
          "data": {
            "text/plain": [
              "2321"
            ]
          },
          "metadata": {},
          "execution_count": 25
        }
      ]
    },
    {
      "cell_type": "code",
      "source": [],
      "metadata": {
        "id": "hXGijVUjX6zS"
      },
      "execution_count": 25,
      "outputs": []
    },
    {
      "cell_type": "code",
      "source": [
        "df['age'].nunique()"
      ],
      "metadata": {
        "colab": {
          "base_uri": "https://localhost:8080/"
        },
        "id": "Zgk_yHGHWJCW",
        "outputId": "fa92ca14-67f4-420f-8134-6dbc768df640"
      },
      "execution_count": 26,
      "outputs": [
        {
          "output_type": "execute_result",
          "data": {
            "text/plain": [
              "6"
            ]
          },
          "metadata": {},
          "execution_count": 26
        }
      ]
    },
    {
      "cell_type": "code",
      "source": [
        "df['gdp_for_year'].nunique()"
      ],
      "metadata": {
        "colab": {
          "base_uri": "https://localhost:8080/"
        },
        "id": "Mtf6TWHLWlI4",
        "outputId": "ff12fa0d-1a4a-43c3-8a77-bae43453dcc4"
      },
      "execution_count": 27,
      "outputs": [
        {
          "output_type": "execute_result",
          "data": {
            "text/plain": [
              "2321"
            ]
          },
          "metadata": {},
          "execution_count": 27
        }
      ]
    },
    {
      "cell_type": "code",
      "source": [
        "df['generation'].nunique()"
      ],
      "metadata": {
        "colab": {
          "base_uri": "https://localhost:8080/"
        },
        "id": "LBSQv0zxW7KW",
        "outputId": "55dce7ec-1416-4653-84fe-e83d4bad4527"
      },
      "execution_count": 28,
      "outputs": [
        {
          "output_type": "execute_result",
          "data": {
            "text/plain": [
              "6"
            ]
          },
          "metadata": {},
          "execution_count": 28
        }
      ]
    },
    {
      "cell_type": "code",
      "source": [
        "df['country'].nunique()"
      ],
      "metadata": {
        "colab": {
          "base_uri": "https://localhost:8080/"
        },
        "id": "eB_YXhiPXErJ",
        "outputId": "0303c659-f044-4ad7-c5ef-b5c7e44721a7"
      },
      "execution_count": 29,
      "outputs": [
        {
          "output_type": "execute_result",
          "data": {
            "text/plain": [
              "101"
            ]
          },
          "metadata": {},
          "execution_count": 29
        }
      ]
    },
    {
      "cell_type": "code",
      "source": [
        "df['population'].nunique()"
      ],
      "metadata": {
        "colab": {
          "base_uri": "https://localhost:8080/"
        },
        "id": "lF4HYjVdXJyL",
        "outputId": "473536da-0afe-4914-ab0f-c5facf168a71"
      },
      "execution_count": 30,
      "outputs": [
        {
          "output_type": "execute_result",
          "data": {
            "text/plain": [
              "19769"
            ]
          },
          "metadata": {},
          "execution_count": 30
        }
      ]
    },
    {
      "cell_type": "code",
      "source": [
        "df['sex'].unique()"
      ],
      "metadata": {
        "colab": {
          "base_uri": "https://localhost:8080/"
        },
        "id": "IZAj_KyDXdL7",
        "outputId": "5ff7bfb6-71aa-468e-e8ba-caf71869f89d"
      },
      "execution_count": 31,
      "outputs": [
        {
          "output_type": "execute_result",
          "data": {
            "text/plain": [
              "array(['male', 'female'], dtype=object)"
            ]
          },
          "metadata": {},
          "execution_count": 31
        }
      ]
    },
    {
      "cell_type": "code",
      "source": [
        "df.head()"
      ],
      "metadata": {
        "colab": {
          "base_uri": "https://localhost:8080/",
          "height": 389
        },
        "id": "X1-p-p1rXmIj",
        "outputId": "21b33db5-a7cf-413a-c2c7-c54b20b5a476"
      },
      "execution_count": 32,
      "outputs": [
        {
          "output_type": "execute_result",
          "data": {
            "text/plain": [
              "   id country-year  HDI_for_year   gdp_for_year  gdp_per_capita  \\\n",
              "0   1  Albania1987         0.779  2,156,624,900           796.0   \n",
              "1   2  Albania1987         0.779  2,156,624,900          9356.0   \n",
              "2   3  Albania1987         0.779  2,156,624,900           796.0   \n",
              "3   4  Albania1987         0.779  2,156,624,900           796.0   \n",
              "4   5  Albania1987         0.779  2,156,624,900           796.0   \n",
              "\n",
              "        generation  country    year     sex          age  suicides_no  \\\n",
              "0     Generation X  Albania  1987.0    male    75+ years           21   \n",
              "1           Silent  Albania  1987.0    male    75+ years           16   \n",
              "2     Generation X  Albania  2002.0  female  15-24 years           14   \n",
              "3  G.I. Generation  Albania  1987.0    male    75+ years            1   \n",
              "4          Boomers  Albania  1987.0    male  25-34 years            9   \n",
              "\n",
              "  population  suicides_pop  \n",
              "0   312900.0          6.71  \n",
              "1   308000.0          5.19  \n",
              "2   289700.0          4.83  \n",
              "3    24000.0          4.59  \n",
              "4   274300.0          3.28  "
            ],
            "text/html": [
              "\n",
              "  <div id=\"df-5dc5737c-6658-4eb5-8b90-5f48180b09bd\">\n",
              "    <div class=\"colab-df-container\">\n",
              "      <div>\n",
              "<style scoped>\n",
              "    .dataframe tbody tr th:only-of-type {\n",
              "        vertical-align: middle;\n",
              "    }\n",
              "\n",
              "    .dataframe tbody tr th {\n",
              "        vertical-align: top;\n",
              "    }\n",
              "\n",
              "    .dataframe thead th {\n",
              "        text-align: right;\n",
              "    }\n",
              "</style>\n",
              "<table border=\"1\" class=\"dataframe\">\n",
              "  <thead>\n",
              "    <tr style=\"text-align: right;\">\n",
              "      <th></th>\n",
              "      <th>id</th>\n",
              "      <th>country-year</th>\n",
              "      <th>HDI_for_year</th>\n",
              "      <th>gdp_for_year</th>\n",
              "      <th>gdp_per_capita</th>\n",
              "      <th>generation</th>\n",
              "      <th>country</th>\n",
              "      <th>year</th>\n",
              "      <th>sex</th>\n",
              "      <th>age</th>\n",
              "      <th>suicides_no</th>\n",
              "      <th>population</th>\n",
              "      <th>suicides_pop</th>\n",
              "    </tr>\n",
              "  </thead>\n",
              "  <tbody>\n",
              "    <tr>\n",
              "      <th>0</th>\n",
              "      <td>1</td>\n",
              "      <td>Albania1987</td>\n",
              "      <td>0.779</td>\n",
              "      <td>2,156,624,900</td>\n",
              "      <td>796.0</td>\n",
              "      <td>Generation X</td>\n",
              "      <td>Albania</td>\n",
              "      <td>1987.0</td>\n",
              "      <td>male</td>\n",
              "      <td>75+ years</td>\n",
              "      <td>21</td>\n",
              "      <td>312900.0</td>\n",
              "      <td>6.71</td>\n",
              "    </tr>\n",
              "    <tr>\n",
              "      <th>1</th>\n",
              "      <td>2</td>\n",
              "      <td>Albania1987</td>\n",
              "      <td>0.779</td>\n",
              "      <td>2,156,624,900</td>\n",
              "      <td>9356.0</td>\n",
              "      <td>Silent</td>\n",
              "      <td>Albania</td>\n",
              "      <td>1987.0</td>\n",
              "      <td>male</td>\n",
              "      <td>75+ years</td>\n",
              "      <td>16</td>\n",
              "      <td>308000.0</td>\n",
              "      <td>5.19</td>\n",
              "    </tr>\n",
              "    <tr>\n",
              "      <th>2</th>\n",
              "      <td>3</td>\n",
              "      <td>Albania1987</td>\n",
              "      <td>0.779</td>\n",
              "      <td>2,156,624,900</td>\n",
              "      <td>796.0</td>\n",
              "      <td>Generation X</td>\n",
              "      <td>Albania</td>\n",
              "      <td>2002.0</td>\n",
              "      <td>female</td>\n",
              "      <td>15-24 years</td>\n",
              "      <td>14</td>\n",
              "      <td>289700.0</td>\n",
              "      <td>4.83</td>\n",
              "    </tr>\n",
              "    <tr>\n",
              "      <th>3</th>\n",
              "      <td>4</td>\n",
              "      <td>Albania1987</td>\n",
              "      <td>0.779</td>\n",
              "      <td>2,156,624,900</td>\n",
              "      <td>796.0</td>\n",
              "      <td>G.I. Generation</td>\n",
              "      <td>Albania</td>\n",
              "      <td>1987.0</td>\n",
              "      <td>male</td>\n",
              "      <td>75+ years</td>\n",
              "      <td>1</td>\n",
              "      <td>24000.0</td>\n",
              "      <td>4.59</td>\n",
              "    </tr>\n",
              "    <tr>\n",
              "      <th>4</th>\n",
              "      <td>5</td>\n",
              "      <td>Albania1987</td>\n",
              "      <td>0.779</td>\n",
              "      <td>2,156,624,900</td>\n",
              "      <td>796.0</td>\n",
              "      <td>Boomers</td>\n",
              "      <td>Albania</td>\n",
              "      <td>1987.0</td>\n",
              "      <td>male</td>\n",
              "      <td>25-34 years</td>\n",
              "      <td>9</td>\n",
              "      <td>274300.0</td>\n",
              "      <td>3.28</td>\n",
              "    </tr>\n",
              "  </tbody>\n",
              "</table>\n",
              "</div>\n",
              "      <button class=\"colab-df-convert\" onclick=\"convertToInteractive('df-5dc5737c-6658-4eb5-8b90-5f48180b09bd')\"\n",
              "              title=\"Convert this dataframe to an interactive table.\"\n",
              "              style=\"display:none;\">\n",
              "        \n",
              "  <svg xmlns=\"http://www.w3.org/2000/svg\" height=\"24px\"viewBox=\"0 0 24 24\"\n",
              "       width=\"24px\">\n",
              "    <path d=\"M0 0h24v24H0V0z\" fill=\"none\"/>\n",
              "    <path d=\"M18.56 5.44l.94 2.06.94-2.06 2.06-.94-2.06-.94-.94-2.06-.94 2.06-2.06.94zm-11 1L8.5 8.5l.94-2.06 2.06-.94-2.06-.94L8.5 2.5l-.94 2.06-2.06.94zm10 10l.94 2.06.94-2.06 2.06-.94-2.06-.94-.94-2.06-.94 2.06-2.06.94z\"/><path d=\"M17.41 7.96l-1.37-1.37c-.4-.4-.92-.59-1.43-.59-.52 0-1.04.2-1.43.59L10.3 9.45l-7.72 7.72c-.78.78-.78 2.05 0 2.83L4 21.41c.39.39.9.59 1.41.59.51 0 1.02-.2 1.41-.59l7.78-7.78 2.81-2.81c.8-.78.8-2.07 0-2.86zM5.41 20L4 18.59l7.72-7.72 1.47 1.35L5.41 20z\"/>\n",
              "  </svg>\n",
              "      </button>\n",
              "      \n",
              "  <style>\n",
              "    .colab-df-container {\n",
              "      display:flex;\n",
              "      flex-wrap:wrap;\n",
              "      gap: 12px;\n",
              "    }\n",
              "\n",
              "    .colab-df-convert {\n",
              "      background-color: #E8F0FE;\n",
              "      border: none;\n",
              "      border-radius: 50%;\n",
              "      cursor: pointer;\n",
              "      display: none;\n",
              "      fill: #1967D2;\n",
              "      height: 32px;\n",
              "      padding: 0 0 0 0;\n",
              "      width: 32px;\n",
              "    }\n",
              "\n",
              "    .colab-df-convert:hover {\n",
              "      background-color: #E2EBFA;\n",
              "      box-shadow: 0px 1px 2px rgba(60, 64, 67, 0.3), 0px 1px 3px 1px rgba(60, 64, 67, 0.15);\n",
              "      fill: #174EA6;\n",
              "    }\n",
              "\n",
              "    [theme=dark] .colab-df-convert {\n",
              "      background-color: #3B4455;\n",
              "      fill: #D2E3FC;\n",
              "    }\n",
              "\n",
              "    [theme=dark] .colab-df-convert:hover {\n",
              "      background-color: #434B5C;\n",
              "      box-shadow: 0px 1px 3px 1px rgba(0, 0, 0, 0.15);\n",
              "      filter: drop-shadow(0px 1px 2px rgba(0, 0, 0, 0.3));\n",
              "      fill: #FFFFFF;\n",
              "    }\n",
              "  </style>\n",
              "\n",
              "      <script>\n",
              "        const buttonEl =\n",
              "          document.querySelector('#df-5dc5737c-6658-4eb5-8b90-5f48180b09bd button.colab-df-convert');\n",
              "        buttonEl.style.display =\n",
              "          google.colab.kernel.accessAllowed ? 'block' : 'none';\n",
              "\n",
              "        async function convertToInteractive(key) {\n",
              "          const element = document.querySelector('#df-5dc5737c-6658-4eb5-8b90-5f48180b09bd');\n",
              "          const dataTable =\n",
              "            await google.colab.kernel.invokeFunction('convertToInteractive',\n",
              "                                                     [key], {});\n",
              "          if (!dataTable) return;\n",
              "\n",
              "          const docLinkHtml = 'Like what you see? Visit the ' +\n",
              "            '<a target=\"_blank\" href=https://colab.research.google.com/notebooks/data_table.ipynb>data table notebook</a>'\n",
              "            + ' to learn more about interactive tables.';\n",
              "          element.innerHTML = '';\n",
              "          dataTable['output_type'] = 'display_data';\n",
              "          await google.colab.output.renderOutput(dataTable, element);\n",
              "          const docLink = document.createElement('div');\n",
              "          docLink.innerHTML = docLinkHtml;\n",
              "          element.appendChild(docLink);\n",
              "        }\n",
              "      </script>\n",
              "    </div>\n",
              "  </div>\n",
              "  "
            ]
          },
          "metadata": {},
          "execution_count": 32
        }
      ]
    },
    {
      "cell_type": "code",
      "source": [
        "df.drop('country-year',axis=1,inplace=True)"
      ],
      "metadata": {
        "id": "1QqhKJp5Xtdu"
      },
      "execution_count": 33,
      "outputs": []
    },
    {
      "cell_type": "code",
      "source": [
        "df['population']=df['population'].astype(float)"
      ],
      "metadata": {
        "id": "iIViZuN8ZguV"
      },
      "execution_count": 34,
      "outputs": []
    },
    {
      "cell_type": "code",
      "source": [
        "df = pd.get_dummies(df, columns=['age', 'generation','sex'],drop_first=True)"
      ],
      "metadata": {
        "id": "MDL5rphhYGHK"
      },
      "execution_count": 35,
      "outputs": []
    },
    {
      "cell_type": "code",
      "source": [
        "df.dtypes"
      ],
      "metadata": {
        "colab": {
          "base_uri": "https://localhost:8080/"
        },
        "id": "H3ksVM6UYeIa",
        "outputId": "7bdc580d-9564-4e4e-8baf-9f4cbf5aa2ca"
      },
      "execution_count": 36,
      "outputs": [
        {
          "output_type": "execute_result",
          "data": {
            "text/plain": [
              "id                              int64\n",
              "HDI_for_year                  float64\n",
              "gdp_for_year                   object\n",
              "gdp_per_capita                float64\n",
              "country                        object\n",
              "year                          float64\n",
              "suicides_no                     int64\n",
              "population                    float64\n",
              "suicides_pop                  float64\n",
              "age_25-34 years                 uint8\n",
              "age_35-54 years                 uint8\n",
              "age_5-14 years                  uint8\n",
              "age_55-74 years                 uint8\n",
              "age_75+ years                   uint8\n",
              "generation_G.I. Generation      uint8\n",
              "generation_Generation X         uint8\n",
              "generation_Generation Z         uint8\n",
              "generation_Millenials           uint8\n",
              "generation_Silent               uint8\n",
              "sex_male                        uint8\n",
              "dtype: object"
            ]
          },
          "metadata": {},
          "execution_count": 36
        }
      ]
    },
    {
      "cell_type": "code",
      "source": [
        "from sklearn.preprocessing import LabelEncoder\n",
        "\n",
        "\n",
        "label_encoder = LabelEncoder()\n",
        "df['country'] = label_encoder.fit_transform(df['country'])\n",
        "df['gdp_for_year']=label_encoder.fit_transform(df['gdp_for_year'])"
      ],
      "metadata": {
        "id": "d9DE_TooZqi2"
      },
      "execution_count": 37,
      "outputs": []
    },
    {
      "cell_type": "code",
      "source": [
        "for k, v in df.items():\n",
        "        q1 = v.quantile(0.25)\n",
        "        q3 = v.quantile(0.75)\n",
        "        irq = q3 - q1\n",
        "        v_col = v[(v <= q1 - 1.5 * irq) | (v >= q3 + 1.5 * irq)]\n",
        "        perc = np.shape(v_col)[0] * 100.0 / np.shape(df)[0]\n",
        "        print(\"Column %s outliers = %.2f%%\" % (k, perc))"
      ],
      "metadata": {
        "colab": {
          "base_uri": "https://localhost:8080/"
        },
        "id": "OXSDoerYaLHy",
        "outputId": "08353b91-a3cb-48f5-fead-ce4df481710c"
      },
      "execution_count": 38,
      "outputs": [
        {
          "output_type": "stream",
          "name": "stdout",
          "text": [
            "Column id outliers = 0.00%\n",
            "Column HDI_for_year outliers = 100.00%\n",
            "Column gdp_for_year outliers = 0.00%\n",
            "Column gdp_per_capita outliers = 6.47%\n",
            "Column country outliers = 0.00%\n",
            "Column year outliers = 0.00%\n",
            "Column suicides_no outliers = 14.08%\n",
            "Column population outliers = 15.42%\n",
            "Column suicides_pop outliers = 7.35%\n",
            "Column age_25-34 years outliers = 100.00%\n",
            "Column age_35-54 years outliers = 100.00%\n",
            "Column age_5-14 years outliers = 100.00%\n",
            "Column age_55-74 years outliers = 100.00%\n",
            "Column age_75+ years outliers = 0.00%\n",
            "Column generation_G.I. Generation outliers = 100.00%\n",
            "Column generation_Generation X outliers = 100.00%\n",
            "Column generation_Generation Z outliers = 100.00%\n",
            "Column generation_Millenials outliers = 100.00%\n",
            "Column generation_Silent outliers = 100.00%\n",
            "Column sex_male outliers = 0.00%\n"
          ]
        }
      ]
    },
    {
      "cell_type": "code",
      "source": [
        "for col in df.columns:\n",
        "    Q1 = df[col].quantile(0.25)\n",
        "    Q3 = df[col].quantile(0.75)\n",
        "    IQR = Q3 - Q1\n",
        "    lower_bound = Q1 - 1.5*IQR\n",
        "    upper_bound = Q3 + 1.5*IQR\n",
        "    df[col] = df[col].mask(df[col] < lower_bound, df[col].median(), axis=0)\n",
        "    df[col] = df[col].mask(df[col] > upper_bound, df[col].median(), axis=0)\n",
        "    df[col] = df[col].fillna(df[col].median())"
      ],
      "metadata": {
        "id": "4HjEEqoOaewu"
      },
      "execution_count": 39,
      "outputs": []
    },
    {
      "cell_type": "code",
      "source": [
        "#writing  function  CHAIDDecisionTreeRegressor\n",
        "class CHAIDDecisionTreeRegressor:\n",
        "    \n",
        "    def __init__(self, max_depth=5, min_samples_split=2):\n",
        "        self.max_depth = max_depth  #determines the maximum depth of the decision tree that will be constructed\n",
        "        self.min_samples_split = min_samples_split #specifies the minimum number of samples required to split an internal node\n",
        "        self.tree = {}\n",
        "        \n",
        "   \n",
        "    def mse(self, y):\n",
        "        # Calculate mean squared error of targets\n",
        "        return np.mean((y - np.mean(y))**2)\n",
        "    \n",
        "    \n",
        "   \n",
        "    def split_data(self, feature, split, X, y):\n",
        "        left_indices = np.where(X[:, feature] < split) # find the indices of samples where the feature is less than the split value,(np.where)\n",
        "        right_indices = np.where(X[:, feature] >= split) # find the indices of samples where the feature is greater than or equal to the split value\n",
        "        X_left = X[left_indices] #create a new array of input samples for the left node using the left indices\n",
        "        y_left = y[left_indices] #create a new array of labels for the left node using the left indice\n",
        "        X_right = X[right_indices] # create a new array of input samples for the right node using the right indices\n",
        "        y_right = y[right_indices] # create a new array of labels for the right node using the right indices\n",
        "        return X_left, y_left, X_right, y_right # return the new input and label arrays for the left and right nodes\n",
        "   \n",
        "   \n",
        "    def chi_squared_test(self, x, y):\n",
        "        # Perform chi-squared test to determine if a split is significant\n",
        "        n_total = len(y) # calculate the total number of samples\n",
        "        n_left = len(np.where(x < x.mean())[0]) # calculate the number of samples in the left node (where x is less than the mean of x)\n",
        "        n_right = n_total - n_left # calculate the number of samples in the right node\n",
        "        p_left = n_left / n_total # calculate the   samples in the left node\n",
        "        p_right = n_right / n_total # calculate the  samples in the right node\n",
        "        y_left_mean = np.mean(y[x < x.mean()]) # calculate the mean of the labels for the samples in the left node\n",
        "        y_right_mean = np.mean(y[x >= x.mean()])  # calculate the mean of the labels for the samples in the right node\n",
        "        y_total_mean = np.mean(y) # calculate the mean of the labels for all the samples\n",
        "        chi_squared = (n_left * (y_left_mean - y_total_mean)**2 / (p_left * (1 - p_left)) +    # calculate the first part of the chi-squared test statistic\n",
        "                       n_right * (y_right_mean - y_total_mean)**2 / (p_right * (1 - p_right)))  # calculate the second part of the chi-squared test statistic\n",
        "        return chi_squared \n",
        "   \n",
        "    def find_split(self, X, y):\n",
        "        best_feature, best_split, best_chi2 = None, None, 0\n",
        "        n_features = X.shape[1] #This line finds the number of features in the feature matrix X\n",
        "        for feature in range(n_features): #sets up a loop that iterates over each feature in the input feature matrix X\n",
        "            for split in np.unique(X[:, feature]): #sets up a nested loop that iterates over the unique values of the feature \n",
        "                chi2 = self.chi_squared_test(X[:, feature], y) #passing in the values of the feature and target variable for the current split\n",
        "                if chi2 > best_chi2: \n",
        "                    best_feature, best_split, best_chi2 = feature, split, chi2 # chi-squared test statistic are stored in the best_feature, best_split, and best_chi2 variables.\n",
        "        return best_feature, best_split\n",
        "   \n",
        "   \n",
        "    def build_tree(self, X, y, depth):\n",
        "        # Recursively build the decision tree\n",
        "        n_samples, n_features = X.shape\n",
        "        # Check for stopping criteria\n",
        "        if depth == self.max_depth or n_samples < 2*self.min_samples_split:\n",
        "            leaf_value = np.mean(y)\n",
        "            return leaf_value\n",
        "        best_feature, best_split = self.find_split(X, y) #index of the best feature to split on and the best threshold to use for that feature\n",
        "        if best_feature is None:\n",
        "            leaf_value = np.mean(y)\n",
        "            return leaf_value\n",
        "        #The method returns four NumPy arrays: X_left and y_left, which contain the subset of the dataset\n",
        "        # where the feature value is less than or equal to the threshold, and X_right and y_right,\n",
        "        # which contain the subset of the dataset where the feature value is greater than the threshold\n",
        "        X_left, y_left, X_right, y_right = self.split_data(best_feature, best_split, X, y)\n",
        "        #This line is creating a Python dictionary called decision_node that represents a decision node in the decision tree\n",
        "        decision_node = {\"feature\": best_feature, \"split\": best_split, \"left\": None, \"right\": None}\n",
        "        decision_node[\"left\"] = self.build_tree(X_left, y_left, depth+1)# The value is the result of a recursive call to the build_tre\n",
        "        decision_node[\"right\"] = self.build_tree(X_right, y_right, depth+1)\n",
        "        return decision_node\n",
        "    \n",
        "    \n",
        "    def fit(self, X, y):\n",
        "          # Build the decision tree\n",
        "          self.tree = self.build_tree(X, y, depth=0)\n",
        "    \n",
        "    \n",
        "    def predict_single(self, x):\n",
        "        # Traverse the decision tree to make a prediction for a single instance\n",
        "        node = self.tree\n",
        "        while isinstance(node, dict):\n",
        "            if x[node[\"feature\"]] < node[\"split\"]:\n",
        "                node = node[\"left\"]\n",
        "            else:\n",
        "                node = node[\"right\"]\n",
        "        return node\n",
        "    \n",
        "    def predict(self, X):\n",
        "        # Make predictions for multiple instances\n",
        "        return np.array([self.predict_single(x) for x in X])\n",
        "    \n",
        "    # writing  function for r2_score (R2 = 1 - (SSres / SStot)) \n",
        "    def r2(self,y_true, y_pred):\n",
        "      # Calculate the mean of the true values\n",
        "      y_true_mean = sum(y_true) / len(y_true)\n",
        "      \n",
        "      # Calculate the total sum of squares (TSS)\n",
        "      tss = sum((y_true - y_true_mean) ** 2)\n",
        "      \n",
        "      # Calculate the residual sum of squares (RSS)\n",
        "      rss = sum((y_true - y_pred) ** 2)\n",
        "      \n",
        "      # Calculate the R-squared value\n",
        "      r2_score = 1 - (rss / tss)\n",
        "      \n",
        "      return r2_score\n",
        "\n",
        "\n",
        "    # To calaulate the MSE \n",
        "    def score(self,y_true, y_pred):\n",
        "   \n",
        "      # Check if the lengths of both arrays are equal\n",
        "      if len(y_true) != len(y_pred):\n",
        "          raise ValueError(\"Length of y_true and y_pred should be the same.\")\n",
        "      \n",
        "      # Calculate the squared differences between the true and predicted values\n",
        "      squared_differences = [(y_true[i] - y_pred[i])**2 for i in range(len(y_true))]\n",
        "      \n",
        "      # Calculate the mean of the squared differences\n",
        "      mse1 = sum(squared_differences) / len(squared_differences)\n",
        "      \n",
        "      return mse1\n",
        "    \n",
        "    def set_params(self, **kwargs):#**kwargs allows us to pass a variable number of keyword arguments\n",
        "        for key, value in kwargs.items():\n",
        "            setattr(self, key, value)\n",
        "        return self\n",
        "    \n",
        "\n",
        "\n",
        "    "
      ],
      "metadata": {
        "id": "xNDYgPxpawXG"
      },
      "execution_count": 40,
      "outputs": []
    },
    {
      "cell_type": "code",
      "source": [
        "def mean_squared_error1(y_true, y_pred):\n",
        "   \n",
        "      # Check if the lengths of both arrays are equal\n",
        "      if len(y_true) != len(y_pred):\n",
        "          raise ValueError(\"Length of y_true and y_pred should be the same.\")\n",
        "      \n",
        "      # Calculate the squared differences between the true and predicted values\n",
        "      squared_differences = [(y_true[i] - y_pred[i])**2 for i in range(len(y_true))]\n",
        "      \n",
        "      # Calculate the mean of the squared differences\n",
        "      mse1 = sum(squared_differences) / len(squared_differences)\n",
        "      \n",
        "      return mse1"
      ],
      "metadata": {
        "id": "zu7zF2cwbAR4"
      },
      "execution_count": 41,
      "outputs": []
    },
    {
      "cell_type": "code",
      "source": [
        "df.drop('id',axis=1,inplace=True)"
      ],
      "metadata": {
        "id": "Mz4Fzl8ybpfZ"
      },
      "execution_count": 42,
      "outputs": []
    },
    {
      "cell_type": "code",
      "source": [
        "X=df.drop('suicides_pop',axis=1).values\n",
        "y=df['suicides_pop'].values"
      ],
      "metadata": {
        "id": "0ySp-NkFbDf2"
      },
      "execution_count": 43,
      "outputs": []
    },
    {
      "cell_type": "code",
      "source": [
        "from sklearn.model_selection import train_test_split\n",
        "\n",
        "X_train,X_test,y_train,y_test=train_test_split(X,y,test_size=0.2,)\n",
        "    "
      ],
      "metadata": {
        "id": "6x06pOg0bdmv"
      },
      "execution_count": 44,
      "outputs": []
    },
    {
      "cell_type": "code",
      "source": [
        "model=CHAIDDecisionTreeRegressor()"
      ],
      "metadata": {
        "id": "a9xvZsulbz2F"
      },
      "execution_count": 45,
      "outputs": []
    },
    {
      "cell_type": "code",
      "source": [
        "model.fit(X_train,y_train)"
      ],
      "metadata": {
        "colab": {
          "base_uri": "https://localhost:8080/"
        },
        "id": "8Gdgm6nSb4wS",
        "outputId": "9b323859-3701-423b-dfa0-f696614c15fc"
      },
      "execution_count": 46,
      "outputs": [
        {
          "output_type": "stream",
          "name": "stderr",
          "text": [
            "/usr/local/lib/python3.9/dist-packages/numpy/core/fromnumeric.py:3474: RuntimeWarning: Mean of empty slice.\n",
            "  return _methods._mean(a, axis=axis, dtype=dtype,\n",
            "/usr/local/lib/python3.9/dist-packages/numpy/core/_methods.py:189: RuntimeWarning: invalid value encountered in double_scalars\n",
            "  ret = ret.dtype.type(ret / rcount)\n",
            "<ipython-input-40-1e0234080c14>:37: RuntimeWarning: invalid value encountered in double_scalars\n",
            "  n_right * (y_right_mean - y_total_mean)**2 / (p_right * (1 - p_right)))  # calculate the second part of the chi-squared test statistic\n"
          ]
        }
      ]
    },
    {
      "cell_type": "code",
      "source": [
        "ypred=model.predict(X_test)"
      ],
      "metadata": {
        "id": "VMLG7pnqb9yI"
      },
      "execution_count": 47,
      "outputs": []
    },
    {
      "cell_type": "code",
      "source": [
        "mean_squared_error1(y_test,ypred)"
      ],
      "metadata": {
        "colab": {
          "base_uri": "https://localhost:8080/"
        },
        "id": "uB--ogJccENj",
        "outputId": "6c55c830-569e-4e74-91d7-8f63a89a85c0"
      },
      "execution_count": 48,
      "outputs": [
        {
          "output_type": "execute_result",
          "data": {
            "text/plain": [
              "84.06660442838019"
            ]
          },
          "metadata": {},
          "execution_count": 48
        }
      ]
    },
    {
      "cell_type": "code",
      "source": [
        "from collections import defaultdict\n",
        "from random import randint\n",
        "# Define the hyperparameters to be tuned\n",
        "max_depth = [int(x) for x in np.linspace(2, 14, num = 11)]\n",
        "min_samples_split = [2, 4, 6, 8, 10,12]\n",
        "min_samples_leaf = [1, 2, 3, 4, 5,8,10]\n",
        "\n",
        "# Define the number of iterations for hyperparameter tuning\n",
        "n_iter = 20\n",
        "\n",
        "# Define the number of folds for cross-validation\n",
        "n_folds = None\n",
        "\n",
        "# Define a function for k-fold cross-validation\n",
        "def k_fold_cv(X, y, model, n_folds):\n",
        "    # Initialize a dictionary to store the cross-validation scores\n",
        "    scores = defaultdict(list)\n",
        "\n",
        "    # Divide the data into k folds\n",
        "    fold_size = len(X) // n_folds\n",
        "    fold_starts = [i * fold_size for i in range(n_folds)]\n",
        "    fold_ends = [(i + 1) * fold_size for i in range(n_folds)]\n",
        "    fold_ends[-1] = len(X)\n",
        "\n",
        "    # Perform k-fold cross-validation\n",
        "    for i in range(n_folds):\n",
        "        # Split the data into training and validation sets\n",
        "        X_train = np.concatenate([X[:fold_starts[i]], X[fold_ends[i]:]])\n",
        "        y_train = np.concatenate([y[:fold_starts[i]], y[fold_ends[i]:]])\n",
        "        X_valid = X[fold_starts[i]:fold_ends[i]]\n",
        "        y_valid = y[fold_starts[i]:fold_ends[i]]\n",
        "\n",
        "        # Define the hyperparameters to be tuned\n",
        "        params = {'max_depth': max_depth[randint(0, len(max_depth)-1)],\n",
        "                  'min_samples_split': min_samples_split[randint(0, len(min_samples_split)-1)],\n",
        "                  'min_samples_leaf': min_samples_leaf[randint(0, len(min_samples_leaf)-1)]}\n",
        "\n",
        "        # Train the model with the current hyperparameters\n",
        "        model.set_params(**params)\n",
        "        model.fit(X_train, y_train)\n",
        "\n",
        "        # Evaluate the model on the validation set\n",
        "        y_pred = model.predict(X_valid)\n",
        "        mse = mean_squared_error1(y_valid, y_pred)\n",
        "\n",
        "        # Store the cross-validation score\n",
        "        scores[mse].append(params)\n",
        "\n",
        "    # Return the best hyperparameters and the corresponding mean squared error\n",
        "    best_params = scores[min(scores)][0]\n",
        "    best_mse = min(scores)\n",
        "\n",
        "    return best_params, best_mse\n",
        "\n",
        "\n",
        "# Define the decision tree regressor model\n",
        "model1 = CHAIDDecisionTreeRegressor()\n",
        "\n",
        "# Perform the hyperparameter tuning using k-fold cross-validation and randomized search\n",
        "best_params, best_mse = k_fold_cv(X, y, model1, n_folds=10)\n",
        "\n",
        "# Print the best hyperparameters and the corresponding mean squared error\n",
        "print(\"Best hyperparameters:\", best_params)\n",
        "print(\"Best mean squared error:\", best_mse)"
      ],
      "metadata": {
        "colab": {
          "base_uri": "https://localhost:8080/"
        },
        "id": "1DwO9y9PcqF6",
        "outputId": "d14d1d22-5788-485d-a312-f16e038b823e"
      },
      "execution_count": null,
      "outputs": [
        {
          "output_type": "stream",
          "name": "stderr",
          "text": [
            "<ipython-input-40-1e0234080c14>:36: RuntimeWarning: invalid value encountered in double_scalars\n",
            "  chi_squared = (n_left * (y_left_mean - y_total_mean)**2 / (p_left * (1 - p_left)) +    # calculate the first part of the chi-squared test statistic\n",
            "<ipython-input-40-1e0234080c14>:37: RuntimeWarning: invalid value encountered in double_scalars\n",
            "  n_right * (y_right_mean - y_total_mean)**2 / (p_right * (1 - p_right)))  # calculate the second part of the chi-squared test statistic\n"
          ]
        }
      ]
    },
    {
      "cell_type": "code",
      "source": [],
      "metadata": {
        "id": "sfV1st69ddRq"
      },
      "execution_count": null,
      "outputs": []
    }
  ]
}