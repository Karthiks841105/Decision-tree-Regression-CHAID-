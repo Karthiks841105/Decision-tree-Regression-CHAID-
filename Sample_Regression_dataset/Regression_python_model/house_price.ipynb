{
  "nbformat": 4,
  "nbformat_minor": 0,
  "metadata": {
    "colab": {
      "provenance": []
    },
    "kernelspec": {
      "name": "python3",
      "display_name": "Python 3"
    },
    "language_info": {
      "name": "python"
    }
  },
  "cells": [
    {
      "cell_type": "code",
      "execution_count": 1,
      "metadata": {
        "id": "ekuq3ouABkUV"
      },
      "outputs": [],
      "source": [
        "\n",
        "# Importing all necessary Libaries\n",
        "\n",
        "import numpy as np # numpy used for mathematical operation on array\n",
        "import pandas as pd  # pandas used for data manipulation on dataframe\n",
        "import seaborn as sns # seaborn used for data visualization\n",
        "import matplotlib.pyplot as plt # matplotlib used for data visualization"
      ]
    },
    {
      "cell_type": "code",
      "source": [
        "df1=pd.read_csv(\"/content/house(1).csv\")\n",
        "df1.head()"
      ],
      "metadata": {
        "colab": {
          "base_uri": "https://localhost:8080/",
          "height": 206
        },
        "id": "hQB8Ot_3Dpbp",
        "outputId": "0be1784b-1a6a-4ab9-b3d4-860de489c901"
      },
      "execution_count": 2,
      "outputs": [
        {
          "output_type": "execute_result",
          "data": {
            "text/plain": [
              "           id  sqft_basement  yr_built  yr_renovated  zipcode      lat  \\\n",
              "0  7129300520              0      1955             0    98178  47.5112   \n",
              "1  6414100192            400      1951          1991    98125  47.7210   \n",
              "2  5631500400              0      1933             0    98028  47.7379   \n",
              "3  2487200875            910      1965             0    98136  47.5208   \n",
              "4  1954400510              0      1987             0    98074  47.6168   \n",
              "\n",
              "      long  sqft_living15  sqft_lot15  \n",
              "0 -122.257           1340        5650  \n",
              "1 -122.319           1690        7639  \n",
              "2 -122.233           2720        8062  \n",
              "3 -122.393           1360        5000  \n",
              "4 -122.045           1800        7503  "
            ],
            "text/html": [
              "\n",
              "  <div id=\"df-0c07f469-1628-4cdc-8380-05aaddefcef7\">\n",
              "    <div class=\"colab-df-container\">\n",
              "      <div>\n",
              "<style scoped>\n",
              "    .dataframe tbody tr th:only-of-type {\n",
              "        vertical-align: middle;\n",
              "    }\n",
              "\n",
              "    .dataframe tbody tr th {\n",
              "        vertical-align: top;\n",
              "    }\n",
              "\n",
              "    .dataframe thead th {\n",
              "        text-align: right;\n",
              "    }\n",
              "</style>\n",
              "<table border=\"1\" class=\"dataframe\">\n",
              "  <thead>\n",
              "    <tr style=\"text-align: right;\">\n",
              "      <th></th>\n",
              "      <th>id</th>\n",
              "      <th>sqft_basement</th>\n",
              "      <th>yr_built</th>\n",
              "      <th>yr_renovated</th>\n",
              "      <th>zipcode</th>\n",
              "      <th>lat</th>\n",
              "      <th>long</th>\n",
              "      <th>sqft_living15</th>\n",
              "      <th>sqft_lot15</th>\n",
              "    </tr>\n",
              "  </thead>\n",
              "  <tbody>\n",
              "    <tr>\n",
              "      <th>0</th>\n",
              "      <td>7129300520</td>\n",
              "      <td>0</td>\n",
              "      <td>1955</td>\n",
              "      <td>0</td>\n",
              "      <td>98178</td>\n",
              "      <td>47.5112</td>\n",
              "      <td>-122.257</td>\n",
              "      <td>1340</td>\n",
              "      <td>5650</td>\n",
              "    </tr>\n",
              "    <tr>\n",
              "      <th>1</th>\n",
              "      <td>6414100192</td>\n",
              "      <td>400</td>\n",
              "      <td>1951</td>\n",
              "      <td>1991</td>\n",
              "      <td>98125</td>\n",
              "      <td>47.7210</td>\n",
              "      <td>-122.319</td>\n",
              "      <td>1690</td>\n",
              "      <td>7639</td>\n",
              "    </tr>\n",
              "    <tr>\n",
              "      <th>2</th>\n",
              "      <td>5631500400</td>\n",
              "      <td>0</td>\n",
              "      <td>1933</td>\n",
              "      <td>0</td>\n",
              "      <td>98028</td>\n",
              "      <td>47.7379</td>\n",
              "      <td>-122.233</td>\n",
              "      <td>2720</td>\n",
              "      <td>8062</td>\n",
              "    </tr>\n",
              "    <tr>\n",
              "      <th>3</th>\n",
              "      <td>2487200875</td>\n",
              "      <td>910</td>\n",
              "      <td>1965</td>\n",
              "      <td>0</td>\n",
              "      <td>98136</td>\n",
              "      <td>47.5208</td>\n",
              "      <td>-122.393</td>\n",
              "      <td>1360</td>\n",
              "      <td>5000</td>\n",
              "    </tr>\n",
              "    <tr>\n",
              "      <th>4</th>\n",
              "      <td>1954400510</td>\n",
              "      <td>0</td>\n",
              "      <td>1987</td>\n",
              "      <td>0</td>\n",
              "      <td>98074</td>\n",
              "      <td>47.6168</td>\n",
              "      <td>-122.045</td>\n",
              "      <td>1800</td>\n",
              "      <td>7503</td>\n",
              "    </tr>\n",
              "  </tbody>\n",
              "</table>\n",
              "</div>\n",
              "      <button class=\"colab-df-convert\" onclick=\"convertToInteractive('df-0c07f469-1628-4cdc-8380-05aaddefcef7')\"\n",
              "              title=\"Convert this dataframe to an interactive table.\"\n",
              "              style=\"display:none;\">\n",
              "        \n",
              "  <svg xmlns=\"http://www.w3.org/2000/svg\" height=\"24px\"viewBox=\"0 0 24 24\"\n",
              "       width=\"24px\">\n",
              "    <path d=\"M0 0h24v24H0V0z\" fill=\"none\"/>\n",
              "    <path d=\"M18.56 5.44l.94 2.06.94-2.06 2.06-.94-2.06-.94-.94-2.06-.94 2.06-2.06.94zm-11 1L8.5 8.5l.94-2.06 2.06-.94-2.06-.94L8.5 2.5l-.94 2.06-2.06.94zm10 10l.94 2.06.94-2.06 2.06-.94-2.06-.94-.94-2.06-.94 2.06-2.06.94z\"/><path d=\"M17.41 7.96l-1.37-1.37c-.4-.4-.92-.59-1.43-.59-.52 0-1.04.2-1.43.59L10.3 9.45l-7.72 7.72c-.78.78-.78 2.05 0 2.83L4 21.41c.39.39.9.59 1.41.59.51 0 1.02-.2 1.41-.59l7.78-7.78 2.81-2.81c.8-.78.8-2.07 0-2.86zM5.41 20L4 18.59l7.72-7.72 1.47 1.35L5.41 20z\"/>\n",
              "  </svg>\n",
              "      </button>\n",
              "      \n",
              "  <style>\n",
              "    .colab-df-container {\n",
              "      display:flex;\n",
              "      flex-wrap:wrap;\n",
              "      gap: 12px;\n",
              "    }\n",
              "\n",
              "    .colab-df-convert {\n",
              "      background-color: #E8F0FE;\n",
              "      border: none;\n",
              "      border-radius: 50%;\n",
              "      cursor: pointer;\n",
              "      display: none;\n",
              "      fill: #1967D2;\n",
              "      height: 32px;\n",
              "      padding: 0 0 0 0;\n",
              "      width: 32px;\n",
              "    }\n",
              "\n",
              "    .colab-df-convert:hover {\n",
              "      background-color: #E2EBFA;\n",
              "      box-shadow: 0px 1px 2px rgba(60, 64, 67, 0.3), 0px 1px 3px 1px rgba(60, 64, 67, 0.15);\n",
              "      fill: #174EA6;\n",
              "    }\n",
              "\n",
              "    [theme=dark] .colab-df-convert {\n",
              "      background-color: #3B4455;\n",
              "      fill: #D2E3FC;\n",
              "    }\n",
              "\n",
              "    [theme=dark] .colab-df-convert:hover {\n",
              "      background-color: #434B5C;\n",
              "      box-shadow: 0px 1px 3px 1px rgba(0, 0, 0, 0.15);\n",
              "      filter: drop-shadow(0px 1px 2px rgba(0, 0, 0, 0.3));\n",
              "      fill: #FFFFFF;\n",
              "    }\n",
              "  </style>\n",
              "\n",
              "      <script>\n",
              "        const buttonEl =\n",
              "          document.querySelector('#df-0c07f469-1628-4cdc-8380-05aaddefcef7 button.colab-df-convert');\n",
              "        buttonEl.style.display =\n",
              "          google.colab.kernel.accessAllowed ? 'block' : 'none';\n",
              "\n",
              "        async function convertToInteractive(key) {\n",
              "          const element = document.querySelector('#df-0c07f469-1628-4cdc-8380-05aaddefcef7');\n",
              "          const dataTable =\n",
              "            await google.colab.kernel.invokeFunction('convertToInteractive',\n",
              "                                                     [key], {});\n",
              "          if (!dataTable) return;\n",
              "\n",
              "          const docLinkHtml = 'Like what you see? Visit the ' +\n",
              "            '<a target=\"_blank\" href=https://colab.research.google.com/notebooks/data_table.ipynb>data table notebook</a>'\n",
              "            + ' to learn more about interactive tables.';\n",
              "          element.innerHTML = '';\n",
              "          dataTable['output_type'] = 'display_data';\n",
              "          await google.colab.output.renderOutput(dataTable, element);\n",
              "          const docLink = document.createElement('div');\n",
              "          docLink.innerHTML = docLinkHtml;\n",
              "          element.appendChild(docLink);\n",
              "        }\n",
              "      </script>\n",
              "    </div>\n",
              "  </div>\n",
              "  "
            ]
          },
          "metadata": {},
          "execution_count": 2
        }
      ]
    },
    {
      "cell_type": "code",
      "source": [
        "df2=pd.read_csv(\"/content/house(2).csv\")\n",
        "df2.head()"
      ],
      "metadata": {
        "colab": {
          "base_uri": "https://localhost:8080/",
          "height": 206
        },
        "id": "unc0-2UVDvbW",
        "outputId": "7a48a45d-6bc6-4305-93b2-dfd88a03fb7b"
      },
      "execution_count": 3,
      "outputs": [
        {
          "output_type": "execute_result",
          "data": {
            "text/plain": [
              "           id             date     price  bedrooms  bathrooms  sqft_living  \\\n",
              "0  7129300520  20141013T000000  221900.0       3.0        NaN         1180   \n",
              "1  6414100192  20141209T000000  538000.0       3.0       2.25         2570   \n",
              "2  5631500400  20150225T000000  180000.0       2.0        NaN          770   \n",
              "3  2487200875  20141209T000000  604000.0       4.0        NaN         1960   \n",
              "4  1954400510  20150218T000000  510000.0       3.0       2.00         1680   \n",
              "\n",
              "   sqft_lot  floors waterfront  view  condition  grade  sqft_above  \n",
              "0      5650     NaN          0     0          3      7        1180  \n",
              "1      7242     2.0          0     0          3      7        2170  \n",
              "2     10000     NaN          0     0          3      6         770  \n",
              "3      5000     NaN          0     0          5      7        1050  \n",
              "4      8080     1.0          0     0          3      8        1680  "
            ],
            "text/html": [
              "\n",
              "  <div id=\"df-eed72760-9331-47d3-a585-3201e7ccddc2\">\n",
              "    <div class=\"colab-df-container\">\n",
              "      <div>\n",
              "<style scoped>\n",
              "    .dataframe tbody tr th:only-of-type {\n",
              "        vertical-align: middle;\n",
              "    }\n",
              "\n",
              "    .dataframe tbody tr th {\n",
              "        vertical-align: top;\n",
              "    }\n",
              "\n",
              "    .dataframe thead th {\n",
              "        text-align: right;\n",
              "    }\n",
              "</style>\n",
              "<table border=\"1\" class=\"dataframe\">\n",
              "  <thead>\n",
              "    <tr style=\"text-align: right;\">\n",
              "      <th></th>\n",
              "      <th>id</th>\n",
              "      <th>date</th>\n",
              "      <th>price</th>\n",
              "      <th>bedrooms</th>\n",
              "      <th>bathrooms</th>\n",
              "      <th>sqft_living</th>\n",
              "      <th>sqft_lot</th>\n",
              "      <th>floors</th>\n",
              "      <th>waterfront</th>\n",
              "      <th>view</th>\n",
              "      <th>condition</th>\n",
              "      <th>grade</th>\n",
              "      <th>sqft_above</th>\n",
              "    </tr>\n",
              "  </thead>\n",
              "  <tbody>\n",
              "    <tr>\n",
              "      <th>0</th>\n",
              "      <td>7129300520</td>\n",
              "      <td>20141013T000000</td>\n",
              "      <td>221900.0</td>\n",
              "      <td>3.0</td>\n",
              "      <td>NaN</td>\n",
              "      <td>1180</td>\n",
              "      <td>5650</td>\n",
              "      <td>NaN</td>\n",
              "      <td>0</td>\n",
              "      <td>0</td>\n",
              "      <td>3</td>\n",
              "      <td>7</td>\n",
              "      <td>1180</td>\n",
              "    </tr>\n",
              "    <tr>\n",
              "      <th>1</th>\n",
              "      <td>6414100192</td>\n",
              "      <td>20141209T000000</td>\n",
              "      <td>538000.0</td>\n",
              "      <td>3.0</td>\n",
              "      <td>2.25</td>\n",
              "      <td>2570</td>\n",
              "      <td>7242</td>\n",
              "      <td>2.0</td>\n",
              "      <td>0</td>\n",
              "      <td>0</td>\n",
              "      <td>3</td>\n",
              "      <td>7</td>\n",
              "      <td>2170</td>\n",
              "    </tr>\n",
              "    <tr>\n",
              "      <th>2</th>\n",
              "      <td>5631500400</td>\n",
              "      <td>20150225T000000</td>\n",
              "      <td>180000.0</td>\n",
              "      <td>2.0</td>\n",
              "      <td>NaN</td>\n",
              "      <td>770</td>\n",
              "      <td>10000</td>\n",
              "      <td>NaN</td>\n",
              "      <td>0</td>\n",
              "      <td>0</td>\n",
              "      <td>3</td>\n",
              "      <td>6</td>\n",
              "      <td>770</td>\n",
              "    </tr>\n",
              "    <tr>\n",
              "      <th>3</th>\n",
              "      <td>2487200875</td>\n",
              "      <td>20141209T000000</td>\n",
              "      <td>604000.0</td>\n",
              "      <td>4.0</td>\n",
              "      <td>NaN</td>\n",
              "      <td>1960</td>\n",
              "      <td>5000</td>\n",
              "      <td>NaN</td>\n",
              "      <td>0</td>\n",
              "      <td>0</td>\n",
              "      <td>5</td>\n",
              "      <td>7</td>\n",
              "      <td>1050</td>\n",
              "    </tr>\n",
              "    <tr>\n",
              "      <th>4</th>\n",
              "      <td>1954400510</td>\n",
              "      <td>20150218T000000</td>\n",
              "      <td>510000.0</td>\n",
              "      <td>3.0</td>\n",
              "      <td>2.00</td>\n",
              "      <td>1680</td>\n",
              "      <td>8080</td>\n",
              "      <td>1.0</td>\n",
              "      <td>0</td>\n",
              "      <td>0</td>\n",
              "      <td>3</td>\n",
              "      <td>8</td>\n",
              "      <td>1680</td>\n",
              "    </tr>\n",
              "  </tbody>\n",
              "</table>\n",
              "</div>\n",
              "      <button class=\"colab-df-convert\" onclick=\"convertToInteractive('df-eed72760-9331-47d3-a585-3201e7ccddc2')\"\n",
              "              title=\"Convert this dataframe to an interactive table.\"\n",
              "              style=\"display:none;\">\n",
              "        \n",
              "  <svg xmlns=\"http://www.w3.org/2000/svg\" height=\"24px\"viewBox=\"0 0 24 24\"\n",
              "       width=\"24px\">\n",
              "    <path d=\"M0 0h24v24H0V0z\" fill=\"none\"/>\n",
              "    <path d=\"M18.56 5.44l.94 2.06.94-2.06 2.06-.94-2.06-.94-.94-2.06-.94 2.06-2.06.94zm-11 1L8.5 8.5l.94-2.06 2.06-.94-2.06-.94L8.5 2.5l-.94 2.06-2.06.94zm10 10l.94 2.06.94-2.06 2.06-.94-2.06-.94-.94-2.06-.94 2.06-2.06.94z\"/><path d=\"M17.41 7.96l-1.37-1.37c-.4-.4-.92-.59-1.43-.59-.52 0-1.04.2-1.43.59L10.3 9.45l-7.72 7.72c-.78.78-.78 2.05 0 2.83L4 21.41c.39.39.9.59 1.41.59.51 0 1.02-.2 1.41-.59l7.78-7.78 2.81-2.81c.8-.78.8-2.07 0-2.86zM5.41 20L4 18.59l7.72-7.72 1.47 1.35L5.41 20z\"/>\n",
              "  </svg>\n",
              "      </button>\n",
              "      \n",
              "  <style>\n",
              "    .colab-df-container {\n",
              "      display:flex;\n",
              "      flex-wrap:wrap;\n",
              "      gap: 12px;\n",
              "    }\n",
              "\n",
              "    .colab-df-convert {\n",
              "      background-color: #E8F0FE;\n",
              "      border: none;\n",
              "      border-radius: 50%;\n",
              "      cursor: pointer;\n",
              "      display: none;\n",
              "      fill: #1967D2;\n",
              "      height: 32px;\n",
              "      padding: 0 0 0 0;\n",
              "      width: 32px;\n",
              "    }\n",
              "\n",
              "    .colab-df-convert:hover {\n",
              "      background-color: #E2EBFA;\n",
              "      box-shadow: 0px 1px 2px rgba(60, 64, 67, 0.3), 0px 1px 3px 1px rgba(60, 64, 67, 0.15);\n",
              "      fill: #174EA6;\n",
              "    }\n",
              "\n",
              "    [theme=dark] .colab-df-convert {\n",
              "      background-color: #3B4455;\n",
              "      fill: #D2E3FC;\n",
              "    }\n",
              "\n",
              "    [theme=dark] .colab-df-convert:hover {\n",
              "      background-color: #434B5C;\n",
              "      box-shadow: 0px 1px 3px 1px rgba(0, 0, 0, 0.15);\n",
              "      filter: drop-shadow(0px 1px 2px rgba(0, 0, 0, 0.3));\n",
              "      fill: #FFFFFF;\n",
              "    }\n",
              "  </style>\n",
              "\n",
              "      <script>\n",
              "        const buttonEl =\n",
              "          document.querySelector('#df-eed72760-9331-47d3-a585-3201e7ccddc2 button.colab-df-convert');\n",
              "        buttonEl.style.display =\n",
              "          google.colab.kernel.accessAllowed ? 'block' : 'none';\n",
              "\n",
              "        async function convertToInteractive(key) {\n",
              "          const element = document.querySelector('#df-eed72760-9331-47d3-a585-3201e7ccddc2');\n",
              "          const dataTable =\n",
              "            await google.colab.kernel.invokeFunction('convertToInteractive',\n",
              "                                                     [key], {});\n",
              "          if (!dataTable) return;\n",
              "\n",
              "          const docLinkHtml = 'Like what you see? Visit the ' +\n",
              "            '<a target=\"_blank\" href=https://colab.research.google.com/notebooks/data_table.ipynb>data table notebook</a>'\n",
              "            + ' to learn more about interactive tables.';\n",
              "          element.innerHTML = '';\n",
              "          dataTable['output_type'] = 'display_data';\n",
              "          await google.colab.output.renderOutput(dataTable, element);\n",
              "          const docLink = document.createElement('div');\n",
              "          docLink.innerHTML = docLinkHtml;\n",
              "          element.appendChild(docLink);\n",
              "        }\n",
              "      </script>\n",
              "    </div>\n",
              "  </div>\n",
              "  "
            ]
          },
          "metadata": {},
          "execution_count": 3
        }
      ]
    },
    {
      "cell_type": "code",
      "source": [
        "df = pd.merge(df1, df2, on='id')"
      ],
      "metadata": {
        "id": "VzTcH0KND5p3"
      },
      "execution_count": 4,
      "outputs": []
    },
    {
      "cell_type": "code",
      "source": [
        "df = df.replace('?', np.nan)"
      ],
      "metadata": {
        "id": "RGsUiZbGKBul"
      },
      "execution_count": 5,
      "outputs": []
    },
    {
      "cell_type": "code",
      "source": [
        "df.head()"
      ],
      "metadata": {
        "colab": {
          "base_uri": "https://localhost:8080/",
          "height": 299
        },
        "id": "bmDyp6egERGu",
        "outputId": "56fdfbd9-9bc9-4280-c008-2f3c64aa0819"
      },
      "execution_count": 6,
      "outputs": [
        {
          "output_type": "execute_result",
          "data": {
            "text/plain": [
              "           id  sqft_basement  yr_built  yr_renovated  zipcode      lat  \\\n",
              "0  7129300520              0      1955             0    98178  47.5112   \n",
              "1  6414100192            400      1951          1991    98125  47.7210   \n",
              "2  5631500400              0      1933             0    98028  47.7379   \n",
              "3  2487200875            910      1965             0    98136  47.5208   \n",
              "4  1954400510              0      1987             0    98074  47.6168   \n",
              "\n",
              "      long  sqft_living15  sqft_lot15             date  ...  bedrooms  \\\n",
              "0 -122.257           1340        5650  20141013T000000  ...       3.0   \n",
              "1 -122.319           1690        7639  20141209T000000  ...       3.0   \n",
              "2 -122.233           2720        8062  20150225T000000  ...       2.0   \n",
              "3 -122.393           1360        5000  20141209T000000  ...       4.0   \n",
              "4 -122.045           1800        7503  20150218T000000  ...       3.0   \n",
              "\n",
              "   bathrooms  sqft_living  sqft_lot  floors  waterfront view  condition  \\\n",
              "0        NaN         1180      5650     NaN           0    0          3   \n",
              "1       2.25         2570      7242     2.0           0    0          3   \n",
              "2        NaN          770     10000     NaN           0    0          3   \n",
              "3        NaN         1960      5000     NaN           0    0          5   \n",
              "4       2.00         1680      8080     1.0           0    0          3   \n",
              "\n",
              "   grade  sqft_above  \n",
              "0      7        1180  \n",
              "1      7        2170  \n",
              "2      6         770  \n",
              "3      7        1050  \n",
              "4      8        1680  \n",
              "\n",
              "[5 rows x 21 columns]"
            ],
            "text/html": [
              "\n",
              "  <div id=\"df-41ac645f-975f-4e95-8e41-b00788d60d17\">\n",
              "    <div class=\"colab-df-container\">\n",
              "      <div>\n",
              "<style scoped>\n",
              "    .dataframe tbody tr th:only-of-type {\n",
              "        vertical-align: middle;\n",
              "    }\n",
              "\n",
              "    .dataframe tbody tr th {\n",
              "        vertical-align: top;\n",
              "    }\n",
              "\n",
              "    .dataframe thead th {\n",
              "        text-align: right;\n",
              "    }\n",
              "</style>\n",
              "<table border=\"1\" class=\"dataframe\">\n",
              "  <thead>\n",
              "    <tr style=\"text-align: right;\">\n",
              "      <th></th>\n",
              "      <th>id</th>\n",
              "      <th>sqft_basement</th>\n",
              "      <th>yr_built</th>\n",
              "      <th>yr_renovated</th>\n",
              "      <th>zipcode</th>\n",
              "      <th>lat</th>\n",
              "      <th>long</th>\n",
              "      <th>sqft_living15</th>\n",
              "      <th>sqft_lot15</th>\n",
              "      <th>date</th>\n",
              "      <th>...</th>\n",
              "      <th>bedrooms</th>\n",
              "      <th>bathrooms</th>\n",
              "      <th>sqft_living</th>\n",
              "      <th>sqft_lot</th>\n",
              "      <th>floors</th>\n",
              "      <th>waterfront</th>\n",
              "      <th>view</th>\n",
              "      <th>condition</th>\n",
              "      <th>grade</th>\n",
              "      <th>sqft_above</th>\n",
              "    </tr>\n",
              "  </thead>\n",
              "  <tbody>\n",
              "    <tr>\n",
              "      <th>0</th>\n",
              "      <td>7129300520</td>\n",
              "      <td>0</td>\n",
              "      <td>1955</td>\n",
              "      <td>0</td>\n",
              "      <td>98178</td>\n",
              "      <td>47.5112</td>\n",
              "      <td>-122.257</td>\n",
              "      <td>1340</td>\n",
              "      <td>5650</td>\n",
              "      <td>20141013T000000</td>\n",
              "      <td>...</td>\n",
              "      <td>3.0</td>\n",
              "      <td>NaN</td>\n",
              "      <td>1180</td>\n",
              "      <td>5650</td>\n",
              "      <td>NaN</td>\n",
              "      <td>0</td>\n",
              "      <td>0</td>\n",
              "      <td>3</td>\n",
              "      <td>7</td>\n",
              "      <td>1180</td>\n",
              "    </tr>\n",
              "    <tr>\n",
              "      <th>1</th>\n",
              "      <td>6414100192</td>\n",
              "      <td>400</td>\n",
              "      <td>1951</td>\n",
              "      <td>1991</td>\n",
              "      <td>98125</td>\n",
              "      <td>47.7210</td>\n",
              "      <td>-122.319</td>\n",
              "      <td>1690</td>\n",
              "      <td>7639</td>\n",
              "      <td>20141209T000000</td>\n",
              "      <td>...</td>\n",
              "      <td>3.0</td>\n",
              "      <td>2.25</td>\n",
              "      <td>2570</td>\n",
              "      <td>7242</td>\n",
              "      <td>2.0</td>\n",
              "      <td>0</td>\n",
              "      <td>0</td>\n",
              "      <td>3</td>\n",
              "      <td>7</td>\n",
              "      <td>2170</td>\n",
              "    </tr>\n",
              "    <tr>\n",
              "      <th>2</th>\n",
              "      <td>5631500400</td>\n",
              "      <td>0</td>\n",
              "      <td>1933</td>\n",
              "      <td>0</td>\n",
              "      <td>98028</td>\n",
              "      <td>47.7379</td>\n",
              "      <td>-122.233</td>\n",
              "      <td>2720</td>\n",
              "      <td>8062</td>\n",
              "      <td>20150225T000000</td>\n",
              "      <td>...</td>\n",
              "      <td>2.0</td>\n",
              "      <td>NaN</td>\n",
              "      <td>770</td>\n",
              "      <td>10000</td>\n",
              "      <td>NaN</td>\n",
              "      <td>0</td>\n",
              "      <td>0</td>\n",
              "      <td>3</td>\n",
              "      <td>6</td>\n",
              "      <td>770</td>\n",
              "    </tr>\n",
              "    <tr>\n",
              "      <th>3</th>\n",
              "      <td>2487200875</td>\n",
              "      <td>910</td>\n",
              "      <td>1965</td>\n",
              "      <td>0</td>\n",
              "      <td>98136</td>\n",
              "      <td>47.5208</td>\n",
              "      <td>-122.393</td>\n",
              "      <td>1360</td>\n",
              "      <td>5000</td>\n",
              "      <td>20141209T000000</td>\n",
              "      <td>...</td>\n",
              "      <td>4.0</td>\n",
              "      <td>NaN</td>\n",
              "      <td>1960</td>\n",
              "      <td>5000</td>\n",
              "      <td>NaN</td>\n",
              "      <td>0</td>\n",
              "      <td>0</td>\n",
              "      <td>5</td>\n",
              "      <td>7</td>\n",
              "      <td>1050</td>\n",
              "    </tr>\n",
              "    <tr>\n",
              "      <th>4</th>\n",
              "      <td>1954400510</td>\n",
              "      <td>0</td>\n",
              "      <td>1987</td>\n",
              "      <td>0</td>\n",
              "      <td>98074</td>\n",
              "      <td>47.6168</td>\n",
              "      <td>-122.045</td>\n",
              "      <td>1800</td>\n",
              "      <td>7503</td>\n",
              "      <td>20150218T000000</td>\n",
              "      <td>...</td>\n",
              "      <td>3.0</td>\n",
              "      <td>2.00</td>\n",
              "      <td>1680</td>\n",
              "      <td>8080</td>\n",
              "      <td>1.0</td>\n",
              "      <td>0</td>\n",
              "      <td>0</td>\n",
              "      <td>3</td>\n",
              "      <td>8</td>\n",
              "      <td>1680</td>\n",
              "    </tr>\n",
              "  </tbody>\n",
              "</table>\n",
              "<p>5 rows × 21 columns</p>\n",
              "</div>\n",
              "      <button class=\"colab-df-convert\" onclick=\"convertToInteractive('df-41ac645f-975f-4e95-8e41-b00788d60d17')\"\n",
              "              title=\"Convert this dataframe to an interactive table.\"\n",
              "              style=\"display:none;\">\n",
              "        \n",
              "  <svg xmlns=\"http://www.w3.org/2000/svg\" height=\"24px\"viewBox=\"0 0 24 24\"\n",
              "       width=\"24px\">\n",
              "    <path d=\"M0 0h24v24H0V0z\" fill=\"none\"/>\n",
              "    <path d=\"M18.56 5.44l.94 2.06.94-2.06 2.06-.94-2.06-.94-.94-2.06-.94 2.06-2.06.94zm-11 1L8.5 8.5l.94-2.06 2.06-.94-2.06-.94L8.5 2.5l-.94 2.06-2.06.94zm10 10l.94 2.06.94-2.06 2.06-.94-2.06-.94-.94-2.06-.94 2.06-2.06.94z\"/><path d=\"M17.41 7.96l-1.37-1.37c-.4-.4-.92-.59-1.43-.59-.52 0-1.04.2-1.43.59L10.3 9.45l-7.72 7.72c-.78.78-.78 2.05 0 2.83L4 21.41c.39.39.9.59 1.41.59.51 0 1.02-.2 1.41-.59l7.78-7.78 2.81-2.81c.8-.78.8-2.07 0-2.86zM5.41 20L4 18.59l7.72-7.72 1.47 1.35L5.41 20z\"/>\n",
              "  </svg>\n",
              "      </button>\n",
              "      \n",
              "  <style>\n",
              "    .colab-df-container {\n",
              "      display:flex;\n",
              "      flex-wrap:wrap;\n",
              "      gap: 12px;\n",
              "    }\n",
              "\n",
              "    .colab-df-convert {\n",
              "      background-color: #E8F0FE;\n",
              "      border: none;\n",
              "      border-radius: 50%;\n",
              "      cursor: pointer;\n",
              "      display: none;\n",
              "      fill: #1967D2;\n",
              "      height: 32px;\n",
              "      padding: 0 0 0 0;\n",
              "      width: 32px;\n",
              "    }\n",
              "\n",
              "    .colab-df-convert:hover {\n",
              "      background-color: #E2EBFA;\n",
              "      box-shadow: 0px 1px 2px rgba(60, 64, 67, 0.3), 0px 1px 3px 1px rgba(60, 64, 67, 0.15);\n",
              "      fill: #174EA6;\n",
              "    }\n",
              "\n",
              "    [theme=dark] .colab-df-convert {\n",
              "      background-color: #3B4455;\n",
              "      fill: #D2E3FC;\n",
              "    }\n",
              "\n",
              "    [theme=dark] .colab-df-convert:hover {\n",
              "      background-color: #434B5C;\n",
              "      box-shadow: 0px 1px 3px 1px rgba(0, 0, 0, 0.15);\n",
              "      filter: drop-shadow(0px 1px 2px rgba(0, 0, 0, 0.3));\n",
              "      fill: #FFFFFF;\n",
              "    }\n",
              "  </style>\n",
              "\n",
              "      <script>\n",
              "        const buttonEl =\n",
              "          document.querySelector('#df-41ac645f-975f-4e95-8e41-b00788d60d17 button.colab-df-convert');\n",
              "        buttonEl.style.display =\n",
              "          google.colab.kernel.accessAllowed ? 'block' : 'none';\n",
              "\n",
              "        async function convertToInteractive(key) {\n",
              "          const element = document.querySelector('#df-41ac645f-975f-4e95-8e41-b00788d60d17');\n",
              "          const dataTable =\n",
              "            await google.colab.kernel.invokeFunction('convertToInteractive',\n",
              "                                                     [key], {});\n",
              "          if (!dataTable) return;\n",
              "\n",
              "          const docLinkHtml = 'Like what you see? Visit the ' +\n",
              "            '<a target=\"_blank\" href=https://colab.research.google.com/notebooks/data_table.ipynb>data table notebook</a>'\n",
              "            + ' to learn more about interactive tables.';\n",
              "          element.innerHTML = '';\n",
              "          dataTable['output_type'] = 'display_data';\n",
              "          await google.colab.output.renderOutput(dataTable, element);\n",
              "          const docLink = document.createElement('div');\n",
              "          docLink.innerHTML = docLinkHtml;\n",
              "          element.appendChild(docLink);\n",
              "        }\n",
              "      </script>\n",
              "    </div>\n",
              "  </div>\n",
              "  "
            ]
          },
          "metadata": {},
          "execution_count": 6
        }
      ]
    },
    {
      "cell_type": "code",
      "source": [
        "df.shape"
      ],
      "metadata": {
        "colab": {
          "base_uri": "https://localhost:8080/"
        },
        "id": "MUgUVlxkETWV",
        "outputId": "7de8e041-22e6-4e1b-b775-ac1ff9604ee3"
      },
      "execution_count": 7,
      "outputs": [
        {
          "output_type": "execute_result",
          "data": {
            "text/plain": [
              "(21969, 21)"
            ]
          },
          "metadata": {},
          "execution_count": 7
        }
      ]
    },
    {
      "cell_type": "code",
      "source": [
        "df.nunique()"
      ],
      "metadata": {
        "colab": {
          "base_uri": "https://localhost:8080/"
        },
        "id": "0qgfkqKfEnMQ",
        "outputId": "f899d9f5-38f3-42a5-ce9b-4fd5602453ea"
      },
      "execution_count": 8,
      "outputs": [
        {
          "output_type": "execute_result",
          "data": {
            "text/plain": [
              "id               21436\n",
              "sqft_basement      306\n",
              "yr_built           116\n",
              "yr_renovated        70\n",
              "zipcode             70\n",
              "lat               5034\n",
              "long               752\n",
              "sqft_living15      777\n",
              "sqft_lot15        8689\n",
              "date               372\n",
              "price             4028\n",
              "bedrooms            12\n",
              "bathrooms           30\n",
              "sqft_living       1038\n",
              "sqft_lot          9782\n",
              "floors               6\n",
              "waterfront           2\n",
              "view                 5\n",
              "condition            5\n",
              "grade               12\n",
              "sqft_above         946\n",
              "dtype: int64"
            ]
          },
          "metadata": {},
          "execution_count": 8
        }
      ]
    },
    {
      "cell_type": "code",
      "source": [
        "df.dtypes"
      ],
      "metadata": {
        "colab": {
          "base_uri": "https://localhost:8080/"
        },
        "id": "jzPMBWI7E10H",
        "outputId": "89d41a93-b2eb-4b05-9e9b-a8ea668c35bb"
      },
      "execution_count": 9,
      "outputs": [
        {
          "output_type": "execute_result",
          "data": {
            "text/plain": [
              "id                 int64\n",
              "sqft_basement      int64\n",
              "yr_built           int64\n",
              "yr_renovated       int64\n",
              "zipcode            int64\n",
              "lat              float64\n",
              "long             float64\n",
              "sqft_living15      int64\n",
              "sqft_lot15         int64\n",
              "date              object\n",
              "price            float64\n",
              "bedrooms         float64\n",
              "bathrooms        float64\n",
              "sqft_living        int64\n",
              "sqft_lot           int64\n",
              "floors           float64\n",
              "waterfront        object\n",
              "view               int64\n",
              "condition          int64\n",
              "grade              int64\n",
              "sqft_above         int64\n",
              "dtype: object"
            ]
          },
          "metadata": {},
          "execution_count": 9
        }
      ]
    },
    {
      "cell_type": "code",
      "source": [
        "df.info"
      ],
      "metadata": {
        "colab": {
          "base_uri": "https://localhost:8080/"
        },
        "id": "YgvYs1c0FqMq",
        "outputId": "30d75aaa-325a-4eb4-f7f0-7d0728e9b6af"
      },
      "execution_count": 10,
      "outputs": [
        {
          "output_type": "execute_result",
          "data": {
            "text/plain": [
              "<bound method DataFrame.info of                id  sqft_basement  yr_built  yr_renovated  zipcode      lat  \\\n",
              "0      7129300520              0      1955             0    98178  47.5112   \n",
              "1      6414100192            400      1951          1991    98125  47.7210   \n",
              "2      5631500400              0      1933             0    98028  47.7379   \n",
              "3      2487200875            910      1965             0    98136  47.5208   \n",
              "4      1954400510              0      1987             0    98074  47.6168   \n",
              "...           ...            ...       ...           ...      ...      ...   \n",
              "21964   263000018              0      2009             0    98103  47.6993   \n",
              "21965  6600060120              0      2014             0    98146  47.5107   \n",
              "21966  1523300141              0      2009             0    98144  47.5944   \n",
              "21967   291310100              0      2004             0    98027  47.5345   \n",
              "21968  1523300157              0      2008             0    98144  47.5941   \n",
              "\n",
              "          long  sqft_living15  sqft_lot15             date  ...  bedrooms  \\\n",
              "0     -122.257           1340        5650  20141013T000000  ...       3.0   \n",
              "1     -122.319           1690        7639  20141209T000000  ...       3.0   \n",
              "2     -122.233           2720        8062  20150225T000000  ...       2.0   \n",
              "3     -122.393           1360        5000  20141209T000000  ...       4.0   \n",
              "4     -122.045           1800        7503  20150218T000000  ...       3.0   \n",
              "...        ...            ...         ...              ...  ...       ...   \n",
              "21964 -122.346           1530        1509  20140521T000000  ...       3.0   \n",
              "21965 -122.362           1830        7200  20150223T000000  ...       4.0   \n",
              "21966 -122.299           1020        2007  20140623T000000  ...       NaN   \n",
              "21967 -122.069           1410        1287  20150116T000000  ...       3.0   \n",
              "21968 -122.299           1020        1357  20141015T000000  ...       2.0   \n",
              "\n",
              "       bathrooms  sqft_living  sqft_lot  floors  waterfront view  condition  \\\n",
              "0            NaN         1180      5650     NaN           0    0          3   \n",
              "1           2.25         2570      7242     2.0           0    0          3   \n",
              "2            NaN          770     10000     NaN           0    0          3   \n",
              "3            NaN         1960      5000     NaN           0    0          5   \n",
              "4           2.00         1680      8080     1.0           0    0          3   \n",
              "...          ...          ...       ...     ...         ...  ...        ...   \n",
              "21964        NaN         1530      1131     3.0           0    0          3   \n",
              "21965       2.50         2310      5813     2.0           0    0          3   \n",
              "21966        NaN         1020      1350     2.0           0    0          3   \n",
              "21967       2.50         1600      2388     2.0           0    0          3   \n",
              "21968       0.75         1020      1076     2.0           0    0          3   \n",
              "\n",
              "       grade  sqft_above  \n",
              "0          7        1180  \n",
              "1          7        2170  \n",
              "2          6         770  \n",
              "3          7        1050  \n",
              "4          8        1680  \n",
              "...      ...         ...  \n",
              "21964      8        1530  \n",
              "21965      8        2310  \n",
              "21966      7        1020  \n",
              "21967      8        1600  \n",
              "21968      7        1020  \n",
              "\n",
              "[21969 rows x 21 columns]>"
            ]
          },
          "metadata": {},
          "execution_count": 10
        }
      ]
    },
    {
      "cell_type": "code",
      "source": [
        "df.describe(include='all')"
      ],
      "metadata": {
        "colab": {
          "base_uri": "https://localhost:8080/",
          "height": 487
        },
        "id": "rc7vQHveFti_",
        "outputId": "b3cd73c2-6c0c-42f7-ee83-95d259421028"
      },
      "execution_count": 11,
      "outputs": [
        {
          "output_type": "execute_result",
          "data": {
            "text/plain": [
              "                  id  sqft_basement      yr_built  yr_renovated       zipcode  \\\n",
              "count   2.196900e+04   21969.000000  21969.000000  21969.000000  21969.000000   \n",
              "unique           NaN            NaN           NaN           NaN           NaN   \n",
              "top              NaN            NaN           NaN           NaN           NaN   \n",
              "freq             NaN            NaN           NaN           NaN           NaN   \n",
              "mean    4.579052e+09     291.023032   1970.821157     83.755383  98078.099276   \n",
              "std     2.876614e+09     442.159118     29.348721    400.189783     53.578651   \n",
              "min     1.000102e+06       0.000000   1900.000000      0.000000  98001.000000   \n",
              "25%     2.122059e+09       0.000000   1951.000000      0.000000  98033.000000   \n",
              "50%     3.904940e+09       0.000000   1974.000000      0.000000  98065.000000   \n",
              "75%     7.309100e+09     560.000000   1996.000000      0.000000  98118.000000   \n",
              "max     9.900000e+09    4820.000000   2015.000000   2015.000000  98199.000000   \n",
              "\n",
              "                 lat          long  sqft_living15     sqft_lot15  \\\n",
              "count   21969.000000  21969.000000   21969.000000   21969.000000   \n",
              "unique           NaN           NaN            NaN            NaN   \n",
              "top              NaN           NaN            NaN            NaN   \n",
              "freq             NaN           NaN            NaN            NaN   \n",
              "mean       47.559845   -122.214296    1983.030771   12733.700396   \n",
              "std         0.138485      0.140693     684.801400   27163.313081   \n",
              "min        47.155900   -122.519000     399.000000     651.000000   \n",
              "25%        47.470500   -122.329000    1480.000000    5100.000000   \n",
              "50%        47.571200   -122.231000    1830.000000    7620.000000   \n",
              "75%        47.677900   -122.126000    2360.000000   10080.000000   \n",
              "max        47.777600   -121.315000    6210.000000  871200.000000   \n",
              "\n",
              "                   date  ...      bedrooms     bathrooms   sqft_living  \\\n",
              "count             21969  ...  15273.000000  14353.000000  21969.000000   \n",
              "unique              372  ...           NaN           NaN           NaN   \n",
              "top     20140623T000000  ...           NaN           NaN           NaN   \n",
              "freq                142  ...           NaN           NaN           NaN   \n",
              "mean                NaN  ...      3.370589      2.108810   2074.334426   \n",
              "std                 NaN  ...      0.915085      0.774948    917.044924   \n",
              "min                 NaN  ...      0.000000      0.000000    290.000000   \n",
              "25%                 NaN  ...      3.000000      1.500000   1420.000000   \n",
              "50%                 NaN  ...      3.000000      2.250000   1910.000000   \n",
              "75%                 NaN  ...      4.000000      2.500000   2540.000000   \n",
              "max                 NaN  ...     11.000000      8.000000  13540.000000   \n",
              "\n",
              "            sqft_lot        floors  waterfront          view     condition  \\\n",
              "count   2.196900e+04  17107.000000       21562  21969.000000  21969.000000   \n",
              "unique           NaN           NaN           2           NaN           NaN   \n",
              "top              NaN           NaN           0           NaN           NaN   \n",
              "freq             NaN           NaN       21403           NaN           NaN   \n",
              "mean    1.505021e+04      1.492401         NaN      0.232692      3.407438   \n",
              "std     4.118718e+04      0.539318         NaN      0.764770      0.651837   \n",
              "min     5.200000e+02      1.000000         NaN      0.000000      1.000000   \n",
              "25%     5.050000e+03      1.000000         NaN      0.000000      3.000000   \n",
              "50%     7.620000e+03      1.500000         NaN      0.000000      3.000000   \n",
              "75%     1.067500e+04      2.000000         NaN      0.000000      4.000000   \n",
              "max     1.651359e+06      3.500000         NaN      4.000000      5.000000   \n",
              "\n",
              "               grade    sqft_above  \n",
              "count   21969.000000  21969.000000  \n",
              "unique           NaN           NaN  \n",
              "top              NaN           NaN  \n",
              "freq             NaN           NaN  \n",
              "mean        7.647139   1783.311393  \n",
              "std         1.177961    826.228751  \n",
              "min         1.000000    290.000000  \n",
              "25%         7.000000   1190.000000  \n",
              "50%         7.000000   1560.000000  \n",
              "75%         8.000000   2200.000000  \n",
              "max        13.000000   9410.000000  \n",
              "\n",
              "[11 rows x 21 columns]"
            ],
            "text/html": [
              "\n",
              "  <div id=\"df-93ae6574-021e-4ced-9c09-c466515c584e\">\n",
              "    <div class=\"colab-df-container\">\n",
              "      <div>\n",
              "<style scoped>\n",
              "    .dataframe tbody tr th:only-of-type {\n",
              "        vertical-align: middle;\n",
              "    }\n",
              "\n",
              "    .dataframe tbody tr th {\n",
              "        vertical-align: top;\n",
              "    }\n",
              "\n",
              "    .dataframe thead th {\n",
              "        text-align: right;\n",
              "    }\n",
              "</style>\n",
              "<table border=\"1\" class=\"dataframe\">\n",
              "  <thead>\n",
              "    <tr style=\"text-align: right;\">\n",
              "      <th></th>\n",
              "      <th>id</th>\n",
              "      <th>sqft_basement</th>\n",
              "      <th>yr_built</th>\n",
              "      <th>yr_renovated</th>\n",
              "      <th>zipcode</th>\n",
              "      <th>lat</th>\n",
              "      <th>long</th>\n",
              "      <th>sqft_living15</th>\n",
              "      <th>sqft_lot15</th>\n",
              "      <th>date</th>\n",
              "      <th>...</th>\n",
              "      <th>bedrooms</th>\n",
              "      <th>bathrooms</th>\n",
              "      <th>sqft_living</th>\n",
              "      <th>sqft_lot</th>\n",
              "      <th>floors</th>\n",
              "      <th>waterfront</th>\n",
              "      <th>view</th>\n",
              "      <th>condition</th>\n",
              "      <th>grade</th>\n",
              "      <th>sqft_above</th>\n",
              "    </tr>\n",
              "  </thead>\n",
              "  <tbody>\n",
              "    <tr>\n",
              "      <th>count</th>\n",
              "      <td>2.196900e+04</td>\n",
              "      <td>21969.000000</td>\n",
              "      <td>21969.000000</td>\n",
              "      <td>21969.000000</td>\n",
              "      <td>21969.000000</td>\n",
              "      <td>21969.000000</td>\n",
              "      <td>21969.000000</td>\n",
              "      <td>21969.000000</td>\n",
              "      <td>21969.000000</td>\n",
              "      <td>21969</td>\n",
              "      <td>...</td>\n",
              "      <td>15273.000000</td>\n",
              "      <td>14353.000000</td>\n",
              "      <td>21969.000000</td>\n",
              "      <td>2.196900e+04</td>\n",
              "      <td>17107.000000</td>\n",
              "      <td>21562</td>\n",
              "      <td>21969.000000</td>\n",
              "      <td>21969.000000</td>\n",
              "      <td>21969.000000</td>\n",
              "      <td>21969.000000</td>\n",
              "    </tr>\n",
              "    <tr>\n",
              "      <th>unique</th>\n",
              "      <td>NaN</td>\n",
              "      <td>NaN</td>\n",
              "      <td>NaN</td>\n",
              "      <td>NaN</td>\n",
              "      <td>NaN</td>\n",
              "      <td>NaN</td>\n",
              "      <td>NaN</td>\n",
              "      <td>NaN</td>\n",
              "      <td>NaN</td>\n",
              "      <td>372</td>\n",
              "      <td>...</td>\n",
              "      <td>NaN</td>\n",
              "      <td>NaN</td>\n",
              "      <td>NaN</td>\n",
              "      <td>NaN</td>\n",
              "      <td>NaN</td>\n",
              "      <td>2</td>\n",
              "      <td>NaN</td>\n",
              "      <td>NaN</td>\n",
              "      <td>NaN</td>\n",
              "      <td>NaN</td>\n",
              "    </tr>\n",
              "    <tr>\n",
              "      <th>top</th>\n",
              "      <td>NaN</td>\n",
              "      <td>NaN</td>\n",
              "      <td>NaN</td>\n",
              "      <td>NaN</td>\n",
              "      <td>NaN</td>\n",
              "      <td>NaN</td>\n",
              "      <td>NaN</td>\n",
              "      <td>NaN</td>\n",
              "      <td>NaN</td>\n",
              "      <td>20140623T000000</td>\n",
              "      <td>...</td>\n",
              "      <td>NaN</td>\n",
              "      <td>NaN</td>\n",
              "      <td>NaN</td>\n",
              "      <td>NaN</td>\n",
              "      <td>NaN</td>\n",
              "      <td>0</td>\n",
              "      <td>NaN</td>\n",
              "      <td>NaN</td>\n",
              "      <td>NaN</td>\n",
              "      <td>NaN</td>\n",
              "    </tr>\n",
              "    <tr>\n",
              "      <th>freq</th>\n",
              "      <td>NaN</td>\n",
              "      <td>NaN</td>\n",
              "      <td>NaN</td>\n",
              "      <td>NaN</td>\n",
              "      <td>NaN</td>\n",
              "      <td>NaN</td>\n",
              "      <td>NaN</td>\n",
              "      <td>NaN</td>\n",
              "      <td>NaN</td>\n",
              "      <td>142</td>\n",
              "      <td>...</td>\n",
              "      <td>NaN</td>\n",
              "      <td>NaN</td>\n",
              "      <td>NaN</td>\n",
              "      <td>NaN</td>\n",
              "      <td>NaN</td>\n",
              "      <td>21403</td>\n",
              "      <td>NaN</td>\n",
              "      <td>NaN</td>\n",
              "      <td>NaN</td>\n",
              "      <td>NaN</td>\n",
              "    </tr>\n",
              "    <tr>\n",
              "      <th>mean</th>\n",
              "      <td>4.579052e+09</td>\n",
              "      <td>291.023032</td>\n",
              "      <td>1970.821157</td>\n",
              "      <td>83.755383</td>\n",
              "      <td>98078.099276</td>\n",
              "      <td>47.559845</td>\n",
              "      <td>-122.214296</td>\n",
              "      <td>1983.030771</td>\n",
              "      <td>12733.700396</td>\n",
              "      <td>NaN</td>\n",
              "      <td>...</td>\n",
              "      <td>3.370589</td>\n",
              "      <td>2.108810</td>\n",
              "      <td>2074.334426</td>\n",
              "      <td>1.505021e+04</td>\n",
              "      <td>1.492401</td>\n",
              "      <td>NaN</td>\n",
              "      <td>0.232692</td>\n",
              "      <td>3.407438</td>\n",
              "      <td>7.647139</td>\n",
              "      <td>1783.311393</td>\n",
              "    </tr>\n",
              "    <tr>\n",
              "      <th>std</th>\n",
              "      <td>2.876614e+09</td>\n",
              "      <td>442.159118</td>\n",
              "      <td>29.348721</td>\n",
              "      <td>400.189783</td>\n",
              "      <td>53.578651</td>\n",
              "      <td>0.138485</td>\n",
              "      <td>0.140693</td>\n",
              "      <td>684.801400</td>\n",
              "      <td>27163.313081</td>\n",
              "      <td>NaN</td>\n",
              "      <td>...</td>\n",
              "      <td>0.915085</td>\n",
              "      <td>0.774948</td>\n",
              "      <td>917.044924</td>\n",
              "      <td>4.118718e+04</td>\n",
              "      <td>0.539318</td>\n",
              "      <td>NaN</td>\n",
              "      <td>0.764770</td>\n",
              "      <td>0.651837</td>\n",
              "      <td>1.177961</td>\n",
              "      <td>826.228751</td>\n",
              "    </tr>\n",
              "    <tr>\n",
              "      <th>min</th>\n",
              "      <td>1.000102e+06</td>\n",
              "      <td>0.000000</td>\n",
              "      <td>1900.000000</td>\n",
              "      <td>0.000000</td>\n",
              "      <td>98001.000000</td>\n",
              "      <td>47.155900</td>\n",
              "      <td>-122.519000</td>\n",
              "      <td>399.000000</td>\n",
              "      <td>651.000000</td>\n",
              "      <td>NaN</td>\n",
              "      <td>...</td>\n",
              "      <td>0.000000</td>\n",
              "      <td>0.000000</td>\n",
              "      <td>290.000000</td>\n",
              "      <td>5.200000e+02</td>\n",
              "      <td>1.000000</td>\n",
              "      <td>NaN</td>\n",
              "      <td>0.000000</td>\n",
              "      <td>1.000000</td>\n",
              "      <td>1.000000</td>\n",
              "      <td>290.000000</td>\n",
              "    </tr>\n",
              "    <tr>\n",
              "      <th>25%</th>\n",
              "      <td>2.122059e+09</td>\n",
              "      <td>0.000000</td>\n",
              "      <td>1951.000000</td>\n",
              "      <td>0.000000</td>\n",
              "      <td>98033.000000</td>\n",
              "      <td>47.470500</td>\n",
              "      <td>-122.329000</td>\n",
              "      <td>1480.000000</td>\n",
              "      <td>5100.000000</td>\n",
              "      <td>NaN</td>\n",
              "      <td>...</td>\n",
              "      <td>3.000000</td>\n",
              "      <td>1.500000</td>\n",
              "      <td>1420.000000</td>\n",
              "      <td>5.050000e+03</td>\n",
              "      <td>1.000000</td>\n",
              "      <td>NaN</td>\n",
              "      <td>0.000000</td>\n",
              "      <td>3.000000</td>\n",
              "      <td>7.000000</td>\n",
              "      <td>1190.000000</td>\n",
              "    </tr>\n",
              "    <tr>\n",
              "      <th>50%</th>\n",
              "      <td>3.904940e+09</td>\n",
              "      <td>0.000000</td>\n",
              "      <td>1974.000000</td>\n",
              "      <td>0.000000</td>\n",
              "      <td>98065.000000</td>\n",
              "      <td>47.571200</td>\n",
              "      <td>-122.231000</td>\n",
              "      <td>1830.000000</td>\n",
              "      <td>7620.000000</td>\n",
              "      <td>NaN</td>\n",
              "      <td>...</td>\n",
              "      <td>3.000000</td>\n",
              "      <td>2.250000</td>\n",
              "      <td>1910.000000</td>\n",
              "      <td>7.620000e+03</td>\n",
              "      <td>1.500000</td>\n",
              "      <td>NaN</td>\n",
              "      <td>0.000000</td>\n",
              "      <td>3.000000</td>\n",
              "      <td>7.000000</td>\n",
              "      <td>1560.000000</td>\n",
              "    </tr>\n",
              "    <tr>\n",
              "      <th>75%</th>\n",
              "      <td>7.309100e+09</td>\n",
              "      <td>560.000000</td>\n",
              "      <td>1996.000000</td>\n",
              "      <td>0.000000</td>\n",
              "      <td>98118.000000</td>\n",
              "      <td>47.677900</td>\n",
              "      <td>-122.126000</td>\n",
              "      <td>2360.000000</td>\n",
              "      <td>10080.000000</td>\n",
              "      <td>NaN</td>\n",
              "      <td>...</td>\n",
              "      <td>4.000000</td>\n",
              "      <td>2.500000</td>\n",
              "      <td>2540.000000</td>\n",
              "      <td>1.067500e+04</td>\n",
              "      <td>2.000000</td>\n",
              "      <td>NaN</td>\n",
              "      <td>0.000000</td>\n",
              "      <td>4.000000</td>\n",
              "      <td>8.000000</td>\n",
              "      <td>2200.000000</td>\n",
              "    </tr>\n",
              "    <tr>\n",
              "      <th>max</th>\n",
              "      <td>9.900000e+09</td>\n",
              "      <td>4820.000000</td>\n",
              "      <td>2015.000000</td>\n",
              "      <td>2015.000000</td>\n",
              "      <td>98199.000000</td>\n",
              "      <td>47.777600</td>\n",
              "      <td>-121.315000</td>\n",
              "      <td>6210.000000</td>\n",
              "      <td>871200.000000</td>\n",
              "      <td>NaN</td>\n",
              "      <td>...</td>\n",
              "      <td>11.000000</td>\n",
              "      <td>8.000000</td>\n",
              "      <td>13540.000000</td>\n",
              "      <td>1.651359e+06</td>\n",
              "      <td>3.500000</td>\n",
              "      <td>NaN</td>\n",
              "      <td>4.000000</td>\n",
              "      <td>5.000000</td>\n",
              "      <td>13.000000</td>\n",
              "      <td>9410.000000</td>\n",
              "    </tr>\n",
              "  </tbody>\n",
              "</table>\n",
              "<p>11 rows × 21 columns</p>\n",
              "</div>\n",
              "      <button class=\"colab-df-convert\" onclick=\"convertToInteractive('df-93ae6574-021e-4ced-9c09-c466515c584e')\"\n",
              "              title=\"Convert this dataframe to an interactive table.\"\n",
              "              style=\"display:none;\">\n",
              "        \n",
              "  <svg xmlns=\"http://www.w3.org/2000/svg\" height=\"24px\"viewBox=\"0 0 24 24\"\n",
              "       width=\"24px\">\n",
              "    <path d=\"M0 0h24v24H0V0z\" fill=\"none\"/>\n",
              "    <path d=\"M18.56 5.44l.94 2.06.94-2.06 2.06-.94-2.06-.94-.94-2.06-.94 2.06-2.06.94zm-11 1L8.5 8.5l.94-2.06 2.06-.94-2.06-.94L8.5 2.5l-.94 2.06-2.06.94zm10 10l.94 2.06.94-2.06 2.06-.94-2.06-.94-.94-2.06-.94 2.06-2.06.94z\"/><path d=\"M17.41 7.96l-1.37-1.37c-.4-.4-.92-.59-1.43-.59-.52 0-1.04.2-1.43.59L10.3 9.45l-7.72 7.72c-.78.78-.78 2.05 0 2.83L4 21.41c.39.39.9.59 1.41.59.51 0 1.02-.2 1.41-.59l7.78-7.78 2.81-2.81c.8-.78.8-2.07 0-2.86zM5.41 20L4 18.59l7.72-7.72 1.47 1.35L5.41 20z\"/>\n",
              "  </svg>\n",
              "      </button>\n",
              "      \n",
              "  <style>\n",
              "    .colab-df-container {\n",
              "      display:flex;\n",
              "      flex-wrap:wrap;\n",
              "      gap: 12px;\n",
              "    }\n",
              "\n",
              "    .colab-df-convert {\n",
              "      background-color: #E8F0FE;\n",
              "      border: none;\n",
              "      border-radius: 50%;\n",
              "      cursor: pointer;\n",
              "      display: none;\n",
              "      fill: #1967D2;\n",
              "      height: 32px;\n",
              "      padding: 0 0 0 0;\n",
              "      width: 32px;\n",
              "    }\n",
              "\n",
              "    .colab-df-convert:hover {\n",
              "      background-color: #E2EBFA;\n",
              "      box-shadow: 0px 1px 2px rgba(60, 64, 67, 0.3), 0px 1px 3px 1px rgba(60, 64, 67, 0.15);\n",
              "      fill: #174EA6;\n",
              "    }\n",
              "\n",
              "    [theme=dark] .colab-df-convert {\n",
              "      background-color: #3B4455;\n",
              "      fill: #D2E3FC;\n",
              "    }\n",
              "\n",
              "    [theme=dark] .colab-df-convert:hover {\n",
              "      background-color: #434B5C;\n",
              "      box-shadow: 0px 1px 3px 1px rgba(0, 0, 0, 0.15);\n",
              "      filter: drop-shadow(0px 1px 2px rgba(0, 0, 0, 0.3));\n",
              "      fill: #FFFFFF;\n",
              "    }\n",
              "  </style>\n",
              "\n",
              "      <script>\n",
              "        const buttonEl =\n",
              "          document.querySelector('#df-93ae6574-021e-4ced-9c09-c466515c584e button.colab-df-convert');\n",
              "        buttonEl.style.display =\n",
              "          google.colab.kernel.accessAllowed ? 'block' : 'none';\n",
              "\n",
              "        async function convertToInteractive(key) {\n",
              "          const element = document.querySelector('#df-93ae6574-021e-4ced-9c09-c466515c584e');\n",
              "          const dataTable =\n",
              "            await google.colab.kernel.invokeFunction('convertToInteractive',\n",
              "                                                     [key], {});\n",
              "          if (!dataTable) return;\n",
              "\n",
              "          const docLinkHtml = 'Like what you see? Visit the ' +\n",
              "            '<a target=\"_blank\" href=https://colab.research.google.com/notebooks/data_table.ipynb>data table notebook</a>'\n",
              "            + ' to learn more about interactive tables.';\n",
              "          element.innerHTML = '';\n",
              "          dataTable['output_type'] = 'display_data';\n",
              "          await google.colab.output.renderOutput(dataTable, element);\n",
              "          const docLink = document.createElement('div');\n",
              "          docLink.innerHTML = docLinkHtml;\n",
              "          element.appendChild(docLink);\n",
              "        }\n",
              "      </script>\n",
              "    </div>\n",
              "  </div>\n",
              "  "
            ]
          },
          "metadata": {},
          "execution_count": 11
        }
      ]
    },
    {
      "cell_type": "code",
      "source": [
        "# Plot histogram grid\n",
        "df.hist(figsize=(16,16), xrot=-45) ## Display the labels rotated by 45 degress\n",
        "\n",
        "# Clear the text \"residue\"\n",
        "plt.show()"
      ],
      "metadata": {
        "colab": {
          "base_uri": "https://localhost:8080/",
          "height": 948
        },
        "id": "zFF_x5m9Fwi2",
        "outputId": "393fbceb-2585-4e7e-d223-e88a14c58501"
      },
      "execution_count": 12,
      "outputs": [
        {
          "output_type": "display_data",
          "data": {
            "text/plain": [
              "<Figure size 1152x1152 with 20 Axes>"
            ],
            "image/png": "[encoded data removed]"
          },
          "metadata": {
            "needs_background": "light"
          }
        }
      ]
    },
    {
      "cell_type": "code",
      "source": [
        "df.corr()"
      ],
      "metadata": {
        "colab": {
          "base_uri": "https://localhost:8080/",
          "height": 709
        },
        "id": "OVaL0YK_F-AJ",
        "outputId": "189688ca-a6b3-430b-97a8-9ad964f676d9"
      },
      "execution_count": 13,
      "outputs": [
        {
          "output_type": "execute_result",
          "data": {
            "text/plain": [
              "                     id  sqft_basement  yr_built  yr_renovated   zipcode  \\\n",
              "id             1.000000      -0.003815  0.022334     -0.016350 -0.008961   \n",
              "sqft_basement -0.003815       1.000000 -0.130222      0.070179  0.073884   \n",
              "yr_built       0.022334      -0.130222  1.000000     -0.223261 -0.348960   \n",
              "yr_renovated  -0.016350       0.070179 -0.223261      1.000000  0.064345   \n",
              "zipcode       -0.008961       0.073884 -0.348960      0.064345  1.000000   \n",
              "lat            0.000047       0.113159 -0.147164      0.029778  0.267014   \n",
              "long           0.023498      -0.142597  0.410990     -0.067648 -0.563097   \n",
              "sqft_living15 -0.000432       0.202579  0.329500     -0.002651 -0.280866   \n",
              "sqft_lot15    -0.137046       0.017275  0.072245      0.007824 -0.147691   \n",
              "price         -0.013276       0.323960  0.057935      0.125600 -0.056531   \n",
              "bedrooms       0.006894       0.318486  0.157254      0.021339 -0.150673   \n",
              "bathrooms      0.000892       0.285272  0.498786      0.061794 -0.205119   \n",
              "sqft_living   -0.009764       0.436301  0.321003      0.055916 -0.201122   \n",
              "sqft_lot      -0.130625       0.015649  0.054331      0.007659 -0.129911   \n",
              "floors         0.017116      -0.241691  0.485729      0.008966 -0.060123   \n",
              "view           0.012925       0.277867 -0.050083      0.104478  0.080346   \n",
              "condition     -0.022553       0.173494 -0.354352     -0.059558 -0.000175   \n",
              "grade          0.011728       0.171130  0.450141      0.014548 -0.189361   \n",
              "sqft_above    -0.008796      -0.050896  0.425976      0.024505 -0.262767   \n",
              "\n",
              "                    lat      long  sqft_living15  sqft_lot15     price  \\\n",
              "id             0.000047  0.023498      -0.000432   -0.137046 -0.013276   \n",
              "sqft_basement  0.113159 -0.142597       0.202579    0.017275  0.323960   \n",
              "yr_built      -0.147164  0.410990       0.329500    0.072245  0.057935   \n",
              "yr_renovated   0.029778 -0.067648      -0.002651    0.007824  0.125600   \n",
              "zipcode        0.267014 -0.563097      -0.280866   -0.147691 -0.056531   \n",
              "lat            1.000000 -0.133808       0.051220   -0.086245  0.308193   \n",
              "long          -0.133808  1.000000       0.336520    0.254798  0.024889   \n",
              "sqft_living15  0.051220  0.336520       1.000000    0.184681  0.587515   \n",
              "sqft_lot15    -0.086245  0.254798       0.184681    1.000000  0.083653   \n",
              "price          0.308193  0.024889       0.587515    0.083653  1.000000   \n",
              "bedrooms      -0.004719  0.132658       0.404793    0.031466  0.324625   \n",
              "bathrooms      0.026035  0.230257       0.572865    0.096105  0.522055   \n",
              "sqft_living    0.055316  0.242243       0.756861    0.184300  0.702706   \n",
              "sqft_lot      -0.085071  0.229462       0.146505    0.719469  0.091500   \n",
              "floors         0.048488  0.125113       0.282744   -0.006936  0.265963   \n",
              "view           0.007114 -0.075797       0.283112    0.072001  0.398327   \n",
              "condition     -0.013967 -0.103832      -0.088315   -0.002726  0.039575   \n",
              "grade          0.115591  0.201974       0.714599    0.121097  0.668493   \n",
              "sqft_above     0.000839  0.345181       0.731642    0.195313  0.606576   \n",
              "\n",
              "               bedrooms  bathrooms  sqft_living  sqft_lot    floors      view  \\\n",
              "id             0.006894   0.000892    -0.009764 -0.130625  0.017116  0.012925   \n",
              "sqft_basement  0.318486   0.285272     0.436301  0.015649 -0.241691  0.277867   \n",
              "yr_built       0.157254   0.498786     0.321003  0.054331  0.485729 -0.050083   \n",
              "yr_renovated   0.021339   0.061794     0.055916  0.007659  0.008966  0.104478   \n",
              "zipcode       -0.150673  -0.205119    -0.201122 -0.129911 -0.060123  0.080346   \n",
              "lat           -0.004719   0.026035     0.055316 -0.085071  0.048488  0.007114   \n",
              "long           0.132658   0.230257     0.242243  0.229462  0.125113 -0.075797   \n",
              "sqft_living15  0.404793   0.572865     0.756861  0.146505  0.282744  0.283112   \n",
              "sqft_lot15     0.031466   0.096105     0.184300  0.719469 -0.006936  0.072001   \n",
              "price          0.324625   0.522055     0.702706  0.091500  0.265963  0.398327   \n",
              "bedrooms       1.000000   0.525673     0.595498  0.027664  0.190907  0.092188   \n",
              "bathrooms      0.525673   1.000000     0.758056  0.094863  0.500825  0.195096   \n",
              "sqft_living    0.595498   0.758056     1.000000  0.174546  0.357550  0.286298   \n",
              "sqft_lot       0.027664   0.094863     0.174546  1.000000 -0.000092  0.074117   \n",
              "floors         0.190907   0.500825     0.357550 -0.000092  1.000000  0.036090   \n",
              "view           0.092188   0.195096     0.286298  0.074117  0.036090  1.000000   \n",
              "condition      0.027826  -0.120350    -0.054219 -0.008255 -0.253582  0.047865   \n",
              "grade          0.368850   0.664141     0.763293  0.115752  0.461054  0.254106   \n",
              "sqft_above     0.492086   0.690068     0.876429  0.185356  0.526313  0.169065   \n",
              "\n",
              "               condition     grade  sqft_above  \n",
              "id             -0.022553  0.011728   -0.008796  \n",
              "sqft_basement   0.173494  0.171130   -0.050896  \n",
              "yr_built       -0.354352  0.450141    0.425976  \n",
              "yr_renovated   -0.059558  0.014548    0.024505  \n",
              "zipcode        -0.000175 -0.189361   -0.262767  \n",
              "lat            -0.013967  0.115591    0.000839  \n",
              "long           -0.103832  0.201974    0.345181  \n",
              "sqft_living15  -0.088315  0.714599    0.731642  \n",
              "sqft_lot15     -0.002726  0.121097    0.195313  \n",
              "price           0.039575  0.668493    0.606576  \n",
              "bedrooms        0.027826  0.368850    0.492086  \n",
              "bathrooms      -0.120350  0.664141    0.690068  \n",
              "sqft_living    -0.054219  0.763293    0.876429  \n",
              "sqft_lot       -0.008255  0.115752    0.185356  \n",
              "floors         -0.253582  0.461054    0.526313  \n",
              "view            0.047865  0.254106    0.169065  \n",
              "condition       1.000000 -0.137275   -0.153025  \n",
              "grade          -0.137275  1.000000    0.755610  \n",
              "sqft_above     -0.153025  0.755610    1.000000  "
            ],
            "text/html": [
              "\n",
              "  <div id=\"df-2b12a6fd-f277-4c53-902b-6f113a489a0a\">\n",
              "    <div class=\"colab-df-container\">\n",
              "      <div>\n",
              "<style scoped>\n",
              "    .dataframe tbody tr th:only-of-type {\n",
              "        vertical-align: middle;\n",
              "    }\n",
              "\n",
              "    .dataframe tbody tr th {\n",
              "        vertical-align: top;\n",
              "    }\n",
              "\n",
              "    .dataframe thead th {\n",
              "        text-align: right;\n",
              "    }\n",
              "</style>\n",
              "<table border=\"1\" class=\"dataframe\">\n",
              "  <thead>\n",
              "    <tr style=\"text-align: right;\">\n",
              "      <th></th>\n",
              "      <th>id</th>\n",
              "      <th>sqft_basement</th>\n",
              "      <th>yr_built</th>\n",
              "      <th>yr_renovated</th>\n",
              "      <th>zipcode</th>\n",
              "      <th>lat</th>\n",
              "      <th>long</th>\n",
              "      <th>sqft_living15</th>\n",
              "      <th>sqft_lot15</th>\n",
              "      <th>price</th>\n",
              "      <th>bedrooms</th>\n",
              "      <th>bathrooms</th>\n",
              "      <th>sqft_living</th>\n",
              "      <th>sqft_lot</th>\n",
              "      <th>floors</th>\n",
              "      <th>view</th>\n",
              "      <th>condition</th>\n",
              "      <th>grade</th>\n",
              "      <th>sqft_above</th>\n",
              "    </tr>\n",
              "  </thead>\n",
              "  <tbody>\n",
              "    <tr>\n",
              "      <th>id</th>\n",
              "      <td>1.000000</td>\n",
              "      <td>-0.003815</td>\n",
              "      <td>0.022334</td>\n",
              "      <td>-0.016350</td>\n",
              "      <td>-0.008961</td>\n",
              "      <td>0.000047</td>\n",
              "      <td>0.023498</td>\n",
              "      <td>-0.000432</td>\n",
              "      <td>-0.137046</td>\n",
              "      <td>-0.013276</td>\n",
              "      <td>0.006894</td>\n",
              "      <td>0.000892</td>\n",
              "      <td>-0.009764</td>\n",
              "      <td>-0.130625</td>\n",
              "      <td>0.017116</td>\n",
              "      <td>0.012925</td>\n",
              "      <td>-0.022553</td>\n",
              "      <td>0.011728</td>\n",
              "      <td>-0.008796</td>\n",
              "    </tr>\n",
              "    <tr>\n",
              "      <th>sqft_basement</th>\n",
              "      <td>-0.003815</td>\n",
              "      <td>1.000000</td>\n",
              "      <td>-0.130222</td>\n",
              "      <td>0.070179</td>\n",
              "      <td>0.073884</td>\n",
              "      <td>0.113159</td>\n",
              "      <td>-0.142597</td>\n",
              "      <td>0.202579</td>\n",
              "      <td>0.017275</td>\n",
              "      <td>0.323960</td>\n",
              "      <td>0.318486</td>\n",
              "      <td>0.285272</td>\n",
              "      <td>0.436301</td>\n",
              "      <td>0.015649</td>\n",
              "      <td>-0.241691</td>\n",
              "      <td>0.277867</td>\n",
              "      <td>0.173494</td>\n",
              "      <td>0.171130</td>\n",
              "      <td>-0.050896</td>\n",
              "    </tr>\n",
              "    <tr>\n",
              "      <th>yr_built</th>\n",
              "      <td>0.022334</td>\n",
              "      <td>-0.130222</td>\n",
              "      <td>1.000000</td>\n",
              "      <td>-0.223261</td>\n",
              "      <td>-0.348960</td>\n",
              "      <td>-0.147164</td>\n",
              "      <td>0.410990</td>\n",
              "      <td>0.329500</td>\n",
              "      <td>0.072245</td>\n",
              "      <td>0.057935</td>\n",
              "      <td>0.157254</td>\n",
              "      <td>0.498786</td>\n",
              "      <td>0.321003</td>\n",
              "      <td>0.054331</td>\n",
              "      <td>0.485729</td>\n",
              "      <td>-0.050083</td>\n",
              "      <td>-0.354352</td>\n",
              "      <td>0.450141</td>\n",
              "      <td>0.425976</td>\n",
              "    </tr>\n",
              "    <tr>\n",
              "      <th>yr_renovated</th>\n",
              "      <td>-0.016350</td>\n",
              "      <td>0.070179</td>\n",
              "      <td>-0.223261</td>\n",
              "      <td>1.000000</td>\n",
              "      <td>0.064345</td>\n",
              "      <td>0.029778</td>\n",
              "      <td>-0.067648</td>\n",
              "      <td>-0.002651</td>\n",
              "      <td>0.007824</td>\n",
              "      <td>0.125600</td>\n",
              "      <td>0.021339</td>\n",
              "      <td>0.061794</td>\n",
              "      <td>0.055916</td>\n",
              "      <td>0.007659</td>\n",
              "      <td>0.008966</td>\n",
              "      <td>0.104478</td>\n",
              "      <td>-0.059558</td>\n",
              "      <td>0.014548</td>\n",
              "      <td>0.024505</td>\n",
              "    </tr>\n",
              "    <tr>\n",
              "      <th>zipcode</th>\n",
              "      <td>-0.008961</td>\n",
              "      <td>0.073884</td>\n",
              "      <td>-0.348960</td>\n",
              "      <td>0.064345</td>\n",
              "      <td>1.000000</td>\n",
              "      <td>0.267014</td>\n",
              "      <td>-0.563097</td>\n",
              "      <td>-0.280866</td>\n",
              "      <td>-0.147691</td>\n",
              "      <td>-0.056531</td>\n",
              "      <td>-0.150673</td>\n",
              "      <td>-0.205119</td>\n",
              "      <td>-0.201122</td>\n",
              "      <td>-0.129911</td>\n",
              "      <td>-0.060123</td>\n",
              "      <td>0.080346</td>\n",
              "      <td>-0.000175</td>\n",
              "      <td>-0.189361</td>\n",
              "      <td>-0.262767</td>\n",
              "    </tr>\n",
              "    <tr>\n",
              "      <th>lat</th>\n",
              "      <td>0.000047</td>\n",
              "      <td>0.113159</td>\n",
              "      <td>-0.147164</td>\n",
              "      <td>0.029778</td>\n",
              "      <td>0.267014</td>\n",
              "      <td>1.000000</td>\n",
              "      <td>-0.133808</td>\n",
              "      <td>0.051220</td>\n",
              "      <td>-0.086245</td>\n",
              "      <td>0.308193</td>\n",
              "      <td>-0.004719</td>\n",
              "      <td>0.026035</td>\n",
              "      <td>0.055316</td>\n",
              "      <td>-0.085071</td>\n",
              "      <td>0.048488</td>\n",
              "      <td>0.007114</td>\n",
              "      <td>-0.013967</td>\n",
              "      <td>0.115591</td>\n",
              "      <td>0.000839</td>\n",
              "    </tr>\n",
              "    <tr>\n",
              "      <th>long</th>\n",
              "      <td>0.023498</td>\n",
              "      <td>-0.142597</td>\n",
              "      <td>0.410990</td>\n",
              "      <td>-0.067648</td>\n",
              "      <td>-0.563097</td>\n",
              "      <td>-0.133808</td>\n",
              "      <td>1.000000</td>\n",
              "      <td>0.336520</td>\n",
              "      <td>0.254798</td>\n",
              "      <td>0.024889</td>\n",
              "      <td>0.132658</td>\n",
              "      <td>0.230257</td>\n",
              "      <td>0.242243</td>\n",
              "      <td>0.229462</td>\n",
              "      <td>0.125113</td>\n",
              "      <td>-0.075797</td>\n",
              "      <td>-0.103832</td>\n",
              "      <td>0.201974</td>\n",
              "      <td>0.345181</td>\n",
              "    </tr>\n",
              "    <tr>\n",
              "      <th>sqft_living15</th>\n",
              "      <td>-0.000432</td>\n",
              "      <td>0.202579</td>\n",
              "      <td>0.329500</td>\n",
              "      <td>-0.002651</td>\n",
              "      <td>-0.280866</td>\n",
              "      <td>0.051220</td>\n",
              "      <td>0.336520</td>\n",
              "      <td>1.000000</td>\n",
              "      <td>0.184681</td>\n",
              "      <td>0.587515</td>\n",
              "      <td>0.404793</td>\n",
              "      <td>0.572865</td>\n",
              "      <td>0.756861</td>\n",
              "      <td>0.146505</td>\n",
              "      <td>0.282744</td>\n",
              "      <td>0.283112</td>\n",
              "      <td>-0.088315</td>\n",
              "      <td>0.714599</td>\n",
              "      <td>0.731642</td>\n",
              "    </tr>\n",
              "    <tr>\n",
              "      <th>sqft_lot15</th>\n",
              "      <td>-0.137046</td>\n",
              "      <td>0.017275</td>\n",
              "      <td>0.072245</td>\n",
              "      <td>0.007824</td>\n",
              "      <td>-0.147691</td>\n",
              "      <td>-0.086245</td>\n",
              "      <td>0.254798</td>\n",
              "      <td>0.184681</td>\n",
              "      <td>1.000000</td>\n",
              "      <td>0.083653</td>\n",
              "      <td>0.031466</td>\n",
              "      <td>0.096105</td>\n",
              "      <td>0.184300</td>\n",
              "      <td>0.719469</td>\n",
              "      <td>-0.006936</td>\n",
              "      <td>0.072001</td>\n",
              "      <td>-0.002726</td>\n",
              "      <td>0.121097</td>\n",
              "      <td>0.195313</td>\n",
              "    </tr>\n",
              "    <tr>\n",
              "      <th>price</th>\n",
              "      <td>-0.013276</td>\n",
              "      <td>0.323960</td>\n",
              "      <td>0.057935</td>\n",
              "      <td>0.125600</td>\n",
              "      <td>-0.056531</td>\n",
              "      <td>0.308193</td>\n",
              "      <td>0.024889</td>\n",
              "      <td>0.587515</td>\n",
              "      <td>0.083653</td>\n",
              "      <td>1.000000</td>\n",
              "      <td>0.324625</td>\n",
              "      <td>0.522055</td>\n",
              "      <td>0.702706</td>\n",
              "      <td>0.091500</td>\n",
              "      <td>0.265963</td>\n",
              "      <td>0.398327</td>\n",
              "      <td>0.039575</td>\n",
              "      <td>0.668493</td>\n",
              "      <td>0.606576</td>\n",
              "    </tr>\n",
              "    <tr>\n",
              "      <th>bedrooms</th>\n",
              "      <td>0.006894</td>\n",
              "      <td>0.318486</td>\n",
              "      <td>0.157254</td>\n",
              "      <td>0.021339</td>\n",
              "      <td>-0.150673</td>\n",
              "      <td>-0.004719</td>\n",
              "      <td>0.132658</td>\n",
              "      <td>0.404793</td>\n",
              "      <td>0.031466</td>\n",
              "      <td>0.324625</td>\n",
              "      <td>1.000000</td>\n",
              "      <td>0.525673</td>\n",
              "      <td>0.595498</td>\n",
              "      <td>0.027664</td>\n",
              "      <td>0.190907</td>\n",
              "      <td>0.092188</td>\n",
              "      <td>0.027826</td>\n",
              "      <td>0.368850</td>\n",
              "      <td>0.492086</td>\n",
              "    </tr>\n",
              "    <tr>\n",
              "      <th>bathrooms</th>\n",
              "      <td>0.000892</td>\n",
              "      <td>0.285272</td>\n",
              "      <td>0.498786</td>\n",
              "      <td>0.061794</td>\n",
              "      <td>-0.205119</td>\n",
              "      <td>0.026035</td>\n",
              "      <td>0.230257</td>\n",
              "      <td>0.572865</td>\n",
              "      <td>0.096105</td>\n",
              "      <td>0.522055</td>\n",
              "      <td>0.525673</td>\n",
              "      <td>1.000000</td>\n",
              "      <td>0.758056</td>\n",
              "      <td>0.094863</td>\n",
              "      <td>0.500825</td>\n",
              "      <td>0.195096</td>\n",
              "      <td>-0.120350</td>\n",
              "      <td>0.664141</td>\n",
              "      <td>0.690068</td>\n",
              "    </tr>\n",
              "    <tr>\n",
              "      <th>sqft_living</th>\n",
              "      <td>-0.009764</td>\n",
              "      <td>0.436301</td>\n",
              "      <td>0.321003</td>\n",
              "      <td>0.055916</td>\n",
              "      <td>-0.201122</td>\n",
              "      <td>0.055316</td>\n",
              "      <td>0.242243</td>\n",
              "      <td>0.756861</td>\n",
              "      <td>0.184300</td>\n",
              "      <td>0.702706</td>\n",
              "      <td>0.595498</td>\n",
              "      <td>0.758056</td>\n",
              "      <td>1.000000</td>\n",
              "      <td>0.174546</td>\n",
              "      <td>0.357550</td>\n",
              "      <td>0.286298</td>\n",
              "      <td>-0.054219</td>\n",
              "      <td>0.763293</td>\n",
              "      <td>0.876429</td>\n",
              "    </tr>\n",
              "    <tr>\n",
              "      <th>sqft_lot</th>\n",
              "      <td>-0.130625</td>\n",
              "      <td>0.015649</td>\n",
              "      <td>0.054331</td>\n",
              "      <td>0.007659</td>\n",
              "      <td>-0.129911</td>\n",
              "      <td>-0.085071</td>\n",
              "      <td>0.229462</td>\n",
              "      <td>0.146505</td>\n",
              "      <td>0.719469</td>\n",
              "      <td>0.091500</td>\n",
              "      <td>0.027664</td>\n",
              "      <td>0.094863</td>\n",
              "      <td>0.174546</td>\n",
              "      <td>1.000000</td>\n",
              "      <td>-0.000092</td>\n",
              "      <td>0.074117</td>\n",
              "      <td>-0.008255</td>\n",
              "      <td>0.115752</td>\n",
              "      <td>0.185356</td>\n",
              "    </tr>\n",
              "    <tr>\n",
              "      <th>floors</th>\n",
              "      <td>0.017116</td>\n",
              "      <td>-0.241691</td>\n",
              "      <td>0.485729</td>\n",
              "      <td>0.008966</td>\n",
              "      <td>-0.060123</td>\n",
              "      <td>0.048488</td>\n",
              "      <td>0.125113</td>\n",
              "      <td>0.282744</td>\n",
              "      <td>-0.006936</td>\n",
              "      <td>0.265963</td>\n",
              "      <td>0.190907</td>\n",
              "      <td>0.500825</td>\n",
              "      <td>0.357550</td>\n",
              "      <td>-0.000092</td>\n",
              "      <td>1.000000</td>\n",
              "      <td>0.036090</td>\n",
              "      <td>-0.253582</td>\n",
              "      <td>0.461054</td>\n",
              "      <td>0.526313</td>\n",
              "    </tr>\n",
              "    <tr>\n",
              "      <th>view</th>\n",
              "      <td>0.012925</td>\n",
              "      <td>0.277867</td>\n",
              "      <td>-0.050083</td>\n",
              "      <td>0.104478</td>\n",
              "      <td>0.080346</td>\n",
              "      <td>0.007114</td>\n",
              "      <td>-0.075797</td>\n",
              "      <td>0.283112</td>\n",
              "      <td>0.072001</td>\n",
              "      <td>0.398327</td>\n",
              "      <td>0.092188</td>\n",
              "      <td>0.195096</td>\n",
              "      <td>0.286298</td>\n",
              "      <td>0.074117</td>\n",
              "      <td>0.036090</td>\n",
              "      <td>1.000000</td>\n",
              "      <td>0.047865</td>\n",
              "      <td>0.254106</td>\n",
              "      <td>0.169065</td>\n",
              "    </tr>\n",
              "    <tr>\n",
              "      <th>condition</th>\n",
              "      <td>-0.022553</td>\n",
              "      <td>0.173494</td>\n",
              "      <td>-0.354352</td>\n",
              "      <td>-0.059558</td>\n",
              "      <td>-0.000175</td>\n",
              "      <td>-0.013967</td>\n",
              "      <td>-0.103832</td>\n",
              "      <td>-0.088315</td>\n",
              "      <td>-0.002726</td>\n",
              "      <td>0.039575</td>\n",
              "      <td>0.027826</td>\n",
              "      <td>-0.120350</td>\n",
              "      <td>-0.054219</td>\n",
              "      <td>-0.008255</td>\n",
              "      <td>-0.253582</td>\n",
              "      <td>0.047865</td>\n",
              "      <td>1.000000</td>\n",
              "      <td>-0.137275</td>\n",
              "      <td>-0.153025</td>\n",
              "    </tr>\n",
              "    <tr>\n",
              "      <th>grade</th>\n",
              "      <td>0.011728</td>\n",
              "      <td>0.171130</td>\n",
              "      <td>0.450141</td>\n",
              "      <td>0.014548</td>\n",
              "      <td>-0.189361</td>\n",
              "      <td>0.115591</td>\n",
              "      <td>0.201974</td>\n",
              "      <td>0.714599</td>\n",
              "      <td>0.121097</td>\n",
              "      <td>0.668493</td>\n",
              "      <td>0.368850</td>\n",
              "      <td>0.664141</td>\n",
              "      <td>0.763293</td>\n",
              "      <td>0.115752</td>\n",
              "      <td>0.461054</td>\n",
              "      <td>0.254106</td>\n",
              "      <td>-0.137275</td>\n",
              "      <td>1.000000</td>\n",
              "      <td>0.755610</td>\n",
              "    </tr>\n",
              "    <tr>\n",
              "      <th>sqft_above</th>\n",
              "      <td>-0.008796</td>\n",
              "      <td>-0.050896</td>\n",
              "      <td>0.425976</td>\n",
              "      <td>0.024505</td>\n",
              "      <td>-0.262767</td>\n",
              "      <td>0.000839</td>\n",
              "      <td>0.345181</td>\n",
              "      <td>0.731642</td>\n",
              "      <td>0.195313</td>\n",
              "      <td>0.606576</td>\n",
              "      <td>0.492086</td>\n",
              "      <td>0.690068</td>\n",
              "      <td>0.876429</td>\n",
              "      <td>0.185356</td>\n",
              "      <td>0.526313</td>\n",
              "      <td>0.169065</td>\n",
              "      <td>-0.153025</td>\n",
              "      <td>0.755610</td>\n",
              "      <td>1.000000</td>\n",
              "    </tr>\n",
              "  </tbody>\n",
              "</table>\n",
              "</div>\n",
              "      <button class=\"colab-df-convert\" onclick=\"convertToInteractive('df-2b12a6fd-f277-4c53-902b-6f113a489a0a')\"\n",
              "              title=\"Convert this dataframe to an interactive table.\"\n",
              "              style=\"display:none;\">\n",
              "        \n",
              "  <svg xmlns=\"http://www.w3.org/2000/svg\" height=\"24px\"viewBox=\"0 0 24 24\"\n",
              "       width=\"24px\">\n",
              "    <path d=\"M0 0h24v24H0V0z\" fill=\"none\"/>\n",
              "    <path d=\"M18.56 5.44l.94 2.06.94-2.06 2.06-.94-2.06-.94-.94-2.06-.94 2.06-2.06.94zm-11 1L8.5 8.5l.94-2.06 2.06-.94-2.06-.94L8.5 2.5l-.94 2.06-2.06.94zm10 10l.94 2.06.94-2.06 2.06-.94-2.06-.94-.94-2.06-.94 2.06-2.06.94z\"/><path d=\"M17.41 7.96l-1.37-1.37c-.4-.4-.92-.59-1.43-.59-.52 0-1.04.2-1.43.59L10.3 9.45l-7.72 7.72c-.78.78-.78 2.05 0 2.83L4 21.41c.39.39.9.59 1.41.59.51 0 1.02-.2 1.41-.59l7.78-7.78 2.81-2.81c.8-.78.8-2.07 0-2.86zM5.41 20L4 18.59l7.72-7.72 1.47 1.35L5.41 20z\"/>\n",
              "  </svg>\n",
              "      </button>\n",
              "      \n",
              "  <style>\n",
              "    .colab-df-container {\n",
              "      display:flex;\n",
              "      flex-wrap:wrap;\n",
              "      gap: 12px;\n",
              "    }\n",
              "\n",
              "    .colab-df-convert {\n",
              "      background-color: #E8F0FE;\n",
              "      border: none;\n",
              "      border-radius: 50%;\n",
              "      cursor: pointer;\n",
              "      display: none;\n",
              "      fill: #1967D2;\n",
              "      height: 32px;\n",
              "      padding: 0 0 0 0;\n",
              "      width: 32px;\n",
              "    }\n",
              "\n",
              "    .colab-df-convert:hover {\n",
              "      background-color: #E2EBFA;\n",
              "      box-shadow: 0px 1px 2px rgba(60, 64, 67, 0.3), 0px 1px 3px 1px rgba(60, 64, 67, 0.15);\n",
              "      fill: #174EA6;\n",
              "    }\n",
              "\n",
              "    [theme=dark] .colab-df-convert {\n",
              "      background-color: #3B4455;\n",
              "      fill: #D2E3FC;\n",
              "    }\n",
              "\n",
              "    [theme=dark] .colab-df-convert:hover {\n",
              "      background-color: #434B5C;\n",
              "      box-shadow: 0px 1px 3px 1px rgba(0, 0, 0, 0.15);\n",
              "      filter: drop-shadow(0px 1px 2px rgba(0, 0, 0, 0.3));\n",
              "      fill: #FFFFFF;\n",
              "    }\n",
              "  </style>\n",
              "\n",
              "      <script>\n",
              "        const buttonEl =\n",
              "          document.querySelector('#df-2b12a6fd-f277-4c53-902b-6f113a489a0a button.colab-df-convert');\n",
              "        buttonEl.style.display =\n",
              "          google.colab.kernel.accessAllowed ? 'block' : 'none';\n",
              "\n",
              "        async function convertToInteractive(key) {\n",
              "          const element = document.querySelector('#df-2b12a6fd-f277-4c53-902b-6f113a489a0a');\n",
              "          const dataTable =\n",
              "            await google.colab.kernel.invokeFunction('convertToInteractive',\n",
              "                                                     [key], {});\n",
              "          if (!dataTable) return;\n",
              "\n",
              "          const docLinkHtml = 'Like what you see? Visit the ' +\n",
              "            '<a target=\"_blank\" href=https://colab.research.google.com/notebooks/data_table.ipynb>data table notebook</a>'\n",
              "            + ' to learn more about interactive tables.';\n",
              "          element.innerHTML = '';\n",
              "          dataTable['output_type'] = 'display_data';\n",
              "          await google.colab.output.renderOutput(dataTable, element);\n",
              "          const docLink = document.createElement('div');\n",
              "          docLink.innerHTML = docLinkHtml;\n",
              "          element.appendChild(docLink);\n",
              "        }\n",
              "      </script>\n",
              "    </div>\n",
              "  </div>\n",
              "  "
            ]
          },
          "metadata": {},
          "execution_count": 13
        }
      ]
    },
    {
      "cell_type": "code",
      "source": [
        "plt.figure(figsize=(20,20))\n",
        "sns.heatmap(df.corr(),annot=True,cmap='coolwarm')"
      ],
      "metadata": {
        "colab": {
          "base_uri": "https://localhost:8080/",
          "height": 1000
        },
        "id": "WPZ8zHE9F_Kv",
        "outputId": "987be983-f511-4841-f396-f26781ba6b27"
      },
      "execution_count": 14,
      "outputs": [
        {
          "output_type": "execute_result",
          "data": {
            "text/plain": [
              "<AxesSubplot:>"
            ]
          },
          "metadata": {},
          "execution_count": 14
        },
        {
          "output_type": "display_data",
          "data": {
            "text/plain": [
              "<Figure size 1440x1440 with 2 Axes>"
            ],
            "image/png": "[encoded data removed]"
          },
          "metadata": {
            "needs_background": "light"
          }
        }
      ]
    },
    {
      "cell_type": "code",
      "source": [
        "df.isna().sum()"
      ],
      "metadata": {
        "colab": {
          "base_uri": "https://localhost:8080/"
        },
        "id": "UNZO3JkGEeJ1",
        "outputId": "d72d4fa0-ded7-48dc-d3f9-16b94114c5ae"
      },
      "execution_count": 15,
      "outputs": [
        {
          "output_type": "execute_result",
          "data": {
            "text/plain": [
              "id                  0\n",
              "sqft_basement       0\n",
              "yr_built            0\n",
              "yr_renovated        0\n",
              "zipcode             0\n",
              "lat                 0\n",
              "long                0\n",
              "sqft_living15       0\n",
              "sqft_lot15          0\n",
              "date                0\n",
              "price               0\n",
              "bedrooms         6696\n",
              "bathrooms        7616\n",
              "sqft_living         0\n",
              "sqft_lot            0\n",
              "floors           4862\n",
              "waterfront        407\n",
              "view                0\n",
              "condition           0\n",
              "grade               0\n",
              "sqft_above          0\n",
              "dtype: int64"
            ]
          },
          "metadata": {},
          "execution_count": 15
        }
      ]
    },
    {
      "cell_type": "code",
      "source": [
        "ca=a=df['bedrooms'].median()\n",
        "df['bedrooms'].fillna(ca,inplace=True)\n",
        "ca1=df['bathrooms'].median()\n",
        "df['bathrooms'].fillna(ca1,inplace=True)\n"
      ],
      "metadata": {
        "id": "AB0-dzXBEjCR"
      },
      "execution_count": 16,
      "outputs": []
    },
    {
      "cell_type": "code",
      "source": [
        "ca2=df['floors'].median()\n",
        "df['floors'].fillna(ca2,inplace=True)"
      ],
      "metadata": {
        "id": "J6ofNpwzFaid"
      },
      "execution_count": 17,
      "outputs": []
    },
    {
      "cell_type": "code",
      "source": [
        "ca3=df['waterfront'].mode()[0]\n",
        "df['waterfront'].fillna(ca3,inplace=True)"
      ],
      "metadata": {
        "id": "cwo9FucBKtW0"
      },
      "execution_count": 18,
      "outputs": []
    },
    {
      "cell_type": "code",
      "source": [
        "df.isna().sum()\n"
      ],
      "metadata": {
        "colab": {
          "base_uri": "https://localhost:8080/"
        },
        "id": "ZTRkLsV1Fica",
        "outputId": "7d0b1146-398a-40d1-a993-0b5c281ce59a"
      },
      "execution_count": 19,
      "outputs": [
        {
          "output_type": "execute_result",
          "data": {
            "text/plain": [
              "id               0\n",
              "sqft_basement    0\n",
              "yr_built         0\n",
              "yr_renovated     0\n",
              "zipcode          0\n",
              "lat              0\n",
              "long             0\n",
              "sqft_living15    0\n",
              "sqft_lot15       0\n",
              "date             0\n",
              "price            0\n",
              "bedrooms         0\n",
              "bathrooms        0\n",
              "sqft_living      0\n",
              "sqft_lot         0\n",
              "floors           0\n",
              "waterfront       0\n",
              "view             0\n",
              "condition        0\n",
              "grade            0\n",
              "sqft_above       0\n",
              "dtype: int64"
            ]
          },
          "metadata": {},
          "execution_count": 19
        }
      ]
    },
    {
      "cell_type": "code",
      "source": [
        "df3=df.drop(['date','waterfront'],axis=1)"
      ],
      "metadata": {
        "id": "G8VEQkAuFnG6"
      },
      "execution_count": 20,
      "outputs": []
    },
    {
      "cell_type": "code",
      "source": [
        "for k, v in df3.items():\n",
        "        q1 = v.quantile(0.25)\n",
        "        q3 = v.quantile(0.75)\n",
        "        irq = q3 - q1\n",
        "        v_col = v[(v <= q1 - 1.5 * irq) | (v >= q3 + 1.5 * irq)]\n",
        "        perc = np.shape(v_col)[0] * 100.0 / np.shape(df3)[0]\n",
        "        print(\"Column %s outliers = %.2f%%\" % (k, perc))"
      ],
      "metadata": {
        "colab": {
          "base_uri": "https://localhost:8080/"
        },
        "id": "rj9svcHlGY_S",
        "outputId": "dd8a87b0-7c97-430a-f800-a0c7472d880a"
      },
      "execution_count": 21,
      "outputs": [
        {
          "output_type": "stream",
          "name": "stdout",
          "text": [
            "Column id outliers = 0.00%\n",
            "Column sqft_basement outliers = 2.46%\n",
            "Column yr_built outliers = 0.00%\n",
            "Column yr_renovated outliers = 100.00%\n",
            "Column zipcode outliers = 0.00%\n",
            "Column lat outliers = 0.01%\n",
            "Column long outliers = 1.20%\n",
            "Column sqft_living15 outliers = 2.48%\n",
            "Column sqft_lot15 outliers = 10.11%\n",
            "Column price outliers = 5.34%\n",
            "Column bedrooms outliers = 1.89%\n",
            "Column bathrooms outliers = 1.73%\n",
            "Column sqft_living outliers = 2.72%\n",
            "Column sqft_lot outliers = 11.17%\n",
            "Column floors outliers = 0.03%\n",
            "Column view outliers = 100.00%\n",
            "Column condition outliers = 0.15%\n",
            "Column grade outliers = 8.85%\n",
            "Column sqft_above outliers = 2.93%\n"
          ]
        }
      ]
    },
    {
      "cell_type": "code",
      "source": [
        "for i in df3.columns:\n",
        "  plt.boxplot(df3[i])\n",
        "  plt.show()"
      ],
      "metadata": {
        "colab": {
          "base_uri": "https://localhost:8080/",
          "height": 1000
        },
        "id": "xbxQJ3RaGkgm",
        "outputId": "66a4102d-c624-465e-aacb-170546357537"
      },
      "execution_count": 22,
      "outputs": [
        {
          "output_type": "display_data",
          "data": {
            "text/plain": [
              "<Figure size 432x288 with 1 Axes>"
            ],
            "image/png": "[encoded data removed]"
          },
          "metadata": {
            "needs_background": "light"
          }
        },
        {
          "output_type": "display_data",
          "data": {
            "text/plain": [
              "<Figure size 432x288 with 1 Axes>"
            ],
            "image/png": "[encoded data removed]"
          },
          "metadata": {
            "needs_background": "light"
          }
        },
        {
          "output_type": "display_data",
          "data": {
            "text/plain": [
              "<Figure size 432x288 with 1 Axes>"
            ],
            "image/png": "[encoded data removed]"
          },
          "metadata": {
            "needs_background": "light"
          }
        },
        {
          "output_type": "display_data",
          "data": {
            "text/plain": [
              "<Figure size 432x288 with 1 Axes>"
            ],
            "image/png": "[encoded data removed]"
          },
          "metadata": {
            "needs_background": "light"
          }
        },
        {
          "output_type": "display_data",
          "data": {
            "text/plain": [
              "<Figure size 432x288 with 1 Axes>"
            ],
            "image/png": "[encoded data removed]"
          },
          "metadata": {
            "needs_background": "light"
          }
        },
        {
          "output_type": "display_data",
          "data": {
            "text/plain": [
              "<Figure size 432x288 with 1 Axes>"
            ],
            "image/png": "[encoded data removed]"
          },
          "metadata": {
            "needs_background": "light"
          }
        },
        {
          "output_type": "display_data",
          "data": {
            "text/plain": [
              "<Figure size 432x288 with 1 Axes>"
            ],
            "image/png": "[encoded data removed]"
          },
          "metadata": {
            "needs_background": "light"
          }
        },
        {
          "output_type": "display_data",
          "data": {
            "text/plain": [
              "<Figure size 432x288 with 1 Axes>"
            ],
            "image/png": "[encoded data removed]"
          },
          "metadata": {
            "needs_background": "light"
          }
        },
        {
          "output_type": "display_data",
          "data": {
            "text/plain": [
              "<Figure size 432x288 with 1 Axes>"
            ],
            "image/png": "[encoded data removed]"
          },
          "metadata": {
            "needs_background": "light"
          }
        },
        {
          "output_type": "display_data",
          "data": {
            "text/plain": [
              "<Figure size 432x288 with 1 Axes>"
            ],
            "image/png": "[encoded data removed]"
          },
          "metadata": {
            "needs_background": "light"
          }
        },
        {
          "output_type": "display_data",
          "data": {
            "text/plain": [
              "<Figure size 432x288 with 1 Axes>"
            ],
            "image/png": "[encoded data removed]"
          },
          "metadata": {
            "needs_background": "light"
          }
        },
        {
          "output_type": "display_data",
          "data": {
            "text/plain": [
              "<Figure size 432x288 with 1 Axes>"
            ],
            "image/png": "[encoded data removed]"
          },
          "metadata": {
            "needs_background": "light"
          }
        },
        {
          "output_type": "display_data",
          "data": {
            "text/plain": [
              "<Figure size 432x288 with 1 Axes>"
            ],
            "image/png": "[encoded data removed]"
          },
          "metadata": {
            "needs_background": "light"
          }
        },
        {
          "output_type": "display_data",
          "data": {
            "text/plain": [
              "<Figure size 432x288 with 1 Axes>"
            ],
            "image/png": "[encoded data removed]"
          },
          "metadata": {
            "needs_background": "light"
          }
        },
        {
          "output_type": "display_data",
          "data": {
            "text/plain": [
              "<Figure size 432x288 with 1 Axes>"
            ],
            "image/png": "[encoded data removed]"
          },
          "metadata": {
            "needs_background": "light"
          }
        },
        {
          "output_type": "display_data",
          "data": {
            "text/plain": [
              "<Figure size 432x288 with 1 Axes>"
            ],
            "image/png": "[encoded data removed]"
          },
          "metadata": {
            "needs_background": "light"
          }
        },
        {
          "output_type": "display_data",
          "data": {
            "text/plain": [
              "<Figure size 432x288 with 1 Axes>"
            ],
            "image/png": "[encoded data removed]"
          },
          "metadata": {
            "needs_background": "light"
          }
        },
        {
          "output_type": "display_data",
          "data": {
            "text/plain": [
              "<Figure size 432x288 with 1 Axes>"
            ],
            "image/png": "[encoded data removed]"
          },
          "metadata": {
            "needs_background": "light"
          }
        },
        {
          "output_type": "display_data",
          "data": {
            "text/plain": [
              "<Figure size 432x288 with 1 Axes>"
            ],
            "image/png": "[encoded data removed]"
          },
          "metadata": {
            "needs_background": "light"
          }
        }
      ]
    },
    {
      "cell_type": "code",
      "source": [
        "for col in df3.columns:\n",
        "    Q1 = df[col].quantile(0.25)\n",
        "    Q3 = df[col].quantile(0.75)\n",
        "    IQR = Q3 - Q1\n",
        "    lower_bound = Q1 - 1.5*IQR\n",
        "    upper_bound = Q3 + 1.5*IQR\n",
        "    df[col] = df[col].mask(df[col] < lower_bound, df[col].median(), axis=0)\n",
        "    df[col] = df[col].mask(df[col] > upper_bound, df[col].median(), axis=0)\n",
        "    df[col] = df[col].fillna(df[col].median())"
      ],
      "metadata": {
        "id": "dw__CR1nGsaw"
      },
      "execution_count": 23,
      "outputs": []
    },
    {
      "cell_type": "code",
      "source": [
        "df.date.head()"
      ],
      "metadata": {
        "colab": {
          "base_uri": "https://localhost:8080/"
        },
        "id": "Tz18qZGeHG7P",
        "outputId": "bda338f2-34d6-4ef3-f417-6c6b8030f7fd"
      },
      "execution_count": 24,
      "outputs": [
        {
          "output_type": "execute_result",
          "data": {
            "text/plain": [
              "0    20141013T000000\n",
              "1    20141209T000000\n",
              "2    20150225T000000\n",
              "3    20141209T000000\n",
              "4    20150218T000000\n",
              "Name: date, dtype: object"
            ]
          },
          "metadata": {},
          "execution_count": 24
        }
      ]
    },
    {
      "cell_type": "code",
      "source": [
        "df['date'] = pd.to_datetime(df['date'])"
      ],
      "metadata": {
        "id": "5EJXvYXJILoj"
      },
      "execution_count": 25,
      "outputs": []
    },
    {
      "cell_type": "code",
      "source": [
        "df['year_sold'] = df['date'].dt.year"
      ],
      "metadata": {
        "id": "UNtkJy1zI2yr"
      },
      "execution_count": 26,
      "outputs": []
    },
    {
      "cell_type": "code",
      "source": [
        "df['age'] = df['year_sold'] - df['yr_built']"
      ],
      "metadata": {
        "id": "3lI53CIPI_he"
      },
      "execution_count": 27,
      "outputs": []
    },
    {
      "cell_type": "code",
      "source": [
        "df.drop(['id', 'date', 'yr_built',], axis=1, inplace=True)"
      ],
      "metadata": {
        "id": "fEDEKeezJGje"
      },
      "execution_count": 28,
      "outputs": []
    },
    {
      "cell_type": "code",
      "source": [
        "df.dtypes"
      ],
      "metadata": {
        "colab": {
          "base_uri": "https://localhost:8080/"
        },
        "id": "D_CReCz6JeGY",
        "outputId": "29d4d40f-c4ee-41d2-c2dc-f8f2f6f02d98"
      },
      "execution_count": 29,
      "outputs": [
        {
          "output_type": "execute_result",
          "data": {
            "text/plain": [
              "sqft_basement    float64\n",
              "yr_renovated     float64\n",
              "zipcode            int64\n",
              "lat              float64\n",
              "long             float64\n",
              "sqft_living15    float64\n",
              "sqft_lot15       float64\n",
              "price            float64\n",
              "bedrooms         float64\n",
              "bathrooms        float64\n",
              "sqft_living      float64\n",
              "sqft_lot         float64\n",
              "floors           float64\n",
              "waterfront        object\n",
              "view             float64\n",
              "condition        float64\n",
              "grade            float64\n",
              "sqft_above       float64\n",
              "year_sold          int64\n",
              "age                int64\n",
              "dtype: object"
            ]
          },
          "metadata": {},
          "execution_count": 29
        }
      ]
    },
    {
      "cell_type": "code",
      "source": [
        "df['waterfront'].unique()"
      ],
      "metadata": {
        "colab": {
          "base_uri": "https://localhost:8080/"
        },
        "id": "k25uF6g7JoIN",
        "outputId": "b4ccdc6c-0c4c-46aa-8f25-207b61930959"
      },
      "execution_count": 30,
      "outputs": [
        {
          "output_type": "execute_result",
          "data": {
            "text/plain": [
              "array(['0', '1'], dtype=object)"
            ]
          },
          "metadata": {},
          "execution_count": 30
        }
      ]
    },
    {
      "cell_type": "code",
      "source": [
        "df=pd.get_dummies(df, columns=['waterfront'],drop_first=True)"
      ],
      "metadata": {
        "id": "PJZbAlxtJ0se"
      },
      "execution_count": 31,
      "outputs": []
    },
    {
      "cell_type": "code",
      "source": [
        "df.columns"
      ],
      "metadata": {
        "colab": {
          "base_uri": "https://localhost:8080/"
        },
        "id": "Y5FYVyTHKnw5",
        "outputId": "8a7bc334-5556-4c35-e173-0f567de9e966"
      },
      "execution_count": 32,
      "outputs": [
        {
          "output_type": "execute_result",
          "data": {
            "text/plain": [
              "Index(['sqft_basement', 'yr_renovated', 'zipcode', 'lat', 'long',\n",
              "       'sqft_living15', 'sqft_lot15', 'price', 'bedrooms', 'bathrooms',\n",
              "       'sqft_living', 'sqft_lot', 'floors', 'view', 'condition', 'grade',\n",
              "       'sqft_above', 'year_sold', 'age', 'waterfront_1'],\n",
              "      dtype='object')"
            ]
          },
          "metadata": {},
          "execution_count": 32
        }
      ]
    },
    {
      "cell_type": "code",
      "source": [
        "df.dtypes"
      ],
      "metadata": {
        "colab": {
          "base_uri": "https://localhost:8080/"
        },
        "id": "bRP38TMtLW35",
        "outputId": "e9840afc-3a95-4ec4-bc13-6f0cbb6b1565"
      },
      "execution_count": 33,
      "outputs": [
        {
          "output_type": "execute_result",
          "data": {
            "text/plain": [
              "sqft_basement    float64\n",
              "yr_renovated     float64\n",
              "zipcode            int64\n",
              "lat              float64\n",
              "long             float64\n",
              "sqft_living15    float64\n",
              "sqft_lot15       float64\n",
              "price            float64\n",
              "bedrooms         float64\n",
              "bathrooms        float64\n",
              "sqft_living      float64\n",
              "sqft_lot         float64\n",
              "floors           float64\n",
              "view             float64\n",
              "condition        float64\n",
              "grade            float64\n",
              "sqft_above       float64\n",
              "year_sold          int64\n",
              "age                int64\n",
              "waterfront_1       uint8\n",
              "dtype: object"
            ]
          },
          "metadata": {},
          "execution_count": 33
        }
      ]
    },
    {
      "cell_type": "code",
      "source": [
        "df.price.max()"
      ],
      "metadata": {
        "colab": {
          "base_uri": "https://localhost:8080/"
        },
        "id": "jiJA6OceLala",
        "outputId": "683bb8cc-aecd-40ae-be79-0c6e53c64081"
      },
      "execution_count": 34,
      "outputs": [
        {
          "output_type": "execute_result",
          "data": {
            "text/plain": [
              "1122500.0"
            ]
          },
          "metadata": {},
          "execution_count": 34
        }
      ]
    },
    {
      "cell_type": "code",
      "source": [
        "#writing  function  CHAIDDecisionTreeRegressor\n",
        "class CHAIDDecisionTreeRegressor:\n",
        "    \n",
        "    def __init__(self, max_depth=5, min_samples_split=2):\n",
        "        self.max_depth = max_depth  #determines the maximum depth of the decision tree that will be constructed\n",
        "        self.min_samples_split = min_samples_split #specifies the minimum number of samples required to split an internal node\n",
        "        self.tree = {}\n",
        "        \n",
        "   \n",
        "    def mse(self, y):\n",
        "        # Calculate mean squared error of targets\n",
        "        return np.mean((y - np.mean(y))**2)\n",
        "    \n",
        "    \n",
        "   \n",
        "    def split_data(self, feature, split, X, y):\n",
        "        left_indices = np.where(X[:, feature] < split) # find the indices of samples where the feature is less than the split value,(np.where)\n",
        "        right_indices = np.where(X[:, feature] >= split) # find the indices of samples where the feature is greater than or equal to the split value\n",
        "        X_left = X[left_indices] #create a new array of input samples for the left node using the left indices\n",
        "        y_left = y[left_indices] #create a new array of labels for the left node using the left indice\n",
        "        X_right = X[right_indices] # create a new array of input samples for the right node using the right indices\n",
        "        y_right = y[right_indices] # create a new array of labels for the right node using the right indices\n",
        "        return X_left, y_left, X_right, y_right # return the new input and label arrays for the left and right nodes\n",
        "   \n",
        "   \n",
        "    def chi_squared_test(self, x, y):\n",
        "        # Perform chi-squared test to determine if a split is significant\n",
        "        n_total = len(y) # calculate the total number of samples\n",
        "        n_left = len(np.where(x < x.mean())[0]) # calculate the number of samples in the left node (where x is less than the mean of x)\n",
        "        n_right = n_total - n_left # calculate the number of samples in the right node\n",
        "        p_left = n_left / n_total # calculate the   samples in the left node\n",
        "        p_right = n_right / n_total # calculate the  samples in the right node\n",
        "        y_left_mean = np.mean(y[x < x.mean()]) # calculate the mean of the labels for the samples in the left node\n",
        "        y_right_mean = np.mean(y[x >= x.mean()])  # calculate the mean of the labels for the samples in the right node\n",
        "        y_total_mean = np.mean(y) # calculate the mean of the labels for all the samples\n",
        "        chi_squared = (n_left * (y_left_mean - y_total_mean)**2 / (p_left * (1 - p_left)) +    # calculate the first part of the chi-squared test statistic\n",
        "                       n_right * (y_right_mean - y_total_mean)**2 / (p_right * (1 - p_right)))  # calculate the second part of the chi-squared test statistic\n",
        "        return chi_squared \n",
        "   \n",
        "    def find_split(self, X, y):\n",
        "        best_feature, best_split, best_chi2 = None, None, 0\n",
        "        n_features = X.shape[1] #This line finds the number of features in the feature matrix X\n",
        "        for feature in range(n_features): #sets up a loop that iterates over each feature in the input feature matrix X\n",
        "            for split in np.unique(X[:, feature]): #sets up a nested loop that iterates over the unique values of the feature \n",
        "                chi2 = self.chi_squared_test(X[:, feature], y) #passing in the values of the feature and target variable for the current split\n",
        "                if chi2 > best_chi2: \n",
        "                    best_feature, best_split, best_chi2 = feature, split, chi2 # chi-squared test statistic are stored in the best_feature, best_split, and best_chi2 variables.\n",
        "        return best_feature, best_split\n",
        "   \n",
        "   \n",
        "    def build_tree(self, X, y, depth):\n",
        "        # Recursively build the decision tree\n",
        "        n_samples, n_features = X.shape\n",
        "        # Check for stopping criteria\n",
        "        if depth == self.max_depth or n_samples < 2*self.min_samples_split:\n",
        "            leaf_value = np.mean(y)\n",
        "            return leaf_value\n",
        "        best_feature, best_split = self.find_split(X, y) #index of the best feature to split on and the best threshold to use for that feature\n",
        "        if best_feature is None:\n",
        "            leaf_value = np.mean(y)\n",
        "            return leaf_value\n",
        "        #The method returns four NumPy arrays: X_left and y_left, which contain the subset of the dataset\n",
        "        # where the feature value is less than or equal to the threshold, and X_right and y_right,\n",
        "        # which contain the subset of the dataset where the feature value is greater than the threshold\n",
        "        X_left, y_left, X_right, y_right = self.split_data(best_feature, best_split, X, y)\n",
        "        #This line is creating a Python dictionary called decision_node that represents a decision node in the decision tree\n",
        "        decision_node = {\"feature\": best_feature, \"split\": best_split, \"left\": None, \"right\": None}\n",
        "        decision_node[\"left\"] = self.build_tree(X_left, y_left, depth+1)# The value is the result of a recursive call to the build_tre\n",
        "        decision_node[\"right\"] = self.build_tree(X_right, y_right, depth+1)\n",
        "        return decision_node\n",
        "    \n",
        "    \n",
        "    def fit(self, X, y):\n",
        "          # Build the decision tree\n",
        "          self.tree = self.build_tree(X, y, depth=0)\n",
        "    \n",
        "    \n",
        "    def predict_single(self, x):\n",
        "        # Traverse the decision tree to make a prediction for a single instance\n",
        "        node = self.tree\n",
        "        while isinstance(node, dict):\n",
        "            if x[node[\"feature\"]] < node[\"split\"]:\n",
        "                node = node[\"left\"]\n",
        "            else:\n",
        "                node = node[\"right\"]\n",
        "        return node\n",
        "    \n",
        "    def predict(self, X):\n",
        "        # Make predictions for multiple instances\n",
        "        return np.array([self.predict_single(x) for x in X])\n",
        "    \n",
        "    # writing  function for r2_score (R2 = 1 - (SSres / SStot)) \n",
        "    def r2(self,y_true, y_pred):\n",
        "      # Calculate the mean of the true values\n",
        "      y_true_mean = sum(y_true) / len(y_true)\n",
        "      \n",
        "      # Calculate the total sum of squares (TSS)\n",
        "      tss = sum((y_true - y_true_mean) ** 2)\n",
        "      \n",
        "      # Calculate the residual sum of squares (RSS)\n",
        "      rss = sum((y_true - y_pred) ** 2)\n",
        "      \n",
        "      # Calculate the R-squared value\n",
        "      r2_score = 1 - (rss / tss)\n",
        "      \n",
        "      return r2_score\n",
        "\n",
        "\n",
        "    # To calaulate the MSE \n",
        "    def score(self,y_true, y_pred):\n",
        "   \n",
        "      # Check if the lengths of both arrays are equal\n",
        "      if len(y_true) != len(y_pred):\n",
        "          raise ValueError(\"Length of y_true and y_pred should be the same.\")\n",
        "      \n",
        "      # Calculate the squared differences between the true and predicted values\n",
        "      squared_differences = [(y_true[i] - y_pred[i])**2 for i in range(len(y_true))]\n",
        "      \n",
        "      # Calculate the mean of the squared differences\n",
        "      mse1 = sum(squared_differences) / len(squared_differences)\n",
        "      \n",
        "      return mse1\n",
        "    \n",
        "    def set_params(self, **kwargs):#**kwargs allows us to pass a variable number of keyword arguments\n",
        "        for key, value in kwargs.items():\n",
        "            setattr(self, key, value)\n",
        "        return self\n",
        "    \n",
        "\n",
        "\n",
        "    "
      ],
      "metadata": {
        "id": "uZRbZ12GLmyM"
      },
      "execution_count": 35,
      "outputs": []
    },
    {
      "cell_type": "code",
      "source": [
        "def mean_squared_error1(y_true, y_pred):\n",
        "   \n",
        "      # Check if the lengths of both arrays are equal\n",
        "      if len(y_true) != len(y_pred):\n",
        "          raise ValueError(\"Length of y_true and y_pred should be the same.\")\n",
        "      \n",
        "      # Calculate the squared differences between the true and predicted values\n",
        "      squared_differences = [(y_true[i] - y_pred[i])**2 for i in range(len(y_true))]\n",
        "      \n",
        "      # Calculate the mean of the squared differences\n",
        "      mse1 = sum(squared_differences) / len(squared_differences)\n",
        "      \n",
        "      return mse1"
      ],
      "metadata": {
        "id": "eY1h1wbULqsj"
      },
      "execution_count": 36,
      "outputs": []
    },
    {
      "cell_type": "code",
      "source": [
        "from sklearn.model_selection import train_test_split"
      ],
      "metadata": {
        "id": "_vuJPjXfLuiI"
      },
      "execution_count": 37,
      "outputs": []
    },
    {
      "cell_type": "code",
      "source": [
        "X=df.drop('price',axis=1).values\n",
        "y=df['price'].values"
      ],
      "metadata": {
        "id": "LNk3CkEkLyV1"
      },
      "execution_count": 38,
      "outputs": []
    },
    {
      "cell_type": "code",
      "source": [
        "X_train,X_test,y_train,y_test=train_test_split(X,y,test_size=0.2)"
      ],
      "metadata": {
        "id": "qPdtInmYL6GZ"
      },
      "execution_count": 39,
      "outputs": []
    },
    {
      "cell_type": "code",
      "source": [
        "model=CHAIDDecisionTreeRegressor()"
      ],
      "metadata": {
        "id": "LNvIiPqsL9my"
      },
      "execution_count": 40,
      "outputs": []
    },
    {
      "cell_type": "code",
      "source": [
        "model.fit(X_train,y_train)"
      ],
      "metadata": {
        "colab": {
          "base_uri": "https://localhost:8080/"
        },
        "id": "zECfG5ryMEZi",
        "outputId": "270002ac-3a35-4774-cfbf-9c4931f8540f"
      },
      "execution_count": 41,
      "outputs": [
        {
          "output_type": "stream",
          "name": "stderr",
          "text": [
            "/usr/local/lib/python3.9/dist-packages/numpy/core/fromnumeric.py:3474: RuntimeWarning: Mean of empty slice.\n",
            "  return _methods._mean(a, axis=axis, dtype=dtype,\n",
            "/usr/local/lib/python3.9/dist-packages/numpy/core/_methods.py:189: RuntimeWarning: invalid value encountered in double_scalars\n",
            "  ret = ret.dtype.type(ret / rcount)\n",
            "<ipython-input-35-1e0234080c14>:37: RuntimeWarning: invalid value encountered in double_scalars\n",
            "  n_right * (y_right_mean - y_total_mean)**2 / (p_right * (1 - p_right)))  # calculate the second part of the chi-squared test statistic\n"
          ]
        }
      ]
    },
    {
      "cell_type": "code",
      "source": [
        "ypred=model.predict(X_test)\n"
      ],
      "metadata": {
        "id": "B8lBhjvMMAdB"
      },
      "execution_count": 42,
      "outputs": []
    },
    {
      "cell_type": "code",
      "source": [
        "mean_squared_error1(y_test,ypred)"
      ],
      "metadata": {
        "colab": {
          "base_uri": "https://localhost:8080/"
        },
        "id": "ObJkxz1EMRrM",
        "outputId": "b5665b4b-bfab-41c8-c25b-d2089b8f08d2"
      },
      "execution_count": 43,
      "outputs": [
        {
          "output_type": "execute_result",
          "data": {
            "text/plain": [
              "42265575977.03485"
            ]
          },
          "metadata": {},
          "execution_count": 43
        }
      ]
    },
    {
      "cell_type": "code",
      "source": [
        "from collections import defaultdict\n",
        "from random import randint\n",
        "# Define the hyperparameters to be tuned\n",
        "max_depth = [int(x) for x in np.linspace(2, 14, num = 11)]\n",
        "min_samples_split = [2, 4, 6, 8, 10,12]\n",
        "min_samples_leaf = [1, 2, 3, 4, 5,8,10]\n",
        "\n",
        "# Define the number of iterations for hyperparameter tuning\n",
        "n_iter = 20\n",
        "\n",
        "# Define the number of folds for cross-validation\n",
        "n_folds = None\n",
        "\n",
        "# Define a function for k-fold cross-validation\n",
        "def k_fold_cv(X, y, model, n_folds):\n",
        "    # Initialize a dictionary to store the cross-validation scores\n",
        "    scores = defaultdict(list)\n",
        "\n",
        "    # Divide the data into k folds\n",
        "    fold_size = len(X) // n_folds\n",
        "    fold_starts = [i * fold_size for i in range(n_folds)]\n",
        "    fold_ends = [(i + 1) * fold_size for i in range(n_folds)]\n",
        "    fold_ends[-1] = len(X)\n",
        "\n",
        "    # Perform k-fold cross-validation\n",
        "    for i in range(n_folds):\n",
        "        # Split the data into training and validation sets\n",
        "        X_train = np.concatenate([X[:fold_starts[i]], X[fold_ends[i]:]])\n",
        "        y_train = np.concatenate([y[:fold_starts[i]], y[fold_ends[i]:]])\n",
        "        X_valid = X[fold_starts[i]:fold_ends[i]]\n",
        "        y_valid = y[fold_starts[i]:fold_ends[i]]\n",
        "\n",
        "        # Define the hyperparameters to be tuned\n",
        "        params = {'max_depth': max_depth[randint(0, len(max_depth)-1)],\n",
        "                  'min_samples_split': min_samples_split[randint(0, len(min_samples_split)-1)],\n",
        "                  'min_samples_leaf': min_samples_leaf[randint(0, len(min_samples_leaf)-1)]}\n",
        "\n",
        "        # Train the model with the current hyperparameters\n",
        "        model.set_params(**params)\n",
        "        model.fit(X_train, y_train)\n",
        "\n",
        "        # Evaluate the model on the validation set\n",
        "        y_pred = model.predict(X_valid)\n",
        "        mse = mean_squared_error1(y_valid, y_pred)\n",
        "\n",
        "        # Store the cross-validation score\n",
        "        scores[mse].append(params)\n",
        "\n",
        "    # Return the best hyperparameters and the corresponding mean squared error\n",
        "    best_params = scores[min(scores)][0]\n",
        "    best_mse = min(scores)\n",
        "\n",
        "    return best_params, best_mse\n",
        "\n",
        "\n",
        "# Define the decision tree regressor model\n",
        "model1 = CHAIDDecisionTreeRegressor()\n",
        "\n",
        "# Perform the hyperparameter tuning using k-fold cross-validation and randomized search\n",
        "best_params, best_mse = k_fold_cv(X, y, model1, n_folds=10)\n",
        "\n",
        "# Print the best hyperparameters and the corresponding mean squared error\n",
        "print(\"Best hyperparameters:\", best_params)\n",
        "print(\"Best mean squared error:\", best_mse)"
      ],
      "metadata": {
        "id": "Ue-tJLyNMfks",
        "colab": {
          "base_uri": "https://localhost:8080/"
        },
        "outputId": "91a8754a-c272-4ea7-f0d1-a5398fcb789b"
      },
      "execution_count": null,
      "outputs": [
        {
          "output_type": "stream",
          "name": "stderr",
          "text": [
            "<ipython-input-35-1e0234080c14>:37: RuntimeWarning: invalid value encountered in double_scalars\n",
            "  n_right * (y_right_mean - y_total_mean)**2 / (p_right * (1 - p_right)))  # calculate the second part of the chi-squared test statistic\n"
          ]
        }
      ]
    }
  ]
}